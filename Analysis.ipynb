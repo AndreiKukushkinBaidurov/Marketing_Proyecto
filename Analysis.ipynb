{
 "cells": [
  {
   "cell_type": "code",
   "execution_count": 1,
   "id": "1d424cd0",
   "metadata": {},
   "outputs": [],
   "source": [
    "import pandas as pd\n",
    "import numpy as np\n",
    "import matplotlib.pyplot as plt\n",
    "import seaborn as sns\n",
    "import statsmodels.api as sm\n",
    "from statsmodels.formula.api import ols \n",
    "import statsmodels.stats.api as stats\n",
    "from statsmodels.stats.multicomp import pairwise_tukeyhsd"
   ]
  },
  {
   "cell_type": "code",
   "execution_count": 2,
   "id": "0437ef89",
   "metadata": {},
   "outputs": [],
   "source": [
    "df = pd.read_csv(r'C:/Users/Andrei.Baidurov/Marketing_Proyecto/data/marketingcampaigns_clean.csv')"
   ]
  },
  {
   "cell_type": "code",
   "execution_count": 3,
   "id": "e5121828",
   "metadata": {},
   "outputs": [
    {
     "data": {
      "text/html": [
       "<div>\n",
       "<style scoped>\n",
       "    .dataframe tbody tr th:only-of-type {\n",
       "        vertical-align: middle;\n",
       "    }\n",
       "\n",
       "    .dataframe tbody tr th {\n",
       "        vertical-align: top;\n",
       "    }\n",
       "\n",
       "    .dataframe thead th {\n",
       "        text-align: right;\n",
       "    }\n",
       "</style>\n",
       "<table border=\"1\" class=\"dataframe\">\n",
       "  <thead>\n",
       "    <tr style=\"text-align: right;\">\n",
       "      <th></th>\n",
       "      <th>campaign_name</th>\n",
       "      <th>start_date</th>\n",
       "      <th>end_date</th>\n",
       "      <th>budget</th>\n",
       "      <th>roi</th>\n",
       "      <th>type</th>\n",
       "      <th>target_audience</th>\n",
       "      <th>channel</th>\n",
       "      <th>conversion_rate</th>\n",
       "      <th>revenue</th>\n",
       "      <th>campaign_duration</th>\n",
       "      <th>net_profit</th>\n",
       "    </tr>\n",
       "  </thead>\n",
       "  <tbody>\n",
       "    <tr>\n",
       "      <th>0</th>\n",
       "      <td>Public-key multi-tasking throughput</td>\n",
       "      <td>2023-04-01 00:00:00</td>\n",
       "      <td>2024-02-23</td>\n",
       "      <td>8082.30</td>\n",
       "      <td>8680%</td>\n",
       "      <td>email</td>\n",
       "      <td>B2B</td>\n",
       "      <td>organic</td>\n",
       "      <td>0.40</td>\n",
       "      <td>709593.48</td>\n",
       "      <td>328</td>\n",
       "      <td>701511.18</td>\n",
       "    </tr>\n",
       "    <tr>\n",
       "      <th>1</th>\n",
       "      <td>De-engineered analyzing task-force</td>\n",
       "      <td>2023-02-15 00:00:00</td>\n",
       "      <td>2024-04-22</td>\n",
       "      <td>17712.98</td>\n",
       "      <td>2817%</td>\n",
       "      <td>email</td>\n",
       "      <td>B2C</td>\n",
       "      <td>promotion</td>\n",
       "      <td>0.66</td>\n",
       "      <td>516609.10</td>\n",
       "      <td>432</td>\n",
       "      <td>498896.12</td>\n",
       "    </tr>\n",
       "    <tr>\n",
       "      <th>2</th>\n",
       "      <td>Balanced solution-oriented Local Area Network</td>\n",
       "      <td>2022-12-20 00:00:00</td>\n",
       "      <td>2023-10-11</td>\n",
       "      <td>84643.10</td>\n",
       "      <td>441%</td>\n",
       "      <td>podcast</td>\n",
       "      <td>B2B</td>\n",
       "      <td>paid</td>\n",
       "      <td>0.28</td>\n",
       "      <td>458227.42</td>\n",
       "      <td>295</td>\n",
       "      <td>373584.32</td>\n",
       "    </tr>\n",
       "    <tr>\n",
       "      <th>3</th>\n",
       "      <td>Distributed real-time methodology</td>\n",
       "      <td>2022-09-26 00:00:00</td>\n",
       "      <td>2023-09-27</td>\n",
       "      <td>14589.75</td>\n",
       "      <td>517%</td>\n",
       "      <td>webinar</td>\n",
       "      <td>B2B</td>\n",
       "      <td>organic</td>\n",
       "      <td>0.19</td>\n",
       "      <td>89958.73</td>\n",
       "      <td>366</td>\n",
       "      <td>75368.98</td>\n",
       "    </tr>\n",
       "    <tr>\n",
       "      <th>4</th>\n",
       "      <td>Front-line executive infrastructure</td>\n",
       "      <td>2023-07-07 00:00:00</td>\n",
       "      <td>2024-05-15</td>\n",
       "      <td>39291.90</td>\n",
       "      <td>21%</td>\n",
       "      <td>social media</td>\n",
       "      <td>B2B</td>\n",
       "      <td>promotion</td>\n",
       "      <td>0.81</td>\n",
       "      <td>47511.35</td>\n",
       "      <td>313</td>\n",
       "      <td>8219.45</td>\n",
       "    </tr>\n",
       "  </tbody>\n",
       "</table>\n",
       "</div>"
      ],
      "text/plain": [
       "                                   campaign_name           start_date  \\\n",
       "0            Public-key multi-tasking throughput  2023-04-01 00:00:00   \n",
       "1             De-engineered analyzing task-force  2023-02-15 00:00:00   \n",
       "2  Balanced solution-oriented Local Area Network  2022-12-20 00:00:00   \n",
       "3              Distributed real-time methodology  2022-09-26 00:00:00   \n",
       "4            Front-line executive infrastructure  2023-07-07 00:00:00   \n",
       "\n",
       "     end_date    budget    roi          type target_audience    channel  \\\n",
       "0  2024-02-23   8082.30  8680%         email             B2B    organic   \n",
       "1  2024-04-22  17712.98  2817%         email             B2C  promotion   \n",
       "2  2023-10-11  84643.10   441%       podcast             B2B       paid   \n",
       "3  2023-09-27  14589.75   517%       webinar             B2B    organic   \n",
       "4  2024-05-15  39291.90    21%  social media             B2B  promotion   \n",
       "\n",
       "   conversion_rate    revenue  campaign_duration  net_profit  \n",
       "0             0.40  709593.48                328   701511.18  \n",
       "1             0.66  516609.10                432   498896.12  \n",
       "2             0.28  458227.42                295   373584.32  \n",
       "3             0.19   89958.73                366    75368.98  \n",
       "4             0.81   47511.35                313     8219.45  "
      ]
     },
     "execution_count": 3,
     "metadata": {},
     "output_type": "execute_result"
    }
   ],
   "source": [
    "df.head(5)"
   ]
  },
  {
   "cell_type": "code",
   "execution_count": 4,
   "id": "7d64513a",
   "metadata": {},
   "outputs": [
    {
     "data": {
      "text/html": [
       "<div>\n",
       "<style scoped>\n",
       "    .dataframe tbody tr th:only-of-type {\n",
       "        vertical-align: middle;\n",
       "    }\n",
       "\n",
       "    .dataframe tbody tr th {\n",
       "        vertical-align: top;\n",
       "    }\n",
       "\n",
       "    .dataframe thead th {\n",
       "        text-align: right;\n",
       "    }\n",
       "</style>\n",
       "<table border=\"1\" class=\"dataframe\">\n",
       "  <thead>\n",
       "    <tr style=\"text-align: right;\">\n",
       "      <th></th>\n",
       "      <th>campaign_name</th>\n",
       "      <th>revenue</th>\n",
       "      <th>budget</th>\n",
       "      <th>net_profit</th>\n",
       "    </tr>\n",
       "  </thead>\n",
       "  <tbody>\n",
       "    <tr>\n",
       "      <th>0</th>\n",
       "      <td>Public-key multi-tasking throughput</td>\n",
       "      <td>709593.48</td>\n",
       "      <td>8082.30</td>\n",
       "      <td>701511.18</td>\n",
       "    </tr>\n",
       "    <tr>\n",
       "      <th>1</th>\n",
       "      <td>De-engineered analyzing task-force</td>\n",
       "      <td>516609.10</td>\n",
       "      <td>17712.98</td>\n",
       "      <td>498896.12</td>\n",
       "    </tr>\n",
       "    <tr>\n",
       "      <th>2</th>\n",
       "      <td>Balanced solution-oriented Local Area Network</td>\n",
       "      <td>458227.42</td>\n",
       "      <td>84643.10</td>\n",
       "      <td>373584.32</td>\n",
       "    </tr>\n",
       "    <tr>\n",
       "      <th>3</th>\n",
       "      <td>Distributed real-time methodology</td>\n",
       "      <td>89958.73</td>\n",
       "      <td>14589.75</td>\n",
       "      <td>75368.98</td>\n",
       "    </tr>\n",
       "    <tr>\n",
       "      <th>4</th>\n",
       "      <td>Front-line executive infrastructure</td>\n",
       "      <td>47511.35</td>\n",
       "      <td>39291.90</td>\n",
       "      <td>8219.45</td>\n",
       "    </tr>\n",
       "  </tbody>\n",
       "</table>\n",
       "</div>"
      ],
      "text/plain": [
       "                                   campaign_name    revenue    budget  \\\n",
       "0            Public-key multi-tasking throughput  709593.48   8082.30   \n",
       "1             De-engineered analyzing task-force  516609.10  17712.98   \n",
       "2  Balanced solution-oriented Local Area Network  458227.42  84643.10   \n",
       "3              Distributed real-time methodology   89958.73  14589.75   \n",
       "4            Front-line executive infrastructure   47511.35  39291.90   \n",
       "\n",
       "   net_profit  \n",
       "0   701511.18  \n",
       "1   498896.12  \n",
       "2   373584.32  \n",
       "3    75368.98  \n",
       "4     8219.45  "
      ]
     },
     "execution_count": 4,
     "metadata": {},
     "output_type": "execute_result"
    }
   ],
   "source": [
    "df['net_profit'] = df['revenue'] - df['budget']\n",
    "\n",
    "# Display the first few rows to verify the new column\n",
    "df[['campaign_name', 'revenue', 'budget', 'net_profit']].head()"
   ]
  },
  {
   "cell_type": "markdown",
   "id": "2a463169",
   "metadata": {},
   "source": [
    "¿Qué canal de marketing se utiliza con mayor frecuencia y cuál genera mejor ROI?"
   ]
  },
  {
   "cell_type": "code",
   "execution_count": 11,
   "id": "2046c79f",
   "metadata": {},
   "outputs": [
    {
     "data": {
      "application/vnd.plotly.v1+json": {
       "config": {
        "plotlyServerURL": "https://plot.ly"
       },
       "data": [
        {
         "hovertemplate": "Tipo: %{x}<br>Frecuencia: %{y}<extra></extra>",
         "marker": {
          "color": [
           "rgba(255, 182, 193, 0.7)",
           "rgba(173, 216, 230, 0.7)",
           "rgba(144, 238, 144, 0.7)",
           "rgba(255, 218, 185, 0.7)"
          ]
         },
         "text": {
          "bdata": "AAAAAACQcUAAAAAAAHBwQAAAAAAAYG1AAAAAAACgbEAAAAAAAADwPwAAAAAAAPA/",
          "dtype": "f8"
         },
         "textposition": "auto",
         "type": "bar",
         "x": [
          "email",
          "webinar",
          "social media",
          "podcast",
          "-NO",
          "event"
         ],
         "xaxis": "x",
         "y": {
          "bdata": "GQEHAesA5QABAAEA",
          "dtype": "i2"
         },
         "yaxis": "y"
        },
        {
         "hovertemplate": "Tipo: %{x}<br>ROI: %{text}<extra></extra>",
         "marker": {
          "color": [
           "rgba(255, 182, 193, 0.7)",
           "rgba(173, 216, 230, 0.7)",
           "rgba(144, 238, 144, 0.7)",
           "rgba(255, 218, 185, 0.7)"
          ]
         },
         "text": [
          "460.00%",
          "2457.10%",
          "140.00%",
          "2530.29%",
          "2986.58%",
          "2021.87%"
         ],
         "textposition": "auto",
         "type": "bar",
         "x": [
          "-NO",
          "email",
          "event",
          "podcast",
          "social media",
          "webinar"
         ],
         "xaxis": "x2",
         "y": {
          "bdata": "ZmZmZmZmEkBUb6HSLJI4QGZmZmZmZvY/MFL6ioxNOUDPgW87pN09QILqVzL9NzRA",
          "dtype": "f8"
         },
         "yaxis": "y2"
        }
       ],
       "layout": {
        "annotations": [
         {
          "font": {
           "size": 16
          },
          "showarrow": false,
          "text": "Frecuencia de uso de tipos de campaña",
          "x": 0.225,
          "xanchor": "center",
          "xref": "paper",
          "y": 1,
          "yanchor": "bottom",
          "yref": "paper"
         },
         {
          "font": {
           "size": 16
          },
          "showarrow": false,
          "text": "ROI promedio por tipo de campaña",
          "x": 0.775,
          "xanchor": "center",
          "xref": "paper",
          "y": 1,
          "yanchor": "bottom",
          "yref": "paper"
         }
        ],
        "height": 600,
        "showlegend": false,
        "template": {
         "data": {
          "bar": [
           {
            "error_x": {
             "color": "rgb(36,36,36)"
            },
            "error_y": {
             "color": "rgb(36,36,36)"
            },
            "marker": {
             "line": {
              "color": "white",
              "width": 0.5
             },
             "pattern": {
              "fillmode": "overlay",
              "size": 10,
              "solidity": 0.2
             }
            },
            "type": "bar"
           }
          ],
          "barpolar": [
           {
            "marker": {
             "line": {
              "color": "white",
              "width": 0.5
             },
             "pattern": {
              "fillmode": "overlay",
              "size": 10,
              "solidity": 0.2
             }
            },
            "type": "barpolar"
           }
          ],
          "carpet": [
           {
            "aaxis": {
             "endlinecolor": "rgb(36,36,36)",
             "gridcolor": "white",
             "linecolor": "white",
             "minorgridcolor": "white",
             "startlinecolor": "rgb(36,36,36)"
            },
            "baxis": {
             "endlinecolor": "rgb(36,36,36)",
             "gridcolor": "white",
             "linecolor": "white",
             "minorgridcolor": "white",
             "startlinecolor": "rgb(36,36,36)"
            },
            "type": "carpet"
           }
          ],
          "choropleth": [
           {
            "colorbar": {
             "outlinewidth": 1,
             "tickcolor": "rgb(36,36,36)",
             "ticks": "outside"
            },
            "type": "choropleth"
           }
          ],
          "contour": [
           {
            "colorbar": {
             "outlinewidth": 1,
             "tickcolor": "rgb(36,36,36)",
             "ticks": "outside"
            },
            "colorscale": [
             [
              0,
              "#440154"
             ],
             [
              0.1111111111111111,
              "#482878"
             ],
             [
              0.2222222222222222,
              "#3e4989"
             ],
             [
              0.3333333333333333,
              "#31688e"
             ],
             [
              0.4444444444444444,
              "#26828e"
             ],
             [
              0.5555555555555556,
              "#1f9e89"
             ],
             [
              0.6666666666666666,
              "#35b779"
             ],
             [
              0.7777777777777778,
              "#6ece58"
             ],
             [
              0.8888888888888888,
              "#b5de2b"
             ],
             [
              1,
              "#fde725"
             ]
            ],
            "type": "contour"
           }
          ],
          "contourcarpet": [
           {
            "colorbar": {
             "outlinewidth": 1,
             "tickcolor": "rgb(36,36,36)",
             "ticks": "outside"
            },
            "type": "contourcarpet"
           }
          ],
          "heatmap": [
           {
            "colorbar": {
             "outlinewidth": 1,
             "tickcolor": "rgb(36,36,36)",
             "ticks": "outside"
            },
            "colorscale": [
             [
              0,
              "#440154"
             ],
             [
              0.1111111111111111,
              "#482878"
             ],
             [
              0.2222222222222222,
              "#3e4989"
             ],
             [
              0.3333333333333333,
              "#31688e"
             ],
             [
              0.4444444444444444,
              "#26828e"
             ],
             [
              0.5555555555555556,
              "#1f9e89"
             ],
             [
              0.6666666666666666,
              "#35b779"
             ],
             [
              0.7777777777777778,
              "#6ece58"
             ],
             [
              0.8888888888888888,
              "#b5de2b"
             ],
             [
              1,
              "#fde725"
             ]
            ],
            "type": "heatmap"
           }
          ],
          "histogram": [
           {
            "marker": {
             "line": {
              "color": "white",
              "width": 0.6
             }
            },
            "type": "histogram"
           }
          ],
          "histogram2d": [
           {
            "colorbar": {
             "outlinewidth": 1,
             "tickcolor": "rgb(36,36,36)",
             "ticks": "outside"
            },
            "colorscale": [
             [
              0,
              "#440154"
             ],
             [
              0.1111111111111111,
              "#482878"
             ],
             [
              0.2222222222222222,
              "#3e4989"
             ],
             [
              0.3333333333333333,
              "#31688e"
             ],
             [
              0.4444444444444444,
              "#26828e"
             ],
             [
              0.5555555555555556,
              "#1f9e89"
             ],
             [
              0.6666666666666666,
              "#35b779"
             ],
             [
              0.7777777777777778,
              "#6ece58"
             ],
             [
              0.8888888888888888,
              "#b5de2b"
             ],
             [
              1,
              "#fde725"
             ]
            ],
            "type": "histogram2d"
           }
          ],
          "histogram2dcontour": [
           {
            "colorbar": {
             "outlinewidth": 1,
             "tickcolor": "rgb(36,36,36)",
             "ticks": "outside"
            },
            "colorscale": [
             [
              0,
              "#440154"
             ],
             [
              0.1111111111111111,
              "#482878"
             ],
             [
              0.2222222222222222,
              "#3e4989"
             ],
             [
              0.3333333333333333,
              "#31688e"
             ],
             [
              0.4444444444444444,
              "#26828e"
             ],
             [
              0.5555555555555556,
              "#1f9e89"
             ],
             [
              0.6666666666666666,
              "#35b779"
             ],
             [
              0.7777777777777778,
              "#6ece58"
             ],
             [
              0.8888888888888888,
              "#b5de2b"
             ],
             [
              1,
              "#fde725"
             ]
            ],
            "type": "histogram2dcontour"
           }
          ],
          "mesh3d": [
           {
            "colorbar": {
             "outlinewidth": 1,
             "tickcolor": "rgb(36,36,36)",
             "ticks": "outside"
            },
            "type": "mesh3d"
           }
          ],
          "parcoords": [
           {
            "line": {
             "colorbar": {
              "outlinewidth": 1,
              "tickcolor": "rgb(36,36,36)",
              "ticks": "outside"
             }
            },
            "type": "parcoords"
           }
          ],
          "pie": [
           {
            "automargin": true,
            "type": "pie"
           }
          ],
          "scatter": [
           {
            "fillpattern": {
             "fillmode": "overlay",
             "size": 10,
             "solidity": 0.2
            },
            "type": "scatter"
           }
          ],
          "scatter3d": [
           {
            "line": {
             "colorbar": {
              "outlinewidth": 1,
              "tickcolor": "rgb(36,36,36)",
              "ticks": "outside"
             }
            },
            "marker": {
             "colorbar": {
              "outlinewidth": 1,
              "tickcolor": "rgb(36,36,36)",
              "ticks": "outside"
             }
            },
            "type": "scatter3d"
           }
          ],
          "scattercarpet": [
           {
            "marker": {
             "colorbar": {
              "outlinewidth": 1,
              "tickcolor": "rgb(36,36,36)",
              "ticks": "outside"
             }
            },
            "type": "scattercarpet"
           }
          ],
          "scattergeo": [
           {
            "marker": {
             "colorbar": {
              "outlinewidth": 1,
              "tickcolor": "rgb(36,36,36)",
              "ticks": "outside"
             }
            },
            "type": "scattergeo"
           }
          ],
          "scattergl": [
           {
            "marker": {
             "colorbar": {
              "outlinewidth": 1,
              "tickcolor": "rgb(36,36,36)",
              "ticks": "outside"
             }
            },
            "type": "scattergl"
           }
          ],
          "scattermap": [
           {
            "marker": {
             "colorbar": {
              "outlinewidth": 1,
              "tickcolor": "rgb(36,36,36)",
              "ticks": "outside"
             }
            },
            "type": "scattermap"
           }
          ],
          "scattermapbox": [
           {
            "marker": {
             "colorbar": {
              "outlinewidth": 1,
              "tickcolor": "rgb(36,36,36)",
              "ticks": "outside"
             }
            },
            "type": "scattermapbox"
           }
          ],
          "scatterpolar": [
           {
            "marker": {
             "colorbar": {
              "outlinewidth": 1,
              "tickcolor": "rgb(36,36,36)",
              "ticks": "outside"
             }
            },
            "type": "scatterpolar"
           }
          ],
          "scatterpolargl": [
           {
            "marker": {
             "colorbar": {
              "outlinewidth": 1,
              "tickcolor": "rgb(36,36,36)",
              "ticks": "outside"
             }
            },
            "type": "scatterpolargl"
           }
          ],
          "scatterternary": [
           {
            "marker": {
             "colorbar": {
              "outlinewidth": 1,
              "tickcolor": "rgb(36,36,36)",
              "ticks": "outside"
             }
            },
            "type": "scatterternary"
           }
          ],
          "surface": [
           {
            "colorbar": {
             "outlinewidth": 1,
             "tickcolor": "rgb(36,36,36)",
             "ticks": "outside"
            },
            "colorscale": [
             [
              0,
              "#440154"
             ],
             [
              0.1111111111111111,
              "#482878"
             ],
             [
              0.2222222222222222,
              "#3e4989"
             ],
             [
              0.3333333333333333,
              "#31688e"
             ],
             [
              0.4444444444444444,
              "#26828e"
             ],
             [
              0.5555555555555556,
              "#1f9e89"
             ],
             [
              0.6666666666666666,
              "#35b779"
             ],
             [
              0.7777777777777778,
              "#6ece58"
             ],
             [
              0.8888888888888888,
              "#b5de2b"
             ],
             [
              1,
              "#fde725"
             ]
            ],
            "type": "surface"
           }
          ],
          "table": [
           {
            "cells": {
             "fill": {
              "color": "rgb(237,237,237)"
             },
             "line": {
              "color": "white"
             }
            },
            "header": {
             "fill": {
              "color": "rgb(217,217,217)"
             },
             "line": {
              "color": "white"
             }
            },
            "type": "table"
           }
          ]
         },
         "layout": {
          "annotationdefaults": {
           "arrowhead": 0,
           "arrowwidth": 1
          },
          "autotypenumbers": "strict",
          "coloraxis": {
           "colorbar": {
            "outlinewidth": 1,
            "tickcolor": "rgb(36,36,36)",
            "ticks": "outside"
           }
          },
          "colorscale": {
           "diverging": [
            [
             0,
             "rgb(103,0,31)"
            ],
            [
             0.1,
             "rgb(178,24,43)"
            ],
            [
             0.2,
             "rgb(214,96,77)"
            ],
            [
             0.3,
             "rgb(244,165,130)"
            ],
            [
             0.4,
             "rgb(253,219,199)"
            ],
            [
             0.5,
             "rgb(247,247,247)"
            ],
            [
             0.6,
             "rgb(209,229,240)"
            ],
            [
             0.7,
             "rgb(146,197,222)"
            ],
            [
             0.8,
             "rgb(67,147,195)"
            ],
            [
             0.9,
             "rgb(33,102,172)"
            ],
            [
             1,
             "rgb(5,48,97)"
            ]
           ],
           "sequential": [
            [
             0,
             "#440154"
            ],
            [
             0.1111111111111111,
             "#482878"
            ],
            [
             0.2222222222222222,
             "#3e4989"
            ],
            [
             0.3333333333333333,
             "#31688e"
            ],
            [
             0.4444444444444444,
             "#26828e"
            ],
            [
             0.5555555555555556,
             "#1f9e89"
            ],
            [
             0.6666666666666666,
             "#35b779"
            ],
            [
             0.7777777777777778,
             "#6ece58"
            ],
            [
             0.8888888888888888,
             "#b5de2b"
            ],
            [
             1,
             "#fde725"
            ]
           ],
           "sequentialminus": [
            [
             0,
             "#440154"
            ],
            [
             0.1111111111111111,
             "#482878"
            ],
            [
             0.2222222222222222,
             "#3e4989"
            ],
            [
             0.3333333333333333,
             "#31688e"
            ],
            [
             0.4444444444444444,
             "#26828e"
            ],
            [
             0.5555555555555556,
             "#1f9e89"
            ],
            [
             0.6666666666666666,
             "#35b779"
            ],
            [
             0.7777777777777778,
             "#6ece58"
            ],
            [
             0.8888888888888888,
             "#b5de2b"
            ],
            [
             1,
             "#fde725"
            ]
           ]
          },
          "colorway": [
           "#1F77B4",
           "#FF7F0E",
           "#2CA02C",
           "#D62728",
           "#9467BD",
           "#8C564B",
           "#E377C2",
           "#7F7F7F",
           "#BCBD22",
           "#17BECF"
          ],
          "font": {
           "color": "rgb(36,36,36)"
          },
          "geo": {
           "bgcolor": "white",
           "lakecolor": "white",
           "landcolor": "white",
           "showlakes": true,
           "showland": true,
           "subunitcolor": "white"
          },
          "hoverlabel": {
           "align": "left"
          },
          "hovermode": "closest",
          "mapbox": {
           "style": "light"
          },
          "paper_bgcolor": "white",
          "plot_bgcolor": "white",
          "polar": {
           "angularaxis": {
            "gridcolor": "rgb(232,232,232)",
            "linecolor": "rgb(36,36,36)",
            "showgrid": false,
            "showline": true,
            "ticks": "outside"
           },
           "bgcolor": "white",
           "radialaxis": {
            "gridcolor": "rgb(232,232,232)",
            "linecolor": "rgb(36,36,36)",
            "showgrid": false,
            "showline": true,
            "ticks": "outside"
           }
          },
          "scene": {
           "xaxis": {
            "backgroundcolor": "white",
            "gridcolor": "rgb(232,232,232)",
            "gridwidth": 2,
            "linecolor": "rgb(36,36,36)",
            "showbackground": true,
            "showgrid": false,
            "showline": true,
            "ticks": "outside",
            "zeroline": false,
            "zerolinecolor": "rgb(36,36,36)"
           },
           "yaxis": {
            "backgroundcolor": "white",
            "gridcolor": "rgb(232,232,232)",
            "gridwidth": 2,
            "linecolor": "rgb(36,36,36)",
            "showbackground": true,
            "showgrid": false,
            "showline": true,
            "ticks": "outside",
            "zeroline": false,
            "zerolinecolor": "rgb(36,36,36)"
           },
           "zaxis": {
            "backgroundcolor": "white",
            "gridcolor": "rgb(232,232,232)",
            "gridwidth": 2,
            "linecolor": "rgb(36,36,36)",
            "showbackground": true,
            "showgrid": false,
            "showline": true,
            "ticks": "outside",
            "zeroline": false,
            "zerolinecolor": "rgb(36,36,36)"
           }
          },
          "shapedefaults": {
           "fillcolor": "black",
           "line": {
            "width": 0
           },
           "opacity": 0.3
          },
          "ternary": {
           "aaxis": {
            "gridcolor": "rgb(232,232,232)",
            "linecolor": "rgb(36,36,36)",
            "showgrid": false,
            "showline": true,
            "ticks": "outside"
           },
           "baxis": {
            "gridcolor": "rgb(232,232,232)",
            "linecolor": "rgb(36,36,36)",
            "showgrid": false,
            "showline": true,
            "ticks": "outside"
           },
           "bgcolor": "white",
           "caxis": {
            "gridcolor": "rgb(232,232,232)",
            "linecolor": "rgb(36,36,36)",
            "showgrid": false,
            "showline": true,
            "ticks": "outside"
           }
          },
          "title": {
           "x": 0.05
          },
          "xaxis": {
           "automargin": true,
           "gridcolor": "rgb(232,232,232)",
           "linecolor": "rgb(36,36,36)",
           "showgrid": false,
           "showline": true,
           "ticks": "outside",
           "title": {
            "standoff": 15
           },
           "zeroline": false,
           "zerolinecolor": "rgb(36,36,36)"
          },
          "yaxis": {
           "automargin": true,
           "gridcolor": "rgb(232,232,232)",
           "linecolor": "rgb(36,36,36)",
           "showgrid": false,
           "showline": true,
           "ticks": "outside",
           "title": {
            "standoff": 15
           },
           "zeroline": false,
           "zerolinecolor": "rgb(36,36,36)"
          }
         }
        },
        "title": {
         "text": "Análisis de Tipos de Campaña de Marketing"
        },
        "width": 1000,
        "xaxis": {
         "anchor": "y",
         "domain": [
          0,
          0.45
         ],
         "title": {
          "text": "Tipo de campaña"
         }
        },
        "xaxis2": {
         "anchor": "y2",
         "domain": [
          0.55,
          1
         ],
         "title": {
          "text": "Tipo de campaña"
         }
        },
        "yaxis": {
         "anchor": "x",
         "domain": [
          0,
          1
         ],
         "title": {
          "text": "Frecuencia"
         }
        },
        "yaxis2": {
         "anchor": "x2",
         "domain": [
          0,
          1
         ],
         "title": {
          "text": "ROI promedio"
         }
        }
       }
      }
     },
     "metadata": {},
     "output_type": "display_data"
    }
   ],
   "source": [
    "# Calculate type frequency\n",
    "type_counts = df['type'].value_counts()\n",
    "\n",
    "# Calculate average ROI by type\n",
    "roi_by_type = df.groupby('type')['roi_numeric'].mean()\n",
    "\n",
    "# Create interactive subplots\n",
    "fig = make_subplots(rows=1, cols=2, \n",
    "                   subplot_titles=['Frecuencia de uso de tipos de campaña', \n",
    "                                  'ROI promedio por tipo de campaña'])\n",
    "\n",
    "# Plot type frequency\n",
    "fig.add_trace(\n",
    "    go.Bar(\n",
    "        x=type_counts.index, \n",
    "        y=type_counts.values,\n",
    "        text=type_counts.values,\n",
    "        textposition='auto',\n",
    "        marker_color=pastel_colors,\n",
    "        hovertemplate='Tipo: %{x}<br>Frecuencia: %{y}<extra></extra>'\n",
    "    ),\n",
    "    row=1, col=1\n",
    ")\n",
    "\n",
    "# Plot average ROI by type\n",
    "fig.add_trace(\n",
    "    go.Bar(\n",
    "        x=roi_by_type.index, \n",
    "        y=roi_by_type.values,\n",
    "        text=[f'{val:.2%}' for val in roi_by_type.values],\n",
    "        textposition='auto',\n",
    "        marker_color=pastel_colors,\n",
    "        hovertemplate='Tipo: %{x}<br>ROI: %{text}<extra></extra>'\n",
    "    ),\n",
    "    row=1, col=2\n",
    ")\n",
    "\n",
    "# Update layout\n",
    "fig.update_layout(\n",
    "    height=600, \n",
    "    width=1000,\n",
    "    showlegend=False,\n",
    "    title_text='Análisis de Tipos de Campaña de Marketing',\n",
    "    template='simple_white'\n",
    ")\n",
    "\n",
    "# Add axis labels\n",
    "fig.update_yaxes(title_text=\"Frecuencia\", row=1, col=1)\n",
    "fig.update_yaxes(title_text=\"ROI promedio\", row=1, col=2)\n",
    "fig.update_xaxes(title_text=\"Tipo de campaña\", row=1, col=1)\n",
    "fig.update_xaxes(title_text=\"Tipo de campaña\", row=1, col=2)\n",
    "\n",
    "# Show the figure\n",
    "fig.show()\n"
   ]
  },
  {
   "cell_type": "markdown",
   "id": "39b0bd5d",
   "metadata": {},
   "source": [
    "¿Qué tipo de campaña genera más ingresos en promedio y cuál tiene mejor conversión?"
   ]
  },
  {
   "cell_type": "code",
   "execution_count": 6,
   "id": "aa6ab2ec",
   "metadata": {},
   "outputs": [
    {
     "data": {
      "application/vnd.plotly.v1+json": {
       "config": {
        "plotlyServerURL": "https://plot.ly"
       },
       "data": [
        {
         "hovertemplate": "Tipo: %{x}<br>Ingreso promedio: %{text}<extra></extra>",
         "marker": {
          "color": [
           "rgba(255, 182, 193, 0.7)",
           "rgba(173, 216, 230, 0.7)",
           "rgba(144, 238, 144, 0.7)",
           "rgba(255, 218, 185, 0.7)"
          ]
         },
         "text": [
          "$527,848.47",
          "$523,356.70",
          "$515,567.69",
          "$493,796.30",
          "$206,241.46",
          "$120,000.00"
         ],
         "textposition": "auto",
         "type": "bar",
         "x": [
          "social media",
          "email",
          "podcast",
          "webinar",
          "-NO",
          "event"
         ],
         "xaxis": "x",
         "y": {
          "bdata": "g6yT8dAbIEFXwlvKcvEfQc1pqsG+dx9BVmTBN5EjHkHhehSuCy0JQQAAAAAATP1A",
          "dtype": "f8"
         },
         "yaxis": "y"
        },
        {
         "hovertemplate": "Tipo: %{x}<br>Tasa de conversión: %{text}<extra></extra>",
         "marker": {
          "color": [
           "rgba(255, 182, 193, 0.7)",
           "rgba(173, 216, 230, 0.7)",
           "rgba(144, 238, 144, 0.7)",
           "rgba(255, 218, 185, 0.7)"
          ]
         },
         "text": [
          "55.64%",
          "54.64%",
          "54.31%",
          "52.82%",
          "52.00%",
          "30.00%"
         ],
         "textposition": "auto",
         "type": "bar",
         "x": [
          "webinar",
          "social media",
          "email",
          "podcast",
          "-NO",
          "event"
         ],
         "xaxis": "x2",
         "y": {
          "bdata": "54KCmD3O4T+Qw6hlUXzhP4Ft82jAYOE/ZRxJQbzm4D+kcD0K16PgPzMzMzMzM9M/",
          "dtype": "f8"
         },
         "yaxis": "y2"
        }
       ],
       "layout": {
        "annotations": [
         {
          "font": {
           "size": 16
          },
          "showarrow": false,
          "text": "Ingreso promedio por tipo de campaña",
          "x": 0.225,
          "xanchor": "center",
          "xref": "paper",
          "y": 1,
          "yanchor": "bottom",
          "yref": "paper"
         },
         {
          "font": {
           "size": 16
          },
          "showarrow": false,
          "text": "Tasa de conversión promedio por tipo de campaña",
          "x": 0.775,
          "xanchor": "center",
          "xref": "paper",
          "y": 1,
          "yanchor": "bottom",
          "yref": "paper"
         }
        ],
        "height": 600,
        "showlegend": false,
        "template": {
         "data": {
          "bar": [
           {
            "error_x": {
             "color": "rgb(36,36,36)"
            },
            "error_y": {
             "color": "rgb(36,36,36)"
            },
            "marker": {
             "line": {
              "color": "white",
              "width": 0.5
             },
             "pattern": {
              "fillmode": "overlay",
              "size": 10,
              "solidity": 0.2
             }
            },
            "type": "bar"
           }
          ],
          "barpolar": [
           {
            "marker": {
             "line": {
              "color": "white",
              "width": 0.5
             },
             "pattern": {
              "fillmode": "overlay",
              "size": 10,
              "solidity": 0.2
             }
            },
            "type": "barpolar"
           }
          ],
          "carpet": [
           {
            "aaxis": {
             "endlinecolor": "rgb(36,36,36)",
             "gridcolor": "white",
             "linecolor": "white",
             "minorgridcolor": "white",
             "startlinecolor": "rgb(36,36,36)"
            },
            "baxis": {
             "endlinecolor": "rgb(36,36,36)",
             "gridcolor": "white",
             "linecolor": "white",
             "minorgridcolor": "white",
             "startlinecolor": "rgb(36,36,36)"
            },
            "type": "carpet"
           }
          ],
          "choropleth": [
           {
            "colorbar": {
             "outlinewidth": 1,
             "tickcolor": "rgb(36,36,36)",
             "ticks": "outside"
            },
            "type": "choropleth"
           }
          ],
          "contour": [
           {
            "colorbar": {
             "outlinewidth": 1,
             "tickcolor": "rgb(36,36,36)",
             "ticks": "outside"
            },
            "colorscale": [
             [
              0,
              "#440154"
             ],
             [
              0.1111111111111111,
              "#482878"
             ],
             [
              0.2222222222222222,
              "#3e4989"
             ],
             [
              0.3333333333333333,
              "#31688e"
             ],
             [
              0.4444444444444444,
              "#26828e"
             ],
             [
              0.5555555555555556,
              "#1f9e89"
             ],
             [
              0.6666666666666666,
              "#35b779"
             ],
             [
              0.7777777777777778,
              "#6ece58"
             ],
             [
              0.8888888888888888,
              "#b5de2b"
             ],
             [
              1,
              "#fde725"
             ]
            ],
            "type": "contour"
           }
          ],
          "contourcarpet": [
           {
            "colorbar": {
             "outlinewidth": 1,
             "tickcolor": "rgb(36,36,36)",
             "ticks": "outside"
            },
            "type": "contourcarpet"
           }
          ],
          "heatmap": [
           {
            "colorbar": {
             "outlinewidth": 1,
             "tickcolor": "rgb(36,36,36)",
             "ticks": "outside"
            },
            "colorscale": [
             [
              0,
              "#440154"
             ],
             [
              0.1111111111111111,
              "#482878"
             ],
             [
              0.2222222222222222,
              "#3e4989"
             ],
             [
              0.3333333333333333,
              "#31688e"
             ],
             [
              0.4444444444444444,
              "#26828e"
             ],
             [
              0.5555555555555556,
              "#1f9e89"
             ],
             [
              0.6666666666666666,
              "#35b779"
             ],
             [
              0.7777777777777778,
              "#6ece58"
             ],
             [
              0.8888888888888888,
              "#b5de2b"
             ],
             [
              1,
              "#fde725"
             ]
            ],
            "type": "heatmap"
           }
          ],
          "histogram": [
           {
            "marker": {
             "line": {
              "color": "white",
              "width": 0.6
             }
            },
            "type": "histogram"
           }
          ],
          "histogram2d": [
           {
            "colorbar": {
             "outlinewidth": 1,
             "tickcolor": "rgb(36,36,36)",
             "ticks": "outside"
            },
            "colorscale": [
             [
              0,
              "#440154"
             ],
             [
              0.1111111111111111,
              "#482878"
             ],
             [
              0.2222222222222222,
              "#3e4989"
             ],
             [
              0.3333333333333333,
              "#31688e"
             ],
             [
              0.4444444444444444,
              "#26828e"
             ],
             [
              0.5555555555555556,
              "#1f9e89"
             ],
             [
              0.6666666666666666,
              "#35b779"
             ],
             [
              0.7777777777777778,
              "#6ece58"
             ],
             [
              0.8888888888888888,
              "#b5de2b"
             ],
             [
              1,
              "#fde725"
             ]
            ],
            "type": "histogram2d"
           }
          ],
          "histogram2dcontour": [
           {
            "colorbar": {
             "outlinewidth": 1,
             "tickcolor": "rgb(36,36,36)",
             "ticks": "outside"
            },
            "colorscale": [
             [
              0,
              "#440154"
             ],
             [
              0.1111111111111111,
              "#482878"
             ],
             [
              0.2222222222222222,
              "#3e4989"
             ],
             [
              0.3333333333333333,
              "#31688e"
             ],
             [
              0.4444444444444444,
              "#26828e"
             ],
             [
              0.5555555555555556,
              "#1f9e89"
             ],
             [
              0.6666666666666666,
              "#35b779"
             ],
             [
              0.7777777777777778,
              "#6ece58"
             ],
             [
              0.8888888888888888,
              "#b5de2b"
             ],
             [
              1,
              "#fde725"
             ]
            ],
            "type": "histogram2dcontour"
           }
          ],
          "mesh3d": [
           {
            "colorbar": {
             "outlinewidth": 1,
             "tickcolor": "rgb(36,36,36)",
             "ticks": "outside"
            },
            "type": "mesh3d"
           }
          ],
          "parcoords": [
           {
            "line": {
             "colorbar": {
              "outlinewidth": 1,
              "tickcolor": "rgb(36,36,36)",
              "ticks": "outside"
             }
            },
            "type": "parcoords"
           }
          ],
          "pie": [
           {
            "automargin": true,
            "type": "pie"
           }
          ],
          "scatter": [
           {
            "fillpattern": {
             "fillmode": "overlay",
             "size": 10,
             "solidity": 0.2
            },
            "type": "scatter"
           }
          ],
          "scatter3d": [
           {
            "line": {
             "colorbar": {
              "outlinewidth": 1,
              "tickcolor": "rgb(36,36,36)",
              "ticks": "outside"
             }
            },
            "marker": {
             "colorbar": {
              "outlinewidth": 1,
              "tickcolor": "rgb(36,36,36)",
              "ticks": "outside"
             }
            },
            "type": "scatter3d"
           }
          ],
          "scattercarpet": [
           {
            "marker": {
             "colorbar": {
              "outlinewidth": 1,
              "tickcolor": "rgb(36,36,36)",
              "ticks": "outside"
             }
            },
            "type": "scattercarpet"
           }
          ],
          "scattergeo": [
           {
            "marker": {
             "colorbar": {
              "outlinewidth": 1,
              "tickcolor": "rgb(36,36,36)",
              "ticks": "outside"
             }
            },
            "type": "scattergeo"
           }
          ],
          "scattergl": [
           {
            "marker": {
             "colorbar": {
              "outlinewidth": 1,
              "tickcolor": "rgb(36,36,36)",
              "ticks": "outside"
             }
            },
            "type": "scattergl"
           }
          ],
          "scattermap": [
           {
            "marker": {
             "colorbar": {
              "outlinewidth": 1,
              "tickcolor": "rgb(36,36,36)",
              "ticks": "outside"
             }
            },
            "type": "scattermap"
           }
          ],
          "scattermapbox": [
           {
            "marker": {
             "colorbar": {
              "outlinewidth": 1,
              "tickcolor": "rgb(36,36,36)",
              "ticks": "outside"
             }
            },
            "type": "scattermapbox"
           }
          ],
          "scatterpolar": [
           {
            "marker": {
             "colorbar": {
              "outlinewidth": 1,
              "tickcolor": "rgb(36,36,36)",
              "ticks": "outside"
             }
            },
            "type": "scatterpolar"
           }
          ],
          "scatterpolargl": [
           {
            "marker": {
             "colorbar": {
              "outlinewidth": 1,
              "tickcolor": "rgb(36,36,36)",
              "ticks": "outside"
             }
            },
            "type": "scatterpolargl"
           }
          ],
          "scatterternary": [
           {
            "marker": {
             "colorbar": {
              "outlinewidth": 1,
              "tickcolor": "rgb(36,36,36)",
              "ticks": "outside"
             }
            },
            "type": "scatterternary"
           }
          ],
          "surface": [
           {
            "colorbar": {
             "outlinewidth": 1,
             "tickcolor": "rgb(36,36,36)",
             "ticks": "outside"
            },
            "colorscale": [
             [
              0,
              "#440154"
             ],
             [
              0.1111111111111111,
              "#482878"
             ],
             [
              0.2222222222222222,
              "#3e4989"
             ],
             [
              0.3333333333333333,
              "#31688e"
             ],
             [
              0.4444444444444444,
              "#26828e"
             ],
             [
              0.5555555555555556,
              "#1f9e89"
             ],
             [
              0.6666666666666666,
              "#35b779"
             ],
             [
              0.7777777777777778,
              "#6ece58"
             ],
             [
              0.8888888888888888,
              "#b5de2b"
             ],
             [
              1,
              "#fde725"
             ]
            ],
            "type": "surface"
           }
          ],
          "table": [
           {
            "cells": {
             "fill": {
              "color": "rgb(237,237,237)"
             },
             "line": {
              "color": "white"
             }
            },
            "header": {
             "fill": {
              "color": "rgb(217,217,217)"
             },
             "line": {
              "color": "white"
             }
            },
            "type": "table"
           }
          ]
         },
         "layout": {
          "annotationdefaults": {
           "arrowhead": 0,
           "arrowwidth": 1
          },
          "autotypenumbers": "strict",
          "coloraxis": {
           "colorbar": {
            "outlinewidth": 1,
            "tickcolor": "rgb(36,36,36)",
            "ticks": "outside"
           }
          },
          "colorscale": {
           "diverging": [
            [
             0,
             "rgb(103,0,31)"
            ],
            [
             0.1,
             "rgb(178,24,43)"
            ],
            [
             0.2,
             "rgb(214,96,77)"
            ],
            [
             0.3,
             "rgb(244,165,130)"
            ],
            [
             0.4,
             "rgb(253,219,199)"
            ],
            [
             0.5,
             "rgb(247,247,247)"
            ],
            [
             0.6,
             "rgb(209,229,240)"
            ],
            [
             0.7,
             "rgb(146,197,222)"
            ],
            [
             0.8,
             "rgb(67,147,195)"
            ],
            [
             0.9,
             "rgb(33,102,172)"
            ],
            [
             1,
             "rgb(5,48,97)"
            ]
           ],
           "sequential": [
            [
             0,
             "#440154"
            ],
            [
             0.1111111111111111,
             "#482878"
            ],
            [
             0.2222222222222222,
             "#3e4989"
            ],
            [
             0.3333333333333333,
             "#31688e"
            ],
            [
             0.4444444444444444,
             "#26828e"
            ],
            [
             0.5555555555555556,
             "#1f9e89"
            ],
            [
             0.6666666666666666,
             "#35b779"
            ],
            [
             0.7777777777777778,
             "#6ece58"
            ],
            [
             0.8888888888888888,
             "#b5de2b"
            ],
            [
             1,
             "#fde725"
            ]
           ],
           "sequentialminus": [
            [
             0,
             "#440154"
            ],
            [
             0.1111111111111111,
             "#482878"
            ],
            [
             0.2222222222222222,
             "#3e4989"
            ],
            [
             0.3333333333333333,
             "#31688e"
            ],
            [
             0.4444444444444444,
             "#26828e"
            ],
            [
             0.5555555555555556,
             "#1f9e89"
            ],
            [
             0.6666666666666666,
             "#35b779"
            ],
            [
             0.7777777777777778,
             "#6ece58"
            ],
            [
             0.8888888888888888,
             "#b5de2b"
            ],
            [
             1,
             "#fde725"
            ]
           ]
          },
          "colorway": [
           "#1F77B4",
           "#FF7F0E",
           "#2CA02C",
           "#D62728",
           "#9467BD",
           "#8C564B",
           "#E377C2",
           "#7F7F7F",
           "#BCBD22",
           "#17BECF"
          ],
          "font": {
           "color": "rgb(36,36,36)"
          },
          "geo": {
           "bgcolor": "white",
           "lakecolor": "white",
           "landcolor": "white",
           "showlakes": true,
           "showland": true,
           "subunitcolor": "white"
          },
          "hoverlabel": {
           "align": "left"
          },
          "hovermode": "closest",
          "mapbox": {
           "style": "light"
          },
          "paper_bgcolor": "white",
          "plot_bgcolor": "white",
          "polar": {
           "angularaxis": {
            "gridcolor": "rgb(232,232,232)",
            "linecolor": "rgb(36,36,36)",
            "showgrid": false,
            "showline": true,
            "ticks": "outside"
           },
           "bgcolor": "white",
           "radialaxis": {
            "gridcolor": "rgb(232,232,232)",
            "linecolor": "rgb(36,36,36)",
            "showgrid": false,
            "showline": true,
            "ticks": "outside"
           }
          },
          "scene": {
           "xaxis": {
            "backgroundcolor": "white",
            "gridcolor": "rgb(232,232,232)",
            "gridwidth": 2,
            "linecolor": "rgb(36,36,36)",
            "showbackground": true,
            "showgrid": false,
            "showline": true,
            "ticks": "outside",
            "zeroline": false,
            "zerolinecolor": "rgb(36,36,36)"
           },
           "yaxis": {
            "backgroundcolor": "white",
            "gridcolor": "rgb(232,232,232)",
            "gridwidth": 2,
            "linecolor": "rgb(36,36,36)",
            "showbackground": true,
            "showgrid": false,
            "showline": true,
            "ticks": "outside",
            "zeroline": false,
            "zerolinecolor": "rgb(36,36,36)"
           },
           "zaxis": {
            "backgroundcolor": "white",
            "gridcolor": "rgb(232,232,232)",
            "gridwidth": 2,
            "linecolor": "rgb(36,36,36)",
            "showbackground": true,
            "showgrid": false,
            "showline": true,
            "ticks": "outside",
            "zeroline": false,
            "zerolinecolor": "rgb(36,36,36)"
           }
          },
          "shapedefaults": {
           "fillcolor": "black",
           "line": {
            "width": 0
           },
           "opacity": 0.3
          },
          "ternary": {
           "aaxis": {
            "gridcolor": "rgb(232,232,232)",
            "linecolor": "rgb(36,36,36)",
            "showgrid": false,
            "showline": true,
            "ticks": "outside"
           },
           "baxis": {
            "gridcolor": "rgb(232,232,232)",
            "linecolor": "rgb(36,36,36)",
            "showgrid": false,
            "showline": true,
            "ticks": "outside"
           },
           "bgcolor": "white",
           "caxis": {
            "gridcolor": "rgb(232,232,232)",
            "linecolor": "rgb(36,36,36)",
            "showgrid": false,
            "showline": true,
            "ticks": "outside"
           }
          },
          "title": {
           "x": 0.05
          },
          "xaxis": {
           "automargin": true,
           "gridcolor": "rgb(232,232,232)",
           "linecolor": "rgb(36,36,36)",
           "showgrid": false,
           "showline": true,
           "ticks": "outside",
           "title": {
            "standoff": 15
           },
           "zeroline": false,
           "zerolinecolor": "rgb(36,36,36)"
          },
          "yaxis": {
           "automargin": true,
           "gridcolor": "rgb(232,232,232)",
           "linecolor": "rgb(36,36,36)",
           "showgrid": false,
           "showline": true,
           "ticks": "outside",
           "title": {
            "standoff": 15
           },
           "zeroline": false,
           "zerolinecolor": "rgb(36,36,36)"
          }
         }
        },
        "title": {
         "text": "Análisis de Tipos de Campaña"
        },
        "width": 1000,
        "xaxis": {
         "anchor": "y",
         "domain": [
          0,
          0.45
         ],
         "title": {
          "text": "Tipo de campaña"
         }
        },
        "xaxis2": {
         "anchor": "y2",
         "domain": [
          0.55,
          1
         ],
         "title": {
          "text": "Tipo de campaña"
         }
        },
        "yaxis": {
         "anchor": "x",
         "domain": [
          0,
          1
         ],
         "title": {
          "text": "Ingreso promedio ($)"
         }
        },
        "yaxis2": {
         "anchor": "x2",
         "domain": [
          0,
          1
         ],
         "title": {
          "text": "Tasa de conversión"
         }
        }
       }
      }
     },
     "metadata": {},
     "output_type": "display_data"
    }
   ],
   "source": [
    "# Group by type and calculate metrics\n",
    "avg_revenue_by_type = df.groupby('type')['revenue'].mean().sort_values(ascending=False)\n",
    "avg_conversion_by_type = df.groupby('type')['conversion_rate'].mean().sort_values(ascending=False)\n",
    "\n",
    "# Create interactive subplots\n",
    "fig = make_subplots(rows=1, cols=2, \n",
    "                   subplot_titles=['Ingreso promedio por tipo de campaña', \n",
    "                                  'Tasa de conversión promedio por tipo de campaña'])\n",
    "\n",
    "# Plot average revenue by campaign type\n",
    "fig.add_trace(\n",
    "    go.Bar(\n",
    "        x=avg_revenue_by_type.index, \n",
    "        y=avg_revenue_by_type.values,\n",
    "        text=[f'${val:,.2f}' for val in avg_revenue_by_type.values],\n",
    "        textposition='auto',\n",
    "        marker_color=pastel_colors[:len(avg_revenue_by_type)],\n",
    "        hovertemplate='Tipo: %{x}<br>Ingreso promedio: %{text}<extra></extra>'\n",
    "    ),\n",
    "    row=1, col=1\n",
    ")\n",
    "\n",
    "# Plot average conversion rate by campaign type\n",
    "fig.add_trace(\n",
    "    go.Bar(\n",
    "        x=avg_conversion_by_type.index, \n",
    "        y=avg_conversion_by_type.values,\n",
    "        text=[f'{val:.2%}' for val in avg_conversion_by_type.values],\n",
    "        textposition='auto',\n",
    "        marker_color=pastel_colors[:len(avg_conversion_by_type)],\n",
    "        hovertemplate='Tipo: %{x}<br>Tasa de conversión: %{text}<extra></extra>'\n",
    "    ),\n",
    "    row=1, col=2\n",
    ")\n",
    "\n",
    "# Update layout\n",
    "fig.update_layout(\n",
    "    height=600, \n",
    "    width=1000,\n",
    "    showlegend=False,\n",
    "    title_text='Análisis de Tipos de Campaña',\n",
    "    template='simple_white'\n",
    ")\n",
    "\n",
    "# Add axis labels\n",
    "fig.update_yaxes(title_text=\"Ingreso promedio ($)\", row=1, col=1)\n",
    "fig.update_yaxes(title_text=\"Tasa de conversión\", row=1, col=2)\n",
    "fig.update_xaxes(title_text=\"Tipo de campaña\", row=1, col=1)\n",
    "fig.update_xaxes(title_text=\"Tipo de campaña\", row=1, col=2)\n",
    "\n",
    "# Show the figure\n",
    "fig.show()"
   ]
  },
  {
   "cell_type": "code",
   "execution_count": 7,
   "id": "f96d76b7",
   "metadata": {},
   "outputs": [
    {
     "data": {
      "application/vnd.plotly.v1+json": {
       "config": {
        "plotlyServerURL": "https://plot.ly"
       },
       "data": [
        {
         "hovertemplate": "ROI: %{x:.2f}<br>Frecuencia: %{y}<extra></extra>",
         "marker": {
          "color": "rgba(255, 182, 193, 0.7)"
         },
         "nbinsx": 50,
         "type": "histogram",
         "x": {
          "bdata": "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",
          "dtype": "f8"
         },
         "xaxis": "x",
         "yaxis": "y"
        },
        {
         "hovertemplate": "Canal: %{y:.2f}<extra></extra>",
         "marker": {
          "color": "rgba(255, 182, 193, 0.7)"
         },
         "name": "organic",
         "type": "box",
         "xaxis": "x2",
         "y": {
          "bdata": "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",
          "dtype": "f8"
         },
         "yaxis": "y2"
        },
        {
         "hovertemplate": "Canal: %{y:.2f}<extra></extra>",
         "marker": {
          "color": "rgba(173, 216, 230, 0.7)"
         },
         "name": "promotion",
         "type": "box",
         "xaxis": "x2",
         "y": {
          "bdata": "7FG4HoUrPEDhehSuR+HKP2ZmZmZmZhJAhetRuB6F+z/2KFyPwjU5QI/C9ShcDyVA4XoUrkfhEUAzMzMzMzPDv7gehetRuD5AmpmZmZmZJEBcj8L1KFz3P65H4XoUrhdAmpmZmZmZE0CPwvUoXM83QOxRuB6Fu1BAMzMzMzMTREBmZmZmZmYnQD0K16NwPQpAH4XrUbgeHEBmZmZmZmYeQGZmZmZmZgJAMzMzMzMzMUBcj8L1KFwVQAAAAAAAAPg/hetRuB6lTkAzMzMzMzMvQOF6FK5H4RxArkfhehQuMUCkcD0K10NHQJqZmZmZmQdACtejcD0KD0BxPQrXo3ANQD0K16NwPTFASOF6FK5HAUAzMzMzM7MrQIXrUbgeRTFAPQrXo3C9L0DNzMzMzJRgQM3MzMzMzNw/AAAAAAAAGkBmZmZmZmYtQJqZmZmZmdk/j8L1KFyP/j+amZmZmZmpP4/C9ShcjwpASOF6FK5HL0CkcD0K13NWQIXrUbgehUpA9ihcj8J1NUAzMzMzM7MkQKRwPQrXIyVAuB6F61G49j89CtejcD0QQLgehetROCNA9ihcj8K1NEApXI/C9SgUQArXo3A9CgFApHA9CtcjMECamZmZmVk+QOF6FK5HYTlArkfhehSu7z/Xo3A9Clc/QBSuR+F6FBJAMzMzMzMzB0AUrkfhejRHQHE9CtejcBRAmpmZmZmZGEDsUbgehWswQB+F61G4niBA7FG4HoXrKEBSuB6F61EYQM3MzMzMnGhAuB6F61G4FECuR+F6FKaLQAAAAAAAgChAUrgehetR2L8UrkfhehQuQAAAAAAAAClA9ihcj8L1CEDNzMzMzMzwP8P1KFyPwiFAzczMzMzMGEDD9Shcj8I5QEjhehSuxydAMzMzMzMzw78K16NwPcpMQEjhehSuRyVAPQrXo3A9DkCamZmZmZkFQKRwPQrXIyNAcT0K16NwKkApXI/C9SjcP3E9CtejcO2/pHA9CtcDRUCamZmZmZkbQArXo3A9CidAuB6F61E4LEDD9Shcj8IcQFK4HoXrURpACtejcD0KHkDhehSuR2EqQPYoXI/C9RRAUrgehetRJUDhehSuR+H2Pz0K16NwfTtAPQrXo3CdbkCPwvUoXI8bQI/C9ShcjylAexSuR+HaTEAzMzMzMztmQNejcD0K1yJAH4XrUbj+S0AzMzMzMxNBQClcj8L1mFdA9ihcj8L1GECamZmZmZkTQD0K16NwPSVACtejcD2qREBSuB6F61EiQHE9CtejcOW/hetRuB6FLUCkcD0K14tiQJqZmZmZmQtAhetRuB6FFkAzMzMzMzMXQD0K16NwfTVAMzMzMzMzAUCkcD0K16MpQNejcD0KB1hASOF6FK5HI0D2KFyPwvUcQD0K16NwY4BA16NwPQqXNEBSuB6F65E9QGZmZmZmBlBA7FG4HoWrMEAzMzMzMzP3P3E9CtejcAFA7FG4HoXr4T+amZmZmZkLQI/C9ShcjwZA4XoUrkfhyr+4HoXrUbgKQDMzMzMzMwVA7FG4HoUrO0CuR+F6FP5RQFyPwvUo3CpAuB6F61G4I0CkcD0K16MIQArXo3A9CjBACtejcD0K578K16NwPQoSQK5H4XoUrhNAhetRuB6F8z9xPQrXo/AkQMP1KFyPwhtArkfhehSu9z+amZmZmVlNQClcj8L1KPA/7FG4HoXrLkApXI/C9Sjkv9ejcD0KJ1RAexSuR+F6JkCPwvUoXI8KQHE9CtejcPU/KVyPwvUo7L8pXI/C9SgAQGZmZmZmZjRA16NwPQpXLEC4HoXrUfg1QBSuR+F6FBJAexSuR+F6OUAfhetRuB4hQK5H4XoUrg9ASOF6FK7HL0DD9Shcj4I5QHsUrkfhukJAhetRuB6FF0BxPQrXo3ABQHE9CtejcCBAcT0K16NIc0AfhetRuB7Vv2ZmZmZmZhRACtejcD2KIkAAAAAAAAAbQClcj8L16ERA9ihcj8I1NED2KFyPwvXYPylcj8L1KBVAexSuR+F6pL9I4XoUrldQQM3MzMzMzBJAuB6F61G4BkC4HoXrUbgZQGZmZmZmZu4/rkfhehSuNUAfhetRuNZtQB+F61G4XklA16NwPQrXI0DNzMzMzMwGQHsUrkfh+iZA9ihcj8L1IUBSuB6F69EpQB+F61G4HiFAmpmZmZmZEEC4HoXrUahTQNejcD0Kp1xASOF6FK5HM0DsUbgehYtEQEjhehSuh0BApHA9CtejMUBmZmZmZmYWQHE9CtejcDNASOF6FK5HMEBxPQrXozAxQPYoXI/CdS5AZmZmZmbmJECPwvUoXJ9QQGZmZmZmZhlAAAAAAADAMUDNzMzMzCxYQBSuR+F6FN4/MzMzMzMzREDhehSuR+EvQJqZmZmZmfk/FK5H4XqUKEApXI/C9SgMQPYoXI/C9eg/SOF6FK5HA0CamZmZmZkiQAAAAAAAQD9AhetRuB6F8z/Xo3A9CtcBQHsUrkfhOjlA7FG4HoVrLEDD9Shcj8ITQFK4HoXr0SRASOF6FK5H4b/hehSuR+ETQGZmZmZmZua/uB6F61HoUUBcj8L1KFwfQOxRuB6F6/E/9ihcj8L1SUAfhetRuA5aQKRwPQrXoxdAPQrXo3C9J0DsUbgehSs+QKRwPQrXox1AUrgeheuRMkD2KFyPwnU1QK5H4XoUrh1ApHA9CtejGkDsUbgehev1PzMzMzMzMzBA4XoUrkfhBkBI4XoUrkcVQMP1KFyPwiRAH4XrUbgeJUBmZmZmZmYUQDMzMzMzMw1AuB6F61G4FUAK16NwPUpAQOF6FK5H4TtAj8L1KFyP+j8K16NwPYpMQIXrUbgehfc/pHA9CtejG0BI4XoUrkcmQIXrUbgehRZAmpmZmZnZN0BmZmZmZmYSQLgehetRuPo/",
          "dtype": "f8"
         },
         "yaxis": "y2"
        },
        {
         "hovertemplate": "Canal: %{y:.2f}<extra></extra>",
         "marker": {
          "color": "rgba(144, 238, 144, 0.7)"
         },
         "name": "paid",
         "type": "box",
         "xaxis": "x2",
         "y": {
          "bdata": "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",
          "dtype": "f8"
         },
         "yaxis": "y2"
        },
        {
         "hovertemplate": "Canal: %{y:.2f}<extra></extra>",
         "marker": {
          "color": "rgba(255, 218, 185, 0.7)"
         },
         "name": "referral",
         "type": "box",
         "xaxis": "x2",
         "y": {
          "bdata": "j8L1KFyPGUDhehSuR+ETQArXo3A9UnNAj8L1KFyPCkA9CtejcD0/QHsUrkfheuy/exSuR+F6tD8pXI/C9agpQOxRuB6FazBAXI/C9SicP0DNzMzMzMwMQClcj8L1KMw/UrgehevxT0DhehSuR2FHQHsUrkfhegpA9ihcj8L1FkDXo3A9Ctf/P1K4HoXr0S5AH4XrUbieI0DhehSuRyEyQEjhehSuRwlA4XoUrkdhQUBcj8L1KFwXQBSuR+F6FN6/7FG4HoXrC0BxPQrXo/AiQArXo3A9iiBA7FG4HoXrGEBI4XoUrkcfQClcj8L1KPA/UrgehevRJUB7FK5H4XowQGZmZmZmZvI/4XoUrkfhE0DXo3A9ClcmQMP1KFyPwtU/H4XrUbjuZ0CF61G4HoUlQBSuR+F6FBZA9ihcj8L1HkBxPQrXo3ASQArXo3A9iihAuB6F61H4O0C4HoXrUfg7QMP1KFyPwixAPQrXo3A9EkCPwvUoXI/iv9ejcD0K51NASOF6FK5HIUD2KFyPwvURQFyPwvUo3ClAKVyPwvWoPED2KFyPwnUpQB+F61G43jBAFK5H4XoU5j8AAAAAAAAMQD0K16NwPfY/PQrXo3B9M0DD9Shcj8I5QNejcD0K1+u/pHA9CtejHECF61G4HgUmQPYoXI/C9RlAj8L1KFyPGEB7FK5H4UpYQPYoXI/CdSxAUrgehevRLEC4HoXrUbjeP2ZmZmZmZhVApHA9CtcDQ0AK16NwPQq3P3sUrkfheuS/PQrXo3B9N0BSuB6F61FAQHE9Ctej8CBA9ihcj8L1KkAK16NwPQonQD0K16NwPQJAhetRuB4FbEApXI/C9Wg0QHE9CtejMD9AzczMzMzMNEDsUbgehYtAQHsUrkfhehdAPQrXo3C9PUAK16NwPQouQM3MzMzMzOQ/j8L1KFwPJED2KFyPwtVOQK5H4XoU5mVAhetRuB5lTkAK16NwPQokQDMzMzMzMwVAKVyPwvUoGUDNzMzMzEwzQLgehetReEZAhetRuB4FI0ApXI/C9SgcQIXrUbgetWJAMzMzMzMzE0A9CtejcD3avwrXo3A9CiJAFK5H4XoUGUBxPQrXo3AfQAAAAAAAgDxAAAAAAABAN0BxPQrXo3A6QClcj8L1KCZAmpmZmZmZD0B7FK5H4boyQBSuR+F6VDpAKVyPwvWoIUDD9Shcj8JHQIXrUbgehRJAj8L1KFyPMEDNzMzMzMwEQD0K16NwvShAuB6F61G4FUApXI/C9agsQHE9CtejcDhApHA9Ctej9D97FK5H4ZpJQBSuR+F6FBdAFK5H4XoU/j8UrkfheiRcQFK4HoXrUSJAPQrXo3C9KkAzMzMzMzMzQHsUrkfhehFAzczMzMxMNUDNzMzMzMzcP5qZmZmZGTVApHA9CtejIEBcj8L1KFwjQD0K16NwPRpAH4XrUbjePEC4HoXrUbgdQFyPwvUoXAVAj8L1KFyPHkApXI/C9agwQClcj8L1SEJA4XoUrkfhHkAzMzMzMzMQQFK4HoXrUQxAUrgehetRBkB7FK5H4XoUQNejcD0K1/M/j8L1KFxnZkAAAAAAAAAOQHE9CtejcB9A9ihcj8I1NkBcj8L1KJxCQM3MzMzMTD1AMzMzMzMzEUCuR+F6FK4bQIXrUbgeRUBAw/UoXI9CKECPwvUoXA8gQPYoXI/CdT5ACtejcD2KIkCPwvUoXI8VQJqZmZmZGS5AuB6F61E4PkBcj8L1KNwiQHsUrkfhehpAKVyPwvUo3L+F61G4HsUwQArXo3A9CgdAH4XrUbjeMECamZmZmZkWQFK4HoXrURBAw/UoXI+CR0BxPQrXo7AwQGZmZmZmZta/cT0K16NwGUBmZmZmZuYlQJqZmZmZGSdAw/UoXI/CGEAK16NwPYpTQArXo3A9Cvc/16NwPQrXEUAK16NwPYogQM3MzMzMzAZAMzMzMzMzMECamZmZmZm5P3E9CtejsDJAexSuR+F6BEBI4XoUrkdGQPYoXI/CdSRAcT0K16Nw7b+kcD0K1yMpQEjhehSuRxpArkfhehSuFEBxPQrXo/AnQOxRuB6FazFAFK5H4XoUE0AzMzMzMzMDQLgehetRuBRA7FG4HoUfdED2KFyPwrVCQEjhehSuxyxAKVyPwvUovL/Xo3A9CtcdQFK4HoXrUeA/FK5H4XqUJ0AAAAAAAADoPz0K16Nw/URA9ihcj8L1KEAK16NwPQrnv1yPwvUoXCZAKVyPwvUoCkCF61G4HoUdQClcj8L1KDpArkfhehSuLUDsUbgehevxPzMzMzMzMwlAXI/C9SjcLkDhehSuR+Hqv5qZmZmZ2TFAj8L1KFyP+j8zMzMzMzP7PzMzMzMzMwNAKVyPwvUo7L/2KFyPwvXYv+F6FK5H4RpASOF6FK5HAUBxPQrXo3ATQDMzMzMzMxhASOF6FK5HBUCF61G4HoUPQDMzMzMzMxtAUrgehetRNUAzMzMzMzMcQI/C9Shc70xAH4XrUbheMkAAAAAAAAAGQBSuR+F6FDVArkfhehSu17/hehSuR6ExQB+F61G4HihAhetRuB5FNECkcD0K16MsQFK4HoXrUQhAw/UoXI+CNEDhehSuRyE1QJqZmZmZmS5AUrgehetR6L8AAAAAAEA1QAAAAAAAIGFAUrgehevRIkAK16NwPQoeQOF6FK5H4RNA16NwPQrXGEA=",
          "dtype": "f8"
         },
         "yaxis": "y2"
        },
        {
         "hovertemplate": "Tasa de conversión: %{x:.2f}<br>ROI: %{y:.2f}<extra></extra>",
         "marker": {
          "color": "rgba(173, 216, 230, 0.7)",
          "line": {
           "color": "rgba(173, 216, 230, 1.0)",
           "width": 1
          },
          "size": 8
         },
         "mode": "markers",
         "type": "scatter",
         "x": {
          "bdata": "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",
          "dtype": "f8"
         },
         "xaxis": "x3",
         "y": {
          "bdata": "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",
          "dtype": "f8"
         },
         "yaxis": "y3"
        },
        {
         "hovertemplate": "Tipo: %{y:.2f}<extra></extra>",
         "marker": {
          "color": "rgba(255, 182, 193, 0.7)"
         },
         "name": "email",
         "type": "box",
         "xaxis": "x4",
         "y": {
          "bdata": "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",
          "dtype": "f8"
         },
         "yaxis": "y4"
        },
        {
         "hovertemplate": "Tipo: %{y:.2f}<extra></extra>",
         "marker": {
          "color": "rgba(173, 216, 230, 0.7)"
         },
         "name": "podcast",
         "type": "box",
         "xaxis": "x4",
         "y": {
          "bdata": "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",
          "dtype": "f8"
         },
         "yaxis": "y4"
        },
        {
         "hovertemplate": "Tipo: %{y:.2f}<extra></extra>",
         "marker": {
          "color": "rgba(144, 238, 144, 0.7)"
         },
         "name": "webinar",
         "type": "box",
         "xaxis": "x4",
         "y": {
          "bdata": "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",
          "dtype": "f8"
         },
         "yaxis": "y4"
        },
        {
         "hovertemplate": "Tipo: %{y:.2f}<extra></extra>",
         "marker": {
          "color": "rgba(255, 218, 185, 0.7)"
         },
         "name": "social media",
         "type": "box",
         "xaxis": "x4",
         "y": {
          "bdata": "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",
          "dtype": "f8"
         },
         "yaxis": "y4"
        },
        {
         "hovertemplate": "Tipo: %{y:.2f}<extra></extra>",
         "marker": {
          "color": "rgba(255, 182, 193, 0.7)"
         },
         "name": "-NO",
         "type": "box",
         "xaxis": "x4",
         "y": {
          "bdata": "ZmZmZmZmEkA=",
          "dtype": "f8"
         },
         "yaxis": "y4"
        },
        {
         "hovertemplate": "Tipo: %{y:.2f}<extra></extra>",
         "marker": {
          "color": "rgba(173, 216, 230, 0.7)"
         },
         "name": "event",
         "type": "box",
         "xaxis": "x4",
         "y": {
          "bdata": "ZmZmZmZm9j8=",
          "dtype": "f8"
         },
         "yaxis": "y4"
        }
       ],
       "layout": {
        "annotations": [
         {
          "font": {
           "size": 16
          },
          "showarrow": false,
          "text": "Correlación entre ROI y tasa de conversión: 0.01",
          "x": 0.5,
          "xanchor": "center",
          "xref": "x2 domain",
          "y": -0.1,
          "yanchor": "bottom",
          "yref": "y2 domain"
         },
         {
          "font": {
           "size": 16
          },
          "showarrow": false,
          "text": "Correlación entre ROI y tasa de conversión: 0.01",
          "x": 0.5,
          "xanchor": "center",
          "xref": "x2 domain",
          "y": -0.1,
          "yanchor": "bottom",
          "yref": "y2 domain"
         },
         {
          "font": {
           "size": 16
          },
          "showarrow": false,
          "text": "Correlación entre ROI y tasa de conversión: 0.01",
          "x": 0.5,
          "xanchor": "center",
          "xref": "x2 domain",
          "y": -0.1,
          "yanchor": "bottom",
          "yref": "y2 domain"
         },
         {
          "font": {
           "size": 16
          },
          "showarrow": false,
          "text": "Correlación entre ROI y tasa de conversión: 0.01",
          "x": 0.5,
          "xanchor": "center",
          "xref": "x2 domain",
          "y": -0.1,
          "yanchor": "bottom",
          "yref": "y2 domain"
         }
        ],
        "height": 800,
        "showlegend": false,
        "template": {
         "data": {
          "bar": [
           {
            "error_x": {
             "color": "rgb(36,36,36)"
            },
            "error_y": {
             "color": "rgb(36,36,36)"
            },
            "marker": {
             "line": {
              "color": "white",
              "width": 0.5
             },
             "pattern": {
              "fillmode": "overlay",
              "size": 10,
              "solidity": 0.2
             }
            },
            "type": "bar"
           }
          ],
          "barpolar": [
           {
            "marker": {
             "line": {
              "color": "white",
              "width": 0.5
             },
             "pattern": {
              "fillmode": "overlay",
              "size": 10,
              "solidity": 0.2
             }
            },
            "type": "barpolar"
           }
          ],
          "carpet": [
           {
            "aaxis": {
             "endlinecolor": "rgb(36,36,36)",
             "gridcolor": "white",
             "linecolor": "white",
             "minorgridcolor": "white",
             "startlinecolor": "rgb(36,36,36)"
            },
            "baxis": {
             "endlinecolor": "rgb(36,36,36)",
             "gridcolor": "white",
             "linecolor": "white",
             "minorgridcolor": "white",
             "startlinecolor": "rgb(36,36,36)"
            },
            "type": "carpet"
           }
          ],
          "choropleth": [
           {
            "colorbar": {
             "outlinewidth": 1,
             "tickcolor": "rgb(36,36,36)",
             "ticks": "outside"
            },
            "type": "choropleth"
           }
          ],
          "contour": [
           {
            "colorbar": {
             "outlinewidth": 1,
             "tickcolor": "rgb(36,36,36)",
             "ticks": "outside"
            },
            "colorscale": [
             [
              0,
              "#440154"
             ],
             [
              0.1111111111111111,
              "#482878"
             ],
             [
              0.2222222222222222,
              "#3e4989"
             ],
             [
              0.3333333333333333,
              "#31688e"
             ],
             [
              0.4444444444444444,
              "#26828e"
             ],
             [
              0.5555555555555556,
              "#1f9e89"
             ],
             [
              0.6666666666666666,
              "#35b779"
             ],
             [
              0.7777777777777778,
              "#6ece58"
             ],
             [
              0.8888888888888888,
              "#b5de2b"
             ],
             [
              1,
              "#fde725"
             ]
            ],
            "type": "contour"
           }
          ],
          "contourcarpet": [
           {
            "colorbar": {
             "outlinewidth": 1,
             "tickcolor": "rgb(36,36,36)",
             "ticks": "outside"
            },
            "type": "contourcarpet"
           }
          ],
          "heatmap": [
           {
            "colorbar": {
             "outlinewidth": 1,
             "tickcolor": "rgb(36,36,36)",
             "ticks": "outside"
            },
            "colorscale": [
             [
              0,
              "#440154"
             ],
             [
              0.1111111111111111,
              "#482878"
             ],
             [
              0.2222222222222222,
              "#3e4989"
             ],
             [
              0.3333333333333333,
              "#31688e"
             ],
             [
              0.4444444444444444,
              "#26828e"
             ],
             [
              0.5555555555555556,
              "#1f9e89"
             ],
             [
              0.6666666666666666,
              "#35b779"
             ],
             [
              0.7777777777777778,
              "#6ece58"
             ],
             [
              0.8888888888888888,
              "#b5de2b"
             ],
             [
              1,
              "#fde725"
             ]
            ],
            "type": "heatmap"
           }
          ],
          "histogram": [
           {
            "marker": {
             "line": {
              "color": "white",
              "width": 0.6
             }
            },
            "type": "histogram"
           }
          ],
          "histogram2d": [
           {
            "colorbar": {
             "outlinewidth": 1,
             "tickcolor": "rgb(36,36,36)",
             "ticks": "outside"
            },
            "colorscale": [
             [
              0,
              "#440154"
             ],
             [
              0.1111111111111111,
              "#482878"
             ],
             [
              0.2222222222222222,
              "#3e4989"
             ],
             [
              0.3333333333333333,
              "#31688e"
             ],
             [
              0.4444444444444444,
              "#26828e"
             ],
             [
              0.5555555555555556,
              "#1f9e89"
             ],
             [
              0.6666666666666666,
              "#35b779"
             ],
             [
              0.7777777777777778,
              "#6ece58"
             ],
             [
              0.8888888888888888,
              "#b5de2b"
             ],
             [
              1,
              "#fde725"
             ]
            ],
            "type": "histogram2d"
           }
          ],
          "histogram2dcontour": [
           {
            "colorbar": {
             "outlinewidth": 1,
             "tickcolor": "rgb(36,36,36)",
             "ticks": "outside"
            },
            "colorscale": [
             [
              0,
              "#440154"
             ],
             [
              0.1111111111111111,
              "#482878"
             ],
             [
              0.2222222222222222,
              "#3e4989"
             ],
             [
              0.3333333333333333,
              "#31688e"
             ],
             [
              0.4444444444444444,
              "#26828e"
             ],
             [
              0.5555555555555556,
              "#1f9e89"
             ],
             [
              0.6666666666666666,
              "#35b779"
             ],
             [
              0.7777777777777778,
              "#6ece58"
             ],
             [
              0.8888888888888888,
              "#b5de2b"
             ],
             [
              1,
              "#fde725"
             ]
            ],
            "type": "histogram2dcontour"
           }
          ],
          "mesh3d": [
           {
            "colorbar": {
             "outlinewidth": 1,
             "tickcolor": "rgb(36,36,36)",
             "ticks": "outside"
            },
            "type": "mesh3d"
           }
          ],
          "parcoords": [
           {
            "line": {
             "colorbar": {
              "outlinewidth": 1,
              "tickcolor": "rgb(36,36,36)",
              "ticks": "outside"
             }
            },
            "type": "parcoords"
           }
          ],
          "pie": [
           {
            "automargin": true,
            "type": "pie"
           }
          ],
          "scatter": [
           {
            "fillpattern": {
             "fillmode": "overlay",
             "size": 10,
             "solidity": 0.2
            },
            "type": "scatter"
           }
          ],
          "scatter3d": [
           {
            "line": {
             "colorbar": {
              "outlinewidth": 1,
              "tickcolor": "rgb(36,36,36)",
              "ticks": "outside"
             }
            },
            "marker": {
             "colorbar": {
              "outlinewidth": 1,
              "tickcolor": "rgb(36,36,36)",
              "ticks": "outside"
             }
            },
            "type": "scatter3d"
           }
          ],
          "scattercarpet": [
           {
            "marker": {
             "colorbar": {
              "outlinewidth": 1,
              "tickcolor": "rgb(36,36,36)",
              "ticks": "outside"
             }
            },
            "type": "scattercarpet"
           }
          ],
          "scattergeo": [
           {
            "marker": {
             "colorbar": {
              "outlinewidth": 1,
              "tickcolor": "rgb(36,36,36)",
              "ticks": "outside"
             }
            },
            "type": "scattergeo"
           }
          ],
          "scattergl": [
           {
            "marker": {
             "colorbar": {
              "outlinewidth": 1,
              "tickcolor": "rgb(36,36,36)",
              "ticks": "outside"
             }
            },
            "type": "scattergl"
           }
          ],
          "scattermap": [
           {
            "marker": {
             "colorbar": {
              "outlinewidth": 1,
              "tickcolor": "rgb(36,36,36)",
              "ticks": "outside"
             }
            },
            "type": "scattermap"
           }
          ],
          "scattermapbox": [
           {
            "marker": {
             "colorbar": {
              "outlinewidth": 1,
              "tickcolor": "rgb(36,36,36)",
              "ticks": "outside"
             }
            },
            "type": "scattermapbox"
           }
          ],
          "scatterpolar": [
           {
            "marker": {
             "colorbar": {
              "outlinewidth": 1,
              "tickcolor": "rgb(36,36,36)",
              "ticks": "outside"
             }
            },
            "type": "scatterpolar"
           }
          ],
          "scatterpolargl": [
           {
            "marker": {
             "colorbar": {
              "outlinewidth": 1,
              "tickcolor": "rgb(36,36,36)",
              "ticks": "outside"
             }
            },
            "type": "scatterpolargl"
           }
          ],
          "scatterternary": [
           {
            "marker": {
             "colorbar": {
              "outlinewidth": 1,
              "tickcolor": "rgb(36,36,36)",
              "ticks": "outside"
             }
            },
            "type": "scatterternary"
           }
          ],
          "surface": [
           {
            "colorbar": {
             "outlinewidth": 1,
             "tickcolor": "rgb(36,36,36)",
             "ticks": "outside"
            },
            "colorscale": [
             [
              0,
              "#440154"
             ],
             [
              0.1111111111111111,
              "#482878"
             ],
             [
              0.2222222222222222,
              "#3e4989"
             ],
             [
              0.3333333333333333,
              "#31688e"
             ],
             [
              0.4444444444444444,
              "#26828e"
             ],
             [
              0.5555555555555556,
              "#1f9e89"
             ],
             [
              0.6666666666666666,
              "#35b779"
             ],
             [
              0.7777777777777778,
              "#6ece58"
             ],
             [
              0.8888888888888888,
              "#b5de2b"
             ],
             [
              1,
              "#fde725"
             ]
            ],
            "type": "surface"
           }
          ],
          "table": [
           {
            "cells": {
             "fill": {
              "color": "rgb(237,237,237)"
             },
             "line": {
              "color": "white"
             }
            },
            "header": {
             "fill": {
              "color": "rgb(217,217,217)"
             },
             "line": {
              "color": "white"
             }
            },
            "type": "table"
           }
          ]
         },
         "layout": {
          "annotationdefaults": {
           "arrowhead": 0,
           "arrowwidth": 1
          },
          "autotypenumbers": "strict",
          "coloraxis": {
           "colorbar": {
            "outlinewidth": 1,
            "tickcolor": "rgb(36,36,36)",
            "ticks": "outside"
           }
          },
          "colorscale": {
           "diverging": [
            [
             0,
             "rgb(103,0,31)"
            ],
            [
             0.1,
             "rgb(178,24,43)"
            ],
            [
             0.2,
             "rgb(214,96,77)"
            ],
            [
             0.3,
             "rgb(244,165,130)"
            ],
            [
             0.4,
             "rgb(253,219,199)"
            ],
            [
             0.5,
             "rgb(247,247,247)"
            ],
            [
             0.6,
             "rgb(209,229,240)"
            ],
            [
             0.7,
             "rgb(146,197,222)"
            ],
            [
             0.8,
             "rgb(67,147,195)"
            ],
            [
             0.9,
             "rgb(33,102,172)"
            ],
            [
             1,
             "rgb(5,48,97)"
            ]
           ],
           "sequential": [
            [
             0,
             "#440154"
            ],
            [
             0.1111111111111111,
             "#482878"
            ],
            [
             0.2222222222222222,
             "#3e4989"
            ],
            [
             0.3333333333333333,
             "#31688e"
            ],
            [
             0.4444444444444444,
             "#26828e"
            ],
            [
             0.5555555555555556,
             "#1f9e89"
            ],
            [
             0.6666666666666666,
             "#35b779"
            ],
            [
             0.7777777777777778,
             "#6ece58"
            ],
            [
             0.8888888888888888,
             "#b5de2b"
            ],
            [
             1,
             "#fde725"
            ]
           ],
           "sequentialminus": [
            [
             0,
             "#440154"
            ],
            [
             0.1111111111111111,
             "#482878"
            ],
            [
             0.2222222222222222,
             "#3e4989"
            ],
            [
             0.3333333333333333,
             "#31688e"
            ],
            [
             0.4444444444444444,
             "#26828e"
            ],
            [
             0.5555555555555556,
             "#1f9e89"
            ],
            [
             0.6666666666666666,
             "#35b779"
            ],
            [
             0.7777777777777778,
             "#6ece58"
            ],
            [
             0.8888888888888888,
             "#b5de2b"
            ],
            [
             1,
             "#fde725"
            ]
           ]
          },
          "colorway": [
           "#1F77B4",
           "#FF7F0E",
           "#2CA02C",
           "#D62728",
           "#9467BD",
           "#8C564B",
           "#E377C2",
           "#7F7F7F",
           "#BCBD22",
           "#17BECF"
          ],
          "font": {
           "color": "rgb(36,36,36)"
          },
          "geo": {
           "bgcolor": "white",
           "lakecolor": "white",
           "landcolor": "white",
           "showlakes": true,
           "showland": true,
           "subunitcolor": "white"
          },
          "hoverlabel": {
           "align": "left"
          },
          "hovermode": "closest",
          "mapbox": {
           "style": "light"
          },
          "paper_bgcolor": "white",
          "plot_bgcolor": "white",
          "polar": {
           "angularaxis": {
            "gridcolor": "rgb(232,232,232)",
            "linecolor": "rgb(36,36,36)",
            "showgrid": false,
            "showline": true,
            "ticks": "outside"
           },
           "bgcolor": "white",
           "radialaxis": {
            "gridcolor": "rgb(232,232,232)",
            "linecolor": "rgb(36,36,36)",
            "showgrid": false,
            "showline": true,
            "ticks": "outside"
           }
          },
          "scene": {
           "xaxis": {
            "backgroundcolor": "white",
            "gridcolor": "rgb(232,232,232)",
            "gridwidth": 2,
            "linecolor": "rgb(36,36,36)",
            "showbackground": true,
            "showgrid": false,
            "showline": true,
            "ticks": "outside",
            "zeroline": false,
            "zerolinecolor": "rgb(36,36,36)"
           },
           "yaxis": {
            "backgroundcolor": "white",
            "gridcolor": "rgb(232,232,232)",
            "gridwidth": 2,
            "linecolor": "rgb(36,36,36)",
            "showbackground": true,
            "showgrid": false,
            "showline": true,
            "ticks": "outside",
            "zeroline": false,
            "zerolinecolor": "rgb(36,36,36)"
           },
           "zaxis": {
            "backgroundcolor": "white",
            "gridcolor": "rgb(232,232,232)",
            "gridwidth": 2,
            "linecolor": "rgb(36,36,36)",
            "showbackground": true,
            "showgrid": false,
            "showline": true,
            "ticks": "outside",
            "zeroline": false,
            "zerolinecolor": "rgb(36,36,36)"
           }
          },
          "shapedefaults": {
           "fillcolor": "black",
           "line": {
            "width": 0
           },
           "opacity": 0.3
          },
          "ternary": {
           "aaxis": {
            "gridcolor": "rgb(232,232,232)",
            "linecolor": "rgb(36,36,36)",
            "showgrid": false,
            "showline": true,
            "ticks": "outside"
           },
           "baxis": {
            "gridcolor": "rgb(232,232,232)",
            "linecolor": "rgb(36,36,36)",
            "showgrid": false,
            "showline": true,
            "ticks": "outside"
           },
           "bgcolor": "white",
           "caxis": {
            "gridcolor": "rgb(232,232,232)",
            "linecolor": "rgb(36,36,36)",
            "showgrid": false,
            "showline": true,
            "ticks": "outside"
           }
          },
          "title": {
           "x": 0.05
          },
          "xaxis": {
           "automargin": true,
           "gridcolor": "rgb(232,232,232)",
           "linecolor": "rgb(36,36,36)",
           "showgrid": false,
           "showline": true,
           "ticks": "outside",
           "title": {
            "standoff": 15
           },
           "zeroline": false,
           "zerolinecolor": "rgb(36,36,36)"
          },
          "yaxis": {
           "automargin": true,
           "gridcolor": "rgb(232,232,232)",
           "linecolor": "rgb(36,36,36)",
           "showgrid": false,
           "showline": true,
           "ticks": "outside",
           "title": {
            "standoff": 15
           },
           "zeroline": false,
           "zerolinecolor": "rgb(36,36,36)"
          }
         }
        },
        "title": {
         "text": "Análisis de ROI y Factores Asociados"
        },
        "width": 1000,
        "xaxis": {
         "anchor": "y",
         "domain": [
          0,
          0.45
         ],
         "title": {
          "text": "ROI"
         }
        },
        "xaxis2": {
         "anchor": "y2",
         "domain": [
          0.55,
          1
         ],
         "title": {
          "text": "Canal"
         }
        },
        "xaxis3": {
         "anchor": "y3",
         "domain": [
          0,
          0.45
         ],
         "title": {
          "text": "Tasa de conversión"
         }
        },
        "xaxis4": {
         "anchor": "y4",
         "domain": [
          0.55,
          1
         ],
         "title": {
          "text": "Tipo de campaña"
         }
        },
        "yaxis": {
         "anchor": "x",
         "domain": [
          0.625,
          1
         ],
         "title": {
          "text": "Frecuencia"
         }
        },
        "yaxis2": {
         "anchor": "x2",
         "domain": [
          0.625,
          1
         ],
         "title": {
          "text": "ROI"
         }
        },
        "yaxis3": {
         "anchor": "x3",
         "domain": [
          0,
          0.375
         ],
         "title": {
          "text": "ROI"
         }
        },
        "yaxis4": {
         "anchor": "x4",
         "domain": [
          0,
          0.375
         ],
         "title": {
          "text": "ROI"
         }
        }
       }
      }
     },
     "metadata": {},
     "output_type": "display_data"
    }
   ],
   "source": [
    "from plotly.subplots import make_subplots\n",
    "import numpy as np\n",
    "from scipy import stats\n",
    "\n",
    "# Create a figure with multiple subplots to analyze ROI distribution and factors\n",
    "import plotly.express as px\n",
    "import plotly.graph_objects as go\n",
    "\n",
    "# Create a 2x2 subplot figure\n",
    "fig = make_subplots(\n",
    "    rows=2, cols=2,\n",
    "    subplot_titles=(\n",
    "        'Distribución del ROI',\n",
    "        'ROI por canal de marketing', \n",
    "        'ROI vs. Tasa de conversión',\n",
    "        'ROI por tipo de campaña'\n",
    "    ),\n",
    "    specs=[[{\"type\": \"histogram\"}, {\"type\": \"box\"}],\n",
    "           [{\"type\": \"scatter\"}, {\"type\": \"box\"}]]\n",
    ")\n",
    "\n",
    "# 1. ROI Distribution (histogram)\n",
    "fig.add_trace(\n",
    "    go.Histogram(\n",
    "        x=df['roi_numeric'], \n",
    "        nbinsx=50,\n",
    "        marker_color='rgba(255, 182, 193, 0.7)',\n",
    "        hovertemplate='ROI: %{x:.2f}<br>Frecuencia: %{y}<extra></extra>'\n",
    "    ),\n",
    "    row=1, col=1\n",
    ")\n",
    "\n",
    "# 2. ROI by Channel (boxplot)\n",
    "for i, channel in enumerate(df['channel'].unique()):\n",
    "    fig.add_trace(\n",
    "        go.Box(\n",
    "            y=df[df['channel'] == channel]['roi_numeric'],\n",
    "            name=channel,\n",
    "            marker_color=pastel_colors[i % len(pastel_colors)],\n",
    "            hovertemplate='Canal: %{y:.2f}<extra></extra>'\n",
    "        ),\n",
    "        row=1, col=2\n",
    "    )\n",
    "\n",
    "# 3. ROI vs Conversion Rate (scatter)\n",
    "fig.add_trace(\n",
    "    go.Scatter(\n",
    "        x=df['conversion_rate'],\n",
    "        y=df['roi_numeric'],\n",
    "        mode='markers',\n",
    "        marker=dict(\n",
    "            size=8,\n",
    "            color='rgba(173, 216, 230, 0.7)',\n",
    "            line=dict(width=1, color='rgba(173, 216, 230, 1.0)')\n",
    "        ),\n",
    "        hovertemplate='Tasa de conversión: %{x:.2f}<br>ROI: %{y:.2f}<extra></extra>'\n",
    "    ),\n",
    "    row=2, col=1\n",
    ")\n",
    "\n",
    "# 4. ROI by Campaign Type (boxplot)\n",
    "for i, campaign_type in enumerate(df['type'].unique()):\n",
    "    fig.add_trace(\n",
    "        go.Box(\n",
    "            y=df[df['type'] == campaign_type]['roi_numeric'],\n",
    "            name=campaign_type,\n",
    "            marker_color=pastel_colors[i % len(pastel_colors)],\n",
    "            hovertemplate='Tipo: %{y:.2f}<extra></extra>'\n",
    "        ),\n",
    "        row=2, col=2\n",
    "    )\n",
    "\n",
    "# Calculate correlation between ROI and conversion rate\n",
    "roi_conv_corr = np.corrcoef(df['roi_numeric'], df['conversion_rate'])[0, 1]\n",
    "\n",
    "# Update layout\n",
    "fig.update_layout(\n",
    "    height=800, \n",
    "    width=1000,\n",
    "    title_text='Análisis de ROI y Factores Asociados',\n",
    "    template='simple_white',\n",
    "    showlegend=False,\n",
    "    annotations=[\n",
    "        dict(\n",
    "            x=0.5,\n",
    "            y=-0.1,\n",
    "            xref=\"x2 domain\",\n",
    "            yref=\"y2 domain\",\n",
    "            text=f\"Correlación entre ROI y tasa de conversión: {roi_conv_corr:.2f}\",\n",
    "            showarrow=False\n",
    "        )\n",
    "    ]\n",
    ")\n",
    "\n",
    "# Update axes\n",
    "fig.update_xaxes(title_text=\"ROI\", row=1, col=1)\n",
    "fig.update_yaxes(title_text=\"Frecuencia\", row=1, col=1)\n",
    "fig.update_xaxes(title_text=\"Canal\", row=1, col=2)\n",
    "fig.update_yaxes(title_text=\"ROI\", row=1, col=2)\n",
    "fig.update_xaxes(title_text=\"Tasa de conversión\", row=2, col=1)\n",
    "fig.update_yaxes(title_text=\"ROI\", row=2, col=1)\n",
    "fig.update_xaxes(title_text=\"Tipo de campaña\", row=2, col=2)\n",
    "fig.update_yaxes(title_text=\"ROI\", row=2, col=2)\n",
    "\n",
    "fig.show()"
   ]
  },
  {
   "cell_type": "code",
   "execution_count": 8,
   "id": "eeacaa38",
   "metadata": {},
   "outputs": [
    {
     "data": {
      "application/vnd.plotly.v1+json": {
       "config": {
        "plotlyServerURL": "https://plot.ly"
       },
       "data": [
        {
         "marker": {
          "color": "rgba(173, 216, 230, 0.7)"
         },
         "name": "B2B",
         "nbinsx": 20,
         "opacity": 0.7,
         "type": "histogram",
         "x": {
          "bdata": "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",
          "dtype": "f8"
         },
         "xaxis": "x",
         "yaxis": "y"
        },
        {
         "marker": {
          "color": "rgba(255, 182, 193, 0.7)"
         },
         "name": "B2C",
         "nbinsx": 20,
         "opacity": 0.7,
         "type": "histogram",
         "x": {
          "bdata": "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",
          "dtype": "f8"
         },
         "xaxis": "x",
         "yaxis": "y"
        },
        {
         "marker": {
          "color": "rgba(173, 216, 230, 0.7)"
         },
         "name": "B2B",
         "type": "box",
         "xaxis": "x2",
         "y": {
          "bdata": "mpmZmZmZ2T/sUbgehevRP1K4HoXrUcg/7FG4HoXr6T9xPQrXo3DNP5qZmZmZmeE/ZmZmZmZm7j/NzMzMzMzcP3E9CtejcO0/uB6F61G47j9I4XoUrkfpPwrXo3A9Cuc/H4XrUbge7T+4HoXrUbjuPwAAAAAAAOg/16NwPQrX6z8K16NwPQrHP5qZmZmZmbk/PQrXo3A94j/sUbgehevhP5qZmZmZmek/7FG4HoXr0T/NzMzMzMzkP5qZmZmZmbk/ZmZmZmZm5j/NzMzMzMzsP5qZmZmZmdk/XI/C9Shc7z+kcD0K16PQPwrXo3A9Cu8/uB6F61G47j9xPQrXo3DlP5qZmZmZmbk/PQrXo3A96j+amZmZmZnJP3E9CtejcM0/UrgehetR6D+kcD0K16PQP/YoXI/C9eg/7FG4HoXr6T+uR+F6FK7XP8P1KFyPwu0/zczMzMzM3D97FK5H4XrEP+F6FK5H4eI/AAAAAAAA0D9mZmZmZmbmP65H4XoUruc/MzMzMzMz4z+PwvUoXI/qPzMzMzMzM9M/mpmZmZmZ2T97FK5H4XrsP/YoXI/C9eg/KVyPwvUozD/2KFyPwvXoP+xRuB6F68E/4XoUrkfh6j8UrkfhehTuP83MzMzMzOQ/rkfhehSu1z9cj8L1KFzvPzMzMzMzM9M/uB6F61G4zj+4HoXrUbjmPzMzMzMzM+M/uB6F61G43j/2KFyPwvXoP3sUrkfheuw/FK5H4XoU3j/Xo3A9CtfjP3sUrkfheuQ/pHA9CtejwD9xPQrXo3DlP/YoXI/C9dg/mpmZmZmZuT/hehSuR+HKP0jhehSuR+k/rkfhehSu7z9mZmZmZmbWP+xRuB6F69E/MzMzMzMz6z/NzMzMzMzsPx+F61G4HuU/exSuR+F65D8AAAAAAADgPylcj8L1KMw/w/UoXI/CxT97FK5H4XrUP83MzMzMzOQ/ZmZmZmZm5j/2KFyPwvXgP1yPwvUoXOc/ZmZmZmZm5j/Xo3A9CtfrPxSuR+F6FOY/XI/C9Shc5z+uR+F6FK7vPzMzMzMzM8M/16NwPQrX0z/hehSuR+HaP/YoXI/C9eA/uB6F61G4zj+uR+F6FK7XP+xRuB6F69E/exSuR+F67D/D9Shcj8LtP1K4HoXrUeg/AAAAAAAA0D/NzMzMzMzsP+F6FK5H4do/cT0K16Nw5T8pXI/C9SjcPwAAAAAAAOA/rkfhehSu7z/D9Shcj8LVP83MzMzMzOQ/AAAAAAAA0D8pXI/C9SjcPx+F61G4HtU/cT0K16Nw5T+amZmZmZnZP+xRuB6F6+E/uB6F61G4zj9SuB6F61HoP4/C9Shcj+o/MzMzMzMz4z/sUbgehevpPylcj8L1KNw/KVyPwvUozD89CtejcD3iP8P1KFyPwsU/H4XrUbge1T/2KFyPwvXgPwAAAAAAAOA/pHA9Ctej6D/hehSuR+HKP83MzMzMzOw/rkfhehSu1z/NzMzMzMzsPwAAAAAAAAAAzczMzMzM5D+uR+F6FK7XPzMzMzMzM+s/9ihcj8L14D+F61G4HoXrPwrXo3A9Ctc/CtejcD0Kxz/hehSuR+HKP3sUrkfhetQ/KVyPwvUo3D/NzMzMzMzkP+xRuB6F69E/FK5H4XoU5j+4HoXrUbjmP1K4HoXrUcg/XI/C9Shc3z/hehSuR+HiP3sUrkfhesQ/MzMzMzMz4z8fhetRuB7VP4XrUbgehes/4XoUrkfh4j8fhetRuB7VPzMzMzMzM+s/CtejcD0K5z/Xo3A9CtfrP9ejcD0K1+s/16NwPQrX4z/D9Shcj8LlPwrXo3A9Cu8/pHA9Ctej6D8zMzMzMzPjP65H4XoUruc/pHA9CtejwD9xPQrXo3DdP3sUrkfheuQ/w/UoXI/C1T+kcD0K16PAPylcj8L1KOQ/uB6F61G45j/sUbgehevpP7gehetRuM4/ZmZmZmZm7j/hehSuR+HqP9ejcD0K1+s/exSuR+F61D9SuB6F61HgP5qZmZmZmdk/H4XrUbge1T8AAAAAAAAAAI/C9Shcj+o/UrgehetR4D97FK5H4XrkPz0K16NwPdo/w/UoXI/CxT8zMzMzMzPTP5qZmZmZmeE/uB6F61G45j8zMzMzMzPTP1yPwvUoXOc/SOF6FK5H0T+PwvUoXI/iP/YoXI/C9eA/rkfhehSu1z8pXI/C9SjsP4/C9Shcj+o/cT0K16NwzT89CtejcD3iPzMzMzMzM+M/j8L1KFyP4j8UrkfhehTeP83MzMzMzNw/CtejcD0K5z8AAAAAAADoP0jhehSuR+E/mpmZmZmZ6T8AAAAAAADoP7gehetRuL4/zczMzMzM5D+4HoXrUbjuP5qZmZmZmdk/XI/C9Shc3z/2KFyPwvXoP5qZmZmZmek/MzMzMzMz4z8fhetRuB7tPz0K16NwPdo/mpmZmZmZ2T9mZmZmZmbmP+F6FK5H4eI/MzMzMzMzwz/2KFyPwvXYP0jhehSuR+E/rkfhehSu7z8UrkfhehTmPx+F61G4HtU/ZmZmZmZm7j9mZmZmZmbmP1K4HoXrUdg/cT0K16Nw5T/NzMzMzMzsP5qZmZmZmck/7FG4HoXr4T97FK5H4XrUP0jhehSuR9E/MzMzMzMz4z9mZmZmZmbmP1K4HoXrUcg/cT0K16Nw5T8AAAAAAADoP83MzMzMzOw/KVyPwvUo7D9mZmZmZmbmP3E9CtejcN0/exSuR+F61D8fhetRuB7VPzMzMzMzM+s/SOF6FK5H4T97FK5H4XrsP65H4XoUru8/PQrXo3A94j+amZmZmZnZP/YoXI/C9eA/exSuR+F67D9mZmZmZmbmP5qZmZmZmck/mpmZmZmZ2T+amZmZmZnZP65H4XoUruc/pHA9CtejwD8pXI/C9SjMPxSuR+F6FO4/AAAAAAAA6D89CtejcD3qP7gehetRuN4/uB6F61G43j9SuB6F61HgPylcj8L1KOw/PQrXo3A96j+F61G4HoXbP+F6FK5H4eI/MzMzMzMz4z8AAAAAAADgP7gehetRuN4/exSuR+F67D+4HoXrUbjmP6RwPQrXo+g/pHA9Ctej4D+amZmZmZnJP9ejcD0K19M/KVyPwvUovD/2KFyPwvXgPx+F61G4Hu0/cT0K16Nw3T/NzMzMzMzsP2ZmZmZmZuY/pHA9Ctej4D+amZmZmZnZP5qZmZmZmek/pHA9Ctej6D+amZmZmZnhP4/C9Shcj+I/hetRuB6F4z+amZmZmZnpP/YoXI/C9dg/pHA9Ctej6D8K16NwPQrXP1K4HoXrUeg/uB6F61G45j9cj8L1KFzfP1yPwvUoXOc/16NwPQrX6z97FK5H4XrkPylcj8L1KOQ/7FG4HoXr4T9cj8L1KFzfP9ejcD0K19M/PQrXo3A94j8K16NwPQrvP6RwPQrXo+g/uB6F61G43j/2KFyPwvXoP7gehetRuL4/UrgehetRyD8AAAAAAADgP1K4HoXrUcg/zczMzMzM7D89CtejcD3qPzMzMzMzM9M/4XoUrkfh4j/2KFyPwvXYP+F6FK5H4co/4XoUrkfhyj/Xo3A9CtfjPzMzMzMzM9M/pHA9CtejwD8AAAAAAAAAABSuR+F6FO4/uB6F61G45j+kcD0K16PgPxSuR+F6FOY/KVyPwvUo3D8K16NwPQrHPwAAAAAAAAAAKVyPwvUo7D8AAAAAAADoP1yPwvUoXN8/MzMzMzMzwz8pXI/C9SjcP+xRuB6F6+k/SOF6FK5H4T+PwvUoXI/SP9ejcD0K1+s/AAAAAAAAAABmZmZmZmbuPxSuR+F6FN4/mpmZmZmZ6T/D9Shcj8LlP1yPwvUoXOc/cT0K16Nw7T/sUbgehevhP/YoXI/C9eA/rkfhehSu7z+4HoXrUbjuP3E9CtejcN0/exSuR+F61D/sUbgehevpP8P1KFyPwsU/UrgehetR6D9cj8L1KFzfP9ejcD0K1+M/4XoUrkfh6j+uR+F6FK7vPwrXo3A9Csc/XI/C9Shc7z+PwvUoXI/SP3E9CtejcM0/SOF6FK5H6T8AAAAAAADQPzMzMzMzM+s/cT0K16NwzT9SuB6F61HoPwAAAAAAAAAApHA9Ctej0D9xPQrXo3DdP+F6FK5H4co/PQrXo3A94j+amZmZmZnpP8P1KFyPwsU/mpmZmZmZ2T+amZmZmZm5P4XrUbgehds/7FG4HoXr0T97FK5H4XrsP1K4HoXrUeA/4XoUrkfhyj+amZmZmZnJP5qZmZmZmek/PQrXo3A94j8fhetRuB7VP65H4XoUrtc/hetRuB6F6z+amZmZmZnpP3E9CtejcO0/ZmZmZmZm5j8pXI/C9SjsP9ejcD0K1+M/exSuR+F6xD/hehSuR+HqPz0K16NwPdo/rkfhehSu5z+uR+F6FK7vP5qZmZmZmdk/4XoUrkfhyj+kcD0K16PQPwAAAAAAAAAApHA9Ctej6D9SuB6F61HgPx+F61G4HuU/SOF6FK5H0T9mZmZmZmbmP3E9CtejcN0/KVyPwvUo7D8zMzMzMzPjPzMzMzMzM+s/MzMzMzMz6z97FK5H4XrEPzMzMzMzM+M/FK5H4XoU3j97FK5H4XrEP5qZmZmZmek/9ihcj8L14D8fhetRuB7lPwrXo3A9Cu8/FK5H4XoU5j8zMzMzMzPDP5qZmZmZmek/KVyPwvUo3D8K16NwPQrnP7gehetRuM4/w/UoXI/C1T8zMzMzMzPDPwrXo3A9Cuc/ZmZmZmZm7j8UrkfhehTmP+F6FK5H4eo/7FG4HoXr0T8K16NwPQrvPylcj8L1KLw/zczMzMzM7D8K16NwPQrXP8P1KFyPwtU/j8L1KFyP6j+4HoXrUbjOP2ZmZmZmZuY/uB6F61G4zj/D9Shcj8LlPwAAAAAAAAAAuB6F61G45j+4HoXrUbjmP4/C9Shcj+o/H4XrUbge7T+uR+F6FK7vP/YoXI/C9eA/UrgehetR2D/NzMzMzMzsP5qZmZmZmdk/KVyPwvUo3D/NzMzMzMzcP83MzMzMzNw/pHA9CtejwD8UrkfhehTuP1yPwvUoXO8/FK5H4XoU5j9xPQrXo3DdP/YoXI/C9dg/uB6F61G4vj+4HoXrUbjuP7gehetRuL4/KVyPwvUozD8pXI/C9SjcP1yPwvUoXN8/cT0K16Nw7T/NzMzMzMzcP1K4HoXrUcg/FK5H4XoU5j+4HoXrUbjmPwAAAAAAAOA/AAAAAAAAAADsUbgehevhP1yPwvUoXO8/XI/C9Shc5z8pXI/C9SjMP+F6FK5H4do/exSuR+F6xD97FK5H4XrEP8P1KFyPwtU/CtejcD0K5z8fhetRuB7VP1yPwvUoXN8/FK5H4XoU5j89CtejcD3qP6RwPQrXo+g/7FG4HoXr6T8AAAAAAADQPz0K16NwPeI/uB6F61G4vj8K16NwPQrHP2ZmZmZmZuY/j8L1KFyP0j9I4XoUrkfRP7gehetRuL4/KVyPwvUo5D8fhetRuB7VP5qZmZmZmdk/ZmZmZmZm5j8=",
          "dtype": "f8"
         },
         "yaxis": "y2"
        },
        {
         "marker": {
          "color": "rgba(255, 182, 193, 0.7)"
         },
         "name": "B2C",
         "type": "box",
         "xaxis": "x2",
         "y": {
          "bdata": "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",
          "dtype": "f8"
         },
         "yaxis": "y2"
        }
       ],
       "layout": {
        "annotations": [
         {
          "font": {
           "size": 16
          },
          "showarrow": false,
          "text": "Distribución de tasas de conversión",
          "x": 0.225,
          "xanchor": "center",
          "xref": "paper",
          "y": 1,
          "yanchor": "bottom",
          "yref": "paper"
         },
         {
          "font": {
           "size": 16
          },
          "showarrow": false,
          "text": "Comparación de tasas de conversión",
          "x": 0.775,
          "xanchor": "center",
          "xref": "paper",
          "y": 1,
          "yanchor": "bottom",
          "yref": "paper"
         }
        ],
        "barmode": "overlay",
        "height": 500,
        "template": {
         "data": {
          "bar": [
           {
            "error_x": {
             "color": "rgb(36,36,36)"
            },
            "error_y": {
             "color": "rgb(36,36,36)"
            },
            "marker": {
             "line": {
              "color": "white",
              "width": 0.5
             },
             "pattern": {
              "fillmode": "overlay",
              "size": 10,
              "solidity": 0.2
             }
            },
            "type": "bar"
           }
          ],
          "barpolar": [
           {
            "marker": {
             "line": {
              "color": "white",
              "width": 0.5
             },
             "pattern": {
              "fillmode": "overlay",
              "size": 10,
              "solidity": 0.2
             }
            },
            "type": "barpolar"
           }
          ],
          "carpet": [
           {
            "aaxis": {
             "endlinecolor": "rgb(36,36,36)",
             "gridcolor": "white",
             "linecolor": "white",
             "minorgridcolor": "white",
             "startlinecolor": "rgb(36,36,36)"
            },
            "baxis": {
             "endlinecolor": "rgb(36,36,36)",
             "gridcolor": "white",
             "linecolor": "white",
             "minorgridcolor": "white",
             "startlinecolor": "rgb(36,36,36)"
            },
            "type": "carpet"
           }
          ],
          "choropleth": [
           {
            "colorbar": {
             "outlinewidth": 1,
             "tickcolor": "rgb(36,36,36)",
             "ticks": "outside"
            },
            "type": "choropleth"
           }
          ],
          "contour": [
           {
            "colorbar": {
             "outlinewidth": 1,
             "tickcolor": "rgb(36,36,36)",
             "ticks": "outside"
            },
            "colorscale": [
             [
              0,
              "#440154"
             ],
             [
              0.1111111111111111,
              "#482878"
             ],
             [
              0.2222222222222222,
              "#3e4989"
             ],
             [
              0.3333333333333333,
              "#31688e"
             ],
             [
              0.4444444444444444,
              "#26828e"
             ],
             [
              0.5555555555555556,
              "#1f9e89"
             ],
             [
              0.6666666666666666,
              "#35b779"
             ],
             [
              0.7777777777777778,
              "#6ece58"
             ],
             [
              0.8888888888888888,
              "#b5de2b"
             ],
             [
              1,
              "#fde725"
             ]
            ],
            "type": "contour"
           }
          ],
          "contourcarpet": [
           {
            "colorbar": {
             "outlinewidth": 1,
             "tickcolor": "rgb(36,36,36)",
             "ticks": "outside"
            },
            "type": "contourcarpet"
           }
          ],
          "heatmap": [
           {
            "colorbar": {
             "outlinewidth": 1,
             "tickcolor": "rgb(36,36,36)",
             "ticks": "outside"
            },
            "colorscale": [
             [
              0,
              "#440154"
             ],
             [
              0.1111111111111111,
              "#482878"
             ],
             [
              0.2222222222222222,
              "#3e4989"
             ],
             [
              0.3333333333333333,
              "#31688e"
             ],
             [
              0.4444444444444444,
              "#26828e"
             ],
             [
              0.5555555555555556,
              "#1f9e89"
             ],
             [
              0.6666666666666666,
              "#35b779"
             ],
             [
              0.7777777777777778,
              "#6ece58"
             ],
             [
              0.8888888888888888,
              "#b5de2b"
             ],
             [
              1,
              "#fde725"
             ]
            ],
            "type": "heatmap"
           }
          ],
          "histogram": [
           {
            "marker": {
             "line": {
              "color": "white",
              "width": 0.6
             }
            },
            "type": "histogram"
           }
          ],
          "histogram2d": [
           {
            "colorbar": {
             "outlinewidth": 1,
             "tickcolor": "rgb(36,36,36)",
             "ticks": "outside"
            },
            "colorscale": [
             [
              0,
              "#440154"
             ],
             [
              0.1111111111111111,
              "#482878"
             ],
             [
              0.2222222222222222,
              "#3e4989"
             ],
             [
              0.3333333333333333,
              "#31688e"
             ],
             [
              0.4444444444444444,
              "#26828e"
             ],
             [
              0.5555555555555556,
              "#1f9e89"
             ],
             [
              0.6666666666666666,
              "#35b779"
             ],
             [
              0.7777777777777778,
              "#6ece58"
             ],
             [
              0.8888888888888888,
              "#b5de2b"
             ],
             [
              1,
              "#fde725"
             ]
            ],
            "type": "histogram2d"
           }
          ],
          "histogram2dcontour": [
           {
            "colorbar": {
             "outlinewidth": 1,
             "tickcolor": "rgb(36,36,36)",
             "ticks": "outside"
            },
            "colorscale": [
             [
              0,
              "#440154"
             ],
             [
              0.1111111111111111,
              "#482878"
             ],
             [
              0.2222222222222222,
              "#3e4989"
             ],
             [
              0.3333333333333333,
              "#31688e"
             ],
             [
              0.4444444444444444,
              "#26828e"
             ],
             [
              0.5555555555555556,
              "#1f9e89"
             ],
             [
              0.6666666666666666,
              "#35b779"
             ],
             [
              0.7777777777777778,
              "#6ece58"
             ],
             [
              0.8888888888888888,
              "#b5de2b"
             ],
             [
              1,
              "#fde725"
             ]
            ],
            "type": "histogram2dcontour"
           }
          ],
          "mesh3d": [
           {
            "colorbar": {
             "outlinewidth": 1,
             "tickcolor": "rgb(36,36,36)",
             "ticks": "outside"
            },
            "type": "mesh3d"
           }
          ],
          "parcoords": [
           {
            "line": {
             "colorbar": {
              "outlinewidth": 1,
              "tickcolor": "rgb(36,36,36)",
              "ticks": "outside"
             }
            },
            "type": "parcoords"
           }
          ],
          "pie": [
           {
            "automargin": true,
            "type": "pie"
           }
          ],
          "scatter": [
           {
            "fillpattern": {
             "fillmode": "overlay",
             "size": 10,
             "solidity": 0.2
            },
            "type": "scatter"
           }
          ],
          "scatter3d": [
           {
            "line": {
             "colorbar": {
              "outlinewidth": 1,
              "tickcolor": "rgb(36,36,36)",
              "ticks": "outside"
             }
            },
            "marker": {
             "colorbar": {
              "outlinewidth": 1,
              "tickcolor": "rgb(36,36,36)",
              "ticks": "outside"
             }
            },
            "type": "scatter3d"
           }
          ],
          "scattercarpet": [
           {
            "marker": {
             "colorbar": {
              "outlinewidth": 1,
              "tickcolor": "rgb(36,36,36)",
              "ticks": "outside"
             }
            },
            "type": "scattercarpet"
           }
          ],
          "scattergeo": [
           {
            "marker": {
             "colorbar": {
              "outlinewidth": 1,
              "tickcolor": "rgb(36,36,36)",
              "ticks": "outside"
             }
            },
            "type": "scattergeo"
           }
          ],
          "scattergl": [
           {
            "marker": {
             "colorbar": {
              "outlinewidth": 1,
              "tickcolor": "rgb(36,36,36)",
              "ticks": "outside"
             }
            },
            "type": "scattergl"
           }
          ],
          "scattermap": [
           {
            "marker": {
             "colorbar": {
              "outlinewidth": 1,
              "tickcolor": "rgb(36,36,36)",
              "ticks": "outside"
             }
            },
            "type": "scattermap"
           }
          ],
          "scattermapbox": [
           {
            "marker": {
             "colorbar": {
              "outlinewidth": 1,
              "tickcolor": "rgb(36,36,36)",
              "ticks": "outside"
             }
            },
            "type": "scattermapbox"
           }
          ],
          "scatterpolar": [
           {
            "marker": {
             "colorbar": {
              "outlinewidth": 1,
              "tickcolor": "rgb(36,36,36)",
              "ticks": "outside"
             }
            },
            "type": "scatterpolar"
           }
          ],
          "scatterpolargl": [
           {
            "marker": {
             "colorbar": {
              "outlinewidth": 1,
              "tickcolor": "rgb(36,36,36)",
              "ticks": "outside"
             }
            },
            "type": "scatterpolargl"
           }
          ],
          "scatterternary": [
           {
            "marker": {
             "colorbar": {
              "outlinewidth": 1,
              "tickcolor": "rgb(36,36,36)",
              "ticks": "outside"
             }
            },
            "type": "scatterternary"
           }
          ],
          "surface": [
           {
            "colorbar": {
             "outlinewidth": 1,
             "tickcolor": "rgb(36,36,36)",
             "ticks": "outside"
            },
            "colorscale": [
             [
              0,
              "#440154"
             ],
             [
              0.1111111111111111,
              "#482878"
             ],
             [
              0.2222222222222222,
              "#3e4989"
             ],
             [
              0.3333333333333333,
              "#31688e"
             ],
             [
              0.4444444444444444,
              "#26828e"
             ],
             [
              0.5555555555555556,
              "#1f9e89"
             ],
             [
              0.6666666666666666,
              "#35b779"
             ],
             [
              0.7777777777777778,
              "#6ece58"
             ],
             [
              0.8888888888888888,
              "#b5de2b"
             ],
             [
              1,
              "#fde725"
             ]
            ],
            "type": "surface"
           }
          ],
          "table": [
           {
            "cells": {
             "fill": {
              "color": "rgb(237,237,237)"
             },
             "line": {
              "color": "white"
             }
            },
            "header": {
             "fill": {
              "color": "rgb(217,217,217)"
             },
             "line": {
              "color": "white"
             }
            },
            "type": "table"
           }
          ]
         },
         "layout": {
          "annotationdefaults": {
           "arrowhead": 0,
           "arrowwidth": 1
          },
          "autotypenumbers": "strict",
          "coloraxis": {
           "colorbar": {
            "outlinewidth": 1,
            "tickcolor": "rgb(36,36,36)",
            "ticks": "outside"
           }
          },
          "colorscale": {
           "diverging": [
            [
             0,
             "rgb(103,0,31)"
            ],
            [
             0.1,
             "rgb(178,24,43)"
            ],
            [
             0.2,
             "rgb(214,96,77)"
            ],
            [
             0.3,
             "rgb(244,165,130)"
            ],
            [
             0.4,
             "rgb(253,219,199)"
            ],
            [
             0.5,
             "rgb(247,247,247)"
            ],
            [
             0.6,
             "rgb(209,229,240)"
            ],
            [
             0.7,
             "rgb(146,197,222)"
            ],
            [
             0.8,
             "rgb(67,147,195)"
            ],
            [
             0.9,
             "rgb(33,102,172)"
            ],
            [
             1,
             "rgb(5,48,97)"
            ]
           ],
           "sequential": [
            [
             0,
             "#440154"
            ],
            [
             0.1111111111111111,
             "#482878"
            ],
            [
             0.2222222222222222,
             "#3e4989"
            ],
            [
             0.3333333333333333,
             "#31688e"
            ],
            [
             0.4444444444444444,
             "#26828e"
            ],
            [
             0.5555555555555556,
             "#1f9e89"
            ],
            [
             0.6666666666666666,
             "#35b779"
            ],
            [
             0.7777777777777778,
             "#6ece58"
            ],
            [
             0.8888888888888888,
             "#b5de2b"
            ],
            [
             1,
             "#fde725"
            ]
           ],
           "sequentialminus": [
            [
             0,
             "#440154"
            ],
            [
             0.1111111111111111,
             "#482878"
            ],
            [
             0.2222222222222222,
             "#3e4989"
            ],
            [
             0.3333333333333333,
             "#31688e"
            ],
            [
             0.4444444444444444,
             "#26828e"
            ],
            [
             0.5555555555555556,
             "#1f9e89"
            ],
            [
             0.6666666666666666,
             "#35b779"
            ],
            [
             0.7777777777777778,
             "#6ece58"
            ],
            [
             0.8888888888888888,
             "#b5de2b"
            ],
            [
             1,
             "#fde725"
            ]
           ]
          },
          "colorway": [
           "#1F77B4",
           "#FF7F0E",
           "#2CA02C",
           "#D62728",
           "#9467BD",
           "#8C564B",
           "#E377C2",
           "#7F7F7F",
           "#BCBD22",
           "#17BECF"
          ],
          "font": {
           "color": "rgb(36,36,36)"
          },
          "geo": {
           "bgcolor": "white",
           "lakecolor": "white",
           "landcolor": "white",
           "showlakes": true,
           "showland": true,
           "subunitcolor": "white"
          },
          "hoverlabel": {
           "align": "left"
          },
          "hovermode": "closest",
          "mapbox": {
           "style": "light"
          },
          "paper_bgcolor": "white",
          "plot_bgcolor": "white",
          "polar": {
           "angularaxis": {
            "gridcolor": "rgb(232,232,232)",
            "linecolor": "rgb(36,36,36)",
            "showgrid": false,
            "showline": true,
            "ticks": "outside"
           },
           "bgcolor": "white",
           "radialaxis": {
            "gridcolor": "rgb(232,232,232)",
            "linecolor": "rgb(36,36,36)",
            "showgrid": false,
            "showline": true,
            "ticks": "outside"
           }
          },
          "scene": {
           "xaxis": {
            "backgroundcolor": "white",
            "gridcolor": "rgb(232,232,232)",
            "gridwidth": 2,
            "linecolor": "rgb(36,36,36)",
            "showbackground": true,
            "showgrid": false,
            "showline": true,
            "ticks": "outside",
            "zeroline": false,
            "zerolinecolor": "rgb(36,36,36)"
           },
           "yaxis": {
            "backgroundcolor": "white",
            "gridcolor": "rgb(232,232,232)",
            "gridwidth": 2,
            "linecolor": "rgb(36,36,36)",
            "showbackground": true,
            "showgrid": false,
            "showline": true,
            "ticks": "outside",
            "zeroline": false,
            "zerolinecolor": "rgb(36,36,36)"
           },
           "zaxis": {
            "backgroundcolor": "white",
            "gridcolor": "rgb(232,232,232)",
            "gridwidth": 2,
            "linecolor": "rgb(36,36,36)",
            "showbackground": true,
            "showgrid": false,
            "showline": true,
            "ticks": "outside",
            "zeroline": false,
            "zerolinecolor": "rgb(36,36,36)"
           }
          },
          "shapedefaults": {
           "fillcolor": "black",
           "line": {
            "width": 0
           },
           "opacity": 0.3
          },
          "ternary": {
           "aaxis": {
            "gridcolor": "rgb(232,232,232)",
            "linecolor": "rgb(36,36,36)",
            "showgrid": false,
            "showline": true,
            "ticks": "outside"
           },
           "baxis": {
            "gridcolor": "rgb(232,232,232)",
            "linecolor": "rgb(36,36,36)",
            "showgrid": false,
            "showline": true,
            "ticks": "outside"
           },
           "bgcolor": "white",
           "caxis": {
            "gridcolor": "rgb(232,232,232)",
            "linecolor": "rgb(36,36,36)",
            "showgrid": false,
            "showline": true,
            "ticks": "outside"
           }
          },
          "title": {
           "x": 0.05
          },
          "xaxis": {
           "automargin": true,
           "gridcolor": "rgb(232,232,232)",
           "linecolor": "rgb(36,36,36)",
           "showgrid": false,
           "showline": true,
           "ticks": "outside",
           "title": {
            "standoff": 15
           },
           "zeroline": false,
           "zerolinecolor": "rgb(36,36,36)"
          },
          "yaxis": {
           "automargin": true,
           "gridcolor": "rgb(232,232,232)",
           "linecolor": "rgb(36,36,36)",
           "showgrid": false,
           "showline": true,
           "ticks": "outside",
           "title": {
            "standoff": 15
           },
           "zeroline": false,
           "zerolinecolor": "rgb(36,36,36)"
          }
         }
        },
        "title": {
         "text": "Análisis de Tasas de Conversión: B2B vs B2C"
        },
        "width": 1000,
        "xaxis": {
         "anchor": "y",
         "domain": [
          0,
          0.45
         ],
         "title": {
          "text": "Tasa de conversión"
         }
        },
        "xaxis2": {
         "anchor": "y2",
         "domain": [
          0.55,
          1
         ],
         "title": {
          "text": "Audiencia"
         }
        },
        "yaxis": {
         "anchor": "x",
         "domain": [
          0,
          1
         ],
         "title": {
          "text": "Frecuencia"
         }
        },
        "yaxis2": {
         "anchor": "x2",
         "domain": [
          0,
          1
         ],
         "title": {
          "text": "Tasa de conversión"
         }
        }
       }
      }
     },
     "metadata": {},
     "output_type": "display_data"
    },
    {
     "name": "stdout",
     "output_type": "stream",
     "text": [
      "Tasa promedio de conversión B2B: 55.13%\n",
      "Tasa promedio de conversión B2C: 53.60%\n",
      "Diferencia porcentual: 2.80%\n",
      "Resultado de la prueba t: t = 0.9036, p-valor = 0.3664\n",
      "Conclusión: No hay diferencias significativas entre las tasas de conversión de B2B y B2C (α=0.05)\n"
     ]
    }
   ],
   "source": [
    "# Group data by audience type\n",
    "b2b_data = df[df['target_audience'] == 'B2B']['conversion_rate']\n",
    "b2c_data = df[df['target_audience'] == 'B2C']['conversion_rate']\n",
    "\n",
    "# Create visualizations to compare conversion rates\n",
    "fig = make_subplots(rows=1, cols=2,\n",
    "                   subplot_titles=['Distribución de tasas de conversión', \n",
    "                                  'Comparación de tasas de conversión'])\n",
    "\n",
    "# Distribution plot (histograms)\n",
    "fig.add_trace(\n",
    "    go.Histogram(x=b2b_data, name='B2B', marker_color='rgba(173, 216, 230, 0.7)',\n",
    "                opacity=0.7, nbinsx=20),\n",
    "    row=1, col=1\n",
    ")\n",
    "fig.add_trace(\n",
    "    go.Histogram(x=b2c_data, name='B2C', marker_color='rgba(255, 182, 193, 0.7)',\n",
    "                opacity=0.7, nbinsx=20),\n",
    "    row=1, col=1\n",
    ")\n",
    "\n",
    "# Boxplot comparison\n",
    "fig.add_trace(\n",
    "    go.Box(y=b2b_data, name='B2B', marker_color='rgba(173, 216, 230, 0.7)'),\n",
    "    row=1, col=2\n",
    ")\n",
    "fig.add_trace(\n",
    "    go.Box(y=b2c_data, name='B2C', marker_color='rgba(255, 182, 193, 0.7)'),\n",
    "    row=1, col=2\n",
    ")\n",
    "\n",
    "# Update layout\n",
    "fig.update_layout(\n",
    "    height=500, \n",
    "    width=1000,\n",
    "    title_text='Análisis de Tasas de Conversión: B2B vs B2C',\n",
    "    template='simple_white',\n",
    "    barmode='overlay'\n",
    ")\n",
    "\n",
    "# Update axes\n",
    "fig.update_xaxes(title_text=\"Tasa de conversión\", row=1, col=1)\n",
    "fig.update_yaxes(title_text=\"Frecuencia\", row=1, col=1)\n",
    "fig.update_xaxes(title_text=\"Audiencia\", row=1, col=2)\n",
    "fig.update_yaxes(title_text=\"Tasa de conversión\", row=1, col=2)\n",
    "\n",
    "# Show plot\n",
    "fig.show()\n",
    "\n",
    "# Perform statistical test\n",
    "from scipy import stats as scipy_stats\n",
    "t_stat, p_value = scipy_stats.ttest_ind(b2b_data, b2c_data, equal_var=False)\n",
    "\n",
    "# Calculate mean conversion rates\n",
    "mean_b2b = b2b_data.mean()\n",
    "mean_b2c = b2c_data.mean()\n",
    "diff_percent = abs(mean_b2b - mean_b2c) / ((mean_b2b + mean_b2c) / 2) * 100\n",
    "\n",
    "# Display results\n",
    "print(f\"Tasa promedio de conversión B2B: {mean_b2b:.2%}\")\n",
    "print(f\"Tasa promedio de conversión B2C: {mean_b2c:.2%}\")\n",
    "print(f\"Diferencia porcentual: {diff_percent:.2f}%\")\n",
    "print(f\"Resultado de la prueba t: t = {t_stat:.4f}, p-valor = {p_value:.4f}\")\n",
    "print(f\"Conclusión: {'Hay diferencias significativas' if p_value < 0.05 else 'No hay diferencias significativas'} entre las tasas de conversión de B2B y B2C (α=0.05)\")"
   ]
  },
  {
   "cell_type": "code",
   "execution_count": 9,
   "id": "9bb9e703",
   "metadata": {},
   "outputs": [
    {
     "data": {
      "application/vnd.plotly.v1+json": {
       "config": {
        "plotlyServerURL": "https://plot.ly"
       },
       "data": [
        {
         "cells": {
          "align": "left",
          "fill": {
           "color": [
            [
             "rgba(255, 255, 255, 0.8)",
             "rgba(255, 255, 255, 0.8)",
             "rgba(255, 255, 255, 0.8)",
             "rgba(255, 255, 255, 0.8)",
             "rgba(255, 255, 255, 0.8)",
             "rgba(255, 255, 255, 0.8)",
             "rgba(255, 255, 255, 0.8)",
             "rgba(255, 255, 255, 0.8)",
             "rgba(255, 255, 255, 0.8)",
             "rgba(255, 255, 255, 0.8)"
            ]
           ]
          },
          "values": [
           [
            1,
            2,
            3,
            4,
            5,
            6,
            7,
            8,
            9,
            10
           ],
           [
            "Advanced systematic complexity",
            "Balanced optimizing software",
            "Object-based didactic intranet",
            "Reverse-engineered static infrastructure",
            "Sharable upward-trending initiative",
            "Realigned radical hardware",
            "Up-sized dedicated workforce",
            "Function-based homogeneous productivity",
            "Right-sized transitional standardization",
            "Implemented logistical architecture"
           ],
           [
            "$987,859.73",
            "$987,359.82",
            "$979,827.40",
            "$974,958.97",
            "$973,355.11",
            "$965,199.63",
            "$964,497.81",
            "$963,838.00",
            "$960,202.70",
            "$958,135.52"
           ],
           [
            "52727%",
            "9588%",
            "15237%",
            "7961%",
            "4646%",
            "2797%",
            "3703%",
            "8230%",
            "9670%",
            "6227%"
           ],
           [
            "organic",
            "paid",
            "paid",
            "referral",
            "organic",
            "referral",
            "organic",
            "organic",
            "promotion",
            "organic"
           ],
           [
            "podcast",
            "podcast",
            "social media",
            "email",
            "social media",
            "webinar",
            "email",
            "social media",
            "email",
            "webinar"
           ],
           [
            "B2C",
            "B2B",
            "B2B",
            "B2B",
            "B2C",
            "B2B",
            "B2C",
            "B2B",
            "B2C",
            "B2B"
           ],
           [
            "54.00%",
            "71.00%",
            "46.00%",
            "44.00%",
            "24.00%",
            "87.00%",
            "25.00%",
            "26.00%",
            "65.00%",
            "98.00%"
           ]
          ]
         },
         "header": {
          "align": "left",
          "fill": {
           "color": "rgba(173, 216, 230, 0.7)"
          },
          "values": [
           "Ranking",
           "Campaña",
           "Beneficio Neto",
           "ROI",
           "Canal",
           "Tipo",
           "Audiencia",
           "Tasa Conv."
          ]
         },
         "type": "table"
        }
       ],
       "layout": {
        "height": 400,
        "template": {
         "data": {
          "bar": [
           {
            "error_x": {
             "color": "#2a3f5f"
            },
            "error_y": {
             "color": "#2a3f5f"
            },
            "marker": {
             "line": {
              "color": "#E5ECF6",
              "width": 0.5
             },
             "pattern": {
              "fillmode": "overlay",
              "size": 10,
              "solidity": 0.2
             }
            },
            "type": "bar"
           }
          ],
          "barpolar": [
           {
            "marker": {
             "line": {
              "color": "#E5ECF6",
              "width": 0.5
             },
             "pattern": {
              "fillmode": "overlay",
              "size": 10,
              "solidity": 0.2
             }
            },
            "type": "barpolar"
           }
          ],
          "carpet": [
           {
            "aaxis": {
             "endlinecolor": "#2a3f5f",
             "gridcolor": "white",
             "linecolor": "white",
             "minorgridcolor": "white",
             "startlinecolor": "#2a3f5f"
            },
            "baxis": {
             "endlinecolor": "#2a3f5f",
             "gridcolor": "white",
             "linecolor": "white",
             "minorgridcolor": "white",
             "startlinecolor": "#2a3f5f"
            },
            "type": "carpet"
           }
          ],
          "choropleth": [
           {
            "colorbar": {
             "outlinewidth": 0,
             "ticks": ""
            },
            "type": "choropleth"
           }
          ],
          "contour": [
           {
            "colorbar": {
             "outlinewidth": 0,
             "ticks": ""
            },
            "colorscale": [
             [
              0,
              "#0d0887"
             ],
             [
              0.1111111111111111,
              "#46039f"
             ],
             [
              0.2222222222222222,
              "#7201a8"
             ],
             [
              0.3333333333333333,
              "#9c179e"
             ],
             [
              0.4444444444444444,
              "#bd3786"
             ],
             [
              0.5555555555555556,
              "#d8576b"
             ],
             [
              0.6666666666666666,
              "#ed7953"
             ],
             [
              0.7777777777777778,
              "#fb9f3a"
             ],
             [
              0.8888888888888888,
              "#fdca26"
             ],
             [
              1,
              "#f0f921"
             ]
            ],
            "type": "contour"
           }
          ],
          "contourcarpet": [
           {
            "colorbar": {
             "outlinewidth": 0,
             "ticks": ""
            },
            "type": "contourcarpet"
           }
          ],
          "heatmap": [
           {
            "colorbar": {
             "outlinewidth": 0,
             "ticks": ""
            },
            "colorscale": [
             [
              0,
              "#0d0887"
             ],
             [
              0.1111111111111111,
              "#46039f"
             ],
             [
              0.2222222222222222,
              "#7201a8"
             ],
             [
              0.3333333333333333,
              "#9c179e"
             ],
             [
              0.4444444444444444,
              "#bd3786"
             ],
             [
              0.5555555555555556,
              "#d8576b"
             ],
             [
              0.6666666666666666,
              "#ed7953"
             ],
             [
              0.7777777777777778,
              "#fb9f3a"
             ],
             [
              0.8888888888888888,
              "#fdca26"
             ],
             [
              1,
              "#f0f921"
             ]
            ],
            "type": "heatmap"
           }
          ],
          "histogram": [
           {
            "marker": {
             "pattern": {
              "fillmode": "overlay",
              "size": 10,
              "solidity": 0.2
             }
            },
            "type": "histogram"
           }
          ],
          "histogram2d": [
           {
            "colorbar": {
             "outlinewidth": 0,
             "ticks": ""
            },
            "colorscale": [
             [
              0,
              "#0d0887"
             ],
             [
              0.1111111111111111,
              "#46039f"
             ],
             [
              0.2222222222222222,
              "#7201a8"
             ],
             [
              0.3333333333333333,
              "#9c179e"
             ],
             [
              0.4444444444444444,
              "#bd3786"
             ],
             [
              0.5555555555555556,
              "#d8576b"
             ],
             [
              0.6666666666666666,
              "#ed7953"
             ],
             [
              0.7777777777777778,
              "#fb9f3a"
             ],
             [
              0.8888888888888888,
              "#fdca26"
             ],
             [
              1,
              "#f0f921"
             ]
            ],
            "type": "histogram2d"
           }
          ],
          "histogram2dcontour": [
           {
            "colorbar": {
             "outlinewidth": 0,
             "ticks": ""
            },
            "colorscale": [
             [
              0,
              "#0d0887"
             ],
             [
              0.1111111111111111,
              "#46039f"
             ],
             [
              0.2222222222222222,
              "#7201a8"
             ],
             [
              0.3333333333333333,
              "#9c179e"
             ],
             [
              0.4444444444444444,
              "#bd3786"
             ],
             [
              0.5555555555555556,
              "#d8576b"
             ],
             [
              0.6666666666666666,
              "#ed7953"
             ],
             [
              0.7777777777777778,
              "#fb9f3a"
             ],
             [
              0.8888888888888888,
              "#fdca26"
             ],
             [
              1,
              "#f0f921"
             ]
            ],
            "type": "histogram2dcontour"
           }
          ],
          "mesh3d": [
           {
            "colorbar": {
             "outlinewidth": 0,
             "ticks": ""
            },
            "type": "mesh3d"
           }
          ],
          "parcoords": [
           {
            "line": {
             "colorbar": {
              "outlinewidth": 0,
              "ticks": ""
             }
            },
            "type": "parcoords"
           }
          ],
          "pie": [
           {
            "automargin": true,
            "type": "pie"
           }
          ],
          "scatter": [
           {
            "fillpattern": {
             "fillmode": "overlay",
             "size": 10,
             "solidity": 0.2
            },
            "type": "scatter"
           }
          ],
          "scatter3d": [
           {
            "line": {
             "colorbar": {
              "outlinewidth": 0,
              "ticks": ""
             }
            },
            "marker": {
             "colorbar": {
              "outlinewidth": 0,
              "ticks": ""
             }
            },
            "type": "scatter3d"
           }
          ],
          "scattercarpet": [
           {
            "marker": {
             "colorbar": {
              "outlinewidth": 0,
              "ticks": ""
             }
            },
            "type": "scattercarpet"
           }
          ],
          "scattergeo": [
           {
            "marker": {
             "colorbar": {
              "outlinewidth": 0,
              "ticks": ""
             }
            },
            "type": "scattergeo"
           }
          ],
          "scattergl": [
           {
            "marker": {
             "colorbar": {
              "outlinewidth": 0,
              "ticks": ""
             }
            },
            "type": "scattergl"
           }
          ],
          "scattermap": [
           {
            "marker": {
             "colorbar": {
              "outlinewidth": 0,
              "ticks": ""
             }
            },
            "type": "scattermap"
           }
          ],
          "scattermapbox": [
           {
            "marker": {
             "colorbar": {
              "outlinewidth": 0,
              "ticks": ""
             }
            },
            "type": "scattermapbox"
           }
          ],
          "scatterpolar": [
           {
            "marker": {
             "colorbar": {
              "outlinewidth": 0,
              "ticks": ""
             }
            },
            "type": "scatterpolar"
           }
          ],
          "scatterpolargl": [
           {
            "marker": {
             "colorbar": {
              "outlinewidth": 0,
              "ticks": ""
             }
            },
            "type": "scatterpolargl"
           }
          ],
          "scatterternary": [
           {
            "marker": {
             "colorbar": {
              "outlinewidth": 0,
              "ticks": ""
             }
            },
            "type": "scatterternary"
           }
          ],
          "surface": [
           {
            "colorbar": {
             "outlinewidth": 0,
             "ticks": ""
            },
            "colorscale": [
             [
              0,
              "#0d0887"
             ],
             [
              0.1111111111111111,
              "#46039f"
             ],
             [
              0.2222222222222222,
              "#7201a8"
             ],
             [
              0.3333333333333333,
              "#9c179e"
             ],
             [
              0.4444444444444444,
              "#bd3786"
             ],
             [
              0.5555555555555556,
              "#d8576b"
             ],
             [
              0.6666666666666666,
              "#ed7953"
             ],
             [
              0.7777777777777778,
              "#fb9f3a"
             ],
             [
              0.8888888888888888,
              "#fdca26"
             ],
             [
              1,
              "#f0f921"
             ]
            ],
            "type": "surface"
           }
          ],
          "table": [
           {
            "cells": {
             "fill": {
              "color": "#EBF0F8"
             },
             "line": {
              "color": "white"
             }
            },
            "header": {
             "fill": {
              "color": "#C8D4E3"
             },
             "line": {
              "color": "white"
             }
            },
            "type": "table"
           }
          ]
         },
         "layout": {
          "annotationdefaults": {
           "arrowcolor": "#2a3f5f",
           "arrowhead": 0,
           "arrowwidth": 1
          },
          "autotypenumbers": "strict",
          "coloraxis": {
           "colorbar": {
            "outlinewidth": 0,
            "ticks": ""
           }
          },
          "colorscale": {
           "diverging": [
            [
             0,
             "#8e0152"
            ],
            [
             0.1,
             "#c51b7d"
            ],
            [
             0.2,
             "#de77ae"
            ],
            [
             0.3,
             "#f1b6da"
            ],
            [
             0.4,
             "#fde0ef"
            ],
            [
             0.5,
             "#f7f7f7"
            ],
            [
             0.6,
             "#e6f5d0"
            ],
            [
             0.7,
             "#b8e186"
            ],
            [
             0.8,
             "#7fbc41"
            ],
            [
             0.9,
             "#4d9221"
            ],
            [
             1,
             "#276419"
            ]
           ],
           "sequential": [
            [
             0,
             "#0d0887"
            ],
            [
             0.1111111111111111,
             "#46039f"
            ],
            [
             0.2222222222222222,
             "#7201a8"
            ],
            [
             0.3333333333333333,
             "#9c179e"
            ],
            [
             0.4444444444444444,
             "#bd3786"
            ],
            [
             0.5555555555555556,
             "#d8576b"
            ],
            [
             0.6666666666666666,
             "#ed7953"
            ],
            [
             0.7777777777777778,
             "#fb9f3a"
            ],
            [
             0.8888888888888888,
             "#fdca26"
            ],
            [
             1,
             "#f0f921"
            ]
           ],
           "sequentialminus": [
            [
             0,
             "#0d0887"
            ],
            [
             0.1111111111111111,
             "#46039f"
            ],
            [
             0.2222222222222222,
             "#7201a8"
            ],
            [
             0.3333333333333333,
             "#9c179e"
            ],
            [
             0.4444444444444444,
             "#bd3786"
            ],
            [
             0.5555555555555556,
             "#d8576b"
            ],
            [
             0.6666666666666666,
             "#ed7953"
            ],
            [
             0.7777777777777778,
             "#fb9f3a"
            ],
            [
             0.8888888888888888,
             "#fdca26"
            ],
            [
             1,
             "#f0f921"
            ]
           ]
          },
          "colorway": [
           "#636efa",
           "#EF553B",
           "#00cc96",
           "#ab63fa",
           "#FFA15A",
           "#19d3f3",
           "#FF6692",
           "#B6E880",
           "#FF97FF",
           "#FECB52"
          ],
          "font": {
           "color": "#2a3f5f"
          },
          "geo": {
           "bgcolor": "white",
           "lakecolor": "white",
           "landcolor": "#E5ECF6",
           "showlakes": true,
           "showland": true,
           "subunitcolor": "white"
          },
          "hoverlabel": {
           "align": "left"
          },
          "hovermode": "closest",
          "mapbox": {
           "style": "light"
          },
          "paper_bgcolor": "white",
          "plot_bgcolor": "#E5ECF6",
          "polar": {
           "angularaxis": {
            "gridcolor": "white",
            "linecolor": "white",
            "ticks": ""
           },
           "bgcolor": "#E5ECF6",
           "radialaxis": {
            "gridcolor": "white",
            "linecolor": "white",
            "ticks": ""
           }
          },
          "scene": {
           "xaxis": {
            "backgroundcolor": "#E5ECF6",
            "gridcolor": "white",
            "gridwidth": 2,
            "linecolor": "white",
            "showbackground": true,
            "ticks": "",
            "zerolinecolor": "white"
           },
           "yaxis": {
            "backgroundcolor": "#E5ECF6",
            "gridcolor": "white",
            "gridwidth": 2,
            "linecolor": "white",
            "showbackground": true,
            "ticks": "",
            "zerolinecolor": "white"
           },
           "zaxis": {
            "backgroundcolor": "#E5ECF6",
            "gridcolor": "white",
            "gridwidth": 2,
            "linecolor": "white",
            "showbackground": true,
            "ticks": "",
            "zerolinecolor": "white"
           }
          },
          "shapedefaults": {
           "line": {
            "color": "#2a3f5f"
           }
          },
          "ternary": {
           "aaxis": {
            "gridcolor": "white",
            "linecolor": "white",
            "ticks": ""
           },
           "baxis": {
            "gridcolor": "white",
            "linecolor": "white",
            "ticks": ""
           },
           "bgcolor": "#E5ECF6",
           "caxis": {
            "gridcolor": "white",
            "linecolor": "white",
            "ticks": ""
           }
          },
          "title": {
           "x": 0.05
          },
          "xaxis": {
           "automargin": true,
           "gridcolor": "white",
           "linecolor": "white",
           "ticks": "",
           "title": {
            "standoff": 15
           },
           "zerolinecolor": "white",
           "zerolinewidth": 2
          },
          "yaxis": {
           "automargin": true,
           "gridcolor": "white",
           "linecolor": "white",
           "ticks": "",
           "title": {
            "standoff": 15
           },
           "zerolinecolor": "white",
           "zerolinewidth": 2
          }
         }
        },
        "title": {
         "text": "Top 10 Campañas por Beneficio Neto"
        },
        "width": 1000
       }
      }
     },
     "metadata": {},
     "output_type": "display_data"
    },
    {
     "data": {
      "application/vnd.plotly.v1+json": {
       "config": {
        "plotlyServerURL": "https://plot.ly"
       },
       "data": [
        {
         "domain": {
          "x": [
           0,
           0.45
          ],
          "y": [
           0.625,
           1
          ]
         },
         "hovertemplate": "Canal: %{label}<br>Cantidad: %{value}<br>Porcentaje: %{percent}<extra></extra>",
         "labels": [
          "organic",
          "paid",
          "referral",
          "promotion"
         ],
         "marker": {
          "colors": [
           "rgba(255, 182, 193, 0.7)",
           "rgba(173, 216, 230, 0.7)",
           "rgba(144, 238, 144, 0.7)",
           "rgba(255, 218, 185, 0.7)"
          ]
         },
         "textinfo": "percent+label",
         "type": "pie",
         "values": {
          "bdata": "BQICAQ==",
          "dtype": "i1"
         }
        },
        {
         "domain": {
          "x": [
           0.55,
           1
          ],
          "y": [
           0.625,
           1
          ]
         },
         "hovertemplate": "Tipo: %{label}<br>Cantidad: %{value}<br>Porcentaje: %{percent}<extra></extra>",
         "labels": [
          "social media",
          "email",
          "podcast",
          "webinar"
         ],
         "marker": {
          "colors": [
           "rgba(255, 182, 193, 0.7)",
           "rgba(173, 216, 230, 0.7)",
           "rgba(144, 238, 144, 0.7)",
           "rgba(255, 218, 185, 0.7)"
          ]
         },
         "textinfo": "percent+label",
         "type": "pie",
         "values": {
          "bdata": "AwMCAg==",
          "dtype": "i1"
         }
        },
        {
         "domain": {
          "x": [
           0,
           0.45
          ],
          "y": [
           0,
           0.375
          ]
         },
         "hovertemplate": "Audiencia: %{label}<br>Cantidad: %{value}<br>Porcentaje: %{percent}<extra></extra>",
         "labels": [
          "B2B",
          "B2C"
         ],
         "marker": {
          "colors": [
           "rgba(255, 182, 193, 0.7)",
           "rgba(173, 216, 230, 0.7)"
          ]
         },
         "textinfo": "percent+label",
         "type": "pie",
         "values": {
          "bdata": "BgQ=",
          "dtype": "i1"
         }
        },
        {
         "hovertemplate": "Ranking: %{text}<br>Tasa Conv.: %{x:.2%}<br>Beneficio Neto: $%{y:,.2f}<extra></extra>",
         "marker": {
          "color": [
           0,
           1,
           2,
           3,
           4,
           5,
           6,
           7,
           8,
           9
          ],
          "colorscale": [
           [
            0,
            "#440154"
           ],
           [
            0.1111111111111111,
            "#482878"
           ],
           [
            0.2222222222222222,
            "#3e4989"
           ],
           [
            0.3333333333333333,
            "#31688e"
           ],
           [
            0.4444444444444444,
            "#26828e"
           ],
           [
            0.5555555555555556,
            "#1f9e89"
           ],
           [
            0.6666666666666666,
            "#35b779"
           ],
           [
            0.7777777777777778,
            "#6ece58"
           ],
           [
            0.8888888888888888,
            "#b5de2b"
           ],
           [
            1,
            "#fde725"
           ]
          ],
          "showscale": false,
          "size": 12
         },
         "mode": "markers+text",
         "text": [
          "1",
          "2",
          "3",
          "4",
          "5",
          "6",
          "7",
          "8",
          "9",
          "10"
         ],
         "textposition": "top center",
         "type": "scatter",
         "x": {
          "bdata": "SOF6FK5H4T+4HoXrUbjmP3E9CtejcN0/KVyPwvUo3D+4HoXrUbjOP9ejcD0K1+s/AAAAAAAA0D+kcD0K16PQP83MzMzMzOQ/XI/C9Shc7z8=",
          "dtype": "f8"
         },
         "xaxis": "x",
         "y": {
          "bdata": "XI/CdaclLkE+CtejvyEuQc3MzMzm5i1BC9ej8N3ALUGF61E4VrQtQSlcj0KfdC1B7FG4niNvLUEAAAAA/GktQWZmZmaVTS1BpHA9Cm89LUE=",
          "dtype": "f8"
         },
         "yaxis": "y"
        }
       ],
       "layout": {
        "annotations": [
         {
          "font": {
           "size": 16
          },
          "showarrow": false,
          "text": "Canales en Top 10 Campañas",
          "x": 0.225,
          "xanchor": "center",
          "xref": "paper",
          "y": 1,
          "yanchor": "bottom",
          "yref": "paper"
         },
         {
          "font": {
           "size": 16
          },
          "showarrow": false,
          "text": "Tipos de Campaña en Top 10",
          "x": 0.775,
          "xanchor": "center",
          "xref": "paper",
          "y": 1,
          "yanchor": "bottom",
          "yref": "paper"
         },
         {
          "font": {
           "size": 16
          },
          "showarrow": false,
          "text": "Audiencia Objetivo en Top 10",
          "x": 0.225,
          "xanchor": "center",
          "xref": "paper",
          "y": 0.375,
          "yanchor": "bottom",
          "yref": "paper"
         },
         {
          "font": {
           "size": 16
          },
          "showarrow": false,
          "text": "Tasa de Conversión vs. Beneficio Neto",
          "x": 0.775,
          "xanchor": "center",
          "xref": "paper",
          "y": 0.375,
          "yanchor": "bottom",
          "yref": "paper"
         }
        ],
        "height": 800,
        "template": {
         "data": {
          "bar": [
           {
            "error_x": {
             "color": "rgb(36,36,36)"
            },
            "error_y": {
             "color": "rgb(36,36,36)"
            },
            "marker": {
             "line": {
              "color": "white",
              "width": 0.5
             },
             "pattern": {
              "fillmode": "overlay",
              "size": 10,
              "solidity": 0.2
             }
            },
            "type": "bar"
           }
          ],
          "barpolar": [
           {
            "marker": {
             "line": {
              "color": "white",
              "width": 0.5
             },
             "pattern": {
              "fillmode": "overlay",
              "size": 10,
              "solidity": 0.2
             }
            },
            "type": "barpolar"
           }
          ],
          "carpet": [
           {
            "aaxis": {
             "endlinecolor": "rgb(36,36,36)",
             "gridcolor": "white",
             "linecolor": "white",
             "minorgridcolor": "white",
             "startlinecolor": "rgb(36,36,36)"
            },
            "baxis": {
             "endlinecolor": "rgb(36,36,36)",
             "gridcolor": "white",
             "linecolor": "white",
             "minorgridcolor": "white",
             "startlinecolor": "rgb(36,36,36)"
            },
            "type": "carpet"
           }
          ],
          "choropleth": [
           {
            "colorbar": {
             "outlinewidth": 1,
             "tickcolor": "rgb(36,36,36)",
             "ticks": "outside"
            },
            "type": "choropleth"
           }
          ],
          "contour": [
           {
            "colorbar": {
             "outlinewidth": 1,
             "tickcolor": "rgb(36,36,36)",
             "ticks": "outside"
            },
            "colorscale": [
             [
              0,
              "#440154"
             ],
             [
              0.1111111111111111,
              "#482878"
             ],
             [
              0.2222222222222222,
              "#3e4989"
             ],
             [
              0.3333333333333333,
              "#31688e"
             ],
             [
              0.4444444444444444,
              "#26828e"
             ],
             [
              0.5555555555555556,
              "#1f9e89"
             ],
             [
              0.6666666666666666,
              "#35b779"
             ],
             [
              0.7777777777777778,
              "#6ece58"
             ],
             [
              0.8888888888888888,
              "#b5de2b"
             ],
             [
              1,
              "#fde725"
             ]
            ],
            "type": "contour"
           }
          ],
          "contourcarpet": [
           {
            "colorbar": {
             "outlinewidth": 1,
             "tickcolor": "rgb(36,36,36)",
             "ticks": "outside"
            },
            "type": "contourcarpet"
           }
          ],
          "heatmap": [
           {
            "colorbar": {
             "outlinewidth": 1,
             "tickcolor": "rgb(36,36,36)",
             "ticks": "outside"
            },
            "colorscale": [
             [
              0,
              "#440154"
             ],
             [
              0.1111111111111111,
              "#482878"
             ],
             [
              0.2222222222222222,
              "#3e4989"
             ],
             [
              0.3333333333333333,
              "#31688e"
             ],
             [
              0.4444444444444444,
              "#26828e"
             ],
             [
              0.5555555555555556,
              "#1f9e89"
             ],
             [
              0.6666666666666666,
              "#35b779"
             ],
             [
              0.7777777777777778,
              "#6ece58"
             ],
             [
              0.8888888888888888,
              "#b5de2b"
             ],
             [
              1,
              "#fde725"
             ]
            ],
            "type": "heatmap"
           }
          ],
          "histogram": [
           {
            "marker": {
             "line": {
              "color": "white",
              "width": 0.6
             }
            },
            "type": "histogram"
           }
          ],
          "histogram2d": [
           {
            "colorbar": {
             "outlinewidth": 1,
             "tickcolor": "rgb(36,36,36)",
             "ticks": "outside"
            },
            "colorscale": [
             [
              0,
              "#440154"
             ],
             [
              0.1111111111111111,
              "#482878"
             ],
             [
              0.2222222222222222,
              "#3e4989"
             ],
             [
              0.3333333333333333,
              "#31688e"
             ],
             [
              0.4444444444444444,
              "#26828e"
             ],
             [
              0.5555555555555556,
              "#1f9e89"
             ],
             [
              0.6666666666666666,
              "#35b779"
             ],
             [
              0.7777777777777778,
              "#6ece58"
             ],
             [
              0.8888888888888888,
              "#b5de2b"
             ],
             [
              1,
              "#fde725"
             ]
            ],
            "type": "histogram2d"
           }
          ],
          "histogram2dcontour": [
           {
            "colorbar": {
             "outlinewidth": 1,
             "tickcolor": "rgb(36,36,36)",
             "ticks": "outside"
            },
            "colorscale": [
             [
              0,
              "#440154"
             ],
             [
              0.1111111111111111,
              "#482878"
             ],
             [
              0.2222222222222222,
              "#3e4989"
             ],
             [
              0.3333333333333333,
              "#31688e"
             ],
             [
              0.4444444444444444,
              "#26828e"
             ],
             [
              0.5555555555555556,
              "#1f9e89"
             ],
             [
              0.6666666666666666,
              "#35b779"
             ],
             [
              0.7777777777777778,
              "#6ece58"
             ],
             [
              0.8888888888888888,
              "#b5de2b"
             ],
             [
              1,
              "#fde725"
             ]
            ],
            "type": "histogram2dcontour"
           }
          ],
          "mesh3d": [
           {
            "colorbar": {
             "outlinewidth": 1,
             "tickcolor": "rgb(36,36,36)",
             "ticks": "outside"
            },
            "type": "mesh3d"
           }
          ],
          "parcoords": [
           {
            "line": {
             "colorbar": {
              "outlinewidth": 1,
              "tickcolor": "rgb(36,36,36)",
              "ticks": "outside"
             }
            },
            "type": "parcoords"
           }
          ],
          "pie": [
           {
            "automargin": true,
            "type": "pie"
           }
          ],
          "scatter": [
           {
            "fillpattern": {
             "fillmode": "overlay",
             "size": 10,
             "solidity": 0.2
            },
            "type": "scatter"
           }
          ],
          "scatter3d": [
           {
            "line": {
             "colorbar": {
              "outlinewidth": 1,
              "tickcolor": "rgb(36,36,36)",
              "ticks": "outside"
             }
            },
            "marker": {
             "colorbar": {
              "outlinewidth": 1,
              "tickcolor": "rgb(36,36,36)",
              "ticks": "outside"
             }
            },
            "type": "scatter3d"
           }
          ],
          "scattercarpet": [
           {
            "marker": {
             "colorbar": {
              "outlinewidth": 1,
              "tickcolor": "rgb(36,36,36)",
              "ticks": "outside"
             }
            },
            "type": "scattercarpet"
           }
          ],
          "scattergeo": [
           {
            "marker": {
             "colorbar": {
              "outlinewidth": 1,
              "tickcolor": "rgb(36,36,36)",
              "ticks": "outside"
             }
            },
            "type": "scattergeo"
           }
          ],
          "scattergl": [
           {
            "marker": {
             "colorbar": {
              "outlinewidth": 1,
              "tickcolor": "rgb(36,36,36)",
              "ticks": "outside"
             }
            },
            "type": "scattergl"
           }
          ],
          "scattermap": [
           {
            "marker": {
             "colorbar": {
              "outlinewidth": 1,
              "tickcolor": "rgb(36,36,36)",
              "ticks": "outside"
             }
            },
            "type": "scattermap"
           }
          ],
          "scattermapbox": [
           {
            "marker": {
             "colorbar": {
              "outlinewidth": 1,
              "tickcolor": "rgb(36,36,36)",
              "ticks": "outside"
             }
            },
            "type": "scattermapbox"
           }
          ],
          "scatterpolar": [
           {
            "marker": {
             "colorbar": {
              "outlinewidth": 1,
              "tickcolor": "rgb(36,36,36)",
              "ticks": "outside"
             }
            },
            "type": "scatterpolar"
           }
          ],
          "scatterpolargl": [
           {
            "marker": {
             "colorbar": {
              "outlinewidth": 1,
              "tickcolor": "rgb(36,36,36)",
              "ticks": "outside"
             }
            },
            "type": "scatterpolargl"
           }
          ],
          "scatterternary": [
           {
            "marker": {
             "colorbar": {
              "outlinewidth": 1,
              "tickcolor": "rgb(36,36,36)",
              "ticks": "outside"
             }
            },
            "type": "scatterternary"
           }
          ],
          "surface": [
           {
            "colorbar": {
             "outlinewidth": 1,
             "tickcolor": "rgb(36,36,36)",
             "ticks": "outside"
            },
            "colorscale": [
             [
              0,
              "#440154"
             ],
             [
              0.1111111111111111,
              "#482878"
             ],
             [
              0.2222222222222222,
              "#3e4989"
             ],
             [
              0.3333333333333333,
              "#31688e"
             ],
             [
              0.4444444444444444,
              "#26828e"
             ],
             [
              0.5555555555555556,
              "#1f9e89"
             ],
             [
              0.6666666666666666,
              "#35b779"
             ],
             [
              0.7777777777777778,
              "#6ece58"
             ],
             [
              0.8888888888888888,
              "#b5de2b"
             ],
             [
              1,
              "#fde725"
             ]
            ],
            "type": "surface"
           }
          ],
          "table": [
           {
            "cells": {
             "fill": {
              "color": "rgb(237,237,237)"
             },
             "line": {
              "color": "white"
             }
            },
            "header": {
             "fill": {
              "color": "rgb(217,217,217)"
             },
             "line": {
              "color": "white"
             }
            },
            "type": "table"
           }
          ]
         },
         "layout": {
          "annotationdefaults": {
           "arrowhead": 0,
           "arrowwidth": 1
          },
          "autotypenumbers": "strict",
          "coloraxis": {
           "colorbar": {
            "outlinewidth": 1,
            "tickcolor": "rgb(36,36,36)",
            "ticks": "outside"
           }
          },
          "colorscale": {
           "diverging": [
            [
             0,
             "rgb(103,0,31)"
            ],
            [
             0.1,
             "rgb(178,24,43)"
            ],
            [
             0.2,
             "rgb(214,96,77)"
            ],
            [
             0.3,
             "rgb(244,165,130)"
            ],
            [
             0.4,
             "rgb(253,219,199)"
            ],
            [
             0.5,
             "rgb(247,247,247)"
            ],
            [
             0.6,
             "rgb(209,229,240)"
            ],
            [
             0.7,
             "rgb(146,197,222)"
            ],
            [
             0.8,
             "rgb(67,147,195)"
            ],
            [
             0.9,
             "rgb(33,102,172)"
            ],
            [
             1,
             "rgb(5,48,97)"
            ]
           ],
           "sequential": [
            [
             0,
             "#440154"
            ],
            [
             0.1111111111111111,
             "#482878"
            ],
            [
             0.2222222222222222,
             "#3e4989"
            ],
            [
             0.3333333333333333,
             "#31688e"
            ],
            [
             0.4444444444444444,
             "#26828e"
            ],
            [
             0.5555555555555556,
             "#1f9e89"
            ],
            [
             0.6666666666666666,
             "#35b779"
            ],
            [
             0.7777777777777778,
             "#6ece58"
            ],
            [
             0.8888888888888888,
             "#b5de2b"
            ],
            [
             1,
             "#fde725"
            ]
           ],
           "sequentialminus": [
            [
             0,
             "#440154"
            ],
            [
             0.1111111111111111,
             "#482878"
            ],
            [
             0.2222222222222222,
             "#3e4989"
            ],
            [
             0.3333333333333333,
             "#31688e"
            ],
            [
             0.4444444444444444,
             "#26828e"
            ],
            [
             0.5555555555555556,
             "#1f9e89"
            ],
            [
             0.6666666666666666,
             "#35b779"
            ],
            [
             0.7777777777777778,
             "#6ece58"
            ],
            [
             0.8888888888888888,
             "#b5de2b"
            ],
            [
             1,
             "#fde725"
            ]
           ]
          },
          "colorway": [
           "#1F77B4",
           "#FF7F0E",
           "#2CA02C",
           "#D62728",
           "#9467BD",
           "#8C564B",
           "#E377C2",
           "#7F7F7F",
           "#BCBD22",
           "#17BECF"
          ],
          "font": {
           "color": "rgb(36,36,36)"
          },
          "geo": {
           "bgcolor": "white",
           "lakecolor": "white",
           "landcolor": "white",
           "showlakes": true,
           "showland": true,
           "subunitcolor": "white"
          },
          "hoverlabel": {
           "align": "left"
          },
          "hovermode": "closest",
          "mapbox": {
           "style": "light"
          },
          "paper_bgcolor": "white",
          "plot_bgcolor": "white",
          "polar": {
           "angularaxis": {
            "gridcolor": "rgb(232,232,232)",
            "linecolor": "rgb(36,36,36)",
            "showgrid": false,
            "showline": true,
            "ticks": "outside"
           },
           "bgcolor": "white",
           "radialaxis": {
            "gridcolor": "rgb(232,232,232)",
            "linecolor": "rgb(36,36,36)",
            "showgrid": false,
            "showline": true,
            "ticks": "outside"
           }
          },
          "scene": {
           "xaxis": {
            "backgroundcolor": "white",
            "gridcolor": "rgb(232,232,232)",
            "gridwidth": 2,
            "linecolor": "rgb(36,36,36)",
            "showbackground": true,
            "showgrid": false,
            "showline": true,
            "ticks": "outside",
            "zeroline": false,
            "zerolinecolor": "rgb(36,36,36)"
           },
           "yaxis": {
            "backgroundcolor": "white",
            "gridcolor": "rgb(232,232,232)",
            "gridwidth": 2,
            "linecolor": "rgb(36,36,36)",
            "showbackground": true,
            "showgrid": false,
            "showline": true,
            "ticks": "outside",
            "zeroline": false,
            "zerolinecolor": "rgb(36,36,36)"
           },
           "zaxis": {
            "backgroundcolor": "white",
            "gridcolor": "rgb(232,232,232)",
            "gridwidth": 2,
            "linecolor": "rgb(36,36,36)",
            "showbackground": true,
            "showgrid": false,
            "showline": true,
            "ticks": "outside",
            "zeroline": false,
            "zerolinecolor": "rgb(36,36,36)"
           }
          },
          "shapedefaults": {
           "fillcolor": "black",
           "line": {
            "width": 0
           },
           "opacity": 0.3
          },
          "ternary": {
           "aaxis": {
            "gridcolor": "rgb(232,232,232)",
            "linecolor": "rgb(36,36,36)",
            "showgrid": false,
            "showline": true,
            "ticks": "outside"
           },
           "baxis": {
            "gridcolor": "rgb(232,232,232)",
            "linecolor": "rgb(36,36,36)",
            "showgrid": false,
            "showline": true,
            "ticks": "outside"
           },
           "bgcolor": "white",
           "caxis": {
            "gridcolor": "rgb(232,232,232)",
            "linecolor": "rgb(36,36,36)",
            "showgrid": false,
            "showline": true,
            "ticks": "outside"
           }
          },
          "title": {
           "x": 0.05
          },
          "xaxis": {
           "automargin": true,
           "gridcolor": "rgb(232,232,232)",
           "linecolor": "rgb(36,36,36)",
           "showgrid": false,
           "showline": true,
           "ticks": "outside",
           "title": {
            "standoff": 15
           },
           "zeroline": false,
           "zerolinecolor": "rgb(36,36,36)"
          },
          "yaxis": {
           "automargin": true,
           "gridcolor": "rgb(232,232,232)",
           "linecolor": "rgb(36,36,36)",
           "showgrid": false,
           "showline": true,
           "ticks": "outside",
           "title": {
            "standoff": 15
           },
           "zeroline": false,
           "zerolinecolor": "rgb(36,36,36)"
          }
         }
        },
        "title": {
         "text": "Análisis de Características de las 10 Campañas Más Exitosas"
        },
        "width": 1000,
        "xaxis": {
         "anchor": "y",
         "domain": [
          0.55,
          1
         ],
         "title": {
          "text": "Tasa de Conversión"
         }
        },
        "yaxis": {
         "anchor": "x",
         "domain": [
          0,
          0.375
         ],
         "title": {
          "text": "Beneficio Neto ($)"
         }
        }
       }
      }
     },
     "metadata": {},
     "output_type": "display_data"
    },
    {
     "name": "stdout",
     "output_type": "stream",
     "text": [
      "Estadísticas comparativas - Top 10 vs Resto de campañas:\n",
      "Budget: Top 10 = 14938.40 vs Resto = 49808.88 (Dif: -70.01%)\n",
      "Conversion_rate: Top 10 = 0.54 vs Resto = 0.54 (Dif: -0.66%)\n",
      "Revenue: Top 10 = 986461.87 vs Resto = 509849.73 (Dif: +93.48%)\n",
      "Campaign_duration: Top 10 = 425.80 vs Resto = 365.60 (Dif: +16.46%)\n"
     ]
    }
   ],
   "source": [
    "# Ordena las campañas por beneficio neto de mayor a menor\n",
    "top_campaigns = df.sort_values(by='net_profit', ascending=False).head(10)\n",
    "\n",
    "# Crea una tabla con las 10 mejores campañas\n",
    "fig = go.Figure(data=[go.Table(\n",
    "    header=dict(\n",
    "        values=['Ranking', 'Campaña', 'Beneficio Neto', 'ROI', 'Canal', 'Tipo', 'Audiencia', 'Tasa Conv.'],\n",
    "        fill_color='rgba(173, 216, 230, 0.7)',\n",
    "        align='left'\n",
    "    ),\n",
    "    cells=dict(\n",
    "        values=[\n",
    "            list(range(1, len(top_campaigns) + 1)),\n",
    "            top_campaigns['campaign_name'],\n",
    "            ['${:,.2f}'.format(val) for val in top_campaigns['net_profit']],\n",
    "            top_campaigns['roi'],\n",
    "            top_campaigns['channel'],\n",
    "            top_campaigns['type'],\n",
    "            top_campaigns['target_audience'],\n",
    "            ['{:.2%}'.format(val) for val in top_campaigns['conversion_rate']]\n",
    "        ],\n",
    "        fill_color=[['rgba(255, 255, 255, 0.8)'] * len(top_campaigns)],\n",
    "        align='left')\n",
    ")])\n",
    "\n",
    "fig.update_layout(\n",
    "    title='Top 10 Campañas por Beneficio Neto',\n",
    "    height=400,\n",
    "    width=1000\n",
    ")\n",
    "fig.show()\n",
    "\n",
    "# Analiza características comunes de las campañas más exitosas\n",
    "fig2 = make_subplots(\n",
    "    rows=2, cols=2,\n",
    "    specs=[\n",
    "        [{'type': 'domain'}, {'type': 'domain'}],  # Row 1: pie charts\n",
    "        [{'type': 'domain'}, {'type': 'xy'}]       # Row 2: pie chart and scatter plot\n",
    "    ],\n",
    "    subplot_titles=(\n",
    "        'Canales en Top 10 Campañas', \n",
    "        'Tipos de Campaña en Top 10',\n",
    "        'Audiencia Objetivo en Top 10', \n",
    "        'Tasa de Conversión vs. Beneficio Neto'\n",
    "    )\n",
    ")\n",
    "\n",
    "# Distribución de canales\n",
    "channel_counts = top_campaigns['channel'].value_counts()\n",
    "fig2.add_trace(\n",
    "    go.Pie(\n",
    "        labels=channel_counts.index, \n",
    "        values=channel_counts.values,\n",
    "        textinfo='percent+label',\n",
    "        marker=dict(colors=pastel_colors),\n",
    "        hovertemplate='Canal: %{label}<br>Cantidad: %{value}<br>Porcentaje: %{percent}<extra></extra>'\n",
    "    ),\n",
    "    row=1, col=1\n",
    ")\n",
    "\n",
    "# Distribución de tipos\n",
    "type_counts = top_campaigns['type'].value_counts()\n",
    "fig2.add_trace(\n",
    "    go.Pie(\n",
    "        labels=type_counts.index, \n",
    "        values=type_counts.values,\n",
    "        textinfo='percent+label',\n",
    "        marker=dict(colors=pastel_colors),\n",
    "        hovertemplate='Tipo: %{label}<br>Cantidad: %{value}<br>Porcentaje: %{percent}<extra></extra>'\n",
    "    ),\n",
    "    row=1, col=2\n",
    ")\n",
    "\n",
    "# Distribución de audiencia\n",
    "audience_counts = top_campaigns['target_audience'].value_counts()\n",
    "fig2.add_trace(\n",
    "    go.Pie(\n",
    "        labels=audience_counts.index, \n",
    "        values=audience_counts.values,\n",
    "        textinfo='percent+label',\n",
    "        marker=dict(colors=pastel_colors[:len(audience_counts)]),\n",
    "        hovertemplate='Audiencia: %{label}<br>Cantidad: %{value}<br>Porcentaje: %{percent}<extra></extra>'\n",
    "    ),\n",
    "    row=2, col=1\n",
    ")\n",
    "\n",
    "# Tasa de conversión vs beneficio neto\n",
    "fig2.add_trace(\n",
    "    go.Scatter(\n",
    "        x=top_campaigns['conversion_rate'],\n",
    "        y=top_campaigns['net_profit'],\n",
    "        mode='markers+text',\n",
    "        text=[f\"{i+1}\" for i in range(len(top_campaigns))],\n",
    "        textposition=\"top center\",\n",
    "        marker=dict(\n",
    "            size=12,\n",
    "            color=[i for i in range(len(top_campaigns))],\n",
    "            colorscale='Viridis',\n",
    "            showscale=False\n",
    "        ),\n",
    "        hovertemplate='Ranking: %{text}<br>Tasa Conv.: %{x:.2%}<br>Beneficio Neto: $%{y:,.2f}<extra></extra>'\n",
    "    ),\n",
    "    row=2, col=2\n",
    ")\n",
    "\n",
    "# Actualiza el diseño\n",
    "fig2.update_layout(\n",
    "    height=800, \n",
    "    width=1000,\n",
    "    title_text='Análisis de Características de las 10 Campañas Más Exitosas',\n",
    "    template='simple_white'\n",
    ")\n",
    "\n",
    "# Etiquetas de los ejes\n",
    "fig2.update_xaxes(title_text=\"Tasa de Conversión\", row=2, col=2)\n",
    "fig2.update_yaxes(title_text=\"Beneficio Neto ($)\", row=2, col=2)\n",
    "\n",
    "# Muestra la figura\n",
    "fig2.show()\n",
    "\n",
    "# Análisis estadístico de las campañas top vs resto\n",
    "print(\"Estadísticas comparativas - Top 10 vs Resto de campañas:\")\n",
    "metrics = ['budget', 'conversion_rate', 'revenue', 'campaign_duration']\n",
    "for metric in metrics:\n",
    "    top_mean = top_campaigns[metric].mean()\n",
    "    rest_mean = df[~df['campaign_name'].isin(top_campaigns['campaign_name'])][metric].mean()\n",
    "    diff_percent = (top_mean - rest_mean) / rest_mean * 100\n",
    "    \n",
    "    print(f\"{metric.capitalize()}: Top 10 = {top_mean:.2f} vs Resto = {rest_mean:.2f} (Dif: {diff_percent:+.2f}%)\")"
   ]
  },
  {
   "cell_type": "code",
   "execution_count": 10,
   "id": "0ce5503a",
   "metadata": {
    "vscode": {
     "languageId": "ruby"
    }
   },
   "outputs": [
    {
     "name": "stderr",
     "output_type": "stream",
     "text": [
      "C:\\Users\\Andrei.Baidurov\\AppData\\Local\\Temp\\ipykernel_18376\\474956458.py:92: FutureWarning:\n",
      "\n",
      "The default of observed=False is deprecated and will be changed to True in a future version of pandas. Pass observed=False to retain current behavior or observed=True to adopt the future default and silence this warning.\n",
      "\n"
     ]
    },
    {
     "data": {
      "application/vnd.plotly.v1+json": {
       "config": {
        "plotlyServerURL": "https://plot.ly"
       },
       "data": [
        {
         "hovertemplate": "Presupuesto: $%{x:,.2f}<br>Ingresos: $%{y:,.2f}<br>ROI: %{marker.color:.2f}<extra></extra>",
         "marker": {
          "color": {
           "bdata": "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",
           "dtype": "f8"
          },
          "colorbar": {
           "len": 0.3,
           "outlinewidth": 1,
           "thickness": 15,
           "title": {
            "text": "ROI"
           },
           "y": 0.8,
           "yanchor": "top"
          },
          "colorscale": [
           [
            0,
            "#440154"
           ],
           [
            0.1111111111111111,
            "#482878"
           ],
           [
            0.2222222222222222,
            "#3e4989"
           ],
           [
            0.3333333333333333,
            "#31688e"
           ],
           [
            0.4444444444444444,
            "#26828e"
           ],
           [
            0.5555555555555556,
            "#1f9e89"
           ],
           [
            0.6666666666666666,
            "#35b779"
           ],
           [
            0.7777777777777778,
            "#6ece58"
           ],
           [
            0.8888888888888888,
            "#b5de2b"
           ],
           [
            1,
            "#fde725"
           ]
          ],
          "opacity": 0.7,
          "size": 8
         },
         "mode": "markers",
         "name": "Campañas",
         "type": "scatter",
         "x": {
          "bdata": "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",
          "dtype": "f8"
         },
         "xaxis": "x",
         "y": {
          "bdata": "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",
          "dtype": "f8"
         },
         "yaxis": "y"
        },
        {
         "line": {
          "color": "rgba(255, 0, 0, 0.7)",
          "width": 2
         },
         "mode": "lines",
         "name": "Lineal (R²=0.000)",
         "type": "scatter",
         "x": {
          "bdata": "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",
          "dtype": "f8"
         },
         "xaxis": "x",
         "y": {
          "bdata": "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",
          "dtype": "f8"
         },
         "yaxis": "y"
        },
        {
         "line": {
          "color": "rgba(0, 128, 0, 0.7)",
          "dash": "dash",
          "width": 2
         },
         "mode": "lines",
         "name": "Polinomial (R²=0.000)",
         "type": "scatter",
         "x": {
          "bdata": "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",
          "dtype": "f8"
         },
         "xaxis": "x",
         "y": {
          "bdata": "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",
          "dtype": "f8"
         },
         "yaxis": "y"
        },
        {
         "hovertemplate": "<b>Rango:</b> %{x}<br><b>Retorno por $ invertido:</b> %{y:.2f}x<br><b>ROI medio:</b> %{text}<extra></extra>",
         "marker": {
          "color": [
           "rgba(255, 165, 0, 0.8)",
           "rgba(173, 216, 230, 0.8)",
           "rgba(173, 216, 230, 0.8)",
           "rgba(173, 216, 230, 0.8)",
           "rgba(173, 216, 230, 0.8)"
          ]
         },
         "text": [
          "50.5x",
          "16.8x",
          "11.5x",
          "7.0x",
          "5.8x"
         ],
         "textfont": {
          "color": "black",
          "size": 12
         },
         "textposition": "auto",
         "type": "bar",
         "x": [
          "$1k-$20k",
          "$20k-$39k",
          "$39k-$59k",
          "$59k-$80k",
          "$80k-$100k"
         ],
         "xaxis": "x2",
         "y": {
          "bdata": "EU8bpa9ESUD2L37N3tcwQE335x9i6SZA0PHP4pv4G0AOCIZw5A0XQA==",
          "dtype": "f8"
         },
         "yaxis": "y2"
        },
        {
         "hovertemplate": "<b>Presupuesto:</b> $%{x:,.2f}<br><b>ROI:</b> %{y:.2f}<br><b>Ingresos:</b> $%{marker.color:,.2f}<extra></extra>",
         "marker": {
          "color": {
           "bdata": "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",
           "dtype": "f8"
          },
          "colorbar": {
           "len": 0.3,
           "outlinewidth": 1,
           "thickness": 15,
           "title": {
            "text": "Ingresos ($)"
           },
           "y": 0.25,
           "yanchor": "bottom"
          },
          "colorscale": [
           [
            0,
            "#0d0887"
           ],
           [
            0.1111111111111111,
            "#46039f"
           ],
           [
            0.2222222222222222,
            "#7201a8"
           ],
           [
            0.3333333333333333,
            "#9c179e"
           ],
           [
            0.4444444444444444,
            "#bd3786"
           ],
           [
            0.5555555555555556,
            "#d8576b"
           ],
           [
            0.6666666666666666,
            "#ed7953"
           ],
           [
            0.7777777777777778,
            "#fb9f3a"
           ],
           [
            0.8888888888888888,
            "#fdca26"
           ],
           [
            1,
            "#f0f921"
           ]
          ],
          "opacity": 0.7,
          "size": 8
         },
         "mode": "markers",
         "type": "scatter",
         "x": {
          "bdata": "zczMzEySv0CF61G4PkzRQJqZmZkxqvRAAAAAAOB+zEDNzMzMfC/jQK5H4XoUc/JAzczMzBxJ3ED2KFyPEvjhQI/C9Si8xeNAexSuR+FgnEDD9ShcQ/j2QHE9CtcrRe9AuB6F6/kb6EDD9ShcT+3MQJqZmZkJ/uFAUrgehZsB1UAUrkfhDkz4QArXo3Bdw9JAhetRuE4p0UCamZmZGc3YQKRwPQqH6uBAFK5H4VJu7UC4HoXrCXTzQI/C9Sj01uZAAAAAANCd50BmZmZm1r70QGZmZmYWPOJACtejcP0bzEBI4XoU6l/4QOF6FK4HZdxArkfherR59UCamZmZ+VXqQJqZmZnRZvFAmpmZmRkwz0DsUbgejZjqQLgehetxtNxA7FG4HuXdwUBSuB6FE8zwQEjhehSudJRAZmZmZiaI2kDNzMzMXGDjQDMzMzO7yPVAUrgehV+p90DXo3A92qjbQClcj8IFFe9AmpmZmcHd8EDsUbge7fTvQLgehesh2tNAZmZmZuZpv0CPwvUorJXSQDMzMzOz7LdAH4XrUZgDxkApXI/C9YrbQGZmZmZSZ/hAFK5H4doG20AAAAAAYGDIQHsUrkd1ifRAH4XrUTgCukCF61G4RkjqQAAAAABQyPRAzczMzExX80AAAAAAELzmQHE9CtdTwutAZmZmZoIo90BI4XoUesz2QK5H4XrkkdlAKVyPwoUz+EDXo3A9erDzQBSuR+HaKN5ApHA9Cqdp2EC4HoXr+U7vQDMzMzNblu1ApHA9Ctfi1UDXo3A9SmTnQD0K16Mw4dtAKVyPwm2b5UBSuB6F4w/gQM3MzMw8VutAexSuRxGr1kAzMzMzc4jkQB+F61FYffNA9ihcj5p690BSuB6FI8HxQGZmZmamc+lASOF6FMLh8kCPwvUoON73QOxRuB6lM85Aj8L1KEwB6UCuR+F6NGHPQKRwPQpz0vVAAAAAAMC75kCamZmZSVzuQAAAAABgutNA4XoUrn9P5UAUrkfhyinUQFK4HoV7Fd1A9ihcj7a69UAK16NwxQLhQGZmZmbmCMBAzczMzCxwyUCamZmZee7BQD0K16P4kOZAuB6F66ml80BxPQrX4/rIQK5H4XpM6ORAexSuRynS8kAzMzMzk9HEQK5H4Xq0YvFAZmZmZj7o6kAzMzMzUyvWQKRwPQoHy9tApHA9Civk80D2KFyP5kT4QB+F61FI6vVAFK5H4dr8xkCamZmZuYblQEjhehQO+N5AZmZmZv7S4EBSuB6FG7veQClcj8LN6PVAMzMzMzOWukB7FK5H0UjVQClcj8IVpNxACtejcH3QvUAfhetRWOXmQK5H4XrY+/NAzczMzGzF5kBmZmZm5sreQK5H4XqUHOlASOF6FOpw9EAfhetRlNr0QK5H4XpEhuVAmpmZmUk/7kCuR+F6HH/oQM3MzMxkh+pAUrgehRu18UAK16NwJfbjQDMzMzNb0fBAAAAAAMCc50BxPQrXG//3QArXo3A9Ya9AexSuR3k55EAK16Nw3bnpQHsUrkcxCdBAPQrXoxDw5kBI4XoUKj/2QBSuR+H697JA9ihcj/qc6kAK16NwHaHHQI/C9SicKcxAzczMzIw+7UCPwvUonE20QIXrUbjeprhASOF6FEKu80C4HoXrbZ7zQOF6FK7zB/JAcT0K1/M070CuR+F6jHnoQOF6FK7HmOJA9ihcj8p150BmZmZmBijvQLgehethctlAMzMzM7OH60AzMzMz4zrsQLgehevlX/JAFK5H4VIb5UAfhetRpKH0QI/C9Sg8zeFAFK5H4Xqbw0BmZmZm9nHaQFK4HoUb2uBAhetRuL5fz0BmZmZm5vPtQMP1KFw/VONAw/UoXPNM+ED2KFyPWrblQOxRuB6dS/FAj8L1KBSk7kAzMzMzQ933QOxRuB6FXvBACtejcP2/4EAK16Nw5dDpQM3MzMzUNepASOF6FG5o1UAK16NwJRn4QJqZmZlZ0c9A16NwPTpa2EDhehSuZ+zTQIXrUbhuceBAZmZmZiZk9UBI4XoUll7gQArXo3D5JfVA16NwPcqMwEAzMzMz03XUQJqZmZl5veFAj8L1KHzy0kAK16NwjRHtQIXrUbie8vdAw/UoXC/az0DhehSuB/vhQIXrUbjWeO5AUrgehZec90CF61G4Llb2QFyPwvUo68dA7FG4HhUH3UD2KFyP8pXfQB+F61HIGO1AKVyPwuXw8kBmZmZmZu3WQD0K16MQ4cJAhetRuFY470CPwvUoDJvlQPYoXI+2s/dAFK5H4bpE0kBmZmZmbqT2QOxRuB4lKcxAXI/C9Ygr60DsUbgerWboQHE9Ctf7oelAmpmZmUle1kBmZmZmek3xQNejcD0CSfZAcT0K18sQ5UDhehSucyv2QDMzMzOz299AXI/C9Uiv2EAK16NwmaD0QDMzMzMjQNxA4XoUrkcXw0BxPQrXMz7tQJqZmZkBIvZAcT0K1zup9EDsUbgeNUHuQGZmZmYeifBAmpmZmbE06kBSuB6Fu3DmQKRwPQqL2/JAmpmZmWk+20DhehSuv8vzQAAAAAAI8PNA16NwPWY580D2KFyPwrKYQKRwPQrXYq5AzczMzHw35kBI4XoUCg/4QNejcD1KcPdAAAAAACCm1kCkcD0KdxXcQDMzMzOLyvdA9ihcj0pq7EBmZmZm1pjhQOxRuB6tK+pA4XoUrkdykECuR+F6OPjzQHsUrke12PdAFK5H4bIc4EBSuB6FF9D0QClcj8LV4sBApHA9CpcQv0C4HoXrJdz3QGZmZmam4rlAzczMzIw+7UC4HoXrySXiQEjhehRen+tAZmZmZk5n9kAfhetR9Eb2QD0K16M46OxAZmZmZpbT9kDD9ShcP+/RQOxRuB5d4u5A7FG4Hq2G6UBSuB6F2wfkQEjhehQi9/BAcT0K16Omz0DsUbgeeXnxQM3MzMwkDfNAMzMzM0dH9UDD9ShcD07cQKRwPQrfaeNAmpmZmUnD5kBmZmZmyof3QI/C9SjMruVAMzMzM7NI3kBxPQrXI9bSQFyPwvW4hepAUrgehbMx5EAfhetRmMLPQHsUrkexfdpAH4XrUaTd90Bcj8L1uB71QEjhehSyU/JACtejcP3e5kCuR+F6lOXxQGZmZmZGH/ZAexSuR1Eb0kBmZmZmtv/xQEjhehQ2pO1AAAAAAMDczECamZmZ5cvzQK5H4XrETeNAj8L1KEQl70B7FK5HMTLvQOxRuB4lFcxAj8L1KHwk7EAzMzMzCxDzQOxRuB71QfdAuB6F69l26kApXI/CtdTvQMP1KFzD8PRAcT0K12PM9EDD9Shcu3f1QOxRuB5d7OBAmpmZmbk+7EDhehSuXwfwQHE9CtfDFvFAj8L1KFz0o0CamZmZeQ/GQAAAAACgMc9Aw/UoXM/84UB7FK5Hce3XQOF6FK4nLOhAMzMzM/NntUAzMzMzc7vKQClcj8K1irxAzczMzIx690AzMzMz66DzQI/C9SgcA7xAhetRuFbB40Bcj8L1tML0QHsUrkdhNNxAmpmZmTVj+EBmZmZmFozhQNejcD0Kb+lACtejcJ3O0kAUrkfh+iLhQHE9Ctd73/VA7FG4HpUk3kC4HoXrMavtQB+F61H4GvRA7FG4Hs3P8EC4HoXrUZDxQBSuR+F6lPZAFK5H4foiukDNzMzMxBjwQHsUrkfh9qZAZmZmZqry9UCamZmZIV7zQOxRuB7lWehAzczMzCw39UCuR+F6vIn1QM3MzMx83uNAmpmZmbG+8UCuR+F6FL/GQDMzMzPf8/VAXI/C9TwR80BSuB6Fs3DhQArXo3A9IPJAzczMzOzg2EC4HoXrIeLbQKRwPQqfwuJAzczMzCQn40ApXI/C9XOWQJqZmZn5f8VAuB6F6w0O90CuR+F6yEP1QAAAAAAU5PNAPQrXoxz09UAzMzMzK9b2QEjhehSGn/dAw/UoXEf69UBSuB6F60/MQHE9Ctej0b5ACtejcF0z6kCuR+F6FK3UQDMzMzOPjvVAhetRuF775EBmZmZmRiHoQArXo3A9wq1ApHA9CrOr90CF61G4/kDWQD0K16PIE+1AZmZmZnb26kCkcD0KVwjjQEjhehQm0/JASOF6FG4Z0EA9CtejUIrfQAAAAABIn/NApHA9Cv9T6UAzMzMzs7WoQFyPwvUoB5xAcT0K15vI6UAfhetRRJDxQD0K16PYa/RAXI/C9ej340CPwvUoXI3gQFyPwvXInOZAZmZmZuZX30CkcD0KO3H3QBSuR+EaKstAuB6F61HhskC4HoXr4SbcQOxRuB4F1vVA9ihcjxLT3kAzMzMzwx31QEjhehTOPMtAUrgehauYyUBmZmZm9h7bQEjhehQO1N1AFK5H4do64UDhehSut7XWQOxRuB5la9xAw/UoXL+f3kBmZmZmvkHpQAAAAAAwzdtApHA9CrfZwED2KFyPhnr2QB+F61GQ5uRAKVyPwvWusEBxPQrXK7rwQAAAAAAQw/JAAAAAAGgi8kBcj8L1iCrVQIXrUbgKyvFAcT0K11MO50DXo3A9SgPdQDMzMzOb8+pAMzMzM2e38UBmZmZmJn/FQFyPwvVob8NA16NwPbqc4kAzMzMzCz7yQKRwPQqnLOJA9ihcj1py4EDhehSuR0ucQJqZmZkJJN1AmpmZmeHb80BSuB6Fs533QB+F61FYsNpA16NwPao11UCF61G4OrHzQGZmZmaWavdA7FG4HsUL4UCkcD0KXxjpQLgehetx7tpA4XoUrofg3kAzMzMze4X0QAAAAADgZNtApHA9CqcV0EAAAAAAOCnjQIXrUbjWcupAZmZmZtb/40D2KFyPcoTUQDMzMzPzjtZAZmZmZlZq4EBmZmZmlhHrQHE9CtfLC/JASOF6FLox8EDhehSu52rjQEjhehTGK/VAw/UoXC/28EA9CtejsBC/QK5H4Xq8jvZAmpmZmQmP8kAzMzMzqxjgQArXo3AFM/hAFK5H4S4X8ED2KFyPUozQQOF6FK4nCuRAZmZmZqaz5UCPwvUoPO/GQAAAAAB4oPBAuB6F6/Hw2UApXI/C9UCoQEjhehSuIpdAw/UoXOcf5UDD9Shcd7roQIXrUbi+J95ArkfheuSb3UDhehSuN8z1QAAAAACgm+9AUrgeheuPmUBmZmZmpkHGQMP1KFzPX9hAuB6F67lI7UBxPQrXo9vGQKRwPQp3HcBAUrgehWuguEApXI/CCavxQGZmZmYOaOJAMzMzM7O9uECF61G4Hl3kQKRwPQovqPFArkfhehRGnUAAAAAAEJjiQI/C9Sjc2aJA16NwPbLG5kB7FK5H6WjkQJqZmZn5LPJAKVyPwn3190DsUbgeJXDEQMP1KFwLRvNAUrgehVs23kCuR+F61P32QD0K16NQNe5AhetRuBbF7EDNzMzMlE7xQMP1KFzHvuJAZmZmZjaE30AzMzMz467UQDMzMzN3cvFAMzMzM1M+70CPwvUo/EzXQDMzMzPzatxAZmZmZuKU9kBxPQrXw63xQGZmZmYuoPRAH4XrUbih5kAK16Nwvca1QPYoXI/WjPFAFK5H4TpM4kAAAAAAiMLxQAAAAACIZuFApHA9CmOb9EDD9ShcE7n1QGZmZmYeOORAuB6F6/HFwkCamZmZNXnwQI/C9Sho1vNArkfhesh19EDD9ShcdyvkQPYoXI8yPfNAZmZmZuaE70CF61G4HpfLQJqZmZnJY+FAmpmZmRnP5ECF61G45ujsQPYoXI/yxvJAuB6F67FNxEBmZmZmkkHzQBSuR+GKBtJAmpmZmRk+4kBmZmZmbhL3QLgehetZ+vVA4XoUrkeRtkCamZmZyaHuQFK4HoWL3u1AexSuR+GU2kBxPQrX9zLwQJqZmZmZTNRA9ihcj2Js30CkcD0KQxf2QLgehev1VfFAZmZmZj7X70DD9ShcT6PqQEjhehSuGNJAKVyPwoWX60BI4XoUPiPXQIXrUbj6K/JAhetRuF6JukBmZmZmxgDxQOF6FK5nIPBAmpmZmYGz8EDsUbgeTaPlQDMzMzPTsN5ApHA9Ciei80A9CtejYCbUQHsUrkdh0aVApHA9Cpd1v0DNzMzM/FruQB+F61G4H+9ArkfhekQG6EBcj8L18MLlQIXrUbgu7vVAMzMzM/ca9UAzMzMzs07GQNejcD3qrvBAZmZmZqZd1UAfhetR+ErJQClcj8KVsMJAMzMzM2uc9UB7FK5HsbDYQM3MzMzsv9BAmpmZmalH6kAAAAAAQPPrQOxRuB6Fj+1APQrXo9jH7ECuR+F69GPcQB+F61E4LLZAFK5H4fbW8UDD9ShcGxv0QNejcD2GGfhApHA9CjdbxUBcj8L1SKbQQOF6FK5jz/RAzczMzKQz60DXo3A9im/jQGZmZmZOgvZA4XoUrt8F8kDD9ShcD+frQOxRuB41u9dA7FG4Hp0e90DXo3A9Asv3QJqZmZkZZ/VAMzMzM8Mn9UDXo3A9at7wQIXrUbjq3fdAMzMzM6N39EA9CtejMAXNQAAAAADQ7etAhetRuFoJ90CamZmZibHSQM3MzMzsSd9AXI/C9Sg59ECPwvUomB31QGZmZmb+cvBAhetRuP7y0EBI4XoUziTWQK5H4Xp4x/BAKVyPwokU8EAUrkfh6lXUQM3MzMw8ktVAZmZmZpZv40BI4XoUXn/qQDMzMzOrM+1AKVyPwuUu7UDNzMzMXCHhQDMzMzOTPOtAzczMzBTF4ECkcD0Kv6ruQArXo3C9L8lAXI/C9bga1EDXo3A9cgPmQDMzMzNj8NJAMzMzM4MB80BmZmZmxo/JQHsUrkfJMORA16NwPRYJ9EC4HoXrscjLQHE9CtdzgdtArkfheqSD1EDD9ShcPy3oQKRwPQofcvRAAAAAAEBHxUCamZmZyZHpQHE9CtfzpPNA4XoUrsdcp0AzMzMz40blQBSuR+EqAdpA16NwPUq2y0AAAAAA7E33QOxRuB49DPJAcT0K1yvE7EAzMzMz48TuQArXo3AdNcpA4XoUrk8l80BI4XoU5i/nQLgehevR3eVAFK5H4d629kApXI/CtRizQHsUrkdhtqNAZmZmZsbM2UBxPQrXH0PxQClcj8LNBuhAhetRuPaP90A9Ctej0AvnQMP1KFxXmuFAj8L1KPSa9kDsUbgelezUQHE9CtdjPOVAH4XrUSTC9ED2KFyPFh7xQFK4HoV7CtNAMzMzM1PM8ECkcD0KAyH1QEjhehQ2J+tAZmZmZv7o5kBxPQrX41/JQEjhehSqsPVAmpmZmUV+9UD2KFyP+h32QBSuR+EiFPZAMzMzMyPh4kAK16Nw3UfVQMP1KFznqutAw/UoXE/Bs0DXo3A9xs7yQDMzMzObjOJAMzMzM+Px4UAAAAAAEA3oQIXrUbhOat5A7FG4HoUc5ECPwvUoBFnkQClcj8LdmvNAj8L1KHy9xED2KFyPIrnyQPYoXI+6KuVAUrgehe9i8EDD9Shci0byQEjhehT2QPhAMzMzM7MeuUCuR+F6BDv4QDMzMzMzEr9AH4XrUTgUpUBSuB6FcxLsQOF6FK4nhtNAAAAAAHi840BmZmZmNmDyQArXo3C1oOlAzczMzGwq4EDXo3A9OiDqQKRwPQojWPhAXI/C9SxU9kAUrkfhDjn0QD0K16NMqfRAw/UoXA+270Bcj8L1uCLzQAAAAABw3NdAMzMzMyNJ8kAAAAAAgL2uQGZmZmaWZu9AMzMzM5vE8kBmZmZmLrnyQClcj8LdHOpAXI/C9ZhF5EBmZmZmFuPwQBSuR+GSVvdAZmZmZuY0p0DNzMzMjOeyQM3MzMwkOPFAcT0K15dC80A9Ctej2I/yQOF6FK43P+JAPQrXo1gC5UBI4XoU9in1QM3MzMxEPuRAH4XrUWQd80BSuB6Fi+LtQNejcD3yVPJA7FG4HrVi9UCkcD0KF0beQFK4HoU7g9hAcT0K17u740DNzMzMTNekQJqZmZlZtc1AMzMzM2ME60DsUbge3Rv1QM3MzMyIJfRAuB6F65GAzEAAAAAAABeoQNejcD1+aPBAcT0K18tJ7EDsUbge9eXUQK5H4XqkC+VApHA9Cle85UBcj8L1WFfXQKRwPQp/f/BAMzMzMzMm9UD2KFyPCszlQGZmZmZ2nu9ApHA9CoNB90BI4XoU0iH0QKRwPQrX/JVAcT0K17Nb2kD2KFyPOg3lQEjhehQmO/hAUrgehetYrkAfhetRuJKVQJqZmZlJ1uFAw/UoXKsI9UBSuB6Fj531QOF6FK4fN+FA4XoUrv8T7kC4HoXrzWjyQKRwPQrvm+FAUrgehav40ECamZmZ8TrxQBSuR+HaefJAMzMzM1PV00ApXI/CQazyQM3MzMzcfdRACtejcJ3y1kBxPQrXM+fjQOF6FK4HuOhA4XoUrjfW3EAK16NwSXzxQFyPwvXwve9ApHA9ChOy9UBmZmZmtiPdQD0K16N0MvRAexSuRwnp40Bcj8L1OIjbQFK4HoWr38ZAw/UoXNfY5kAAAAAAWHXlQArXo3BNMehAmpmZmTmAwkDD9ShcD2jkQDMzMzNXtPZAcT0K1xOv9kCPwvUofF7NQArXo3C5Q/dAZmZmZnbs3ED2KFyPYhjBQGZmZmZmZeRAAAAAADAF6kCkcD0KK9/0QM3MzMzsUfdApHA9Cue000CamZmZOV/OQKRwPQoHZdlAmpmZmSFA8EDD9ShcD5fAQDMzMzMjkddAZmZmZs4/+EBI4XoU7ka2QIXrUbhensVAKVyPwnUZ50BI4XoUblu0QMP1KFyPO/BAPQrXozBH5ECPwvUo7AntQOxRuB7FF+JAzczMzByN5kBI4XoU5m/hQLgehethHtBAZmZmZuZkw0AK16NwHarFQHsUrkfZiutAmpmZmUH09kCF61G49kHmQGZmZma2AfdA7FG4HmUT1EDNzMzMfC3hQGZmZmaW+NdACtejcN2MxkA9CtejcIqVQHsUrkfpWuRAUrgehaNE80BmZmZmVkPdQIXrUbgOfuVAMzMzM1NV80CamZmZeejvQB+F61GwVO9AZmZmZv5W60CF61G46oH1QD0K16OgfdZAMzMzM+uV5UCuR+F6XNLjQI/C9ShcAutAMzMzM7NI9kDsUbgeSYjwQI/C9Sg8D85A4XoUrhdc8UAAAAAAQGuxQHE9Ctejq91AUrgehfvV3EBI4XoUssP3QBSuR+Fq6OJAAAAAAFhj7kCuR+F6zP7uQArXo3BFw/ZAAAAAAOSu9EBmZmZmhv3QQJqZmZl5E/NAZmZmZmYw2EBmZmZm/gniQNejcD2WdfBAH4XrURi+70AAAAAAaG3yQDMzMzOz291ACtejcM3u8UCkcD0K14KgQHsUrkfpNeVAFK5H4XI+60A9CtejcHO+QFyPwvUI4vZAuB6F6+kT7kBcj8L17HnxQPYoXI+6zuNArkfhejS9wEBI4XoUrhzEQMP1KFxPqMhASOF6FG5u8UAzMzMzI0n3QPYoXI+aNPdAMzMzM3PXy0DD9ShchzrjQOF6FK5HH5NAj8L1KMzP30AzMzMzQ0PuQJqZmZm5te5A16NwPTLE80BSuB6Fn+71QI/C9SiUQPNAMzMzM8Pv5EDD9Shc79baQFK4HoUzHOBAMzMzMzMQpEBcj8L16OzCQHsUrkeJeOdAAAAAAJhM5EAfhetR0NrqQMP1KFz/btlAFK5H4UoO2ECamZmZmcHrQIXrUbgWguhAXI/C9Zgj9UDsUbgeZQ3OQHE9CtdbZOtAuB6F67UZ9UBcj8L1aNvHQOxRuB4FSfRAAAAAAAiT80CkcD0K11jGQMP1KFynnedArkfhemwK9UC4HoXrHXj1QB+F61F4NstAZmZmZiZCwECkcD0Kd/TDQEjhehTi9/FA9ihcj+oX40AK16Nw/cm2QIXrUbh+vO1A9ihcj5rS40D2KFyPYr7YQArXo3CFuPZA16NwPZp18kCF61G4/mzVQI/C9SjMvPVAzczMzKxl3kBxPQrXM07pQGZmZmbOdfFAKVyPwnFf90D2KFyPkqXZQNejcD22T/hAcT0K16uP4UCPwvUoLAznQDMzMzMTNvBAKVyPwtH58EBcj8L1BOfxQJqZmZmZbuhAj8L1KOz610CuR+F6FHX0QK5H4XoUA9RA16NwPZ6F9EBmZmZmtn7lQAAAAACcu/FAMzMzM/OO5EAfhetRyDneQEjhehRuQ7JAAAAAAMAF60BxPQrXM230QLgeheuFEfFA16NwPbqm8EAfhetREEvqQJqZmZmZRqJAw/UoXKPK9EBcj8L1kAjsQArXo3DNptBAexSuR6Ef1EB7FK5HUTPSQHsUrkdZQOxAXI/C9ehmw0BxPQrXozbrQGZmZmbmHa5A9ihcjyoW5UBSuB6FA3LhQOxRuB7NJPFAj8L1KFxK40AzMzMzM/H2QHsUrkeZAulAMzMzMx+D9UCkcD0Kt63uQIXrUbhmX/NA7FG4Hn0L8UAzMzMzs4XcQAAAAAAA4+xAw/UoXF+y0EBxPQrXk5jeQI/C9ShkWuFAzczMzAxi5UAzMzMzS5rzQK5H4Xp8yPZAMzMzM5Pv2ECamZmZWZO8QAAAAADAarJAcT0K17N39EAAAAAAQDbRQGZmZmbWIN1Aw/UoXAeT7kAAAAAAiAvnQKRwPQpX0a9AZmZmZtok9EBxPQrXm53oQI/C9Sgs2fZAAAAAAIDpvED2KFyPXuP3QGZmZmY27/JAFK5H4VrQxUDNzMzMHEncQPYoXI8S+OFAAAAAAABq2EDNzMzMTJK/QClcj8LVHMhAAAAAAABq6EAAAAAAgE/yQAAAAAAATN1AAAAAAABM7UAAAAAAAIjjQA==",
          "dtype": "f8"
         },
         "xaxis": "x3",
         "y": {
          "bdata": "MzMzMzOzVUDsUbgehSs8QKRwPQrXoxFArkfhehSuFEDhehSuR+HKP4/C9ShcjxlA4XoUrkfhE0BmZmZmZmYSQKRwPQrXIzFACtejcD1Sc0CPwvUoXI8KQIXrUbgehfs/j8L1KFyPKUA9CtejcD0/QHsUrkfheuy/exSuR+F6tD8K16NwPQoHQBSuR+F6lEdA9ihcj8I1OUCPwvUoXA8lQClcj8L1qClAUrgehetRLkDhehSuR+ERQOxRuB6FazBAMzMzMzMzw7/NzMzMzMwMQFK4HoXr0SZAuB6F61G4PkCF61G4HoXrv1yPwvUonD9AmpmZmZmZJECF61G4HsUwQK5H4XoULihArkfhehTuOUBxPQrXo/AvQFyPwvUoXPc/zczMzMzMDEAK16NwPQoYQB+F61G49mlAcT0K16PwOEAK16NwPQr/P65H4XoUrhdAmpmZmZmZE0AAAAAAAOBAQClcj8L1KMw/ZmZmZmZmAEAzMzMzMzMZQB+F61G4Xj9A16NwPQpnUUCPwvUoXM83QFK4HoXr8U9A4XoUrkdhR0C4HoXrUTgzQHsUrkfhegpAj8L1KFxPN0DsUbgehbtQQOxRuB6FayFAMzMzMzMTREBmZmZmZmYnQD0K16NwPQpAKVyPwvUo5L8AAAAAAAAjQPYoXI/C9RZA16NwPQrX/z8fhetRuB4cQFK4HoXr0S5AZmZmZmZmHkAfhetRuJ4jQEjhehSuRztAmpmZmZmZ/T9mZmZmZmYCQI/C9ShcDypAj8L1KFyPDEAzMzMzMzMxQFyPwvUoXBVA4XoUrkchMkBI4XoUrkcJQI/C9ShcDyBA4XoUrkdhQUBcj8L1KFwXQK5H4XoUrhNA7FG4HoXrDUAK16NwPQoeQBSuR+F6FN6/7FG4HoXrC0AAAAAAAAD4P4XrUbgepU5AcT0K16PwIkDsUbgehas+QArXo3A9iiBAH4XrUbgeF0BmZmZmZmYQQDMzMzMzMy9ACtejcD2KI0BmZmZmZuZBQFK4HoXrETJA7FG4HoXrGEDhehSuR+EcQJqZmZmZ2VVAAAAAAACwUEBI4XoUrkciQD0K16NwPRhAMzMzMzMzD0CuR+F6FK5DQK5H4XoULjFAuB6F61E4I0CkcD0K10NHQEjhehSuRx9ACtejcD3KMECamZmZmZkHQB+F61G43jNAhetRuB6F2z8K16NwPQoPQOF6FK5H4QZAXI/C9ShcKEApXI/C9SjwPwrXo3A9Ci9AuB6F61F4MEBxPQrXo3ANQEjhehSuRxFASOF6FK7XUkA9CtejcD0xQEjhehSuRwFAFK5H4XpkWUAUrkfhehQSQFK4HoXr0SVAMzMzMzOzK0B7FK5H4XowQGZmZmZmZvI/4XoUrkfhEUDhehSuR+ETQHsUrkfhejNAKVyPwvUoBEDXo3A9ClcmQIXrUbgeRTFAw/UoXI/C1T89CtejcL0vQJqZmZmZmfU/AAAAAAAAI0AK16NwPQodQB+F61G47mdA7FG4HoXrF0CkcD0K16MdQB+F61G4vkJApHA9CtejG0A9CtejcD0gQM3MzMzMlGBAzczMzMzM3D8fhetRuF41QAAAAAAAABpAZmZmZmZmLUCF61G4HoUlQB+F61G4nmBAmpmZmZmZ2T+amZmZmZnZP4/C9Shcj/4/exSuR+F6/D+F61G4HoUnQLgehetR+DBAmpmZmZmZqT+PwvUoXI8KQBSuR+F6FBZA9ihcj8L1HkBI4XoUrkcvQHE9CtejcBJACtejcD2KKECamZmZmZkLQBSuR+F61DdApHA9CtdzVkC4HoXrUfg7QLgehetR+DtAhetRuB6FSkDD9Shcj8IsQPYoXI/CdTVAhetRuB6F2z8zMzMzM7MkQPYoXI/C9RJAMzMzMzMzD0A9CtejcD0SQFyPwvUoXAVACtejcD2KJkCkcD0K1yMlQLgehetRuPY/ZmZmZmbmP0A9CtejcD0QQLgehetROCNA9ihcj8K1NEAUrkfhevREQClcj8L1KBRACtejcD0KAUAzMzMzM/M7QLgehetRuM4/j8L1KFyPWEB7FK5H4TpHQKRwPQrXIzBAzczMzMzMPkAAAAAAAAAoQEjhehSuRxFAmpmZmZlZPkDhehSuR2E5QK5H4XoUru8/FK5H4XqUIkCPwvUoXI/iv9ejcD0K51NA16NwPQpXP0BmZmZmZmbmP0jhehSuRyFAFK5H4XoUEkApXI/C9aggQPYoXI/C9RFAXI/C9SjcKUBSuB6F61EYQDMzMzMzMwdAKVyPwvWoPECamZmZmZkcQBSuR+F6NEdA9ihcj8J1KUBxPQrXo3AUQJqZmZmZmRhACtejcD2qQ0CuR+F6FK77P3sUrkfheh1AH4XrUbjeMEAUrkfhehTmP+xRuB6FazBAFK5H4XoU7j8fhetRuJ4gQAAAAAAAAAxAzczMzMw8V0A9CtejcD32P4/C9ShcjyFAmpmZmZmZHkApXI/C9agnQOxRuB6F6yhAuB6F61E4JkA9CtejcH0zQFK4HoXrURhAw/UoXI/COUAK16NwPQrHP6RwPQrXIyNA16NwPQrX679SuB6F68FiQM3MzMzMnGhAuB6F61G4FUCkcD0K16McQLgehetRuBRAhetRuB4FJkD2KFyPwvUZQHsUrkfhetQ/zczMzMzMBECPwvUoXI8YQGZmZmZmJjBArkfhehSmi0CkcD0K16MeQDMzMzMzsyFAH4XrUbgeC0DhehSuR+Hiv65H4XoUjltApHA9CtejU0BxPQrXo3AgQHsUrkfhSlhA9ihcj8J1LEBSuB6F69EsQLgehetRuN4/4XoUrkdhIUBmZmZmZmYVQAAAAAAAgChAUrgehetR2L+amZmZmZk2QFyPwvUoXN+/FK5H4XoULkAAAAAAAAApQOF6FK5H4SFApHA9CtcDQ0D2KFyPwvUIQOxRuB6FayBACtejcD0Ktz/2KFyPwvUaQM3MzMzMzPA/UrgehetRMUB7FK5H4Xrkv8P1KFyPwiFAPQrXo3B9N0DNzMzMzMwYQBSuR+F6FARACtejcD0KNEBSuB6F61FAQMP1KFyPwjlAKVyPwvUoBkCuR+F6FK4RQEjhehSuxydAuB6F61G4BECuR+F6FC4jQArXo3A9Ctc/pHA9CtejREAzMzMzMzPDv3E9Ctej8CBACtejcD3KTEBxPQrXo3AZQEjhehSuRyVAhetRuB6F2z9SuB6F69EsQD0K16NwfUdAuB6F61G4AkA9CtejcD0OQJqZmZmZmQVA9ihcj8L1KkAK16NwPQonQD0K16NwPR9ApHA9CtcjI0A9CtejcD0CQPYoXI/CNTBACtejcD0KDUAK16NwPQoPQMP1KFyPwihAhetRuB4FbEBmZmZmZsZAQArXo3A9ijFAKVyPwvVoNEBxPQrXozA/QHE9CtejcCpAZmZmZmaOYUDNzMzMzMw0QMP1KFyPQlJAKVyPwvUo3D+uR+F6FK4XQOxRuB6Fi0BAw/UoXI+CMUB7FK5H4XoXQD0K16NwvT1AcT0K16Nw7b8K16NwPQouQM3MzMzMzOQ/pHA9CtcDRUAfhetRuB4LQJqZmZmZmRtAj8L1KFyPLUD2KFyPwnUgQNejcD0K1xJA9ihcj8L1EECPwvUoXA8kQFyPwvUoXBNA9ihcj8LVTkDXo3A9ClcoQK5H4XoU5mVA7FG4HoXrIkAK16NwPQonQLgehetROCxA4XoUrkfhGED2KFyPwvUKQLgehetRuDVA7FG4HoVrI0DsUbgehevBP8P1KFyPwhxAZmZmZmZmF0C4HoXrUbgIQFK4HoXrURpAcT0K16OQQEAUrkfhehQvQHE9CtejsDRAAAAAAAAAAkApXI/C9SSDQIXrUbgeZU5APQrXo3A9EkAK16NwPQokQClcj8L1KBNArkfhehSuDUDNzMzMzEwiQDMzMzMzMwVACtejcD0KHkApXI/C9SgZQM3MzMzMTDNA4XoUrkdhKkC4HoXrUXhGQIXrUbgeBSNAKVyPwvUoHECPwvUoXI8xQIXrUbgetWJA9ihcj8L1FEDhehSuRyFEQDMzMzMzMxNAUrgehetRJUAAAAAAAMAxQOF6FK5H4fY/PQrXo3A92r89CtejcH07QOxRuB6F6wFAFK5H4XoUGkBcj8L1KJRoQD0K16NwnW5A16NwPQpXL0AK16NwPQoiQBSuR+F6FBlAj8L1KFyPG0BxPQrXo3AfQAAAAAAAACNAj8L1KFyPKUCkcD0K16MYQHsUrkfh2kxAMzMzMzM7ZkD2KFyPwnU4QNejcD0K1yJAAAAAAACAPEDhehSuR+HaPx+F61G4/ktAhetRuB6lQkAAAAAAAEA3QHsUrkfhetQ/H4XrUbgeEkAzMzMzMxNBQHE9CtejcDpAKVyPwvUoJkBI4XoUrkcnQEjhehSuRxFAKVyPwvWYV0DNzMzMzMzsv2ZmZmZmZixA9ihcj8L1GECamZmZmZnpP5qZmZmZmRNAPQrXo3A9JUAK16NwPapEQJqZmZmZmQ9AexSuR+G6MkAUrkfhelQ6QFK4HoXrUSJAKVyPwvWoIUBxPQrXo3Dlv8P1KFyPwkdAhetRuB6FLUC4HoXrUbgiQI/C9ShcTzFAhetRuB6FEkCkcD0K14tiQClcj8L1KDRAmpmZmZmZC0AK16NwPQobQLgehetR+D5ArkfhehTOQkCF61G4HoUWQDMzMzMzMxdAj8L1KFyPMEDD9Shcj8IuQKRwPQrXIzdAzczMzMzMKkDNzMzMzMwEQD0K16NwvShA7FG4HoVrP0C4HoXrUbgVQClcj8L1KClAPQrXo3B9NUApXI/C9agsQK5H4XoULjBAFK5H4XrUOEDhehSuR2EqQDMzMzMzMwFApHA9CtejKUBxPQrXo3AiQJqZmZmZmcm/uB6F61G4zj/Xo3A9CgdYQI/C9ShcjyJASOF6FK5HI0BxPQrXo3A4QKRwPQrXo/Q/9ihcj8L1HEB7FK5H4ZpJQDMzMzMzMyFAFK5H4XoUF0AAAAAAACBMQBSuR+F6FP4/w/UoXI+CP0AUrkfheiRcQD0K16NwY4BASOF6FK5HFkBmZmZmZuYmQNejcD0KlzRAUrgeheuRPUBSuB6F61EiQD0K16NwvSpAH4XrUbjuUkBmZmZmZgZQQClcj8L1qC5AAAAAAAAAEUAzMzMzMzMzQD0K16NwzVFAMzMzMzPDX0B7FK5H4XoRQOxRuB6FqzBAKVyPwvXoMUDNzMzMzEw1QPYoXI/CdSNAXI/C9Sh6gEBcj8L1KNwrQFK4HoXr0XBAzczMzMzM3D+amZmZmRk1QKRwPQrXoyBAMzMzMzMz9z9cj8L1KFwjQD0K16NwPRpAH4XrUbjePEC4HoXrUbgdQFK4HoXrUSJASOF6FK5HGEBcj8L1KFwFQD0K16NwPRdAcT0K16MwMECamZmZmRknQJqZmZmZmfE/cT0K16NwHkD2KFyPwnUtQI/C9ShcjwBAZmZmZmZmHUB7FK5H4XoAQHE9CtejcAFAj8L1KFyPHkBmZmZmZgZjQOxRuB6F6+E/rkfhehQuMUCF61G4HoUWQDMzMzMzMxpA4XoUrkfhHkCamZmZmZkLQI/C9ShcjwZA7FG4HoXLTUDhehSuR+HKv8P1KFyPwh1ACtejcD2KI0ApXI/C9agwQIXrUbgehRhAuB6F61G4CkApXI/C9UhCQBSuR+F6VDFAj8L1KFwPJkDhehSuR+EsQGZmZmZmZhlAXI/C9SjsVkAzMzMzMzMFQOxRuB6FKztA9ihcj8I1OUDhehSuR+EeQDMzMzMzMxBArkfhehT+UUBcj8L1KNwqQFK4HoXrUQxAXI/C9SjcPkBSuB6F61EGQGZmZmZmZiZA4XoUrkfhKkC4HoXrUbgjQGZmZmZm5iNA4XoUrkfh6j+kcD0K16MIQArXo3A9CjBAuB6F61G4K0AUrkfhehQ8QArXo3A9Cue/MzMzMzOzTEB7FK5H4XoUQLgehetROChA16NwPQrX8z/Xo3A9CtciQArXo3A9ChJArkfhehSuE0CkcD0K12MyQI/C9ShcZ2ZAUrgehesBWEAAAAAAAAAXQIXrUbgehfM/cT0K16PwJEAAAAAAAAAOQMP1KFyPwhtAcT0K16NwH0D2KFyPwjU2QK5H4XoUrvc/AAAAAABANEBcj8L1KJxCQJqZmZmZWU1AKVyPwvUo8D/sUbgehesuQM3MzMzMTD1Aw/UoXI/CIEAzMzMzMzMRQArXo3A9ChRAKVyPwvUo5L+uR+F6FK4bQFyPwvUonD1AH4XrUbgeF0BmZmZmZmYSQKRwPQrXoxpA16NwPQonVECF61G4HkVAQPYoXI/C9RdAexSuR+F6JkDD9Shcj0IoQI/C9ShcjwpAcT0K16Nw9T+PwvUoXA8gQPYoXI/CdT5AXI/C9ShcBUAUrkfhehT6Pylcj8L1KOy/KVyPwvUoAEAK16NwPYoiQI/C9ShcjxVA4XoUrkdhI0BmZmZmZmY0QJqZmZmZGS5AcT0K16PwIkC4HoXrUTg+QFyPwvUo3CJApHA9CtejGEBcj8L1KNwgQHsUrkfhehpAKVyPwvUo3L+F61G4HsUwQArXo3A9CgdA16NwPQpXLECkcD0K1yM+QOF6FK5HYT5AuB6F61H4NUCkcD0K1yMjQJqZmZmZmS5ArkfhehQuKkAUrkfhehQSQB+F61G43jBAmpmZmZmZFkBSuB6F61EQQMP1KFyPgkdAcT0K16OwMEAAAAAAAAAvQHsUrkfhejlA4XoUrkdhIUDsUbgehWs1QM3MzMzMDDZAZmZmZmZm1r9SuB6F61EsQB+F61G4HiFA4XoUrkchPkBxPQrXo3AZQK5H4XoUrg9AZmZmZmZmF0AK16NwPYouQGZmZmZmZiFAZmZmZmaeZ0BI4XoUrscvQMP1KFyPgjlAexSuR+G6QkCF61G4HoUXQHE9CtejcAFAKVyPwvUoH0DhehSuR+ETQGZmZmZm5iVAcT0K16NwIECamZmZmRksQJqZmZmZGSdAw/UoXI/CGEAK16NwPYpTQHE9CtejSHNACtejcD0K9z9SuB6F61EmQB+F61G4HtW/16NwPQrXEUD2KFyPwvUUQOF6FK5HYStA7FG4HoXrC0AK16NwPYogQFK4HoXrURJA7FG4HoXr4b/sUbgehescQDMzMzMzcztAuB6F61E4JkDD9Shcj8IRQGZmZmZmZhRACtejcD2KIkDNzMzMzMwGQHsUrkfheh1A16NwPQrXCUAAAAAAAAAbQGZmZmZmZgJAH4XrUbge7T8pXI/C9ehEQDMzMzMzMzBA4XoUrkfRYUAAAAAAAAACQPYoXI/CNTRA9ihcj8L12D9SuB6F61EVQJqZmZmZmbk/cT0K16OwMkApXI/C9SgVQHsUrkfheqS/SOF6FK5XUEBcj8L1KFz/P4XrUbgehRNAzczMzMzMEkB7FK5H4XoEQIXrUbgehQ1ApHA9CtcLY0DXo3A9CtcRQFK4HoXrwVJAj8L1KFw7dEC4HoXrUbgGQEjhehSuR0ZAMzMzMzOzJUD2KFyPwnUkQB+F61G4niRAUrgehesRN0ApXI/C9SgtQHE9CtejcO2/uB6F61G4GUCF61G4HoUlQMP1KFyPwuW/pHA9CtcjKUBmZmZmZmbuP0jhehSuRxpArkfhehSuFECuR+F6FK41QHE9Ctej8CdA4XoUrkdhJ0CkcD0K1yMhQOxRuB6FazFAPQrXo3A9FkBcj8L1KFwBQOxRuB6F6yBAH4XrUbjWbUAfhetRuF5JQNejcD0K1yNAcT0K16NwI0ApXI/C9SgEQK5H4XoU7jBAFK5H4XoUE0AzMzMzMzMDQI/C9ShcTzVA4XoUrkfhHEDNzMzMzMwGQLgehetRuBRAhetRuB6F8z97FK5H4fomQNejcD0KVyNA7FG4HoXr9T/sUbgehR90QJqZmZmZmTdAj8L1KFyPFUD2KFyPwvUgQHE9Ctej8CFAUrgehevxSUC4HoXrUehjQPYoXI/C9SFAUrgehevRKUAfhetRuB4hQNejcD0K1yNAj8L1KFwPIED2KFyPwrVCQFK4HoXrUStAmpmZmZmZEED2KFyPwvUzQEjhehSuxyxAKVyPwvUovL/D9Shcj8IDQLgehetRqFNA16NwPQrXHUB7FK5H4XoZQFK4HoXrUeA/SOF6FK5nZEDXo3A9CqdcQBSuR+F6lCdA9ihcj8J1JEBxPQrXo3D5P3sUrkfhei9AuB6F61G4FUAAAAAAAADoP0jhehSuRzNAPQrXo3D9REBmZmZmZmb2P83MzMzMzBtA7FG4HoWLREDD9Shcj8Llv0jhehSuh0BAFK5H4XoUO0D2KFyPwvUoQArXo3A9Cue/pHA9CtejMUBcj8L1KFwmQGZmZmZmZhZAKVyPwvUoCkA9CtejcD03QHE9CtejcCFAcT0K16NwM0BmZmZmZqY+QDMzMzMzk1RASOF6FK5HMECkcD0K16MvQFK4HoXr0S9AuB6F61EYUkBxPQrXozAxQIXrUbgehR1ApHA9CtejBEApXI/C9Sg6QM3MzMzMzB1AcT0K16PwL0AfhetRuM5YQIXrUbgeRTRArkfhehSuLUDsUbgehevxPzMzMzMzMwlA9ihcj8J1LkDNzMzMzCxLQK5H4XoULi5AZmZmZmbmJEDXo3A9Cpc3QPYoXI/C9dg/rkfhehSuEEDNzMzMzLxkQI/C9Shcn1BAXI/C9SjcLkAUrkfhetRUQGZmZmZmZhlAUrgehetRNUBI4XoUrkcJQOF6FK5H4eq/mpmZmZnZMUAAAAAAAMAxQI/C9ShcTzdAzczMzMwsWEDNzMzMzMwgQI/C9Shcj/o/MzMzMzMz+z8K16NwPQo0QBSuR+F6FN4/MzMzMzMzREAzMzMzMzMDQOF6FK5H4S9AmpmZmZmZ+T+F61G4HoeDQGZmZmZmZhlASOF6FK7HIkAzMzMzM7M5QPYoXI/CdSVAKVyPwvUo7L8UrkfhepQoQClcj8L1KAxA4XoUrkdhMEDhehSuR+ECQPYoXI/C9di/FK5H4XqUMkDhehSuR+EaQKRwPQrXoxVAXI/C9ShcHUD2KFyPwvXoP83MzMzMzDFASOF6FK5HA0DhehSuR4FPQI/C9ShcDytApHA9CtejDkCuR+F6FK4JQEjhehSuRwFAmpmZmZmZIkCF61G4HoUfQHE9CtejcBNACtejcD0Kt79xPQrXo3DxPzMzMzMzMxhAKVyPwvUoFkBI4XoUrkcFQI/C9ShcjwpArkfhehSuFkCF61G4HoUPQAAAAAAAQD9AMzMzMzOzJUAzMzMzMw9wQK5H4XoUbjNA16NwPQpXJkAK16NwPdpQQMP1KFyPwgdAKVyPwvUoHUAK16NwPYomQIXrUbgehfM/CtejcD36WEC4HoXrUfhXQOxRuB6F60JAAAAAAAAAFEAzMzMzMzMbQNejcD0K1wFAexSuR+E6OUBSuB6F61E1QK5H4XoUmINAMzMzMzMzHEAAAAAAAADwv+xRuB6FayxAuB6F61G4FUDD9Shcj8ITQFK4HoXr0SRAFK5H4XoUEkAzMzMzMzMQQEjhehSuR+G/AAAAAAAwUkCPwvUoXO9MQDMzMzMzMy1ArkfhehTuMEDhehSuR+ETQKRwPQrXg0JAH4XrUbheMkAAAAAAAAAGQBSuR+F6FCVAw/UoXI/CB0DD9ShcjyJPQD0K16NwvSZAexSuR+F6GEApXI/C9ShGQClcj8L1KBdAZmZmZmZm5r+4HoXrUehRQB+F61G4HhhAXI/C9ShcH0DsUbgehevxP/YoXI/C9UlAH4XrUbgOWkAAAAAAAMBMQKRwPQrXoxdAPQrXo3C9J0DsUbgehSs+QKRwPQrXox1AUrgeheuRMkD2KFyPwnU1QK5H4XoUrh1ApHA9CtejGkDsUbgehev1P5qZmZmZmSJAKVyPwvXoO0AzMzMzMzMwQPYoXI/C9SVA4XoUrkfhBkCuR+F6FK4tQHE9CtejcBpAcT0K16PwLUAfhetRuB4eQEjhehSuRxVAw/UoXI/CJECkcD0K16PwPx+F61G4HiVAFK5H4XoUNUCkcD0K1yMkQB+F61G4nipAXI/C9ShcF0BmZmZmZmYUQK5H4XoUrte/PQrXo3C9MUDhehSuR6ExQOF6FK5HCWFAXI/C9ShcFUAAAAAAAAASQDMzMzMzMw1AUrgehetRKUC4HoXrUXgwQGZmZmZm5lRAuB6F61G4FUBSuB6F69EgQArXo3A9SkBArkfhehSuL0CamZmZmZkSQB+F61G4HihA4XoUrkfhO0CPwvUoXI/6PwrXo3A9ikxAhetRuB5FNEApXI/C9SgtQOxRuB6F69E/UrgehesRMkCF61G4HoX3P6RwPQrXoyxAAAAAAAAAFEBSuB6F61EIQIXrUbgehQlAuB6F61G47r/D9Shcj4I0QHE9CtejcBVA4XoUrkchNUAzMzMzMzM5QJqZmZmZmS5AhetRuB6F4z9SuB6F61Hov6RwPQrXoxtAMzMzMzMzEkAAAAAAAEA1QAAAAAAAIGFAw/UoXI/C7T+amZmZmVk8QFK4HoXr0SJA16NwPQrXIkBI4XoUrkcmQClcj8L1KOw/CtejcD0KHkCF61G4HoUWQLgehetRuBVA9ihcj8LlUUCkcD0K1yMiQKRwPQrXoxtAmpmZmZnZN0DhehSuR+ETQGZmZmZmZhJAmpmZmZmZ+b8zMzMzM7NVQNejcD0K1xhAZmZmZmZm9j+4HoXrUbj6PwAAAAAAAOA/AAAAAAAA4D8AAAAAAAAAQA==",
          "dtype": "f8"
         },
         "yaxis": "y3"
        },
        {
         "line": {
          "color": "rgba(255, 0, 0, 0.7)",
          "width": 3
         },
         "mode": "lines",
         "name": "Tendencia LOWESS",
         "type": "scatter",
         "x": {
          "bdata": "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",
          "dtype": "f8"
         },
         "xaxis": "x3",
         "y": {
          "bdata": "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",
          "dtype": "f8"
         },
         "yaxis": "y3"
        },
        {
         "hovertemplate": "<b>Canal:</b> organic<br><b>Presupuesto:</b> $%{x:,.2f}<br><b>Ingresos:</b> $%{y:,.2f}<extra></extra>",
         "legendgroup": "organic",
         "marker": {
          "color": "rgba(255, 182, 193, 0.7)",
          "size": 8
         },
         "mode": "markers",
         "name": "organic",
         "type": "scatter",
         "x": {
          "bdata": "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",
          "dtype": "f8"
         },
         "xaxis": "x4",
         "y": {
          "bdata": "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",
          "dtype": "f8"
         },
         "yaxis": "y4"
        },
        {
         "hovertemplate": "<b>Canal:</b> promotion<br><b>Presupuesto:</b> $%{x:,.2f}<br><b>Ingresos:</b> $%{y:,.2f}<extra></extra>",
         "legendgroup": "promotion",
         "marker": {
          "color": "rgba(173, 216, 230, 0.7)",
          "size": 8
         },
         "mode": "markers",
         "name": "promotion",
         "type": "scatter",
         "x": {
          "bdata": "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",
          "dtype": "f8"
         },
         "xaxis": "x4",
         "y": {
          "bdata": "ZmZmZgSIH0EzMzMz6zLnQOF6FK4LLQlBKVyPwvNLBUFcj8L1PhwcQTMzMzNW4BFBCtejcBGVGkFmZmZmngXkQJqZmZll3RtBpHA9iuVULkEK16NwPajxQLgehetH1yJB9ihcj5J0IUEUrkfhKNEcQWZmZuZF3ylBSOF6FIO4EEGkcD2KKd4kQfYoXI+hQRZBw/UoXKviJkEzMzMz3QIqQT0K16M03glB9ihcDzWbKkHXo3A9BBoGQZqZmZkj4Q1BUrgeBWdlLUHhehSuZXgUQaRwPQqbehFB16NwvVXAJ0EfhetRduseQaRwPQrD6PVAhetRuMeeHUHhehSu8f0BQa5H4Xr5RBhBMzMzM0un9kCamZmZyiMlQbgehWtBSi5BXI/CdVoLJUEfhetRVs4jQc3MzMwUT/NAZmZmZjZj+kDhehSu97EsQUjhehSih/tAKVyPwgNBCkEzMzMz26zoQDMzMzNZ0RBBzczMzCNcLUHXo3C9jdIrQR+F61HmfSpBrkfhepohK0EfhetRy80eQWZmZmaHqyJBZmZmZo68/0CamZmZKX8eQZqZmZkdGwVBCtejcCmFIEFcj8L1htcIQT0K16NHvhBB16NwvV4AI0GuR+F6wzUfQRSuR+GppS1B16NwPd5A/kB7FK5HF1ctQZqZmZk/IhpBZmZmZlQXF0EfhevRudwkQYXrUbgknxJBFK5H4RnsFkFmZmZmBFchQUjhehTjAShBrkfheoXRK0GPwvWorbAgQRSuR2FPfSdBexSuR/QZIkEzMzOzxnMsQT0K1yOF8SdBAAAAAAB77EA9CtcjBZYpQQAAAABX5SBBhetRuLMBEkFcj8L1rPDzQPYoXI+ExxpBMzMzM732AEG4HoXrnSYmQTMzMzN8hS1B7FG4Hs2L7kCF61G4FWsqQQAAAAC+FRxBrkfhevfGFkE9CtejPoYVQVyPwvURfStBw/UoXFh6JUHhehSuldgAQQAAAABAKMBAAAAAgItJKUGkcD2KwpolQVyPwnVLUC5BH4Xr0R//JkFSuB6FeXwmQTMzMzMiLSFBhetROG9jJ0EpXI9CmDsnQZqZmRl7dyJBMzMzMyamI0EzMzMzOesGQfYoXI92EyxBmpmZmaXsGkEUrkfhrbMTQZqZmZlB/xpBrkfh+rfrKEHXo3C9a2EqQT0K16MbbyxBexSux39BKEGF61E4mfEoQcP1KNywHSlBj8L1KEwx3kAAAAAAmrAbQYXrUbhfWSpBUrgehXoALEHXo3C9LB8hQZqZmZmZcqxAMzMzMwhVIkH2KFyPRYIQQc3MzMy4GBZBCtej8FhQIEEUrkfh4+QjQc3MzEy8HCxBFK5H4bpnDEHXo3A9NPkrQa5H4fp8kSdBexSuR0exKEFmZmbmqpQgQc3MzEz+vSdBmpmZmQlZJEHD9ShcWkksQexRuJ5voyZB9ihcj1dTJEHNzMzMWmINQSlcj8LCYxBBMzMzM+dQ+0DNzMzMdDAYQTMzMzN/UANBZmZmZn4m6kBxPQrXTx4RQYXrUbgcjBFBZmZmZli9H0GuR+F6vroZQcP1KFyHoitB16Nwve37LUHhehSuWTALQc3MzMxWRRNB7FG4HtV81EB7FK5HPSIFQSlcj8KTEB1BUrgehQNCAUGuR+F69zchQeF6FC4/xyVBZmZmZr6yBEFcj8L1MW8hQR+F61HMsgVB9ihcj3NlGUHNzMzMzBjVQLgehWt+OytBuB6F67TNJEFI4XoUZVQYQRSuR+EQIAVBMzMzM7MIxEAfhetRhOUPQQrXo3DiZxNBcT0K1yt/LkEzMzMz4ucrQVyPwvWMoQdBhetRuElXH0HD9ShcD24QQcP1KFwHYBlBZmZmZhZ1JkHD9Shcw4olQT0K1yMTpyBBcT0K124LJEHsUbgeqacMQaRwPYpXEiZBFK5H4drVJ0FSuB6FCyPgQArXo3AzsBRBAAAAAClsHUHNzMzMSGwlQRSuR+ELeixBZmZmZmiWKEGF61G47vPoQGZmZmYe/A9B7FG4HpXk8kBSuB6FZ4IlQfYoXI9lXBdBUrgehTPxCkF7FK7Hm78kQeF6FK4PoAJBSOF6FCLK9UBmZmZm1rolQR+F61EakQ5BMzMzs5CAJ0GuR+F6VMQMQVK4HoVNoxdB16NwvXh5JEEpXI/C9pYoQexRuB6f+whBPQrXo8M+G0Fcj8L1lFv7QBSuR+EqfANBFK5H4dJSJkGPwvWo7xYqQexRuB4JzyVB7FG4Ho3MIEEpXI/CRjEaQT0K16PbbilBexSux22uKEFI4XoUoTQnQTMzMzPL/RNBZmZmZhxEJ0HNzMzMkcwmQaRwPQr/0B1BZmZmZmdwJEEAAAAAKZstQXsUrkcr4ABB16NwPXX5KUFcj8L1el8ZQdejcD0qVd1Aj8L1qJZ/KkGuR+F6Y7cRQWZmZmaWZ/1AH4XrUWShDUH2KFyP5I4jQaRwPYqdFi5B9ihcj+4H9kBmZmZm0sMSQcP1KFw60xZBMzMzMwoyLUEAAACAe0YgQfYoXI+xcitB4XoUrqdTzUBxPQrX6AoUQaRwPQqnoddAexSux0NcKUG4HoVrZT4nQaRwPQrrwQZBmpmZmcuAJkFcj8L1srsqQc3MzMyJCR9BpHA9Cl22HkEAAAAABDIGQTMzMzOzPh9BexSuR14+KEGamZkZr10hQexRuJ4g6idBMzMzs4CuIUHXo3A9SmnpQArXo3ATMitBpHA9Cj2HFkHD9ShcyZgZQbgehWsZJihBH4XrUVqmIUGamZmZoWIQQbgehetz2RNBUrgehaW3IEEAAAAAGXkhQR+F61EngxFBMzMzM1cbAkFmZmZmKlQLQTMzMzMhVgxBrkfh+oiHJkFmZmZmSXshQcP1KFx/ZxRBPQrXo7XwEEHhehSuCy0JQQAAAAAAaghB",
          "dtype": "f8"
         },
         "yaxis": "y4"
        },
        {
         "hovertemplate": "<b>Canal:</b> paid<br><b>Presupuesto:</b> $%{x:,.2f}<br><b>Ingresos:</b> $%{y:,.2f}<extra></extra>",
         "legendgroup": "paid",
         "marker": {
          "color": "rgba(144, 238, 144, 0.7)",
          "size": 8
         },
         "mode": "markers",
         "name": "paid",
         "type": "scatter",
         "x": {
          "bdata": "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",
          "dtype": "f8"
         },
         "xaxis": "x4",
         "y": {
          "bdata": "4XoUrs33G0HNzMzMV5EXQdejcD18QS1BhetROLF3LEEzMzMz3T4aQUjhepT0MyxBKVyPwpVx/ECkcD0KTysdQTMzM7MAVCFB9ihcDzeHJEGF61G43uHcQEjhehTd2B1BKVyPQvymKkGF61E4kfMpQRSuR+Hz2xxBuB6F6wYPH0G4HoXraV4TQdejcD0wVCFBUrgehZUlJkHXo3A9We0TQc3MzMxYgh9B4XoUruLsLUEzMzOzOiAiQRSuR+FWdPxAFK5H4TLwAkG4HoXravgfQR+F61GVIR1Bw/UoXLm5H0EK16Nw2ZQKQaRwPQoR/x5Bj8L1qJnHKEFcj8L1QIQQQUjhepTJzClBcT0K1zqEI0G4HoXrXOQkQaRwPQq3agFB9ihcjwfWGEGPwvUoScMSQQrXo3ATrxlBcT0K17W2KkEzMzOz5J4tQY/C9ahwnCdBhetRuN7fH0HXo3A9GWAuQRSuR+Fy4OpAmpmZmb29CkGPwvUoziATQXE9CtcrMCxBexSuxwlUJ0GuR+H6BgYsQSlcj8K9VSZBPQrXI5PWI0FxPQrXA2v3QOF6FK7bVCpBSOF6FA53/0C4HoVrtw0sQVyPwvVysgFBSOF6FEbq4EAzMzOzH1gtQfYoXI8MdRpB16NwPWpL30CamZmZAxMlQUjhehS78CVBPQrXo9ZkC0HXo3A9/E0HQcP1KNySjCpBmpmZmeCYHEH2KFyPSoIEQTMzM7MZsSdBzczMzJnsJ0HsUbieRAwuQSlcj8IdWRBBj8L1KNqRE0GuR+F6uJIsQcP1KFwq0RdB9ihcj5qCIEFSuB4FEfggQexRuB7RygJB9ihcjxa6HUEzMzMzIR4hQT0K1yMPgipBAAAAAMm0LEFI4XqUESYjQa5H4XoFwydBw/Uo3DWIKkHXo3A909EcQSlcj8JRHf9AMzMzMwfFHEF7FK7Hmv0rQZqZmZlhww9BSOF6FEbNF0HNzMzM1NsqQZqZmZmOqh1BzczMzH5mJkEzMzMz6+H9QDMzMzMSoB5BuB6F60nPB0FmZmZmh/UjQQAAAAC9oSdBhetROB+vKUF7FK7HrlEkQRSuR+F2zBtBmpmZmT1xJkGamZmZzDgYQT0K1yOffypBzczMzJjQGEEpXI/CDe/wQFK4HgXRWypBUrgehS1bEUHNzMzM6eAYQSlcj8K8NhNBXI/CdYcuIkFmZmZmPrAnQWZmZuaNWSFBPQrXowfkI0E9CtejFuoPQVK4HoXDOBBBMzMzMzLSIEEpXI/CHBAqQRSuR+EayyRBXI/C9cttEEF7FK7HAnUmQT0K16OD7CRBPQrXozSLK0H2KFwPiecrQexRuB6J9g5BAAAAgB+5J0HNzMzMiJ8pQXE9Ctf4NhhBMzMzM7VrKkH2KFyPgKAZQT0K16PdXhxB4XoUrnQ2FkFmZmZmbiAcQR+F69FqLiJBw/UoXO87FUHD9SjcxhYiQSlcj8Kd4yhBKVyPQqnJI0GamZmZl70tQWZmZuZ6AidBCtej8LUWLUHXo3A9zFIKQfYoXI9P9CNBZmZmZhI58kAzMzMzkAAqQVyPwnUd0ydBSOF6FMedH0EK16Nw8foRQWZmZmbDKiBBj8L1KJalDUHhehSuD2/iQLgehevZuRxB4XoUrjWwJkG4HoXrnbcWQT0K16M/PRJBrkfheqwT8kCF61E4cicmQfYoXI9mlg5BAAAAAK0KE0GPwvUo7rYLQSlcj8IlIw9BSOF6FHJ1HEEzMzMzJBkuQVK4HoWydCJBPQrXo3i8KkHNzMzMCh0iQc3MzExXUihBcT0KV49wKUEzMzMzl8MtQSlcj8JzZCZBzczMzAHNKUGF61E4qjksQSlcj8KfoSNBw/UoXJ/GB0EAAAAAsVgQQexRuB5n1hZBPQrXo+KWFUFI4XqUgxopQYXrUTjojSdB4XoUriwpHkH2KFyPIrocQR+F61HWixhBZmZmZuCDLUEUrkfhvAIMQVK4HoUXpQRBrkfh+u5bIkEK16NwzcvXQD0K16NVEiZBuB6F6/qNJkHNzMzMvTYlQa5H4XqJThRBMzMzM3asHkF7FK7Hn8UqQVyPwvUbRCpBKVyPwjl/CUGF61G45mDgQD0K1yMzSSxB7FG4Hi85DkHhehSumHwYQY/C9SiMdvlAzczMzGgPEkEfhetRc6EVQa5H4frjOydBzczMzOynEUFSuB6FmmsRQexRuB4v8RpBpHA9Ct1qAUGPwvUovMryQGZmZmauxeFAexSuR43FEUGamZmZ4XsaQbgehWsRjypB4XoULhmjIEEfhevRvRYrQXsUrkcxrxZBZmZmZnTQKkEK16PwoGQqQcP1KFwyci5BH4XrUe/sHUHNzMzMSCoaQWZmZmZvdCdBPQrXo3ANW0DsUbiebMAmQXsUrsfHOiFBzczMTBOHIUFI4XqUS04sQY/C9She5RFBMzMzM12LIUFmZmZmuJYjQc3MzMz7fCBBmpmZmZ24+UBI4XoUvuf1QM3MzEz8HiBBuB6F67Us8UCamZmZ900BQXsUrkdakR9BzczMzNkTLkEAAAAAAEzNwAAAAAAATP1AAAAAAAD55UAAAAAAAPn1QA==",
          "dtype": "f8"
         },
         "yaxis": "y4"
        },
        {
         "hovertemplate": "<b>Canal:</b> referral<br><b>Presupuesto:</b> $%{x:,.2f}<br><b>Ingresos:</b> $%{y:,.2f}<extra></extra>",
         "legendgroup": "referral",
         "marker": {
          "color": "rgba(255, 218, 185, 0.7)",
          "size": 8
         },
         "mode": "markers",
         "name": "referral",
         "type": "scatter",
         "x": {
          "bdata": "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",
          "dtype": "f8"
         },
         "xaxis": "x4",
         "y": {
          "bdata": "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",
          "dtype": "f8"
         },
         "yaxis": "y4"
        }
       ],
       "layout": {
        "annotations": [
         {
          "font": {
           "size": 16
          },
          "showarrow": false,
          "text": "Relación entre Presupuesto e Ingresos",
          "x": 0.22,
          "xanchor": "center",
          "xref": "paper",
          "y": 1,
          "yanchor": "bottom",
          "yref": "paper"
         },
         {
          "font": {
           "size": 16
          },
          "showarrow": false,
          "text": "Eficiencia de Inversión por Rangos",
          "x": 0.78,
          "xanchor": "center",
          "xref": "paper",
          "y": 1,
          "yanchor": "bottom",
          "yref": "paper"
         },
         {
          "font": {
           "size": 16
          },
          "showarrow": false,
          "text": "Presupuesto vs ROI",
          "x": 0.22,
          "xanchor": "center",
          "xref": "paper",
          "y": 0.425,
          "yanchor": "bottom",
          "yref": "paper"
         },
         {
          "font": {
           "size": 16
          },
          "showarrow": false,
          "text": "Análisis por Canal",
          "x": 0.78,
          "xanchor": "center",
          "xref": "paper",
          "y": 0.425,
          "yanchor": "bottom",
          "yref": "paper"
         },
         {
          "arrowcolor": "red",
          "arrowhead": 1,
          "arrowsize": 1,
          "arrowwidth": 2,
          "bgcolor": "rgba(255, 255, 255, 0.8)",
          "bordercolor": "red",
          "borderpad": 4,
          "borderwidth": 1,
          "font": {
           "color": "red",
           "size": 12
          },
          "showarrow": true,
          "text": "Punto óptimo<br>$1k-$20k<br>Eficiencia: 50.5x",
          "x": "$1k-$20k",
          "xref": "x2",
          "y": 52.53661025842133,
          "yref": "y2"
         }
        ],
        "height": 900,
        "legend": {
         "bordercolor": "LightGrey",
         "borderwidth": 1,
         "font": {
          "size": 12
         },
         "orientation": "h",
         "x": 0.5,
         "xanchor": "center",
         "y": 1.05,
         "yanchor": "bottom"
        },
        "margin": {
         "b": 80,
         "l": 80,
         "r": 80,
         "t": 120
        },
        "template": {
         "data": {
          "bar": [
           {
            "error_x": {
             "color": "rgb(36,36,36)"
            },
            "error_y": {
             "color": "rgb(36,36,36)"
            },
            "marker": {
             "line": {
              "color": "white",
              "width": 0.5
             },
             "pattern": {
              "fillmode": "overlay",
              "size": 10,
              "solidity": 0.2
             }
            },
            "type": "bar"
           }
          ],
          "barpolar": [
           {
            "marker": {
             "line": {
              "color": "white",
              "width": 0.5
             },
             "pattern": {
              "fillmode": "overlay",
              "size": 10,
              "solidity": 0.2
             }
            },
            "type": "barpolar"
           }
          ],
          "carpet": [
           {
            "aaxis": {
             "endlinecolor": "rgb(36,36,36)",
             "gridcolor": "white",
             "linecolor": "white",
             "minorgridcolor": "white",
             "startlinecolor": "rgb(36,36,36)"
            },
            "baxis": {
             "endlinecolor": "rgb(36,36,36)",
             "gridcolor": "white",
             "linecolor": "white",
             "minorgridcolor": "white",
             "startlinecolor": "rgb(36,36,36)"
            },
            "type": "carpet"
           }
          ],
          "choropleth": [
           {
            "colorbar": {
             "outlinewidth": 1,
             "tickcolor": "rgb(36,36,36)",
             "ticks": "outside"
            },
            "type": "choropleth"
           }
          ],
          "contour": [
           {
            "colorbar": {
             "outlinewidth": 1,
             "tickcolor": "rgb(36,36,36)",
             "ticks": "outside"
            },
            "colorscale": [
             [
              0,
              "#440154"
             ],
             [
              0.1111111111111111,
              "#482878"
             ],
             [
              0.2222222222222222,
              "#3e4989"
             ],
             [
              0.3333333333333333,
              "#31688e"
             ],
             [
              0.4444444444444444,
              "#26828e"
             ],
             [
              0.5555555555555556,
              "#1f9e89"
             ],
             [
              0.6666666666666666,
              "#35b779"
             ],
             [
              0.7777777777777778,
              "#6ece58"
             ],
             [
              0.8888888888888888,
              "#b5de2b"
             ],
             [
              1,
              "#fde725"
             ]
            ],
            "type": "contour"
           }
          ],
          "contourcarpet": [
           {
            "colorbar": {
             "outlinewidth": 1,
             "tickcolor": "rgb(36,36,36)",
             "ticks": "outside"
            },
            "type": "contourcarpet"
           }
          ],
          "heatmap": [
           {
            "colorbar": {
             "outlinewidth": 1,
             "tickcolor": "rgb(36,36,36)",
             "ticks": "outside"
            },
            "colorscale": [
             [
              0,
              "#440154"
             ],
             [
              0.1111111111111111,
              "#482878"
             ],
             [
              0.2222222222222222,
              "#3e4989"
             ],
             [
              0.3333333333333333,
              "#31688e"
             ],
             [
              0.4444444444444444,
              "#26828e"
             ],
             [
              0.5555555555555556,
              "#1f9e89"
             ],
             [
              0.6666666666666666,
              "#35b779"
             ],
             [
              0.7777777777777778,
              "#6ece58"
             ],
             [
              0.8888888888888888,
              "#b5de2b"
             ],
             [
              1,
              "#fde725"
             ]
            ],
            "type": "heatmap"
           }
          ],
          "histogram": [
           {
            "marker": {
             "line": {
              "color": "white",
              "width": 0.6
             }
            },
            "type": "histogram"
           }
          ],
          "histogram2d": [
           {
            "colorbar": {
             "outlinewidth": 1,
             "tickcolor": "rgb(36,36,36)",
             "ticks": "outside"
            },
            "colorscale": [
             [
              0,
              "#440154"
             ],
             [
              0.1111111111111111,
              "#482878"
             ],
             [
              0.2222222222222222,
              "#3e4989"
             ],
             [
              0.3333333333333333,
              "#31688e"
             ],
             [
              0.4444444444444444,
              "#26828e"
             ],
             [
              0.5555555555555556,
              "#1f9e89"
             ],
             [
              0.6666666666666666,
              "#35b779"
             ],
             [
              0.7777777777777778,
              "#6ece58"
             ],
             [
              0.8888888888888888,
              "#b5de2b"
             ],
             [
              1,
              "#fde725"
             ]
            ],
            "type": "histogram2d"
           }
          ],
          "histogram2dcontour": [
           {
            "colorbar": {
             "outlinewidth": 1,
             "tickcolor": "rgb(36,36,36)",
             "ticks": "outside"
            },
            "colorscale": [
             [
              0,
              "#440154"
             ],
             [
              0.1111111111111111,
              "#482878"
             ],
             [
              0.2222222222222222,
              "#3e4989"
             ],
             [
              0.3333333333333333,
              "#31688e"
             ],
             [
              0.4444444444444444,
              "#26828e"
             ],
             [
              0.5555555555555556,
              "#1f9e89"
             ],
             [
              0.6666666666666666,
              "#35b779"
             ],
             [
              0.7777777777777778,
              "#6ece58"
             ],
             [
              0.8888888888888888,
              "#b5de2b"
             ],
             [
              1,
              "#fde725"
             ]
            ],
            "type": "histogram2dcontour"
           }
          ],
          "mesh3d": [
           {
            "colorbar": {
             "outlinewidth": 1,
             "tickcolor": "rgb(36,36,36)",
             "ticks": "outside"
            },
            "type": "mesh3d"
           }
          ],
          "parcoords": [
           {
            "line": {
             "colorbar": {
              "outlinewidth": 1,
              "tickcolor": "rgb(36,36,36)",
              "ticks": "outside"
             }
            },
            "type": "parcoords"
           }
          ],
          "pie": [
           {
            "automargin": true,
            "type": "pie"
           }
          ],
          "scatter": [
           {
            "fillpattern": {
             "fillmode": "overlay",
             "size": 10,
             "solidity": 0.2
            },
            "type": "scatter"
           }
          ],
          "scatter3d": [
           {
            "line": {
             "colorbar": {
              "outlinewidth": 1,
              "tickcolor": "rgb(36,36,36)",
              "ticks": "outside"
             }
            },
            "marker": {
             "colorbar": {
              "outlinewidth": 1,
              "tickcolor": "rgb(36,36,36)",
              "ticks": "outside"
             }
            },
            "type": "scatter3d"
           }
          ],
          "scattercarpet": [
           {
            "marker": {
             "colorbar": {
              "outlinewidth": 1,
              "tickcolor": "rgb(36,36,36)",
              "ticks": "outside"
             }
            },
            "type": "scattercarpet"
           }
          ],
          "scattergeo": [
           {
            "marker": {
             "colorbar": {
              "outlinewidth": 1,
              "tickcolor": "rgb(36,36,36)",
              "ticks": "outside"
             }
            },
            "type": "scattergeo"
           }
          ],
          "scattergl": [
           {
            "marker": {
             "colorbar": {
              "outlinewidth": 1,
              "tickcolor": "rgb(36,36,36)",
              "ticks": "outside"
             }
            },
            "type": "scattergl"
           }
          ],
          "scattermap": [
           {
            "marker": {
             "colorbar": {
              "outlinewidth": 1,
              "tickcolor": "rgb(36,36,36)",
              "ticks": "outside"
             }
            },
            "type": "scattermap"
           }
          ],
          "scattermapbox": [
           {
            "marker": {
             "colorbar": {
              "outlinewidth": 1,
              "tickcolor": "rgb(36,36,36)",
              "ticks": "outside"
             }
            },
            "type": "scattermapbox"
           }
          ],
          "scatterpolar": [
           {
            "marker": {
             "colorbar": {
              "outlinewidth": 1,
              "tickcolor": "rgb(36,36,36)",
              "ticks": "outside"
             }
            },
            "type": "scatterpolar"
           }
          ],
          "scatterpolargl": [
           {
            "marker": {
             "colorbar": {
              "outlinewidth": 1,
              "tickcolor": "rgb(36,36,36)",
              "ticks": "outside"
             }
            },
            "type": "scatterpolargl"
           }
          ],
          "scatterternary": [
           {
            "marker": {
             "colorbar": {
              "outlinewidth": 1,
              "tickcolor": "rgb(36,36,36)",
              "ticks": "outside"
             }
            },
            "type": "scatterternary"
           }
          ],
          "surface": [
           {
            "colorbar": {
             "outlinewidth": 1,
             "tickcolor": "rgb(36,36,36)",
             "ticks": "outside"
            },
            "colorscale": [
             [
              0,
              "#440154"
             ],
             [
              0.1111111111111111,
              "#482878"
             ],
             [
              0.2222222222222222,
              "#3e4989"
             ],
             [
              0.3333333333333333,
              "#31688e"
             ],
             [
              0.4444444444444444,
              "#26828e"
             ],
             [
              0.5555555555555556,
              "#1f9e89"
             ],
             [
              0.6666666666666666,
              "#35b779"
             ],
             [
              0.7777777777777778,
              "#6ece58"
             ],
             [
              0.8888888888888888,
              "#b5de2b"
             ],
             [
              1,
              "#fde725"
             ]
            ],
            "type": "surface"
           }
          ],
          "table": [
           {
            "cells": {
             "fill": {
              "color": "rgb(237,237,237)"
             },
             "line": {
              "color": "white"
             }
            },
            "header": {
             "fill": {
              "color": "rgb(217,217,217)"
             },
             "line": {
              "color": "white"
             }
            },
            "type": "table"
           }
          ]
         },
         "layout": {
          "annotationdefaults": {
           "arrowhead": 0,
           "arrowwidth": 1
          },
          "autotypenumbers": "strict",
          "coloraxis": {
           "colorbar": {
            "outlinewidth": 1,
            "tickcolor": "rgb(36,36,36)",
            "ticks": "outside"
           }
          },
          "colorscale": {
           "diverging": [
            [
             0,
             "rgb(103,0,31)"
            ],
            [
             0.1,
             "rgb(178,24,43)"
            ],
            [
             0.2,
             "rgb(214,96,77)"
            ],
            [
             0.3,
             "rgb(244,165,130)"
            ],
            [
             0.4,
             "rgb(253,219,199)"
            ],
            [
             0.5,
             "rgb(247,247,247)"
            ],
            [
             0.6,
             "rgb(209,229,240)"
            ],
            [
             0.7,
             "rgb(146,197,222)"
            ],
            [
             0.8,
             "rgb(67,147,195)"
            ],
            [
             0.9,
             "rgb(33,102,172)"
            ],
            [
             1,
             "rgb(5,48,97)"
            ]
           ],
           "sequential": [
            [
             0,
             "#440154"
            ],
            [
             0.1111111111111111,
             "#482878"
            ],
            [
             0.2222222222222222,
             "#3e4989"
            ],
            [
             0.3333333333333333,
             "#31688e"
            ],
            [
             0.4444444444444444,
             "#26828e"
            ],
            [
             0.5555555555555556,
             "#1f9e89"
            ],
            [
             0.6666666666666666,
             "#35b779"
            ],
            [
             0.7777777777777778,
             "#6ece58"
            ],
            [
             0.8888888888888888,
             "#b5de2b"
            ],
            [
             1,
             "#fde725"
            ]
           ],
           "sequentialminus": [
            [
             0,
             "#440154"
            ],
            [
             0.1111111111111111,
             "#482878"
            ],
            [
             0.2222222222222222,
             "#3e4989"
            ],
            [
             0.3333333333333333,
             "#31688e"
            ],
            [
             0.4444444444444444,
             "#26828e"
            ],
            [
             0.5555555555555556,
             "#1f9e89"
            ],
            [
             0.6666666666666666,
             "#35b779"
            ],
            [
             0.7777777777777778,
             "#6ece58"
            ],
            [
             0.8888888888888888,
             "#b5de2b"
            ],
            [
             1,
             "#fde725"
            ]
           ]
          },
          "colorway": [
           "#1F77B4",
           "#FF7F0E",
           "#2CA02C",
           "#D62728",
           "#9467BD",
           "#8C564B",
           "#E377C2",
           "#7F7F7F",
           "#BCBD22",
           "#17BECF"
          ],
          "font": {
           "color": "rgb(36,36,36)"
          },
          "geo": {
           "bgcolor": "white",
           "lakecolor": "white",
           "landcolor": "white",
           "showlakes": true,
           "showland": true,
           "subunitcolor": "white"
          },
          "hoverlabel": {
           "align": "left"
          },
          "hovermode": "closest",
          "mapbox": {
           "style": "light"
          },
          "paper_bgcolor": "white",
          "plot_bgcolor": "white",
          "polar": {
           "angularaxis": {
            "gridcolor": "rgb(232,232,232)",
            "linecolor": "rgb(36,36,36)",
            "showgrid": false,
            "showline": true,
            "ticks": "outside"
           },
           "bgcolor": "white",
           "radialaxis": {
            "gridcolor": "rgb(232,232,232)",
            "linecolor": "rgb(36,36,36)",
            "showgrid": false,
            "showline": true,
            "ticks": "outside"
           }
          },
          "scene": {
           "xaxis": {
            "backgroundcolor": "white",
            "gridcolor": "rgb(232,232,232)",
            "gridwidth": 2,
            "linecolor": "rgb(36,36,36)",
            "showbackground": true,
            "showgrid": false,
            "showline": true,
            "ticks": "outside",
            "zeroline": false,
            "zerolinecolor": "rgb(36,36,36)"
           },
           "yaxis": {
            "backgroundcolor": "white",
            "gridcolor": "rgb(232,232,232)",
            "gridwidth": 2,
            "linecolor": "rgb(36,36,36)",
            "showbackground": true,
            "showgrid": false,
            "showline": true,
            "ticks": "outside",
            "zeroline": false,
            "zerolinecolor": "rgb(36,36,36)"
           },
           "zaxis": {
            "backgroundcolor": "white",
            "gridcolor": "rgb(232,232,232)",
            "gridwidth": 2,
            "linecolor": "rgb(36,36,36)",
            "showbackground": true,
            "showgrid": false,
            "showline": true,
            "ticks": "outside",
            "zeroline": false,
            "zerolinecolor": "rgb(36,36,36)"
           }
          },
          "shapedefaults": {
           "fillcolor": "black",
           "line": {
            "width": 0
           },
           "opacity": 0.3
          },
          "ternary": {
           "aaxis": {
            "gridcolor": "rgb(232,232,232)",
            "linecolor": "rgb(36,36,36)",
            "showgrid": false,
            "showline": true,
            "ticks": "outside"
           },
           "baxis": {
            "gridcolor": "rgb(232,232,232)",
            "linecolor": "rgb(36,36,36)",
            "showgrid": false,
            "showline": true,
            "ticks": "outside"
           },
           "bgcolor": "white",
           "caxis": {
            "gridcolor": "rgb(232,232,232)",
            "linecolor": "rgb(36,36,36)",
            "showgrid": false,
            "showline": true,
            "ticks": "outside"
           }
          },
          "title": {
           "x": 0.05
          },
          "xaxis": {
           "automargin": true,
           "gridcolor": "rgb(232,232,232)",
           "linecolor": "rgb(36,36,36)",
           "showgrid": false,
           "showline": true,
           "ticks": "outside",
           "title": {
            "standoff": 15
           },
           "zeroline": false,
           "zerolinecolor": "rgb(36,36,36)"
          },
          "yaxis": {
           "automargin": true,
           "gridcolor": "rgb(232,232,232)",
           "linecolor": "rgb(36,36,36)",
           "showgrid": false,
           "showline": true,
           "ticks": "outside",
           "title": {
            "standoff": 15
           },
           "zeroline": false,
           "zerolinecolor": "rgb(36,36,36)"
          }
         }
        },
        "title": {
         "font": {
          "size": 20
         },
         "text": "Análisis de la Relación entre Presupuesto e Ingresos",
         "x": 0.5,
         "xanchor": "center",
         "y": 0.98,
         "yanchor": "top"
        },
        "width": 1100,
        "xaxis": {
         "anchor": "y",
         "domain": [
          0,
          0.44
         ],
         "tickfont": {
          "size": 12
         },
         "title": {
          "font": {
           "size": 14
          },
          "text": "Presupuesto ($)"
         }
        },
        "xaxis2": {
         "anchor": "y2",
         "domain": [
          0.56,
          1
         ],
         "tickfont": {
          "size": 11
         },
         "title": {
          "font": {
           "size": 14
          },
          "text": "Rango de presupuesto"
         }
        },
        "xaxis3": {
         "anchor": "y3",
         "domain": [
          0,
          0.44
         ],
         "tickfont": {
          "size": 12
         },
         "title": {
          "font": {
           "size": 14
          },
          "text": "Presupuesto ($)"
         }
        },
        "xaxis4": {
         "anchor": "y4",
         "domain": [
          0.56,
          1
         ],
         "tickfont": {
          "size": 12
         },
         "title": {
          "font": {
           "size": 14
          },
          "text": "Presupuesto ($)"
         }
        },
        "yaxis": {
         "anchor": "x",
         "domain": [
          0.575,
          1
         ],
         "tickfont": {
          "size": 12
         },
         "title": {
          "font": {
           "size": 14
          },
          "text": "Ingresos ($)"
         }
        },
        "yaxis2": {
         "anchor": "x2",
         "domain": [
          0.575,
          1
         ],
         "tickfont": {
          "size": 12
         },
         "title": {
          "font": {
           "size": 14
          },
          "text": "Retorno por $ invertido"
         }
        },
        "yaxis3": {
         "anchor": "x3",
         "domain": [
          0,
          0.425
         ],
         "tickfont": {
          "size": 12
         },
         "title": {
          "font": {
           "size": 14
          },
          "text": "ROI"
         }
        },
        "yaxis4": {
         "anchor": "x4",
         "domain": [
          0,
          0.425
         ],
         "tickfont": {
          "size": 12
         },
         "title": {
          "font": {
           "size": 14
          },
          "text": "Ingresos ($)"
         }
        }
       }
      }
     },
     "metadata": {},
     "output_type": "display_data"
    },
    {
     "name": "stdout",
     "output_type": "stream",
     "text": [
      "Correlaciones:\n",
      "- Budget vs Revenue: -0.014\n",
      "- Budget vs ROI: -0.431\n",
      "- Budget vs Net Profit: -0.113\n",
      "- Budget vs Conversion Rate: -0.015\n",
      "\n",
      "Análisis de eficiencia por rango de presupuesto:\n",
      "- Rango $1053-$20387: Eficiencia: 50.54x, ROI medio: 86.01, Campañas: 202.0\n",
      "- Rango $20387-$38877: Eficiencia: 16.84x, ROI medio: 16.49, Campañas: 202.0\n",
      "- Rango $38877-$58916: Eficiencia: 11.46x, ROI medio: 10.60, Campañas: 202.0\n",
      "- Rango $58916-$80313: Eficiencia: 6.99x, ROI medio: 6.08, Campañas: 202.0\n",
      "- Rango $80313-$99957: Eficiencia: 5.76x, ROI medio: 4.79, Campañas: 202.0\n"
     ]
    },
    {
     "ename": "NameError",
     "evalue": "name 'optimal_data' is not defined",
     "output_type": "error",
     "traceback": [
      "\u001b[31m---------------------------------------------------------------------------\u001b[39m",
      "\u001b[31mNameError\u001b[39m                                 Traceback (most recent call last)",
      "\u001b[36mCell\u001b[39m\u001b[36m \u001b[39m\u001b[32mIn[10]\u001b[39m\u001b[32m, line 257\u001b[39m\n\u001b[32m    254\u001b[39m \u001b[38;5;28;01mfor\u001b[39;00m idx, row \u001b[38;5;129;01min\u001b[39;00m efficiency_by_bin.iterrows():\n\u001b[32m    255\u001b[39m     \u001b[38;5;28mprint\u001b[39m(\u001b[33mf\u001b[39m\u001b[33m\"\u001b[39m\u001b[33m- Rango $\u001b[39m\u001b[38;5;132;01m{\u001b[39;00midx.left\u001b[38;5;132;01m:\u001b[39;00m\u001b[33m.0f\u001b[39m\u001b[38;5;132;01m}\u001b[39;00m\u001b[33m-$\u001b[39m\u001b[38;5;132;01m{\u001b[39;00midx.right\u001b[38;5;132;01m:\u001b[39;00m\u001b[33m.0f\u001b[39m\u001b[38;5;132;01m}\u001b[39;00m\u001b[33m: Eficiencia: \u001b[39m\u001b[38;5;132;01m{\u001b[39;00mrow[\u001b[33m'\u001b[39m\u001b[33mefficiency\u001b[39m\u001b[33m'\u001b[39m]\u001b[38;5;132;01m:\u001b[39;00m\u001b[33m.2f\u001b[39m\u001b[38;5;132;01m}\u001b[39;00m\u001b[33mx, ROI medio: \u001b[39m\u001b[38;5;132;01m{\u001b[39;00mrow[\u001b[33m'\u001b[39m\u001b[33mroi\u001b[39m\u001b[33m'\u001b[39m]\u001b[38;5;132;01m:\u001b[39;00m\u001b[33m.2f\u001b[39m\u001b[38;5;132;01m}\u001b[39;00m\u001b[33m, Campañas: \u001b[39m\u001b[38;5;132;01m{\u001b[39;00mrow[\u001b[33m'\u001b[39m\u001b[33mcount\u001b[39m\u001b[33m'\u001b[39m]\u001b[38;5;132;01m}\u001b[39;00m\u001b[33m\"\u001b[39m)\n\u001b[32m--> \u001b[39m\u001b[32m257\u001b[39m \u001b[38;5;28mprint\u001b[39m(\u001b[33mf\u001b[39m\u001b[33m\"\u001b[39m\u001b[38;5;130;01m\\n\u001b[39;00m\u001b[33mPunto óptimo de inversión: Rango $\u001b[39m\u001b[38;5;132;01m{\u001b[39;00m\u001b[43moptimal_data\u001b[49m.name.left\u001b[38;5;132;01m:\u001b[39;00m\u001b[33m.0f\u001b[39m\u001b[38;5;132;01m}\u001b[39;00m\u001b[33m-$\u001b[39m\u001b[38;5;132;01m{\u001b[39;00moptimal_data.name.right\u001b[38;5;132;01m:\u001b[39;00m\u001b[33m.0f\u001b[39m\u001b[38;5;132;01m}\u001b[39;00m\u001b[33m\"\u001b[39m)\n\u001b[32m    258\u001b[39m \u001b[38;5;28mprint\u001b[39m(\u001b[33mf\u001b[39m\u001b[33m\"\u001b[39m\u001b[33m- Presupuesto promedio: $\u001b[39m\u001b[38;5;132;01m{\u001b[39;00moptimal_data[\u001b[33m'\u001b[39m\u001b[33mavg_budget\u001b[39m\u001b[33m'\u001b[39m]\u001b[38;5;132;01m:\u001b[39;00m\u001b[33m.2f\u001b[39m\u001b[38;5;132;01m}\u001b[39;00m\u001b[33m\"\u001b[39m)\n\u001b[32m    259\u001b[39m \u001b[38;5;28mprint\u001b[39m(\u001b[33mf\u001b[39m\u001b[33m\"\u001b[39m\u001b[33m- Retorno por $ invertido: \u001b[39m\u001b[38;5;132;01m{\u001b[39;00moptimal_data[\u001b[33m'\u001b[39m\u001b[33mefficiency\u001b[39m\u001b[33m'\u001b[39m]\u001b[38;5;132;01m:\u001b[39;00m\u001b[33m.2f\u001b[39m\u001b[38;5;132;01m}\u001b[39;00m\u001b[33mx\u001b[39m\u001b[33m\"\u001b[39m)\n",
      "\u001b[31mNameError\u001b[39m: name 'optimal_data' is not defined"
     ]
    }
   ],
   "source": [
    "from statsmodels.nonparametric.smoothers_lowess import lowess\n",
    "\n",
    "# Analyze the relationship between budget and revenue/ROI\n",
    "\n",
    "# Calculate correlations\n",
    "correlations = {\n",
    "    'Budget vs Revenue': df['budget'].corr(df['revenue']),\n",
    "    'Budget vs ROI': df['budget'].corr(df['roi_numeric']),\n",
    "    'Budget vs Net Profit': df['budget'].corr(df['net_profit']),\n",
    "    'Budget vs Conversion Rate': df['budget'].corr(df['conversion_rate'])\n",
    "}\n",
    "\n",
    "# Create subplots for analysis with improved spacing\n",
    "fig = make_subplots(\n",
    "    rows=2, cols=2,\n",
    "    subplot_titles=[\n",
    "        'Relación entre Presupuesto e Ingresos',\n",
    "        'Eficiencia de Inversión por Rangos',\n",
    "        'Presupuesto vs ROI',\n",
    "        'Análisis por Canal'\n",
    "    ],\n",
    "    horizontal_spacing=0.12,  # Increase horizontal spacing\n",
    "    vertical_spacing=0.15     # Increase vertical spacing\n",
    ")\n",
    "\n",
    "# 1. Scatter plot with trend lines (Budget vs Revenue)\n",
    "# Add linear trend\n",
    "df_sorted = df.sort_values('budget')\n",
    "x = df_sorted['budget']\n",
    "y = df_sorted['revenue']\n",
    "\n",
    "# Add linear trendline\n",
    "model_lin = sm.OLS(y, sm.add_constant(x)).fit()\n",
    "y_pred_lin = model_lin.predict(sm.add_constant(x))\n",
    "\n",
    "# Add polynomial trendline (degree 2)\n",
    "model_poly = sm.OLS(y, sm.add_constant(np.column_stack((x, x**2)))).fit()\n",
    "y_pred_poly = model_poly.predict(sm.add_constant(np.column_stack((x, x**2))))\n",
    "\n",
    "# Add data points with improved visibility\n",
    "fig.add_trace(\n",
    "    go.Scatter(\n",
    "        x=df['budget'], \n",
    "        y=df['revenue'],\n",
    "        mode='markers',\n",
    "        marker=dict(\n",
    "            color=df['roi_numeric'],\n",
    "            colorscale='Viridis',\n",
    "            colorbar=dict(\n",
    "                title='ROI',\n",
    "                thickness=15,\n",
    "                len=0.3,\n",
    "                y=0.8,\n",
    "                yanchor='top',\n",
    "                outlinewidth=1\n",
    "            ),\n",
    "            size=8,\n",
    "            opacity=0.7\n",
    "        ),\n",
    "        name='Campañas',\n",
    "        hovertemplate='Presupuesto: $%{x:,.2f}<br>Ingresos: $%{y:,.2f}<br>ROI: %{marker.color:.2f}<extra></extra>'\n",
    "    ),\n",
    "    row=1, col=1\n",
    ")\n",
    "\n",
    "# Add linear trendline\n",
    "fig.add_trace(\n",
    "    go.Scatter(\n",
    "        x=x, \n",
    "        y=y_pred_lin,\n",
    "        mode='lines',\n",
    "        line=dict(color='rgba(255, 0, 0, 0.7)', width=2),\n",
    "        name=f'Lineal (R²={model_lin.rsquared:.3f})'\n",
    "    ),\n",
    "    row=1, col=1\n",
    ")\n",
    "\n",
    "# Add polynomial trendline\n",
    "fig.add_trace(\n",
    "    go.Scatter(\n",
    "        x=x, \n",
    "        y=y_pred_poly,\n",
    "        mode='lines',\n",
    "        line=dict(color='rgba(0, 128, 0, 0.7)', width=2, dash='dash'),\n",
    "        name=f'Polinomial (R²={model_poly.rsquared:.3f})'\n",
    "    ),\n",
    "    row=1, col=1\n",
    ")\n",
    "\n",
    "# 2. Efficiency analysis by budget ranges - improved bar chart\n",
    "budget_bins = pd.qcut(df['budget'], 5)\n",
    "efficiency_by_bin = df.groupby(budget_bins).apply(\n",
    "    lambda x: pd.Series({\n",
    "        'avg_budget': x['budget'].mean(),\n",
    "        'avg_revenue': x['revenue'].mean(),\n",
    "        'roi': x['roi_numeric'].mean(),\n",
    "        'efficiency': x['revenue'].sum() / x['budget'].sum(),\n",
    "        'count': len(x)\n",
    "    })\n",
    ")\n",
    "\n",
    "# Format range labels to be shorter and clearer\n",
    "range_labels = [f'${b.left/1000:.0f}k-${b.right/1000:.0f}k' for b in efficiency_by_bin.index]\n",
    "\n",
    "fig.add_trace(\n",
    "    go.Bar(\n",
    "        x=range_labels,\n",
    "        y=efficiency_by_bin['efficiency'],\n",
    "        marker_color='rgba(173, 216, 230, 0.8)',\n",
    "        text=[f'{e:.1f}x' for e in efficiency_by_bin['efficiency']],\n",
    "        textposition='auto',\n",
    "        textfont=dict(size=12, color='black'),\n",
    "        hovertemplate='<b>Rango:</b> %{x}<br><b>Retorno por $ invertido:</b> %{y:.2f}x<br><b>ROI medio:</b> %{text}<extra></extra>'\n",
    "    ),\n",
    "    row=1, col=2\n",
    ")\n",
    "\n",
    "# 3. Budget vs ROI - improved visualization\n",
    "fig.add_trace(\n",
    "    go.Scatter(\n",
    "        x=df['budget'],\n",
    "        y=df['roi_numeric'],\n",
    "        mode='markers',\n",
    "        marker=dict(\n",
    "            color=df['revenue'],\n",
    "            colorscale='Plasma',\n",
    "            colorbar=dict(\n",
    "                title='Ingresos ($)',\n",
    "                thickness=15,\n",
    "                len=0.3,\n",
    "                y=0.25,\n",
    "                yanchor='bottom',\n",
    "                outlinewidth=1\n",
    "            ),\n",
    "            size=8,\n",
    "            opacity=0.7\n",
    "        ),\n",
    "        hovertemplate='<b>Presupuesto:</b> $%{x:,.2f}<br><b>ROI:</b> %{y:.2f}<br><b>Ingresos:</b> $%{marker.color:,.2f}<extra></extra>'\n",
    "    ),\n",
    "    row=2, col=1\n",
    ")\n",
    "\n",
    "# Add locally weighted regression (LOWESS) to see trends\n",
    "lowess_result = lowess(df['roi_numeric'], df['budget'], frac=0.3)\n",
    "\n",
    "fig.add_trace(\n",
    "    go.Scatter(\n",
    "        x=lowess_result[:, 0],\n",
    "        y=lowess_result[:, 1],\n",
    "        mode='lines',\n",
    "        line=dict(color='rgba(255, 0, 0, 0.7)', width=3),\n",
    "        name='Tendencia LOWESS'\n",
    "    ),\n",
    "    row=2, col=1\n",
    ")\n",
    "\n",
    "# 4. Analysis by channel - improved colors and legend\n",
    "for i, channel in enumerate(df['channel'].unique()):\n",
    "    channel_data = df[df['channel'] == channel]\n",
    "    \n",
    "    fig.add_trace(\n",
    "        go.Scatter(\n",
    "            x=channel_data['budget'],\n",
    "            y=channel_data['revenue'],\n",
    "            mode='markers',\n",
    "            marker=dict(\n",
    "                color=pastel_colors[i % len(pastel_colors)],\n",
    "                size=8\n",
    "            ),\n",
    "            name=channel,\n",
    "            legendgroup=channel,\n",
    "            hovertemplate=f'<b>Canal:</b> {channel}<br><b>Presupuesto:</b> $%{{x:,.2f}}<br><b>Ingresos:</b> $%{{y:,.2f}}<extra></extra>'\n",
    "        ),\n",
    "        row=2, col=2\n",
    "    )\n",
    "\n",
    "# Highlight the optimal investment range\n",
    "optimal_range = efficiency_by_bin.iloc[efficiency_by_bin['efficiency'].argmax()]\n",
    "optimal_index = efficiency_by_bin['efficiency'].argmax()\n",
    "optimal_label = range_labels[optimal_index]\n",
    "\n",
    "# Update layout with better overall appearance\n",
    "fig.update_layout(\n",
    "    height=900,  # Increase height\n",
    "    width=1100,  # Increase width\n",
    "    title={\n",
    "        'text': 'Análisis de la Relación entre Presupuesto e Ingresos',\n",
    "        'y': 0.98,\n",
    "        'x': 0.5,\n",
    "        'xanchor': 'center',\n",
    "        'yanchor': 'top',\n",
    "        'font': dict(size=20)\n",
    "    },\n",
    "    template='simple_white',\n",
    "    legend=dict(\n",
    "        orientation=\"h\", \n",
    "        yanchor=\"bottom\", \n",
    "        y=1.05, \n",
    "        xanchor=\"center\", \n",
    "        x=0.5,\n",
    "        font=dict(size=12),\n",
    "        borderwidth=1,\n",
    "        bordercolor=\"LightGrey\"\n",
    "    ),\n",
    "    margin=dict(l=80, r=80, t=120, b=80)  # Add more margin\n",
    ")\n",
    "\n",
    "# Update axes with improved formatting\n",
    "fig.update_xaxes(title_text='Presupuesto ($)', title_font=dict(size=14), tickfont=dict(size=12), row=1, col=1)\n",
    "fig.update_yaxes(title_text='Ingresos ($)', title_font=dict(size=14), tickfont=dict(size=12), row=1, col=1)\n",
    "\n",
    "fig.update_xaxes(title_text='Rango de presupuesto', title_font=dict(size=14), tickfont=dict(size=11), row=1, col=2)\n",
    "fig.update_yaxes(title_text='Retorno por $ invertido', title_font=dict(size=14), tickfont=dict(size=12), row=1, col=2)\n",
    "\n",
    "fig.update_xaxes(title_text='Presupuesto ($)', title_font=dict(size=14), tickfont=dict(size=12), row=2, col=1)\n",
    "fig.update_yaxes(title_text='ROI', title_font=dict(size=14), tickfont=dict(size=12), row=2, col=1)\n",
    "\n",
    "fig.update_xaxes(title_text='Presupuesto ($)', title_font=dict(size=14), tickfont=dict(size=12), row=2, col=2)\n",
    "fig.update_yaxes(title_text='Ingresos ($)', title_font=dict(size=14), tickfont=dict(size=12), row=2, col=2)\n",
    "\n",
    "# Highlight optimal investment range in the second chart\n",
    "fig.update_traces(\n",
    "    marker_color=['rgba(255, 165, 0, 0.8)' if i == optimal_index else 'rgba(173, 216, 230, 0.8)' for i in range(len(efficiency_by_bin))],\n",
    "    selector=dict(type='bar')\n",
    ")\n",
    "\n",
    "# Add annotation for optimal range\n",
    "fig.add_annotation(\n",
    "    x=optimal_label,\n",
    "    y=optimal_range['efficiency'] + 2,\n",
    "    text=f\"Punto óptimo<br>{optimal_label}<br>Eficiencia: {optimal_range['efficiency']:.1f}x\",\n",
    "    showarrow=True,\n",
    "    arrowhead=1,\n",
    "    arrowsize=1,\n",
    "    arrowwidth=2,\n",
    "    arrowcolor='red',\n",
    "    font=dict(size=12, color='red'),\n",
    "    bgcolor='rgba(255, 255, 255, 0.8)',\n",
    "    bordercolor='red',\n",
    "    borderwidth=1,\n",
    "    borderpad=4,\n",
    "    row=1, col=2\n",
    ")\n",
    "\n",
    "# Show the plot and summary analysis\n",
    "fig.show()\n",
    "\n",
    "# Print key findings\n",
    "print(f\"Correlaciones:\")\n",
    "for k, v in correlations.items():\n",
    "    print(f\"- {k}: {v:.3f}\")\n",
    "\n",
    "print(\"\\nAnálisis de eficiencia por rango de presupuesto:\")\n",
    "for idx, row in efficiency_by_bin.iterrows():\n",
    "    print(f\"- Rango ${idx.left:.0f}-${idx.right:.0f}: Eficiencia: {row['efficiency']:.2f}x, ROI medio: {row['roi']:.2f}, Campañas: {row['count']}\")\n",
    "\n",
    "print(f\"\\nPunto óptimo de inversión: Rango ${optimal_data.name.left:.0f}-${optimal_data.name.right:.0f}\")\n",
    "print(f\"- Presupuesto promedio: ${optimal_data['avg_budget']:.2f}\")\n",
    "print(f\"- Retorno por $ invertido: {optimal_data['efficiency']:.2f}x\")\n",
    "print(f\"- ROI promedio: {optimal_data['roi']:.2f}\")"
   ]
  },
  {
   "cell_type": "code",
   "execution_count": null,
   "id": "2d63bc90",
   "metadata": {},
   "outputs": [
    {
     "data": {
      "application/vnd.plotly.v1+json": {
       "config": {
        "plotlyServerURL": "https://plot.ly"
       },
       "data": [
        {
         "customdata": [
          [
           "Elite (3 criterios)",
           "referral",
           "social media",
           1816.22,
           563280.3,
           496
          ],
          [
           "Elite (3 criterios)",
           "organic",
           "email",
           19213.46,
           925274.53,
           277
          ],
          [
           "Elite (3 criterios)",
           "promotion",
           "email",
           17573.23,
           460559.74,
           32
          ],
          [
           "Elite (3 criterios)",
           "promotion",
           "email",
           14391.98,
           456537.4,
           96
          ],
          [
           "Elite (3 criterios)",
           "organic",
           "webinar",
           28323.41,
           984261.3,
           462
          ],
          [
           "Elite (3 criterios)",
           "organic",
           "email",
           20328.53,
           658107.7,
           345
          ],
          [
           "Elite (3 criterios)",
           "paid",
           "social media",
           8041.9,
           567808.35,
           345
          ],
          [
           "Elite (3 criterios)",
           "referral",
           "social media",
           11271.19,
           538367.39,
           365
          ],
          [
           "Elite (3 criterios)",
           "promotion",
           "podcast",
           12480.75,
           847778.95,
           207
          ],
          [
           "Elite (3 criterios)",
           "organic",
           "email",
           20647.17,
           759838.76,
           316
          ],
          [
           "Elite (3 criterios)",
           "paid",
           "webinar",
           8209.8,
           725706.76,
           258
          ],
          [
           "Elite (3 criterios)",
           "organic",
           "email",
           13024.35,
           882368.6,
           249
          ],
          [
           "Elite (3 criterios)",
           "promotion",
           "email",
           10659.15,
           506589.58,
           210
          ],
          [
           "Elite (3 criterios)",
           "paid",
           "webinar",
           6806.2,
           519790.34,
           427
          ],
          [
           "Elite (3 criterios)",
           "referral",
           "social media",
           4016.62,
           773055.56,
           376
          ],
          [
           "Elite (3 criterios)",
           "promotion",
           "podcast",
           4855.98,
           649003.16,
           423
          ],
          [
           "Elite (3 criterios)",
           "referral",
           "webinar",
           34512.86,
           999712.49,
           617
          ],
          [
           "Elite (3 criterios)",
           "promotion",
           "podcast",
           39585.98,
           889037.24,
           443
          ],
          [
           "Elite (3 criterios)",
           "organic",
           "social media",
           8473.58,
           840891.99,
           305
          ],
          [
           "Elite (3 criterios)",
           "referral",
           "email",
           6626.65,
           650555.67,
           208
          ],
          [
           "Elite (3 criterios)",
           "paid",
           "webinar",
           18364.99,
           433475.14,
           290
          ],
          [
           "Elite (3 criterios)",
           "referral",
           "email",
           16205.28,
           632469.27,
           537
          ],
          [
           "Elite (3 criterios)",
           "promotion",
           "webinar",
           27126.77,
           725838.96,
           605
          ],
          [
           "Elite (3 criterios)",
           "paid",
           "email",
           11294.95,
           390218.59,
           369
          ],
          [
           "Elite (3 criterios)",
           "referral",
           "podcast",
           24501.77,
           788670.6,
           298
          ],
          [
           "Elite (3 criterios)",
           "paid",
           "webinar",
           7306.71,
           541005.28,
           514
          ],
          [
           "Elite (3 criterios)",
           "organic",
           "podcast",
           1436.99,
           881768.44,
           249
          ],
          [
           "Elite (3 criterios)",
           "referral",
           "podcast",
           11007.95,
           680150.2,
           586
          ],
          [
           "Elite (3 criterios)",
           "promotion",
           "podcast",
           13908.21,
           816603.99,
           337
          ],
          [
           "Elite (3 criterios)",
           "paid",
           "social media",
           28827.53,
           734015.4,
           319
          ],
          [
           "Elite (3 criterios)",
           "referral",
           "podcast",
           31564.29,
           931183.22,
           379
          ],
          [
           "Elite (3 criterios)",
           "promotion",
           "email",
           1810.82,
           270481.39,
           151
          ],
          [
           "Elite (3 criterios)",
           "organic",
           "webinar",
           29840.15,
           631347.68,
           372
          ],
          [
           "Elite (3 criterios)",
           "paid",
           "webinar",
           33618.7,
           868303.57,
           410
          ],
          [
           "Elite (3 criterios)",
           "referral",
           "email",
           32965.35,
           838474.56,
           448
          ],
          [
           "Elite (3 criterios)",
           "promotion",
           "social media",
           1480.67,
           777983.15,
           441
          ],
          [
           "Elite (3 criterios)",
           "organic",
           "email",
           1635.98,
           125526.72,
           453
          ],
          [
           "Elite (3 criterios)",
           "promotion",
           "social media",
           11395.3,
           741815.81,
           425
          ],
          [
           "Elite (3 criterios)",
           "referral",
           "social media",
           41704.96,
           930138.53,
           446
          ],
          [
           "Elite (3 criterios)",
           "paid",
           "social media",
           2412.93,
           651779.82,
           34
          ],
          [
           "Elite (3 criterios)",
           "referral",
           "webinar",
           14126.24,
           530692.88,
           323
          ],
          [
           "Elite (3 criterios)",
           "organic",
           "social media",
           10395.39,
           963552.88,
           481
          ],
          [
           "Elite (3 criterios)",
           "promotion",
           "email",
           18458.17,
           520022.1,
           270
          ],
          [
           "Elite (3 criterios)",
           "organic",
           "email",
           37360.8,
           979402.44,
           131
          ],
          [
           "Elite (3 criterios)",
           "organic",
           "webinar",
           23692.97,
           688901.13,
           651
          ],
          [
           "Elite (3 criterios)",
           "paid",
           "podcast",
           21878.6,
           464823.41,
           441
          ],
          [
           "Elite (3 criterios)",
           "referral",
           "social media",
           12949.94,
           494905.94,
           452
          ],
          [
           "Elite (3 criterios)",
           "referral",
           "webinar",
           17151.7,
           519646.35,
           383
          ],
          [
           "Elite (3 criterios)",
           "promotion",
           "email",
           39804.7,
           914417.1,
           216
          ],
          [
           "Elite (3 criterios)",
           "referral",
           "social media",
           12895.48,
           619182.58,
           454
          ],
          [
           "Elite (3 criterios)",
           "promotion",
           "webinar",
           21791.46,
           933125.94,
           601
          ],
          [
           "Elite (3 criterios)",
           "paid",
           "webinar",
           5057.31,
           725945.11,
           116
          ],
          [
           "Elite (3 criterios)",
           "promotion",
           "webinar",
           10618.97,
           704819.76,
           314
          ],
          [
           "Elite (3 criterios)",
           "paid",
           "webinar",
           7954.2,
           604761.26,
           571
          ],
          [
           "Elite (3 criterios)",
           "paid",
           "podcast",
           15210.7,
           374169.78,
           209
          ],
          [
           "Elite (3 criterios)",
           "organic",
           "podcast",
           3884.46,
           637965.2,
           232
          ],
          [
           "Elite (3 criterios)",
           "promotion",
           "podcast",
           1380.68,
           159621.36,
           339
          ],
          [
           "Elite (3 criterios)",
           "referral",
           "podcast",
           17378.68,
           746880.8,
           517
          ],
          [
           "Elite (3 criterios)",
           "promotion",
           "webinar",
           20309.3,
           854903.83,
           254
          ],
          [
           "Elite (3 criterios)",
           "promotion",
           "webinar",
           20983.45,
           714628.56,
           512
          ],
          [
           "Elite (3 criterios)",
           "paid",
           "podcast",
           9472.45,
           695134.9,
           509
          ],
          [
           "Elite (3 criterios)",
           "paid",
           "podcast",
           8494.12,
           208871.22,
           377
          ],
          [
           "Elite (3 criterios)",
           "organic",
           "social media",
           5702.93,
           951820.67,
           587
          ],
          [
           "Elite (3 criterios)",
           "promotion",
           "podcast",
           11068.74,
           747080.9,
           104
          ],
          [
           "Elite (3 criterios)",
           "organic",
           "social media",
           5211.43,
           439449.66,
           94
          ],
          [
           "Elite (3 criterios)",
           "paid",
           "podcast",
           41529.52,
           926873.57,
           218
          ],
          [
           "Elite (3 criterios)",
           "promotion",
           "webinar",
           20557.58,
           851130.62,
           117
          ],
          [
           "Elite (3 criterios)",
           "promotion",
           "webinar",
           30574.8,
           985934.77,
           573
          ],
          [
           "Elite (3 criterios)",
           "referral",
           "email",
           39380.23,
           878859.45,
           659
          ],
          [
           "Elite (3 criterios)",
           "organic",
           "webinar",
           15386.79,
           973522.31,
           261
          ],
          [
           "Elite (3 criterios)",
           "referral",
           "email",
           17097.49,
           378447.69,
           220
          ],
          [
           "Elite (3 criterios)",
           "organic",
           "email",
           31330.31,
           820739.68,
           499
          ],
          [
           "Fuerte (2 criterios)",
           "organic",
           "email",
           8082.3,
           709593.48,
           328
          ],
          [
           "Fuerte (2 criterios)",
           "promotion",
           "email",
           17712.98,
           516609.1,
           432
          ],
          [
           "Fuerte (2 criterios)",
           "referral",
           "webinar",
           14810.62,
           477528.27,
           307
          ],
          [
           "Fuerte (2 criterios)",
           "referral",
           "social media",
           29076.12,
           948309.55,
           625
          ],
          [
           "Fuerte (2 criterios)",
           "paid",
           "social media",
           15968.2,
           430007.3,
           524
          ],
          [
           "Fuerte (2 criterios)",
           "organic",
           "podcast",
           1309.17,
           273231.88,
           460
          ],
          [
           "Fuerte (2 criterios)",
           "organic",
           "social media",
           27168.6,
           704768.1,
           117
          ],
          [
           "Fuerte (2 criterios)",
           "promotion",
           "webinar",
           19030.69,
           472138.22,
           329
          ],
          [
           "Fuerte (2 criterios)",
           "referral",
           "email",
           6124.7,
           397435.21,
           479
          ],
          [
           "Fuerte (2 criterios)",
           "paid",
           "email",
           27675.42,
           672667.53,
           202
          ],
          [
           "Fuerte (2 criterios)",
           "promotion",
           "webinar",
           6658.22,
           273952.77,
           477
          ],
          [
           "Fuerte (2 criterios)",
           "paid",
           "social media",
           30883.42,
           873342.13,
           498
          ],
          [
           "Fuerte (2 criterios)",
           "referral",
           "webinar",
           23212.27,
           830178.2,
           431
          ],
          [
           "Fuerte (2 criterios)",
           "promotion",
           "social media",
           15463.29,
           963251.51,
           244
          ],
          [
           "Fuerte (2 criterios)",
           "paid",
           "email",
           16066.41,
           508865.73,
           144
          ],
          [
           "Fuerte (2 criterios)",
           "paid",
           "email",
           12789.78,
           516246.2,
           401
          ],
          [
           "Fuerte (2 criterios)",
           "organic",
           "webinar",
           7632.49,
           782850.48,
           355
          ],
          [
           "Fuerte (2 criterios)",
           "organic",
           "social media",
           16420.77,
           632069.31,
           238
          ],
          [
           "Fuerte (2 criterios)",
           "paid",
           "email",
           12098.23,
           270608.24,
           496
          ],
          [
           "Fuerte (2 criterios)",
           "paid",
           "email",
           6310.87,
           845412.79,
           491
          ],
          [
           "Fuerte (2 criterios)",
           "organic",
           "social media",
           36457.88,
           905182.53,
           353
          ],
          [
           "Fuerte (2 criterios)",
           "promotion",
           "podcast",
           10038.96,
           911686.87,
           355
          ],
          [
           "Fuerte (2 criterios)",
           "referral",
           "social media",
           27079.85,
           784636.2,
           405
          ],
          [
           "Fuerte (2 criterios)",
           "promotion",
           "email",
           16063.49,
           868083.16,
           570
          ],
          [
           "Fuerte (2 criterios)",
           "organic",
           "webinar",
           21921.72,
           721273.96,
           201
          ],
          [
           "Fuerte (2 criterios)",
           "promotion",
           "webinar",
           24936.91,
           541332.72,
           120
          ],
          [
           "Fuerte (2 criterios)",
           "paid",
           "podcast",
           20401.62,
           875354.92,
           621
          ],
          [
           "Fuerte (2 criterios)",
           "paid",
           "podcast",
           33524.69,
           970610.35,
           207
          ],
          [
           "Fuerte (2 criterios)",
           "organic",
           "social media",
           20951.3,
           994306.41,
           534
          ],
          [
           "Fuerte (2 criterios)",
           "organic",
           "email",
           19401.94,
           617007.9,
           380
          ],
          [
           "Fuerte (2 criterios)",
           "promotion",
           "webinar",
           16308.37,
           511344.87,
           344
          ],
          [
           "Fuerte (2 criterios)",
           "promotion",
           "email",
           36824.24,
           971476.94,
           147
          ],
          [
           "Fuerte (2 criterios)",
           "referral",
           "email",
           12246.32,
           987205.29,
           308
          ],
          [
           "Fuerte (2 criterios)",
           "promotion",
           "podcast",
           29724.33,
           961419.64,
           516
          ],
          [
           "Fuerte (2 criterios)",
           "referral",
           "webinar",
           18706.92,
           554902.17,
           350
          ],
          [
           "Fuerte (2 criterios)",
           "promotion",
           "email",
           14418.29,
           683612.91,
           413
          ],
          [
           "Fuerte (2 criterios)",
           "paid",
           "podcast",
           22905.15,
           923669.92,
           83
          ],
          [
           "Fuerte (2 criterios)",
           "paid",
           "email",
           9774.56,
           918275.49,
           426
          ],
          [
           "Fuerte (2 criterios)",
           "referral",
           "podcast",
           27897.65,
           746509.64,
           382
          ],
          [
           "Fuerte (2 criterios)",
           "organic",
           "podcast",
           1580.69,
           238785.82,
           570
          ],
          [
           "Fuerte (2 criterios)",
           "promotion",
           "social media",
           3889.42,
           769703.69,
           321
          ],
          [
           "Fuerte (2 criterios)",
           "promotion",
           "email",
           1052.57,
           932323.35,
           212
          ],
          [
           "Fuerte (2 criterios)",
           "paid",
           "email",
           8645.67,
           961551.85,
           636
          ],
          [
           "Fuerte (2 criterios)",
           "organic",
           "email",
           7952.59,
           632738.63,
           567
          ],
          [
           "Fuerte (2 criterios)",
           "referral",
           "email",
           31010.8,
           759445.2,
           402
          ],
          [
           "Fuerte (2 criterios)",
           "referral",
           "webinar",
           16261.19,
           546988.28,
           564
          ],
          [
           "Fuerte (2 criterios)",
           "paid",
           "email",
           18541.27,
           783948.9,
           391
          ],
          [
           "Fuerte (2 criterios)",
           "promotion",
           "email",
           14777.5,
           865674.86,
           528
          ],
          [
           "Fuerte (2 criterios)",
           "organic",
           "social media",
           14378.29,
           689799.85,
           379
          ],
          [
           "Fuerte (2 criterios)",
           "referral",
           "social media",
           2554.18,
           575092.19,
           381
          ],
          [
           "Fuerte (2 criterios)",
           "referral",
           "email",
           36838.48,
           788871.83,
           536
          ],
          [
           "Fuerte (2 criterios)",
           "organic",
           "social media",
           5479.95,
           775127.75,
           478
          ],
          [
           "Fuerte (2 criterios)",
           "referral",
           "podcast",
           13686.9,
           298349.71,
           306
          ],
          [
           "Fuerte (2 criterios)",
           "referral",
           "podcast",
           7171.11,
           244491.62,
           241
          ],
          [
           "Fuerte (2 criterios)",
           "referral",
           "email",
           28881.52,
           887826.15,
           483
          ],
          [
           "Fuerte (2 criterios)",
           "promotion",
           "podcast",
           19258.46,
           828613.75,
           491
          ],
          [
           "Fuerte (2 criterios)",
           "referral",
           "podcast",
           6690.98,
           419310.48,
           89
          ],
          [
           "Fuerte (2 criterios)",
           "referral",
           "podcast",
           2939.44,
           517886.3,
           340
          ],
          [
           "Fuerte (2 criterios)",
           "organic",
           "email",
           40691.9,
           924409.28,
           73
          ],
          [
           "Fuerte (2 criterios)",
           "paid",
           "webinar",
           25475.7,
           869402.93,
           418
          ],
          [
           "Fuerte (2 criterios)",
           "organic",
           "social media",
           38420.97,
           833349.14,
           31
          ],
          [
           "Fuerte (2 criterios)",
           "referral",
           "social media",
           21172.32,
           972694.3,
           457
          ],
          [
           "Fuerte (2 criterios)",
           "referral",
           "webinar",
           3809.12,
           573889.99,
           411
          ],
          [
           "Fuerte (2 criterios)",
           "organic",
           "webinar",
           22787.98,
           940147.71,
           554
          ],
          [
           "Fuerte (2 criterios)",
           "promotion",
           "webinar",
           32297.26,
           919995.28,
           71
          ],
          [
           "Fuerte (2 criterios)",
           "organic",
           "social media",
           3162.85,
           625063.38,
           360
          ],
          [
           "Fuerte (2 criterios)",
           "promotion",
           "webinar",
           1793.79,
           441129.4,
           234
          ],
          [
           "Fuerte (2 criterios)",
           "promotion",
           "webinar",
           4833.32,
           864437.87,
           395
          ],
          [
           "Fuerte (2 criterios)",
           "promotion",
           "email",
           13945.61,
           794815.89,
           346
          ],
          [
           "Fuerte (2 criterios)",
           "paid",
           "social media",
           13105.34,
           501764.55,
           256
          ],
          [
           "Fuerte (2 criterios)",
           "referral",
           "social media",
           27771.85,
           673575.17,
           404
          ],
          [
           "Fuerte (2 criterios)",
           "promotion",
           "social media",
           23254.87,
           817356.61,
           419
          ],
          [
           "Fuerte (2 criterios)",
           "referral",
           "email",
           29101.58,
           798538.44,
           466
          ],
          [
           "Fuerte (2 criterios)",
           "promotion",
           "email",
           8627.43,
           823000.43,
           549
          ],
          [
           "Fuerte (2 criterios)",
           "promotion",
           "podcast",
           21674.14,
           917565.26,
           465
          ],
          [
           "Fuerte (2 criterios)",
           "referral",
           "social media",
           29709.16,
           811850.37,
           118
          ],
          [
           "Fuerte (2 criterios)",
           "referral",
           "webinar",
           9950.82,
           482845.35,
           473
          ],
          [
           "Fuerte (2 criterios)",
           "organic",
           "email",
           27329.38,
           873619.99,
           494
          ],
          [
           "Fuerte (2 criterios)",
           "organic",
           "social media",
           21718.66,
           838552.42,
           489
          ],
          [
           "Fuerte (2 criterios)",
           "paid",
           "podcast",
           27577.78,
           665815.39,
           613
          ],
          [
           "Fuerte (2 criterios)",
           "organic",
           "social media",
           16470.61,
           533910.94,
           689
          ],
          [
           "Fuerte (2 criterios)",
           "promotion",
           "podcast",
           40958.7,
           921182.15,
           440
          ],
          [
           "Fuerte (2 criterios)",
           "promotion",
           "social media",
           7952.69,
           772286.49,
           524
          ],
          [
           "Fuerte (2 criterios)",
           "referral",
           "social media",
           16945.29,
           884669.86,
           494
          ],
          [
           "Fuerte (2 criterios)",
           "organic",
           "email",
           11742.47,
           672241.21,
           310
          ],
          [
           "Fuerte (2 criterios)",
           "paid",
           "social media",
           26563.78,
           863720.51,
           235
          ],
          [
           "Fuerte (2 criterios)",
           "referral",
           "webinar",
           3104.48,
           352571.87,
           293
          ],
          [
           "Fuerte (2 criterios)",
           "promotion",
           "podcast",
           30878.98,
           666756.8,
           163
          ],
          [
           "Fuerte (2 criterios)",
           "promotion",
           "email",
           30319.57,
           926893.18,
           87
          ],
          [
           "Fuerte (2 criterios)",
           "paid",
           "podcast",
           8250.93,
           595779.73,
           311
          ],
          [
           "Fuerte (2 criterios)",
           "organic",
           "email",
           6304.42,
           807283.82,
           145
          ],
          [
           "Fuerte (2 criterios)",
           "organic",
           "podcast",
           1873.52,
           989733.25,
           306
          ],
          [
           "Fuerte (2 criterios)",
           "referral",
           "social media",
           41799.29,
           923943.17,
           226
          ],
          [
           "Fuerte (2 criterios)",
           "referral",
           "email",
           30937.43,
           924081.5,
           291
          ],
          [
           "Fuerte (2 criterios)",
           "paid",
           "webinar",
           5574.74,
           854030.38,
           382
          ],
          [
           "Fuerte (2 criterios)",
           "organic",
           "email",
           9611.89,
           582427.27,
           197
          ],
          [
           "Fuerte (2 criterios)",
           "promotion",
           "email",
           5777.28,
           421551.62,
           137
          ],
          [
           "Fuerte (2 criterios)",
           "organic",
           "podcast",
           27219.52,
           867347.6,
           213
          ],
          [
           "Fuerte (2 criterios)",
           "paid",
           "email",
           6793.37,
           396734.21,
           263
          ],
          [
           "Fuerte (2 criterios)",
           "referral",
           "webinar",
           2792.69,
           503319.66,
           548
          ],
          [
           "Fuerte (2 criterios)",
           "organic",
           "email",
           8053.59,
           781401.65,
           301
          ],
          [
           "Fuerte (2 criterios)",
           "referral",
           "social media",
           11421.4,
           265099.33,
           604
          ],
          [
           "Fuerte (2 criterios)",
           "promotion",
           "webinar",
           9569.17,
           571288.98,
           661
          ],
          [
           "Fuerte (2 criterios)",
           "organic",
           "podcast",
           5676.22,
           173724.64,
           348
          ],
          [
           "Fuerte (2 criterios)",
           "promotion",
           "webinar",
           10934.43,
           892351.21,
           625
          ],
          [
           "Fuerte (2 criterios)",
           "referral",
           "podcast",
           17049.14,
           571810.89,
           300
          ],
          [
           "Fuerte (2 criterios)",
           "referral",
           "podcast",
           24300.83,
           764590.33,
           538
          ],
          [
           "Fuerte (2 criterios)",
           "promotion",
           "email",
           14858.38,
           317944.61,
           398
          ],
          [
           "Fuerte (2 criterios)",
           "referral",
           "podcast",
           19142.15,
           597625.15,
           340
          ],
          [
           "Fuerte (2 criterios)",
           "paid",
           "email",
           20823.67,
           648404.63,
           508
          ],
          [
           "Fuerte (2 criterios)",
           "organic",
           "podcast",
           22088.95,
           693169.8,
           229
          ],
          [
           "Fuerte (2 criterios)",
           "promotion",
           "email",
           19393.55,
           513490.43,
           441
          ],
          [
           "Fuerte (2 criterios)",
           "organic",
           "podcast",
           13087.55,
           293380.77,
           417
          ],
          [
           "Fuerte (2 criterios)",
           "paid",
           "email",
           41350.29,
           953178.97,
           680
          ],
          [
           "Fuerte (2 criterios)",
           "paid",
           "social media",
           21006.57,
           653863.78,
           539
          ],
          [
           "Fuerte (2 criterios)",
           "organic",
           "podcast",
           2990.39,
           568028.33,
           348
          ],
          [
           "Fuerte (2 criterios)",
           "promotion",
           "email",
           26628.67,
           705889.68,
           166
          ],
          [
           "Fuerte (2 criterios)",
           "promotion",
           "email",
           14188.58,
           545673.57,
           216
          ],
          [
           "Fuerte (2 criterios)",
           "referral",
           "email",
           4888.71,
           386978.7,
           390
          ],
          [
           "Fuerte (2 criterios)",
           "promotion",
           "webinar",
           2523.19,
           781037.44,
           421
          ],
          [
           "Fuerte (2 criterios)",
           "organic",
           "email",
           19497.93,
           554696.15,
           327
          ],
          [
           "Fuerte (2 criterios)",
           "promotion",
           "podcast",
           37988.85,
           805684.2,
           232
          ],
          [
           "Fuerte (2 criterios)",
           "paid",
           "social media",
           6430.7,
           986258.1,
           332
          ],
          [
           "Fuerte (2 criterios)",
           "paid",
           "social media",
           2698.11,
           876092.32,
           469
          ],
          [
           "Fuerte (2 criterios)",
           "referral",
           "social media",
           19992.62,
           910901.4,
           548
          ],
          [
           "Fuerte (2 criterios)",
           "paid",
           "social media",
           33107.4,
           796971.65,
           370
          ],
          [
           "Fuerte (2 criterios)",
           "promotion",
           "webinar",
           3934.75,
           89250.13,
           693
          ],
          [
           "Fuerte (2 criterios)",
           "promotion",
           "webinar",
           2970.45,
           712043.2,
           142
          ],
          [
           "Fuerte (2 criterios)",
           "promotion",
           "webinar",
           4839.55,
           250403.29,
           231
          ],
          [
           "Fuerte (2 criterios)",
           "paid",
           "email",
           41458.15,
           924885.11,
           310
          ],
          [
           "Fuerte (2 criterios)",
           "referral",
           "podcast",
           2667.65,
           861573.13,
           177
          ],
          [
           "Fuerte (2 criterios)",
           "paid",
           "social media",
           14593.14,
           771828.11,
           297
          ],
          [
           "Fuerte (2 criterios)",
           "paid",
           "social media",
           3083.5,
           494155.17,
           468
          ],
          [
           "Fuerte (2 criterios)",
           "referral",
           "email",
           23901.39,
           918190.34,
           419
          ],
          [
           "Fuerte (2 criterios)",
           "promotion",
           "webinar",
           1407.21,
           112057.31,
           169
          ],
          [
           "Fuerte (2 criterios)",
           "organic",
           "podcast",
           23498.46,
           659782.2,
           400
          ],
          [
           "Fuerte (2 criterios)",
           "paid",
           "webinar",
           29838.85,
           723242.82,
           305
          ],
          [
           "Fuerte (2 criterios)",
           "organic",
           "social media",
           28192.89,
           892332.18,
           495
          ],
          [
           "Fuerte (2 criterios)",
           "organic",
           "social media",
           11711.34,
           975549.34,
           554
          ],
          [
           "Fuerte (2 criterios)",
           "referral",
           "social media",
           15036.97,
           408446.72,
           480
          ],
          [
           "Fuerte (2 criterios)",
           "paid",
           "email",
           8752.77,
           877263.89,
           582
          ],
          [
           "Fuerte (2 criterios)",
           "organic",
           "webinar",
           41771.2,
           888385.22,
           340
          ],
          [
           "Fuerte (2 criterios)",
           "paid",
           "webinar",
           15550.45,
           860685.98,
           338
          ],
          [
           "Fuerte (2 criterios)",
           "paid",
           "podcast",
           16505.53,
           401190.17,
           506
          ],
          [
           "Fuerte (2 criterios)",
           "promotion",
           "email",
           9929.8,
           970132.5,
           334
          ],
          [
           "Fuerte (2 criterios)",
           "organic",
           "social media",
           45583.71,
           959198.9,
           615
          ],
          [
           "Fuerte (2 criterios)",
           "organic",
           "email",
           1378.61,
           862862.99,
           513
          ],
          [
           "Fuerte (2 criterios)",
           "organic",
           "email",
           29965.35,
           800087.39,
           458
          ],
          [
           "Fuerte (2 criterios)",
           "paid",
           "webinar",
           4459.25,
           285414.63,
           214
          ],
          [
           "Fuerte (2 criterios)",
           "paid",
           "email",
           2113.42,
           545164.59,
           336
          ],
          [
           "Fuerte (2 criterios)",
           "organic",
           "social media",
           7795.44,
           533292.53,
           404
          ],
          [
           "Fuerte (2 criterios)",
           "paid",
           "podcast",
           8570.41,
           864848.47,
           219
          ],
          [
           "Fuerte (2 criterios)",
           "paid",
           "podcast",
           10297.36,
           997657.18,
           396
          ],
          [
           "Fuerte (2 criterios)",
           "paid",
           "social media",
           12624.62,
           490299.83,
           435
          ],
          [
           "Fuerte (2 criterios)",
           "promotion",
           "podcast",
           14254.9,
           373966.59,
           344
          ],
          [
           "Fuerte (2 criterios)",
           "paid",
           "social media",
           1223.82,
           768567.7,
           297
          ],
          [
           "Fuerte (2 criterios)",
           "organic",
           "podcast",
           2568.1,
           189403.95,
           439
          ],
          [
           "Fuerte (2 criterios)",
           "referral",
           "podcast",
           9689.82,
           570403.72,
           626
          ],
          [
           "Fuerte (2 criterios)",
           "organic",
           "email",
           26043.99,
           990541.8,
           616
          ],
          [
           "Fuerte (2 criterios)",
           "organic",
           "email",
           12214.82,
           553547.53,
           203
          ],
          [
           "Fuerte (2 criterios)",
           "promotion",
           "podcast",
           11441.68,
           831009.89,
           414
          ],
          [
           "Fuerte (2 criterios)",
           "promotion",
           "webinar",
           13932.94,
           737381.8,
           108
          ],
          [
           "Fuerte (2 criterios)",
           "promotion",
           "webinar",
           8324.3,
           875993.48,
           182
          ],
          [
           "Fuerte (2 criterios)",
           "organic",
           "social media",
           10216.93,
           597726.39,
           528
          ],
          [
           "Fuerte (2 criterios)",
           "promotion",
           "webinar",
           5833.99,
           181824.5,
           420
          ],
          [
           "Fuerte (2 criterios)",
           "promotion",
           "social media",
           25337.54,
           569047.55,
           386
          ],
          [
           "Fuerte (2 criterios)",
           "organic",
           "podcast",
           31126.7,
           899936.24,
           483
          ],
          [
           "Fuerte (2 criterios)",
           "referral",
           "email",
           24555.69,
           542272.5,
           371
          ],
          [
           "Fuerte (2 criterios)",
           "paid",
           "social media",
           4675.43,
           641884.2,
           687
          ],
          [
           "Fuerte (2 criterios)",
           "organic",
           "social media",
           2339.3,
           197904.55,
           328
          ],
          [
           "Fuerte (2 criterios)",
           "promotion",
           "social media",
           17051.21,
           572556.5,
           445
          ],
          [
           "Fuerte (2 criterios)",
           "promotion",
           "email",
           9933.82,
           286921.83,
           49
          ],
          [
           "Fuerte (2 criterios)",
           "promotion",
           "social media",
           3854.95,
           223877.3,
           394
          ],
          [
           "Fuerte (2 criterios)",
           "referral",
           "email",
           43185.33,
           918409.28,
           201
          ],
          [
           "Fuerte (2 criterios)",
           "referral",
           "social media",
           29206.8,
           628376.14,
           638
          ],
          [
           "Fuerte (2 criterios)",
           "referral",
           "email",
           7315.35,
           162798.55,
           22
          ],
          [
           "Fuerte (2 criterios)",
           "referral",
           "email",
           4714.75,
           650653.56,
           329
          ],
          [
           "Fuerte (2 criterios)",
           "paid",
           "webinar",
           17625,
           517206.57,
           273
          ],
          [
           "Fuerte (2 criterios)",
           "organic",
           "podcast",
           7401.5,
           537274.2,
           405
          ],
          [
           "Fuerte (2 criterios)",
           "promotion",
           "social media",
           11168.71,
           277549.41,
           392
          ],
          [
           "Fuerte (2 criterios)",
           "organic",
           "email",
           8082.3,
           709593.48,
           328
          ]
         ],
         "hovertemplate": "<b>%{text}</b><br>Categoría: %{customdata[0]}<br>Canal: %{customdata[1]}<br>Tipo: %{customdata[2]}<br>ROI: %{x:.2f}<br>Conv.: %{y:.2%}<br>Presupuesto: $%{customdata[3]:,.2f}<br>Ingresos: $%{customdata[4]:,.2f}<br>Duración: %{customdata[5]} días",
         "marker": {
          "color": {
           "bdata": "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",
           "dtype": "f8"
          },
          "colorbar": {
           "title": {
            "text": "Eficiencia"
           }
          },
          "colorscale": [
           [
            0,
            "#440154"
           ],
           [
            0.1111111111111111,
            "#482878"
           ],
           [
            0.2222222222222222,
            "#3e4989"
           ],
           [
            0.3333333333333333,
            "#31688e"
           ],
           [
            0.4444444444444444,
            "#26828e"
           ],
           [
            0.5555555555555556,
            "#1f9e89"
           ],
           [
            0.6666666666666666,
            "#35b779"
           ],
           [
            0.7777777777777778,
            "#6ece58"
           ],
           [
            0.8888888888888888,
            "#b5de2b"
           ],
           [
            1,
            "#fde725"
           ]
          ],
          "line": {
           "color": "white",
           "width": 1
          },
          "showscale": true,
          "size": {
           "bdata": "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",
           "dtype": "f8"
          }
         },
         "mode": "markers",
         "text": [
          "Intuitive responsive support",
          "Intuitive didactic installation",
          "Fundamental dedicated encryption",
          "Managed analyzing service-desk",
          "Seamless bifurcated firmware",
          "User-friendly analyzing moratorium",
          "Programmable discrete intranet",
          "Diverse grid-enabled forecast",
          "Open-source 6thgeneration secured line",
          "Expanded tangible capacity",
          "Public-key dynamic synergy",
          "Synergistic actuating benchmark",
          "Persistent disintermediate artificial intelligence",
          "Polarized upward-trending frame",
          "Compatible eco-centric access",
          "Quality-focused composite challenge",
          "Realigned radical hardware",
          "Customer-focused fault-tolerant help-desk",
          "Reduced static functionalities",
          "Diverse modular productivity",
          "Stand-alone client-driven challenge",
          "Function-based motivating algorithm",
          "De-engineered homogeneous array",
          "Operative demand-driven open system",
          "Versatile well-modulated ability",
          "Progressive systematic architecture",
          "Automated dedicated budgetary management",
          "Multi-channeled coherent moderator",
          "Cloned foreground portal",
          "Profound non-volatile complexity",
          "Optimized zero administration task-force",
          "Organic holistic Graphical User Interface",
          "Multi-channeled upward-trending instruction set",
          "Profit-focused multimedia concept",
          "Customer-focused human-resource algorithm",
          "Profit-focused actuating open architecture",
          "Mandatory neutral ability",
          "Re-contextualized clear-thinking matrix",
          "Customizable 5thgeneration instruction set",
          "Customer-focused holistic orchestration",
          "Extended optimizing infrastructure",
          "Down-sized uniform productivity",
          "Polarized empowering neural-net",
          "Versatile bandwidth-monitored time-frame",
          "Centralized value-added superstructure",
          "Integrated analyzing focus group",
          "Centralized contextually-based middleware",
          "Innovative local workforce",
          "Customizable bi-directional functionalities",
          "Reduced didactic leverage",
          "Organized demand-driven parallelism",
          "Re-contextualized 24/7 policy",
          "Enhanced bifurcated solution",
          "Profound multimedia framework",
          "Down-sized modular conglomeration",
          "Self-enabling non-volatile core",
          "Multi-tiered context-sensitive hub",
          "Future-proofed 4thgeneration core",
          "Organized static alliance",
          "Programmable tertiary installation",
          "Reverse-engineered stable approach",
          "Future-proofed dynamic Internet solution",
          "Up-sized next generation portal",
          "Stand-alone modular Internet solution",
          "Robust national process improvement",
          "Networked systemic toolset",
          "Horizontal systematic moderator",
          "Ergonomic incremental utilization",
          "Sharable background circuit",
          "Implemented logistical architecture",
          "Optimized zero administration approach",
          "Robust directional complexity",
          "Public-key multi-tasking throughput",
          "De-engineered analyzing task-force",
          "Optional actuating standardization",
          "Networked local adapter",
          "Configurable eco-centric capability",
          "Vision-oriented 4thgeneration conglomeration",
          "Ameliorated secondary data-warehouse",
          "Future-proofed empowering forecast",
          "Re-engineered solution-oriented core",
          "Virtual real-time architecture",
          "Fully-configurable 24/7 knowledgebase",
          "Function-based systematic emulation",
          "Sharable next generation ability",
          "Virtual 4thgeneration Graphical User Interface",
          "Enhanced heuristic archive",
          "Persistent incremental installation",
          "Inverse well-modulated forecast",
          "Synergized client-driven algorithm",
          "Innovative hybrid time-frame",
          "Centralized system-worthy knowledgebase",
          "Proactive eco-centric process improvement",
          "Digitized human-resource knowledge user",
          "Ergonomic next generation hub",
          "Grass-roots national approach",
          "Multi-tiered neutral standardization",
          "Monitored impactful installation",
          "Automated responsive initiative",
          "Centralized methodical alliance",
          "Sharable upward-trending initiative",
          "Managed bandwidth-monitored complexity",
          "Horizontal 6thgeneration model",
          "Robust optimizing projection",
          "Reverse-engineered static infrastructure",
          "Monitored grid-enabled productivity",
          "Decentralized zero-defect superstructure",
          "Monitored global leverage",
          "Reduced holistic groupware",
          "Distributed web-enabled matrix",
          "Total secondary attitude",
          "Virtual executive alliance",
          "Distributed content-based service-desk",
          "Persevering zero administration interface",
          "Self-enabling reciprocal algorithm",
          "Fundamental holistic policy",
          "Digitized analyzing paradigm",
          "Seamless executive standardization",
          "Realigned empowering initiative",
          "Customizable executive task-force",
          "Distributed intangible software",
          "Streamlined attitude-oriented adapter",
          "Cloned leadingedge moderator",
          "Polarized systematic parallelism",
          "Sharable object-oriented algorithm",
          "Digitized fresh-thinking toolset",
          "Implemented next generation productivity",
          "Distributed heuristic extranet",
          "Cloned background ability",
          "Virtual methodical projection",
          "Intuitive secondary initiative",
          "Function-based dynamic focus group",
          "Proactive explicit migration",
          "Configurable client-driven migration",
          "Multi-tiered multi-tasking support",
          "Synergistic needs-based framework",
          "Object-based web-enabled intranet",
          "Customer-focused web-enabled framework",
          "Synergized local emulation",
          "Devolved homogeneous projection",
          "Balanced multi-tasking adapter",
          "Ameliorated grid-enabled capability",
          "Monitored full-range matrix",
          "Face-to-face foreground service-desk",
          "Re-contextualized solution-oriented circuit",
          "Polarized high-level ability",
          "Front-line multi-tasking moderator",
          "Mandatory 3rdgeneration matrices",
          "Decentralized contextually-based capability",
          "Inverse non-volatile superstructure",
          "Multi-lateral needs-based collaboration",
          "Enterprise-wide bandwidth-monitored toolset",
          "Multi-channeled reciprocal utilization",
          "Synergized actuating policy",
          "Balanced asynchronous contingency",
          "Reduced content-based Graphic Interface",
          "Networked systematic budgetary management",
          "Monitored high-level contingency",
          "Switchable actuating encryption",
          "Front-line high-level encryption",
          "Reduced analyzing moratorium",
          "Cross-group web-enabled methodology",
          "Total impactful budgetary management",
          "Advanced systematic complexity",
          "Customizable optimizing benchmark",
          "Cross-group bottom-line orchestration",
          "Down-sized high-level productivity",
          "Team-oriented bifurcated capability",
          "Progressive composite access",
          "Compatible bottom-line core",
          "Triple-buffered client-server portal",
          "Innovative intangible emulation",
          "Fundamental incremental service-desk",
          "Proactive regional conglomeration",
          "Switchable modular solution",
          "Open-source intermediate benchmark",
          "Implemented multi-tasking emulation",
          "Self-enabling incremental success",
          "Organic directional utilization",
          "Persistent upward-trending Graphical User Interface",
          "Function-based zero-defect capability",
          "Front-line national Graphic Interface",
          "Function-based 3rdgeneration Graphical User Interface",
          "Persevering disintermediate parallelism",
          "Grass-roots multi-tasking throughput",
          "Intuitive didactic interface",
          "Organic regional open architecture",
          "Proactive 6thgeneration interface",
          "Multi-layered coherent instruction set",
          "Reduced attitude-oriented model",
          "Multi-channeled 24/7 implementation",
          "Operative intermediate alliance",
          "Inverse dynamic flexibility",
          "Digitized value-added access",
          "Object-based didactic intranet",
          "Object-based intermediate attitude",
          "Innovative intangible complexity",
          "Optimized content-based matrix",
          "Compatible tertiary alliance",
          "Team-oriented discrete benchmark",
          "Cloned scalable frame",
          "Grass-roots client-server middleware",
          "Inverse transitional artificial intelligence",
          "Managed global capacity",
          "Phased systematic interface",
          "Synergized 6thgeneration interface",
          "Enterprise-wide bottom-line superstructure",
          "Reverse-engineered multi-state standardization",
          "Compatible global Graphical User Interface",
          "Multi-tiered asynchronous model",
          "Function-based homogeneous productivity",
          "Cross-platform empowering protocol",
          "Grass-roots multimedia hub",
          "Inverse dedicated process improvement",
          "Multi-layered neutral productivity",
          "Profit-focused next generation installation",
          "Right-sized transitional standardization",
          "Configurable context-sensitive orchestration",
          "Enhanced optimizing time-frame",
          "Profound heuristic solution",
          "Robust tangible strategy",
          "Optimized high-level ability",
          "Up-sized maximized time-frame",
          "Stand-alone client-driven approach",
          "Balanced optimizing software",
          "De-engineered object-oriented framework",
          "Object-based leadingedge initiative",
          "Synchronized national system engine",
          "Open-architected transitional framework",
          "Networked motivating Graphic Interface",
          "Up-sized dedicated workforce",
          "Cloned system-worthy project",
          "Total bi-directional attitude",
          "Grass-roots bottom-line strategy",
          "Quality-focused fault-tolerant secured line",
          "Secured solution-oriented application",
          "Reverse-engineered motivating algorithm",
          "Reduced attitude-oriented task-force",
          "Expanded upward-trending conglomeration",
          "Switchable value-added portal",
          "Visionary client-driven pricing structure",
          "Enterprise-wide didactic instruction set",
          "Universal transitional moderator",
          "Implemented content-based contingency",
          "Reverse-engineered client-server neural-net",
          "Networked upward-trending forecast",
          "User-centric clear-thinking interface",
          "Reverse-engineered static infrastructure",
          "Managed leadingedge knowledge user",
          "Optional secondary website",
          "Multi-channeled 5thgeneration methodology",
          "Up-sized user-facing secured line",
          "Duplicate Campaign"
         ],
         "type": "scatter",
         "x": {
          "bdata": "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",
          "dtype": "f8"
         },
         "xaxis": "x",
         "y": {
          "bdata": "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",
          "dtype": "f8"
         },
         "yaxis": "y"
        },
        {
         "hovertemplate": "<b>%{y}</b><br>Tasa de éxito: %{x:.1f}%",
         "marker": {
          "color": [
           "rgba(255, 182, 193, 0.7)",
           "rgba(173, 216, 230, 0.7)",
           "rgba(144, 238, 144, 0.7)",
           "rgba(255, 218, 185, 0.7)"
          ]
         },
         "orientation": "h",
         "text": [
          "26.4%",
          "23.6%",
          "26.0%",
          "24.1%"
         ],
         "textposition": "auto",
         "type": "bar",
         "x": {
          "bdata": "oVSYeD9yOkBfq2eHwI03QB/gAR7gATpA5fb8/lQcOEA=",
          "dtype": "f8"
         },
         "xaxis": "x2",
         "y": [
          "organic",
          "paid",
          "promotion",
          "referral"
         ],
         "yaxis": "y2"
        },
        {
         "cells": {
          "align": "left",
          "fill": {
           "color": "white"
          },
          "font": {
           "size": 11
          },
          "height": 30,
          "values": [
           [
            "Realigned radical hardware",
            "Balanced optimizing software",
            "Sharable upward-trending initiative",
            "Up-sized dedicated workforce",
            "Advanced systematic complexity",
            "Reverse-engineered static infrastructure",
            "Object-based didactic intranet",
            "Ergonomic incremental utilization",
            "Seamless bifurcated firmware",
            "Versatile bandwidth-monitored time-frame"
           ],
           [
            "Elite (3 criterios)",
            "Fuerte (2 criterios)",
            "Fuerte (2 criterios)",
            "Fuerte (2 criterios)",
            "Fuerte (2 criterios)",
            "Fuerte (2 criterios)",
            "Fuerte (2 criterios)",
            "Elite (3 criterios)",
            "Elite (3 criterios)",
            "Elite (3 criterios)"
           ],
           [
            "referral",
            "paid",
            "organic",
            "organic",
            "organic",
            "referral",
            "paid",
            "promotion",
            "organic",
            "organic"
           ],
           [
            "webinar",
            "podcast",
            "social media",
            "email",
            "podcast",
            "email",
            "social media",
            "webinar",
            "webinar",
            "email"
           ],
           [
            "27.97",
            "95.88",
            "46.46",
            "37.03",
            "527.27",
            "79.61",
            "152.37",
            "31.25",
            "33.75",
            "25.21"
           ],
           [
            "87.00%",
            "71.00%",
            "24.00%",
            "25.00%",
            "54.00%",
            "44.00%",
            "46.00%",
            "92.00%",
            "90.00%",
            "82.00%"
           ],
           [
            "$999,712",
            "$997,657",
            "$994,306",
            "$990,542",
            "$989,733",
            "$987,205",
            "$986,258",
            "$985,935",
            "$984,261",
            "$979,402"
           ]
          ]
         },
         "domain": {
          "x": [
           0,
           1
          ],
          "y": [
           0,
           0.30000000000000004
          ]
         },
         "header": {
          "align": "left",
          "fill": {
           "color": "rgba(173, 216, 230, 0.7)"
          },
          "font": {
           "size": 12
          },
          "values": [
           "Campaña",
           "Categoría",
           "Canal",
           "Tipo",
           "ROI",
           "Conv",
           "Ingresos"
          ]
         },
         "type": "table"
        }
       ],
       "layout": {
        "annotations": [
         {
          "font": {
           "size": 16
          },
          "showarrow": false,
          "text": "Mapa de Rendimiento de Campañas",
          "x": 0.29250000000000004,
          "xanchor": "center",
          "xref": "paper",
          "y": 1,
          "yanchor": "bottom",
          "yref": "paper"
         },
         {
          "font": {
           "size": 16
          },
          "showarrow": false,
          "text": "Tasa de Éxito por Canal",
          "x": 0.8425,
          "xanchor": "center",
          "xref": "paper",
          "y": 1,
          "yanchor": "bottom",
          "yref": "paper"
         },
         {
          "font": {
           "size": 16
          },
          "showarrow": false,
          "text": "Campañas de Alto Rendimiento",
          "x": 0.5,
          "xanchor": "center",
          "xref": "paper",
          "y": 0.30000000000000004,
          "yanchor": "bottom",
          "yref": "paper"
         },
         {
          "bgcolor": "rgba(255, 255, 255, 0.8)",
          "font": {
           "size": 10
          },
          "showarrow": false,
          "text": "Alto ROI + Alta Conversión",
          "x": 30.06,
          "xref": "x",
          "y": 1.155,
          "yref": "y"
         }
        ],
        "height": 900,
        "shapes": [
         {
          "line": {
           "color": "red",
           "dash": "dash"
          },
          "type": "line",
          "x0": 20.04,
          "x1": 20.04,
          "xref": "x",
          "y0": 0,
          "y1": 1.6,
          "yref": "y"
         },
         {
          "line": {
           "color": "red",
           "dash": "dash"
          },
          "type": "line",
          "x0": 0,
          "x1": 900,
          "xref": "x",
          "y0": 0.77,
          "y1": 0.77,
          "yref": "y"
         }
        ],
        "showlegend": false,
        "template": {
         "data": {
          "bar": [
           {
            "error_x": {
             "color": "rgb(36,36,36)"
            },
            "error_y": {
             "color": "rgb(36,36,36)"
            },
            "marker": {
             "line": {
              "color": "white",
              "width": 0.5
             },
             "pattern": {
              "fillmode": "overlay",
              "size": 10,
              "solidity": 0.2
             }
            },
            "type": "bar"
           }
          ],
          "barpolar": [
           {
            "marker": {
             "line": {
              "color": "white",
              "width": 0.5
             },
             "pattern": {
              "fillmode": "overlay",
              "size": 10,
              "solidity": 0.2
             }
            },
            "type": "barpolar"
           }
          ],
          "carpet": [
           {
            "aaxis": {
             "endlinecolor": "rgb(36,36,36)",
             "gridcolor": "white",
             "linecolor": "white",
             "minorgridcolor": "white",
             "startlinecolor": "rgb(36,36,36)"
            },
            "baxis": {
             "endlinecolor": "rgb(36,36,36)",
             "gridcolor": "white",
             "linecolor": "white",
             "minorgridcolor": "white",
             "startlinecolor": "rgb(36,36,36)"
            },
            "type": "carpet"
           }
          ],
          "choropleth": [
           {
            "colorbar": {
             "outlinewidth": 1,
             "tickcolor": "rgb(36,36,36)",
             "ticks": "outside"
            },
            "type": "choropleth"
           }
          ],
          "contour": [
           {
            "colorbar": {
             "outlinewidth": 1,
             "tickcolor": "rgb(36,36,36)",
             "ticks": "outside"
            },
            "colorscale": [
             [
              0,
              "#440154"
             ],
             [
              0.1111111111111111,
              "#482878"
             ],
             [
              0.2222222222222222,
              "#3e4989"
             ],
             [
              0.3333333333333333,
              "#31688e"
             ],
             [
              0.4444444444444444,
              "#26828e"
             ],
             [
              0.5555555555555556,
              "#1f9e89"
             ],
             [
              0.6666666666666666,
              "#35b779"
             ],
             [
              0.7777777777777778,
              "#6ece58"
             ],
             [
              0.8888888888888888,
              "#b5de2b"
             ],
             [
              1,
              "#fde725"
             ]
            ],
            "type": "contour"
           }
          ],
          "contourcarpet": [
           {
            "colorbar": {
             "outlinewidth": 1,
             "tickcolor": "rgb(36,36,36)",
             "ticks": "outside"
            },
            "type": "contourcarpet"
           }
          ],
          "heatmap": [
           {
            "colorbar": {
             "outlinewidth": 1,
             "tickcolor": "rgb(36,36,36)",
             "ticks": "outside"
            },
            "colorscale": [
             [
              0,
              "#440154"
             ],
             [
              0.1111111111111111,
              "#482878"
             ],
             [
              0.2222222222222222,
              "#3e4989"
             ],
             [
              0.3333333333333333,
              "#31688e"
             ],
             [
              0.4444444444444444,
              "#26828e"
             ],
             [
              0.5555555555555556,
              "#1f9e89"
             ],
             [
              0.6666666666666666,
              "#35b779"
             ],
             [
              0.7777777777777778,
              "#6ece58"
             ],
             [
              0.8888888888888888,
              "#b5de2b"
             ],
             [
              1,
              "#fde725"
             ]
            ],
            "type": "heatmap"
           }
          ],
          "histogram": [
           {
            "marker": {
             "line": {
              "color": "white",
              "width": 0.6
             }
            },
            "type": "histogram"
           }
          ],
          "histogram2d": [
           {
            "colorbar": {
             "outlinewidth": 1,
             "tickcolor": "rgb(36,36,36)",
             "ticks": "outside"
            },
            "colorscale": [
             [
              0,
              "#440154"
             ],
             [
              0.1111111111111111,
              "#482878"
             ],
             [
              0.2222222222222222,
              "#3e4989"
             ],
             [
              0.3333333333333333,
              "#31688e"
             ],
             [
              0.4444444444444444,
              "#26828e"
             ],
             [
              0.5555555555555556,
              "#1f9e89"
             ],
             [
              0.6666666666666666,
              "#35b779"
             ],
             [
              0.7777777777777778,
              "#6ece58"
             ],
             [
              0.8888888888888888,
              "#b5de2b"
             ],
             [
              1,
              "#fde725"
             ]
            ],
            "type": "histogram2d"
           }
          ],
          "histogram2dcontour": [
           {
            "colorbar": {
             "outlinewidth": 1,
             "tickcolor": "rgb(36,36,36)",
             "ticks": "outside"
            },
            "colorscale": [
             [
              0,
              "#440154"
             ],
             [
              0.1111111111111111,
              "#482878"
             ],
             [
              0.2222222222222222,
              "#3e4989"
             ],
             [
              0.3333333333333333,
              "#31688e"
             ],
             [
              0.4444444444444444,
              "#26828e"
             ],
             [
              0.5555555555555556,
              "#1f9e89"
             ],
             [
              0.6666666666666666,
              "#35b779"
             ],
             [
              0.7777777777777778,
              "#6ece58"
             ],
             [
              0.8888888888888888,
              "#b5de2b"
             ],
             [
              1,
              "#fde725"
             ]
            ],
            "type": "histogram2dcontour"
           }
          ],
          "mesh3d": [
           {
            "colorbar": {
             "outlinewidth": 1,
             "tickcolor": "rgb(36,36,36)",
             "ticks": "outside"
            },
            "type": "mesh3d"
           }
          ],
          "parcoords": [
           {
            "line": {
             "colorbar": {
              "outlinewidth": 1,
              "tickcolor": "rgb(36,36,36)",
              "ticks": "outside"
             }
            },
            "type": "parcoords"
           }
          ],
          "pie": [
           {
            "automargin": true,
            "type": "pie"
           }
          ],
          "scatter": [
           {
            "fillpattern": {
             "fillmode": "overlay",
             "size": 10,
             "solidity": 0.2
            },
            "type": "scatter"
           }
          ],
          "scatter3d": [
           {
            "line": {
             "colorbar": {
              "outlinewidth": 1,
              "tickcolor": "rgb(36,36,36)",
              "ticks": "outside"
             }
            },
            "marker": {
             "colorbar": {
              "outlinewidth": 1,
              "tickcolor": "rgb(36,36,36)",
              "ticks": "outside"
             }
            },
            "type": "scatter3d"
           }
          ],
          "scattercarpet": [
           {
            "marker": {
             "colorbar": {
              "outlinewidth": 1,
              "tickcolor": "rgb(36,36,36)",
              "ticks": "outside"
             }
            },
            "type": "scattercarpet"
           }
          ],
          "scattergeo": [
           {
            "marker": {
             "colorbar": {
              "outlinewidth": 1,
              "tickcolor": "rgb(36,36,36)",
              "ticks": "outside"
             }
            },
            "type": "scattergeo"
           }
          ],
          "scattergl": [
           {
            "marker": {
             "colorbar": {
              "outlinewidth": 1,
              "tickcolor": "rgb(36,36,36)",
              "ticks": "outside"
             }
            },
            "type": "scattergl"
           }
          ],
          "scattermap": [
           {
            "marker": {
             "colorbar": {
              "outlinewidth": 1,
              "tickcolor": "rgb(36,36,36)",
              "ticks": "outside"
             }
            },
            "type": "scattermap"
           }
          ],
          "scattermapbox": [
           {
            "marker": {
             "colorbar": {
              "outlinewidth": 1,
              "tickcolor": "rgb(36,36,36)",
              "ticks": "outside"
             }
            },
            "type": "scattermapbox"
           }
          ],
          "scatterpolar": [
           {
            "marker": {
             "colorbar": {
              "outlinewidth": 1,
              "tickcolor": "rgb(36,36,36)",
              "ticks": "outside"
             }
            },
            "type": "scatterpolar"
           }
          ],
          "scatterpolargl": [
           {
            "marker": {
             "colorbar": {
              "outlinewidth": 1,
              "tickcolor": "rgb(36,36,36)",
              "ticks": "outside"
             }
            },
            "type": "scatterpolargl"
           }
          ],
          "scatterternary": [
           {
            "marker": {
             "colorbar": {
              "outlinewidth": 1,
              "tickcolor": "rgb(36,36,36)",
              "ticks": "outside"
             }
            },
            "type": "scatterternary"
           }
          ],
          "surface": [
           {
            "colorbar": {
             "outlinewidth": 1,
             "tickcolor": "rgb(36,36,36)",
             "ticks": "outside"
            },
            "colorscale": [
             [
              0,
              "#440154"
             ],
             [
              0.1111111111111111,
              "#482878"
             ],
             [
              0.2222222222222222,
              "#3e4989"
             ],
             [
              0.3333333333333333,
              "#31688e"
             ],
             [
              0.4444444444444444,
              "#26828e"
             ],
             [
              0.5555555555555556,
              "#1f9e89"
             ],
             [
              0.6666666666666666,
              "#35b779"
             ],
             [
              0.7777777777777778,
              "#6ece58"
             ],
             [
              0.8888888888888888,
              "#b5de2b"
             ],
             [
              1,
              "#fde725"
             ]
            ],
            "type": "surface"
           }
          ],
          "table": [
           {
            "cells": {
             "fill": {
              "color": "rgb(237,237,237)"
             },
             "line": {
              "color": "white"
             }
            },
            "header": {
             "fill": {
              "color": "rgb(217,217,217)"
             },
             "line": {
              "color": "white"
             }
            },
            "type": "table"
           }
          ]
         },
         "layout": {
          "annotationdefaults": {
           "arrowhead": 0,
           "arrowwidth": 1
          },
          "autotypenumbers": "strict",
          "coloraxis": {
           "colorbar": {
            "outlinewidth": 1,
            "tickcolor": "rgb(36,36,36)",
            "ticks": "outside"
           }
          },
          "colorscale": {
           "diverging": [
            [
             0,
             "rgb(103,0,31)"
            ],
            [
             0.1,
             "rgb(178,24,43)"
            ],
            [
             0.2,
             "rgb(214,96,77)"
            ],
            [
             0.3,
             "rgb(244,165,130)"
            ],
            [
             0.4,
             "rgb(253,219,199)"
            ],
            [
             0.5,
             "rgb(247,247,247)"
            ],
            [
             0.6,
             "rgb(209,229,240)"
            ],
            [
             0.7,
             "rgb(146,197,222)"
            ],
            [
             0.8,
             "rgb(67,147,195)"
            ],
            [
             0.9,
             "rgb(33,102,172)"
            ],
            [
             1,
             "rgb(5,48,97)"
            ]
           ],
           "sequential": [
            [
             0,
             "#440154"
            ],
            [
             0.1111111111111111,
             "#482878"
            ],
            [
             0.2222222222222222,
             "#3e4989"
            ],
            [
             0.3333333333333333,
             "#31688e"
            ],
            [
             0.4444444444444444,
             "#26828e"
            ],
            [
             0.5555555555555556,
             "#1f9e89"
            ],
            [
             0.6666666666666666,
             "#35b779"
            ],
            [
             0.7777777777777778,
             "#6ece58"
            ],
            [
             0.8888888888888888,
             "#b5de2b"
            ],
            [
             1,
             "#fde725"
            ]
           ],
           "sequentialminus": [
            [
             0,
             "#440154"
            ],
            [
             0.1111111111111111,
             "#482878"
            ],
            [
             0.2222222222222222,
             "#3e4989"
            ],
            [
             0.3333333333333333,
             "#31688e"
            ],
            [
             0.4444444444444444,
             "#26828e"
            ],
            [
             0.5555555555555556,
             "#1f9e89"
            ],
            [
             0.6666666666666666,
             "#35b779"
            ],
            [
             0.7777777777777778,
             "#6ece58"
            ],
            [
             0.8888888888888888,
             "#b5de2b"
            ],
            [
             1,
             "#fde725"
            ]
           ]
          },
          "colorway": [
           "#1F77B4",
           "#FF7F0E",
           "#2CA02C",
           "#D62728",
           "#9467BD",
           "#8C564B",
           "#E377C2",
           "#7F7F7F",
           "#BCBD22",
           "#17BECF"
          ],
          "font": {
           "color": "rgb(36,36,36)"
          },
          "geo": {
           "bgcolor": "white",
           "lakecolor": "white",
           "landcolor": "white",
           "showlakes": true,
           "showland": true,
           "subunitcolor": "white"
          },
          "hoverlabel": {
           "align": "left"
          },
          "hovermode": "closest",
          "mapbox": {
           "style": "light"
          },
          "paper_bgcolor": "white",
          "plot_bgcolor": "white",
          "polar": {
           "angularaxis": {
            "gridcolor": "rgb(232,232,232)",
            "linecolor": "rgb(36,36,36)",
            "showgrid": false,
            "showline": true,
            "ticks": "outside"
           },
           "bgcolor": "white",
           "radialaxis": {
            "gridcolor": "rgb(232,232,232)",
            "linecolor": "rgb(36,36,36)",
            "showgrid": false,
            "showline": true,
            "ticks": "outside"
           }
          },
          "scene": {
           "xaxis": {
            "backgroundcolor": "white",
            "gridcolor": "rgb(232,232,232)",
            "gridwidth": 2,
            "linecolor": "rgb(36,36,36)",
            "showbackground": true,
            "showgrid": false,
            "showline": true,
            "ticks": "outside",
            "zeroline": false,
            "zerolinecolor": "rgb(36,36,36)"
           },
           "yaxis": {
            "backgroundcolor": "white",
            "gridcolor": "rgb(232,232,232)",
            "gridwidth": 2,
            "linecolor": "rgb(36,36,36)",
            "showbackground": true,
            "showgrid": false,
            "showline": true,
            "ticks": "outside",
            "zeroline": false,
            "zerolinecolor": "rgb(36,36,36)"
           },
           "zaxis": {
            "backgroundcolor": "white",
            "gridcolor": "rgb(232,232,232)",
            "gridwidth": 2,
            "linecolor": "rgb(36,36,36)",
            "showbackground": true,
            "showgrid": false,
            "showline": true,
            "ticks": "outside",
            "zeroline": false,
            "zerolinecolor": "rgb(36,36,36)"
           }
          },
          "shapedefaults": {
           "fillcolor": "black",
           "line": {
            "width": 0
           },
           "opacity": 0.3
          },
          "ternary": {
           "aaxis": {
            "gridcolor": "rgb(232,232,232)",
            "linecolor": "rgb(36,36,36)",
            "showgrid": false,
            "showline": true,
            "ticks": "outside"
           },
           "baxis": {
            "gridcolor": "rgb(232,232,232)",
            "linecolor": "rgb(36,36,36)",
            "showgrid": false,
            "showline": true,
            "ticks": "outside"
           },
           "bgcolor": "white",
           "caxis": {
            "gridcolor": "rgb(232,232,232)",
            "linecolor": "rgb(36,36,36)",
            "showgrid": false,
            "showline": true,
            "ticks": "outside"
           }
          },
          "title": {
           "x": 0.05
          },
          "xaxis": {
           "automargin": true,
           "gridcolor": "rgb(232,232,232)",
           "linecolor": "rgb(36,36,36)",
           "showgrid": false,
           "showline": true,
           "ticks": "outside",
           "title": {
            "standoff": 15
           },
           "zeroline": false,
           "zerolinecolor": "rgb(36,36,36)"
          },
          "yaxis": {
           "automargin": true,
           "gridcolor": "rgb(232,232,232)",
           "linecolor": "rgb(36,36,36)",
           "showgrid": false,
           "showline": true,
           "ticks": "outside",
           "title": {
            "standoff": 15
           },
           "zeroline": false,
           "zerolinecolor": "rgb(36,36,36)"
          }
         }
        },
        "title": {
         "text": "Análisis de Campañas de Alto Rendimiento Multidimensional"
        },
        "width": 1100,
        "xaxis": {
         "anchor": "y",
         "domain": [
          0,
          0.5850000000000001
         ],
         "title": {
          "text": "ROI"
         }
        },
        "xaxis2": {
         "anchor": "y2",
         "domain": [
          0.685,
          1
         ],
         "title": {
          "text": "Tasa de Éxito (%)"
         }
        },
        "yaxis": {
         "anchor": "x",
         "domain": [
          0.55,
          1
         ],
         "title": {
          "text": "Tasa de Conversión"
         }
        },
        "yaxis2": {
         "anchor": "x2",
         "domain": [
          0.55,
          1
         ]
        }
       }
      }
     },
     "metadata": {},
     "output_type": "display_data"
    },
    {
     "name": "stdout",
     "output_type": "stream",
     "text": [
      "Campañas de rendimiento élite (3 criterios): 72\n",
      "Campañas de rendimiento fuerte (2 criterios): 181\n",
      "\n",
      "Métricas promedio por categoría:\n",
      "                      roi_numeric  conversion_rate  overall_efficiency  \\\n",
      "performance_category                                                     \n",
      "Elite (3 criterios)     75.882917         0.863056           11.867294   \n",
      "Fuerte (2 criterios)    77.324420         0.424586           29.245735   \n",
      "\n",
      "                            budget  campaign_duration  \n",
      "performance_category                                   \n",
      "Elite (3 criterios)   16782.762500         358.402778  \n",
      "Fuerte (2 criterios)  16415.448398         375.933702  \n",
      "\n",
      "Características comunes de campañas de alto rendimiento:\n",
      "- Canales dominantes: organic, promotion\n",
      "- Tipos dominantes: email, social media\n"
     ]
    }
   ],
   "source": [
    "# Identify high-performance campaigns using multiple criteria\n",
    "import plotly.figure_factory as ff\n",
    "\n",
    "# Define performance thresholds (75th percentile for each metric)\n",
    "roi_threshold = df['roi_numeric'].quantile(0.75)\n",
    "conversion_threshold = df['conversion_rate'].quantile(0.75)\n",
    "efficiency_threshold = (df['revenue'] / df['budget']).quantile(0.75)\n",
    "\n",
    "# Create filter masks for each criterion\n",
    "high_roi = df['roi_numeric'] >= roi_threshold\n",
    "high_conversion = df['conversion_rate'] >= conversion_threshold\n",
    "high_efficiency = (df['revenue'] / df['budget']) >= efficiency_threshold\n",
    "\n",
    "# Identify campaigns that meet multiple criteria\n",
    "# All three criteria\n",
    "elite_campaigns = df[high_roi & high_conversion & high_efficiency].copy()\n",
    "# At least two criteria\n",
    "strong_campaigns = df[(high_roi & high_conversion) | (high_roi & high_efficiency) | \n",
    "                     (high_conversion & high_efficiency)].copy()\n",
    "strong_campaigns = strong_campaigns[~strong_campaigns.index.isin(elite_campaigns.index)]\n",
    "\n",
    "# Add performance category\n",
    "elite_campaigns['performance_category'] = 'Elite (3 criterios)'\n",
    "strong_campaigns['performance_category'] = 'Fuerte (2 criterios)'\n",
    "\n",
    "# Combine the filtered campaigns\n",
    "high_performers = pd.concat([elite_campaigns, strong_campaigns])\n",
    "\n",
    "# Calculate proportion of successful campaigns by channel and type\n",
    "success_by_channel = high_performers['channel'].value_counts() / df['channel'].value_counts() * 100\n",
    "success_by_type = high_performers['type'].value_counts() / df['type'].value_counts() * 100\n",
    "\n",
    "# Create a scatter plot with quadrants\n",
    "fig = make_subplots(\n",
    "    rows=2, cols=2,\n",
    "    column_widths=[0.65, 0.35],\n",
    "    row_heights=[0.6, 0.4],\n",
    "    specs=[\n",
    "        [{\"type\": \"scatter\"}, {\"type\": \"bar\"}],\n",
    "        [{\"type\": \"table\", \"colspan\": 2}, None]\n",
    "    ],\n",
    "    subplot_titles=(\"Mapa de Rendimiento de Campañas\", \n",
    "                   \"Tasa de Éxito por Canal\",\n",
    "                   \"Campañas de Alto Rendimiento\")\n",
    ")\n",
    "\n",
    "# Add main scatter plot (ROI vs Conversion Rate, size = Budget, color = Efficiency)\n",
    "sizes = (high_performers['budget'] / high_performers['budget'].max() * 50) + 10\n",
    "fig.add_trace(\n",
    "    go.Scatter(\n",
    "        x=high_performers['roi_numeric'],\n",
    "        y=high_performers['conversion_rate'],\n",
    "        mode='markers',\n",
    "        marker=dict(\n",
    "            size=sizes,\n",
    "            color=high_performers['revenue'] / high_performers['budget'],\n",
    "            colorscale='Viridis',\n",
    "            colorbar=dict(title=\"Eficiencia\"),\n",
    "            showscale=True,\n",
    "            line=dict(width=1, color='white')\n",
    "        ),\n",
    "        text=high_performers['campaign_name'],\n",
    "        customdata=np.stack((\n",
    "            high_performers['performance_category'],\n",
    "            high_performers['channel'],\n",
    "            high_performers['type'],\n",
    "            high_performers['budget'],\n",
    "            high_performers['revenue'],\n",
    "            high_performers['campaign_duration']\n",
    "        ), axis=1),\n",
    "        hovertemplate='<b>%{text}</b><br>' +\n",
    "                      'Categoría: %{customdata[0]}<br>' +\n",
    "                      'Canal: %{customdata[1]}<br>' +\n",
    "                      'Tipo: %{customdata[2]}<br>' +\n",
    "                      'ROI: %{x:.2f}<br>' +\n",
    "                      'Conv.: %{y:.2%}<br>' +\n",
    "                      'Presupuesto: $%{customdata[3]:,.2f}<br>' +\n",
    "                      'Ingresos: $%{customdata[4]:,.2f}<br>' +\n",
    "                      'Duración: %{customdata[5]} días',\n",
    "    ),\n",
    "    row=1, col=1\n",
    ")\n",
    "\n",
    "# Add threshold lines\n",
    "fig.add_shape(\n",
    "    type=\"line\", line=dict(dash=\"dash\", color=\"red\"),\n",
    "    x0=roi_threshold, y0=0, x1=roi_threshold, y1=1.6,\n",
    "    row=1, col=1\n",
    ")\n",
    "fig.add_shape(\n",
    "    type=\"line\", line=dict(dash=\"dash\", color=\"red\"),\n",
    "    x0=0, y0=conversion_threshold, x1=900, y1=conversion_threshold,\n",
    "    row=1, col=1\n",
    ")\n",
    "\n",
    "# Add annotations for quadrants\n",
    "fig.add_annotation(\n",
    "    x=roi_threshold*1.5, y=conversion_threshold*1.5,\n",
    "    text=\"Alto ROI + Alta Conversión\",\n",
    "    showarrow=False, font=dict(size=10),\n",
    "    bgcolor=\"rgba(255, 255, 255, 0.8)\",\n",
    "    row=1, col=1\n",
    ")\n",
    "\n",
    "# Add success rate by channel bar chart\n",
    "fig.add_trace(\n",
    "    go.Bar(\n",
    "        y=success_by_channel.index,\n",
    "        x=success_by_channel.values,\n",
    "        orientation='h',\n",
    "        marker_color=pastel_colors[:len(success_by_channel)],\n",
    "        text=[f'{x:.1f}%' for x in success_by_channel.values],\n",
    "        textposition='auto',\n",
    "        hovertemplate='<b>%{y}</b><br>Tasa de éxito: %{x:.1f}%',\n",
    "    ),\n",
    "    row=1, col=2\n",
    ")\n",
    "\n",
    "# Create a table with top performers\n",
    "top_high_performers = high_performers.nlargest(10, 'revenue')\n",
    "table_data = [\n",
    "    top_high_performers['campaign_name'],\n",
    "    top_high_performers['performance_category'],\n",
    "    top_high_performers['channel'],\n",
    "    top_high_performers['type'],\n",
    "    [f'{x:.2f}' for x in top_high_performers['roi_numeric']],\n",
    "    [f'{x:.2%}' for x in top_high_performers['conversion_rate']],\n",
    "    [f'${x:,.0f}' for x in top_high_performers['revenue']],\n",
    "]\n",
    "\n",
    "fig.add_trace(\n",
    "    go.Table(\n",
    "        header=dict(\n",
    "            values=['Campaña', 'Categoría', 'Canal', 'Tipo', 'ROI', 'Conv', 'Ingresos'],\n",
    "            fill_color='rgba(173, 216, 230, 0.7)',\n",
    "            align='left',\n",
    "            font=dict(size=12)\n",
    "        ),\n",
    "        cells=dict(\n",
    "            values=table_data,\n",
    "            fill_color='white',\n",
    "            align='left',\n",
    "            font=dict(size=11),\n",
    "            height=30\n",
    "        )\n",
    "    ),\n",
    "    row=2, col=1\n",
    ")\n",
    "\n",
    "# Update layout\n",
    "fig.update_layout(\n",
    "    height=900,\n",
    "    width=1100,\n",
    "    title_text=\"Análisis de Campañas de Alto Rendimiento Multidimensional\",\n",
    "    showlegend=False,\n",
    "    template='simple_white',\n",
    ")\n",
    "\n",
    "# Update axes\n",
    "fig.update_xaxes(title_text=\"ROI\", row=1, col=1)\n",
    "fig.update_yaxes(title_text=\"Tasa de Conversión\", row=1, col=1)\n",
    "fig.update_xaxes(title_text=\"Tasa de Éxito (%)\", row=1, col=2)\n",
    "\n",
    "# Show plot\n",
    "fig.show()\n",
    "\n",
    "# Print summary statistics\n",
    "print(f\"Campañas de rendimiento élite (3 criterios): {len(elite_campaigns)}\")\n",
    "print(f\"Campañas de rendimiento fuerte (2 criterios): {len(strong_campaigns)}\")\n",
    "\n",
    "# Calculate average metrics by performance category\n",
    "performance_metrics = high_performers.groupby('performance_category').agg({\n",
    "    'roi_numeric': 'mean',\n",
    "    'conversion_rate': 'mean',\n",
    "    'revenue': 'mean',\n",
    "    'budget': 'mean',\n",
    "    'campaign_duration': 'mean',\n",
    "    'revenue': lambda x: x.sum() / high_performers['budget'].sum()\n",
    "}).rename(columns={'revenue': 'overall_efficiency'})\n",
    "\n",
    "print(\"\\nMétricas promedio por categoría:\")\n",
    "print(performance_metrics)\n",
    "\n",
    "# Identify common characteristics\n",
    "print(\"\\nCaracterísticas comunes de campañas de alto rendimiento:\")\n",
    "print(f\"- Canales dominantes: {', '.join(success_by_channel.nlargest(2).index.tolist())}\")\n",
    "print(f\"- Tipos dominantes: {', '.join(success_by_type.nlargest(2).index.tolist())}\")"
   ]
  },
  {
   "cell_type": "code",
   "execution_count": null,
   "id": "abad5a9c",
   "metadata": {},
   "outputs": [
    {
     "data": {
      "application/vnd.plotly.v1+json": {
       "config": {
        "plotlyServerURL": "https://plot.ly"
       },
       "data": [
        {
         "marker": {
          "color": "rgba(173, 216, 230, 0.7)"
         },
         "name": "ROI",
         "text": [
          "24.7",
          "25.4",
          "25.0",
          "24.0"
         ],
         "textposition": "auto",
         "type": "bar",
         "x": [
          "Primavera",
          "Verano",
          "Otoño",
          "Invierno"
         ],
         "xaxis": "x",
         "y": {
          "bdata": "IOujxm26OEBsylZT0Vo5QHNUToC9CTlAKoV8CTbzN0A=",
          "dtype": "f8"
         },
         "yaxis": "y"
        },
        {
         "line": {
          "color": "rgba(255, 0, 0, 0.7)",
          "width": 2
         },
         "marker": {
          "size": 10
         },
         "mode": "lines+markers",
         "name": "Tasa de Conversión",
         "type": "scatter",
         "x": [
          "Primavera",
          "Verano",
          "Otoño",
          "Invierno"
         ],
         "xaxis": "x",
         "y": {
          "bdata": "jVw9tKaz4T8z/bLH05rhP3Xw/l0AfeA/zrHbHLvN4T8=",
          "dtype": "f8"
         },
         "yaxis": "y2"
        },
        {
         "line": {
          "color": "rgba(0, 128, 0, 0.7)",
          "width": 2
         },
         "marker": {
          "size": 8
         },
         "mode": "lines+markers",
         "name": "ROI Promedio",
         "type": "scatter",
         "x": [
          "2022-08-01T00:00:00.000000000",
          "2022-09-01T00:00:00.000000000",
          "2022-10-01T00:00:00.000000000",
          "2022-11-01T00:00:00.000000000",
          "2022-12-01T00:00:00.000000000",
          "2023-01-01T00:00:00.000000000",
          "2023-02-01T00:00:00.000000000",
          "2023-03-01T00:00:00.000000000",
          "2023-04-01T00:00:00.000000000",
          "2023-05-01T00:00:00.000000000",
          "2023-06-01T00:00:00.000000000",
          "2023-07-01T00:00:00.000000000",
          "2023-08-01T00:00:00.000000000",
          "2025-01-01T00:00:00.000000000"
         ],
         "xaxis": "x2",
         "y": {
          "bdata": "5axk1m2TM0DQaQOdNmw0QLE6gEt2LjZABJQ7QLkfQEAbp6IYYocwQPT+XKtsaEBAP/ZjP/ajMkDKBreySh08QBSIYqNKmDdAAa3tBW/WNUD6fmq8dE85QA1O9QJ3ETlAuB6F61Goc0C4HoXrUbj6Pw==",
          "dtype": "f8"
         },
         "yaxis": "y3"
        },
        {
         "line": {
          "color": "rgba(255, 165, 0, 0.5)",
          "dash": "dash",
          "width": 2
         },
         "mode": "lines",
         "name": "Ingresos",
         "type": "scatter",
         "x": [
          "2022-08-01T00:00:00.000000000",
          "2022-09-01T00:00:00.000000000",
          "2022-10-01T00:00:00.000000000",
          "2022-11-01T00:00:00.000000000",
          "2022-12-01T00:00:00.000000000",
          "2023-01-01T00:00:00.000000000",
          "2023-02-01T00:00:00.000000000",
          "2023-03-01T00:00:00.000000000",
          "2023-04-01T00:00:00.000000000",
          "2023-05-01T00:00:00.000000000",
          "2023-06-01T00:00:00.000000000",
          "2023-07-01T00:00:00.000000000",
          "2023-08-01T00:00:00.000000000",
          "2025-01-01T00:00:00.000000000"
         ],
         "xaxis": "x2",
         "y": {
          "bdata": "HqLgRD8yIUGMJb/8xUkgQUr3ynBMvB1BSpCnxCybG0Hs/SUA0Z0fQXAhYJTxYyBB6cFRT9JnH0HJ2y+codgdQZBV6AerICBBG8pr6PHXIEF66SYRQ9wfQaFm+dioThxBhetRuLjiKUEAAAAAAGoIQQ==",
          "dtype": "f8"
         },
         "yaxis": "y4"
        },
        {
         "line": {
          "color": "rgba(128, 0, 128, 0.5)",
          "dash": "dot",
          "width": 2
         },
         "mode": "lines",
         "name": "Número de Campañas",
         "type": "scatter",
         "x": [
          "2022-08-01T00:00:00.000000000",
          "2022-09-01T00:00:00.000000000",
          "2022-10-01T00:00:00.000000000",
          "2022-11-01T00:00:00.000000000",
          "2022-12-01T00:00:00.000000000",
          "2023-01-01T00:00:00.000000000",
          "2023-02-01T00:00:00.000000000",
          "2023-03-01T00:00:00.000000000",
          "2023-04-01T00:00:00.000000000",
          "2023-05-01T00:00:00.000000000",
          "2023-06-01T00:00:00.000000000",
          "2023-07-01T00:00:00.000000000",
          "2023-08-01T00:00:00.000000000",
          "2025-01-01T00:00:00.000000000"
         ],
         "xaxis": "x2",
         "y": {
          "bdata": "X2BDWEViP19aTFBaAgE=",
          "dtype": "i1"
         },
         "yaxis": "y4"
        },
        {
         "colorbar": {
          "len": 0.3,
          "title": {
           "text": "ROI Promedio"
          },
          "y": 0.45,
          "yanchor": "middle"
         },
         "colorscale": [
          [
           0,
           "#440154"
          ],
          [
           0.1111111111111111,
           "#482878"
          ],
          [
           0.2222222222222222,
           "#3e4989"
          ],
          [
           0.3333333333333333,
           "#31688e"
          ],
          [
           0.4444444444444444,
           "#26828e"
          ],
          [
           0.5555555555555556,
           "#1f9e89"
          ],
          [
           0.6666666666666666,
           "#35b779"
          ],
          [
           0.7777777777777778,
           "#6ece58"
          ],
          [
           0.8888888888888888,
           "#b5de2b"
          ],
          [
           1,
           "#fde725"
          ]
         ],
         "hovertemplate": "Tipo: %{x}<br>Mes: %{y}<br>ROI: %{z:.2f}<extra></extra>",
         "type": "heatmap",
         "x": [
          "-NO",
          "email",
          "event",
          "podcast",
          "social media",
          "webinar"
         ],
         "xaxis": "x3",
         "y": [
          "Jan",
          "Feb",
          "Mar",
          "Apr",
          "May",
          "Jun",
          "Jul",
          "Aug",
          "Sep",
          "Oct",
          "Nov",
          "Dec"
         ],
         "yaxis": "y5",
         "z": {
          "bdata": "ZmZmZmZmEkAT5QyKXMQ2QGZmZmZmZvY/GTj++7abOEDE21X3DqFRQL0xgon+ziJAAAAAAAAA+H8lv1jyi6UuQAAAAAAAAPh/HKGM3pb1NUAAAAAAAEA5QPbVSZUxrC5AAAAAAAAA+H8t40NPBSZKQAAAAAAAAPh/HoXrUbieLEDbiv1l9yQxQL0qYNhmpzdAAAAAAAAA+H+4oV4ktQM6QAAAAAAAAPh/dor3LKUzLkD2KFyPwhUjQMErC7yywENAAAAAAAAA+H+Whpz77OI5QAAAAAAAAPh/exSuR+HKOkC1TeeAGrQvQCVJkiRJUjJAAAAAAAAA+H+h0wY6bbAwQAAAAAAAAPh/0WkDnTaQSUCUGARWDq0wQKWbxCCw8ixAAAAAAAAA+H8MRL5A5As1QAAAAAAAAPh/Ri3E/PGtMUBGtvP91EBHQDVeukkM4jBAAAAAAAAA+H9lh6nL7U8vQAAAAAAAAPh//0P67eugSEBiJ3ZiJ3Y/QDxHoGirwShAAAAAAAAA+H8lSZIkSVI1QAAAAAAAAPh/RCb76qRKJUA2zTtO0ZEzQFnyiyW/ADxAAAAAAAAA+H9Z+4a1b9grQAAAAAAAAPh/yS+W/GJ5PUAehetRuM44QGoDnTbQITRAAAAAAAAA+H/I+y5ilchIQAAAAAAAAPh//WLJL5b8JUCBH/iBH2hFQIGVQ4ts5zdAAAAAAAAA+H+0the82QQtQAAAAAAAAPh/htF+U54LNECF61G4HtUxQPIVX/EVXy5A",
          "dtype": "f8",
          "shape": "12, 6"
         }
        },
        {
         "marker": {
          "color": "rgba(255, 182, 193, 0.7)"
         },
         "name": "organic",
         "text": [
          "62.3%",
          "45.5%",
          "65.4%",
          "55.0%",
          "57.8%",
          "66.1%",
          "55.5%",
          "48.8%",
          "43.7%",
          "43.8%",
          "46.2%",
          "63.3%"
         ],
         "textposition": "auto",
         "type": "bar",
         "x": [
          "Jan",
          "Feb",
          "Mar",
          "Apr",
          "May",
          "Jun",
          "Jul",
          "Aug",
          "Sep",
          "Oct",
          "Nov",
          "Dec"
         ],
         "xaxis": "x4",
         "y": {
          "bdata": "n0sgaxjt4z8kvVbwiSPdP+8A5Q5Q7uQ//4xpMsCc4T+CThvotIHiP5B7zYWkKeU/wvUoXI/C4T9aSmfoijjfP4e/TTFq+Ns/CtejcD0K3D/+pST0IZPdPz/U9ENNP+Q/",
          "dtype": "f8"
         },
         "yaxis": "y6"
        },
        {
         "marker": {
          "color": "rgba(173, 216, 230, 0.7)"
         },
         "name": "promotion",
         "text": [
          "65.1%",
          "53.9%",
          "53.0%",
          "52.1%",
          "36.4%",
          "50.0%",
          "56.2%",
          "52.1%",
          "50.5%",
          "60.7%",
          "54.9%",
          "58.8%"
         ],
         "textposition": "auto",
         "type": "bar",
         "x": [
          "Jan",
          "Feb",
          "Mar",
          "Apr",
          "May",
          "Jun",
          "Jul",
          "Aug",
          "Sep",
          "Oct",
          "Nov",
          "Dec"
         ],
         "xaxis": "x4",
         "y": {
          "bdata": "fPNq4lnR5D8kRzSNDj/hP/OLJb9Y8uA/ryzwygKv4D9Fd6rdEETXPx2ZXrYy+N8/sh/7sR/74T+smLSKSavgPylcj8L1KOA/agOdNtBp4z8v3SQGgZXhP83MzMzMzOI/",
          "dtype": "f8"
         },
         "yaxis": "y6"
        },
        {
         "marker": {
          "color": "rgba(144, 238, 144, 0.7)"
         },
         "name": "paid",
         "text": [
          "51.6%",
          "52.1%",
          "63.8%",
          "52.0%",
          "55.0%",
          "60.6%",
          "54.2%",
          "56.0%",
          "55.6%",
          "48.7%",
          "54.8%",
          "51.0%"
         ],
         "textposition": "auto",
         "type": "bar",
         "x": [
          "Jan",
          "Feb",
          "Mar",
          "Apr",
          "May",
          "Jun",
          "Jul",
          "Aug",
          "Sep",
          "Oct",
          "Nov",
          "Dec"
         ],
         "xaxis": "x4",
         "y": {
          "bdata": "gjwlyFOC4D8VZx8+w67gP22s2saqbeQ/odMGOm2g4D//jGkywJzhPzEIrBxaZOM/8tJNYhBY4T9dBYnDa+/hPyFDZYepy+E/Jb9Y8osl3z/vp8ZLN4nhP1K4HoXrUeA/",
          "dtype": "f8"
         },
         "yaxis": "y6"
        },
        {
         "marker": {
          "color": "rgba(255, 218, 185, 0.7)"
         },
         "name": "referral",
         "text": [
          "64.3%",
          "44.3%",
          "46.9%",
          "56.6%",
          "64.7%",
          "48.8%",
          "58.7%",
          "55.7%",
          "55.2%",
          "45.4%",
          "56.8%",
          "46.9%"
         ],
         "textposition": "auto",
         "type": "bar",
         "x": [
          "Jan",
          "Feb",
          "Mar",
          "Apr",
          "May",
          "Jun",
          "Jul",
          "Aug",
          "Sep",
          "Oct",
          "Nov",
          "Dec"
         ],
         "xaxis": "x4",
         "y": {
          "bdata": "lvxiyS+W5D9gLPnFkl/cP1cTz4pGAt4/c/uDDJUd4j/r3whl9LbkP0GnDXTaQN8/SOF6FK7H4j/UyTudvNPhP615RhPgrOE/wDevJp4V3T8PAYmMqiniPwAAAAAAAN4/",
          "dtype": "f8"
         },
         "yaxis": "y6"
        },
        {
         "marker": {
          "color": "rgba(144, 238, 144, 0.7)"
         },
         "name": "Ingresos Medios",
         "text": [
          "$549k",
          "$483k",
          "$514k",
          "$534k",
          "$472k",
          "$200k"
         ],
         "textposition": "auto",
         "type": "bar",
         "x": [
          "Q3 2022",
          "Q4 2022",
          "Q1 2023",
          "Q2 2023",
          "Q3 2023",
          "Q1 2025"
         ],
         "xaxis": "x5",
         "y": {
          "bdata": "u86Q1Wa9IEG6zy6wd3odQeF6FLB1Wh9BpBs8+tpIIEFg2GbnPdEcQQAAAAAAaghB",
          "dtype": "f8"
         },
         "yaxis": "y7"
        },
        {
         "line": {
          "color": "rgba(255, 0, 0, 0.7)",
          "width": 2
         },
         "marker": {
          "size": 8
         },
         "mode": "lines+markers",
         "name": "ROI",
         "type": "scatter",
         "x": [
          "Q3 2022",
          "Q4 2022",
          "Q1 2023",
          "Q2 2023",
          "Q3 2023",
          "Q1 2025"
         ],
         "xaxis": "x5",
         "y": {
          "bdata": "f4hCgWMANEB4slreGGU4QFK4HoUrlTtAfA/C9yCcN0AVMGyzU1w/QLgehetRuPo/",
          "dtype": "f8"
         },
         "yaxis": "y8"
        },
        {
         "marker": {
          "color": {
           "bdata": "mpmZmZmZ2T8fhetRuB7lP+xRuB6F69E/UrgehetRyD/sUbgehevpP3E9CtejcOU/w/UoXI/CxT+kcD0K16PgPxSuR+F6FN4/MzMzMzMz6z9xPQrXo3DNP5qZmZmZmeE/ZmZmZmZm7j/NzMzMzMzcP5qZmZmZmbk/cT0K16Nw7T/NzMzMzMzkP7gehetRuO4/SOF6FK5H6T+amZmZmZm5PwrXo3A9Cuc/H4XrUbge7T+4HoXrUbjuPwAAAAAAAOg/16NwPQrX6z97FK5H4XrEP4XrUbgehds/j8L1KFyP6j8K16NwPQrHP5qZmZmZmbk/PQrXo3A94j+amZmZmZnZP+xRuB6F6+E/MzMzMzMzwz9mZmZmZmbmP5qZmZmZmek/7FG4HoXr0T/NzMzMzMzkP0jhehSuR9E/mpmZmZmZuT9mZmZmZmbmPwAAAAAAAAAA9ihcj8L12D/NzMzMzMzsP5qZmZmZmdk/XI/C9Shc7z+kcD0K16PQPwrXo3A9Cu8/uB6F61G47j8AAAAAAADoP3E9CtejcOU/7FG4HoXr6T+4HoXrUbjOP9ejcD0K1+M/mpmZmZmZuT89CtejcD3qP3sUrkfheuQ/MzMzMzMz0z+amZmZmZnJP+xRuB6F68E/MzMzMzMz0z8zMzMzMzPrP1yPwvUoXO8/cT0K16NwzT9SuB6F61HoP6RwPQrXo9A/9ihcj8L16D/sUbgehevpP65H4XoUrtc/9ihcj8L12D/D9Shcj8LtPz0K16NwPeo/mpmZmZmZ2T/NzMzMzMzcPzMzMzMzM+M/exSuR+F6xD+amZmZmZm5P+F6FK5H4eI/XI/C9Shc3z8AAAAAAADQP2ZmZmZmZuY/zczMzMzM3D+amZmZmZm5P5qZmZmZmek/rkfhehSu5z9mZmZmZmbmPzMzMzMzM+M/j8L1KFyP6j8zMzMzMzPTP6RwPQrXo+g/mpmZmZmZ2T+amZmZmZnJP3sUrkfheuw/mpmZmZmZ4T/2KFyPwvXoP3E9CtejcN0/CtejcD0Kxz8pXI/C9SjMP/YoXI/C9eg/rkfhehSu7z8K16NwPQrvPylcj8L1KOQ/ZmZmZmZm5j+amZmZmZnZP+xRuB6F68E/mpmZmZmZuT/hehSuR+HqPxSuR+F6FO4/zczMzMzM5D+F61G4HoXrP65H4XoUrtc/XI/C9Shc7z8zMzMzMzPTP5qZmZmZmek/uB6F61G4zj+4HoXrUbjmP7gehetRuL4/MzMzMzMz4z+4HoXrUbjeP+F6FK5H4co/9ihcj8L16D97FK5H4XrsPxSuR+F6FN4/16NwPQrX4z97FK5H4XrkP8P1KFyPwsU/cT0K16Nw3T/D9Shcj8LlP+xRuB6F69E/pHA9CtejwD+uR+F6FK7nP1yPwvUoXN8/MzMzMzMz6z9xPQrXo3DlP/YoXI/C9dg/uB6F61G4zj+amZmZmZm5P+F6FK5H4co/9ihcj8L12D9I4XoUrkfpP65H4XoUru8/ZmZmZmZm1j/sUbgehevRP1yPwvUoXOc/MzMzMzMz6z9mZmZmZmbmPzMzMzMzM+s/zczMzMzM7D8pXI/C9SjcPwrXo3A9Csc/H4XrUbge5T/2KFyPwvXoP9ejcD0K1+M/CtejcD0K7z97FK5H4XrkPwAAAAAAAOA/XI/C9Shc3z8pXI/C9SjMP7gehetRuOY/zczMzMzM3D/D9Shcj8LFP3sUrkfhetQ/PQrXo3A92j/NzMzMzMzkP2ZmZmZmZuY/9ihcj8L14D8pXI/C9SjkP1yPwvUoXOc/ZmZmZmZm5j8zMzMzMzPTP9ejcD0K1+s/FK5H4XoU5j9cj8L1KFznP65H4XoUru8/MzMzMzMzwz/Xo3A9CtfTP1K4HoXrUeg/exSuR+F61D+4HoXrUbjuP+F6FK5H4do/uB6F61G43j/2KFyPwvXgP7gehetRuM4/mpmZmZmZ4T9xPQrXo3DtP65H4XoUru8/rkfhehSu1z/sUbgehevRP3sUrkfheuw/AAAAAAAA4D9SuB6F61HIP3E9CtejcM0/w/UoXI/C7T+4HoXrUbjOP1K4HoXrUeg/AAAAAAAA0D/NzMzMzMzsPylcj8L1KMw/rkfhehSu1z/hehSuR+HaP3E9CtejcOU/KVyPwvUo5D9mZmZmZmbuPylcj8L1KNw/SOF6FK5H0T8AAAAAAADgP65H4XoUru8/FK5H4XoU3j/D9Shcj8LVP83MzMzMzOQ/XI/C9Shc3z/NzMzMzMzkPwAAAAAAANA/KVyPwvUo3D8fhetRuB7VP3E9CtejcOU/w/UoXI/C5T+amZmZmZnZP+xRuB6F6+E/mpmZmZmZyT9xPQrXo3DdP7gehetRuM4/zczMzMzM7D9SuB6F61HoPzMzMzMzM9M/cT0K16Nw7T+PwvUoXI/qP7gehetRuL4/MzMzMzMz4z8zMzMzMzPrP+xRuB6F6+E/AAAAAAAA6D/sUbgehevpPylcj8L1KNw/KVyPwvUozD89CtejcD3iP8P1KFyPwu0/CtejcD0K1z/NzMzMzMzsPzMzMzMzM9M/SOF6FK5H6T/D9Shcj8LFP5qZmZmZmck/UrgehetRyD9mZmZmZmbuPx+F61G4HtU/9ihcj8L14D8zMzMzMzPTP1K4HoXrUeA/j8L1KFyP4j8AAAAAAADgP8P1KFyPwuU/KVyPwvUo3D9cj8L1KFzvP6RwPQrXo+g/4XoUrkfhyj/NzMzMzMzsP65H4XoUrtc/exSuR+F65D/D9Shcj8LVP/YoXI/C9eg/rkfhehSu1z/NzMzMzMzsP7gehetRuO4/hetRuB6F4z8AAAAAAAAAAM3MzMzMzOQ/rkfhehSu1z8zMzMzMzPrP1K4HoXrUeg/4XoUrkfh6j/2KFyPwvXgPwAAAAAAAOA/hetRuB6F6z/sUbgehevpPwrXo3A9Ctc/rkfhehSu7z/D9Shcj8LtP+xRuB6F6+E/cT0K16NwzT8K16NwPQrHP+F6FK5H4co/exSuR+F61D8pXI/C9SjcP2ZmZmZmZtY/zczMzMzM5D+kcD0K16PgP0jhehSuR+k/7FG4HoXr4T+amZmZmZnZPylcj8L1KNw/7FG4HoXr0T+4HoXrUbjePxSuR+F6FOY/uB6F61G45j/hehSuR+HKP1K4HoXrUcg/UrgehetR2D97FK5H4XrUP1yPwvUoXN8/hetRuB6F2z9mZmZmZmbuP+F6FK5H4eI/exSuR+F6xD8zMzMzMzPjPx+F61G4HtU/mpmZmZmZ2T8AAAAAAADgP4XrUbgehes/uB6F61G43j+kcD0K16PoP+F6FK5H4eI/ZmZmZmZm5j+4HoXrUbjuP4XrUbgehes/H4XrUbge1T9mZmZmZmbuPzMzMzMzM+s/CtejcD0K5z/Xo3A9CtfrP9ejcD0K1+s/16NwPQrX4z/D9Shcj8LlPwrXo3A9Cu8/pHA9Ctej0D+kcD0K16PoP4/C9Shcj+I/MzMzMzMz4z8UrkfhehTmP65H4XoUruc/H4XrUbge7T+kcD0K16PAP3E9CtejcN0/KVyPwvUozD+kcD0K16PQP3sUrkfhesQ/UrgehetR4D9xPQrXo3DdP0jhehSuR9E/PQrXo3A96j9xPQrXo3DlP7gehetRuN4/MzMzMzMz4z97FK5H4XrkP8P1KFyPwtU/FK5H4XoU7j8zMzMzMzPjP6RwPQrXo8A/KVyPwvUo5D/NzMzMzMzsPwAAAAAAAOA/uB6F61G45j/sUbgehevpP7gehetRuM4/ZmZmZmZm1j+amZmZmZm5P2ZmZmZmZu4/hetRuB6F2z+amZmZmZnJP4/C9Shcj+I/4XoUrkfh6j/Xo3A9CtfrP+xRuB6F6+k/mpmZmZmZyT97FK5H4XrUP65H4XoUrtc/UrgehetR4D+amZmZmZnZPx+F61G4HtU/zczMzMzM7D/sUbgehevhP+xRuB6F6+E/AAAAAAAAAAB7FK5H4XrUP6RwPQrXo8A/w/UoXI/C5T+PwvUoXI/qP5qZmZmZmck/UrgehetR4D+PwvUoXI/SP+F6FK5H4do/exSuR+F65D8AAAAAAADQP/YoXI/C9dg/PQrXo3A92j/D9Shcj8LFPzMzMzMzM9M/mpmZmZmZ4T+4HoXrUbjmPzMzMzMzM9M/AAAAAAAA0D9cj8L1KFznP0jhehSuR9E/9ihcj8L14D+PwvUoXI/iP/YoXI/C9eA/rkfhehSu1z89CtejcD3iPylcj8L1KOw/KVyPwvUozD8UrkfhehTuPzMzMzMzM+s/j8L1KFyP6j9xPQrXo3DNPz0K16NwPeI/MzMzMzMz4z+PwvUoXI/iPxSuR+F6FN4/zczMzMzM3D/hehSuR+HiPz0K16NwPeI/hetRuB6F6z8K16NwPQrnPylcj8L1KLw/AAAAAAAA6D9I4XoUrkfhP0jhehSuR+k/mpmZmZmZ6T8AAAAAAADoP83MzMzMzNw/uB6F61G4vj/NzMzMzMzkP2ZmZmZmZuY/uB6F61G47j+4HoXrUbi+P5qZmZmZmdk/H4XrUbge1T9cj8L1KFzvPwAAAAAAAOA/mpmZmZmZ2T9cj8L1KFzfP5qZmZmZmbk/AAAAAAAA0D/Xo3A9CtfrP/YoXI/C9eg/H4XrUbge7T+amZmZmZnpPzMzMzMzM+M/zczMzMzM5D9mZmZmZmbmPx+F61G4Hu0/CtejcD0K7z89CtejcD3aP5qZmZmZmdk/16NwPQrX6z8zMzMzMzPrPwrXo3A9Ctc/ZmZmZmZm5j/hehSuR+HiPzMzMzMzM8M/9ihcj8L12D9I4XoUrkfhP1yPwvUoXO8/mpmZmZmZ6T+uR+F6FK7vPxSuR+F6FOY/mpmZmZmZ2T8fhetRuB7VP2ZmZmZmZu4/ZmZmZmZm5j/sUbgehevBP9ejcD0K19M/UrgehetR2D+kcD0K16PoP3E9CtejcOU/zczMzMzM7D9SuB6F61HoP1K4HoXrUeA/9ihcj8L12D+amZmZmZnJP+xRuB6F6+E/exSuR+F61D89CtejcD3iP3sUrkfheuw/SOF6FK5H0T8zMzMzMzPjP2ZmZmZmZuY/UrgehetRyD9xPQrXo3DlPwAAAAAAAOg/zczMzMzM7D8pXI/C9SjsP1yPwvUoXOc/ZmZmZmZm5j9xPQrXo3DdP3sUrkfhetQ/AAAAAAAA4D8fhetRuB7VP+xRuB6F69E/hetRuB6F4z8zMzMzMzPrP65H4XoUruc/SOF6FK5H4T/2KFyPwvXoP5qZmZmZmek/mpmZmZmZ6T9I4XoUrkfhPwrXo3A9Csc/UrgehetR6D97FK5H4XrsP7gehetRuM4/exSuR+F65D97FK5H4XrEPwrXo3A9Csc/rkfhehSu7z+amZmZmZm5Pz0K16NwPeI/mpmZmZmZ2T9SuB6F61HoP/YoXI/C9eA/FK5H4XoU7j+4HoXrUbjeP3sUrkfheuw/cT0K16NwzT+4HoXrUbi+P2ZmZmZmZuY/XI/C9Shc7z+amZmZmZnJP5qZmZmZmdk/mpmZmZmZ2T+uR+F6FK7nP3E9CtejcM0/mpmZmZmZyT+kcD0K16PAPwrXo3A9Csc/MzMzMzMz0z8pXI/C9SjMPxSuR+F6FO4/CtejcD0K1z/2KFyPwvXgPwAAAAAAAOg/uB6F61G4vj89CtejcD3qP1K4HoXrUcg/uB6F61G43j+4HoXrUbjeP1K4HoXrUeA/ZmZmZmZm7j8zMzMzMzPjPylcj8L1KOw/PQrXo3A96j+amZmZmZnJP4XrUbgehds/SOF6FK5H0T/hehSuR+HiP6RwPQrXo8A/MzMzMzMz4z8AAAAAAADgP/YoXI/C9eA/AAAAAAAA4D9I4XoUrkfhP3E9CtejcO0/uB6F61G43j97FK5H4XrsP0jhehSuR+k/uB6F61G45j+kcD0K16PoP6RwPQrXo+A/CtejcD0K5z+amZmZmZnJP9ejcD0K19M/KVyPwvUovD/2KFyPwvXgP/YoXI/C9dg/H4XrUbge7T9SuB6F61HgP4XrUbgehds/cT0K16Nw3T8zMzMzMzPrP5qZmZmZmbk/zczMzMzM7D9mZmZmZmbmP6RwPQrXo+A/zczMzMzM5D+amZmZmZnZPwrXo3A9Cu8/mpmZmZmZ6T+kcD0K16PoP5qZmZmZmeE/j8L1KFyP4j+F61G4HoXjP5qZmZmZmek/exSuR+F65D/2KFyPwvXYP6RwPQrXo+g/CtejcD0K1z9SuB6F61HoP5qZmZmZmck/uB6F61G45j+4HoXrUbi+P+F6FK5H4do/H4XrUbge5T9cj8L1KFzfP3E9CtejcO0/XI/C9Shc5z+kcD0K16PgP9ejcD0K1+s/ZmZmZmZm1j/NzMzMzMzsP3sUrkfheuQ/9ihcj8L16D8pXI/C9SjkP+xRuB6F6+E/7FG4HoXr4T9cj8L1KFzfPz0K16NwPeo/16NwPQrX0z89CtejcD3iP1K4HoXrUdg/7FG4HoXrwT8K16NwPQrHPwrXo3A9Cu8/CtejcD0Kxz9SuB6F61HoP6RwPQrXo+g/uB6F61G43j/2KFyPwvXoP7gehetRuL4/UrgehetRyD9SuB6F61HYP7gehetRuOY/uB6F61G47j97FK5H4XrkP3sUrkfheuQ/4XoUrkfh4j8AAAAAAADgP1K4HoXrUcg/H4XrUbge7T/Xo3A9CtfjP83MzMzMzOw/PQrXo3A96j8UrkfhehTmP7gehetRuOY/rkfhehSu5z/hehSuR+HKPwrXo3A9Csc/uB6F61G4zj9SuB6F61HgPzMzMzMzM9M/4XoUrkfh4j/2KFyPwvXYP+F6FK5H4co/uB6F61G47j/hehSuR+HKPylcj8L1KOw/16NwPQrX4z+amZmZmZnpPzMzMzMzM9M/pHA9CtejwD9xPQrXo3DtPx+F61G4Hu0/AAAAAAAAAADsUbgehevRPxSuR+F6FO4/9ihcj8L16D+4HoXrUbjmP3E9CtejcN0/pHA9Ctej4D9SuB6F61HoPxSuR+F6FOY/j8L1KFyP0j8pXI/C9SjcPwrXo3A9Csc/mpmZmZmZ2T8AAAAAAAAAAClcj8L1KOw/AAAAAAAA6D/hehSuR+HKP1yPwvUoXN8/9ihcj8L16D8zMzMzMzPDPylcj8L1KNw/hetRuB6F2z97FK5H4XrsP2ZmZmZmZtY/CtejcD0K5z/sUbgehevpPwrXo3A9Cu8/uB6F61G47j9I4XoUrkfhP7gehetRuN4/j8L1KFyP0j/Xo3A9CtfrPwAAAAAAAAAAexSuR+F67D9mZmZmZmbuP8P1KFyPwtU/FK5H4XoU3j/Xo3A9CtfrP5qZmZmZmek/w/UoXI/C5T+amZmZmZnJP1yPwvUoXOc/cT0K16Nw7T/sUbgehevhP8P1KFyPwuU/9ihcj8L14D+uR+F6FK7vP7gehetRuO4/cT0K16Nw3T97FK5H4XrUP+xRuB6F6+k/w/UoXI/CxT+F61G4HoXrP9ejcD0K1+M/UrgehetR6D9cj8L1KFzfP83MzMzMzOQ/mpmZmZmZuT/Xo3A9CtfjP2ZmZmZmZuY/4XoUrkfh6j+uR+F6FK7vPwrXo3A9Csc/XI/C9Shc7z+PwvUoXI/SP3E9CtejcM0/SOF6FK5H6T8AAAAAAADQPzMzMzMzM+s/exSuR+F6xD+4HoXrUbjmP83MzMzMzNw/cT0K16NwzT8pXI/C9Si8P1K4HoXrUeg/UrgehetRyD8AAAAAAAAAAOxRuB6F6+k/uB6F61G4vj+kcD0K16PQP7gehetRuM4/cT0K16Nw7T9xPQrXo3DdP+F6FK5H4co/PQrXo3A94j+amZmZmZnpP5qZmZmZmck/mpmZmZmZ6T/sUbgehevRP8P1KFyPwsU/mpmZmZmZ2T+amZmZmZm5P0jhehSuR+k/KVyPwvUozD+kcD0K16PgP4XrUbgehds/7FG4HoXr0T+kcD0K16PAP65H4XoUruc/7FG4HoXr0T97FK5H4XrsP+xRuB6F6+k/CtejcD0K7z8AAAAAAADQP1K4HoXrUeA/4XoUrkfhyj8UrkfhehTmP5qZmZmZmck/zczMzMzM5D+amZmZmZnpPz0K16NwPeI/AAAAAAAA6D8fhetRuB7VP65H4XoUrtc/hetRuB6F6z/hehSuR+HqP6RwPQrXo8A/mpmZmZmZ6T9xPQrXo3DtP2ZmZmZmZuY/w/UoXI/C7T+amZmZmZnhP3E9CtejcOU/KVyPwvUo7D/Xo3A9CtfjP3sUrkfhesQ/4XoUrkfh6j89CtejcD3aPxSuR+F6FO4/exSuR+F61D+uR+F6FK7nP4/C9Shcj+I/9ihcj8L16D9SuB6F61HYP65H4XoUru8/mpmZmZmZ2T+amZmZmZnZP+F6FK5H4co/mpmZmZmZyT+amZmZmZm5P6RwPQrXo9A/SOF6FK5H6T8AAAAAAAAAAKRwPQrXo9A/pHA9Ctej6D/sUbgehevRP1K4HoXrUeA/KVyPwvUo5D8fhetRuB7lP0jhehSuR9E/ZmZmZmZm5j+amZmZmZnJP2ZmZmZmZuY/mpmZmZmZuT/hehSuR+HiP3E9CtejcN0/cT0K16Nw3T9xPQrXo3DNPylcj8L1KOw/MzMzMzMz4z/D9Shcj8LtP83MzMzMzOQ/MzMzMzMz6z8pXI/C9SjsP4XrUbgehes/MzMzMzMz6z97FK5H4XrsP/YoXI/C9eA/SOF6FK5H6T97FK5H4XrEPzMzMzMzM+M/mpmZmZmZyT/2KFyPwvXYP4/C9Shcj9I/zczMzMzM5D+PwvUoXI/qP2ZmZmZmZuY/FK5H4XoU3j8AAAAAAAAAAHsUrkfhesQ/mpmZmZmZ6T/2KFyPwvXgP+xRuB6F68E/AAAAAAAA4D8fhetRuB7lPwrXo3A9Cu8/AAAAAAAA4D8UrkfhehTmP3E9CtejcN0/MzMzMzMzwz+amZmZmZnpPylcj8L1KNw/CtejcD0K5z+4HoXrUbjOP83MzMzMzOw/UrgehetR4D+F61G4HoXrP8P1KFyPwtU/UrgehetR2D8zMzMzMzPDPwrXo3A9Cuc/zczMzMzM7D/Xo3A9CtfjP2ZmZmZmZu4/hetRuB6F4z8UrkfhehTmPylcj8L1KMw/4XoUrkfh6j/sUbgehevRPzMzMzMzM+s/CtejcD0K7z8zMzMzMzPjPylcj8L1KLw/zczMzMzM7D9xPQrXo3DdP65H4XoUruc/CtejcD0K1z/D9Shcj8LVP3E9CtejcO0/j8L1KFyP6j8zMzMzMzPjP7gehetRuM4/ZmZmZmZm5j+4HoXrUbjOP8P1KFyPwuU/MzMzMzMz0z8AAAAAAAAAAClcj8L1KLw/uB6F61G45j+4HoXrUbjmP1K4HoXrUeA/j8L1KFyP6j8fhetRuB7tP5qZmZmZmck/16NwPQrX0z+uR+F6FK7vPzMzMzMzM9M/w/UoXI/CxT+kcD0K16PoP/YoXI/C9eA/ZmZmZmZm5j/hehSuR+HaP65H4XoUruc/H4XrUbge5T9SuB6F61HYP83MzMzMzOw/pHA9Ctej0D/Xo3A9CtfTP6RwPQrXo8A/mpmZmZmZ2T8pXI/C9SjcPwAAAAAAANA/zczMzMzM3D/NzMzMzMzcP6RwPQrXo8A/FK5H4XoU7j9cj8L1KFzvP/YoXI/C9eA/FK5H4XoU5j9xPQrXo3DdP5qZmZmZmek/KVyPwvUovD/2KFyPwvXYP3E9CtejcOU/uB6F61G4vj+4HoXrUbjuP+F6FK5H4co/UrgehetR6D+4HoXrUbi+P83MzMzMzNw/mpmZmZmZ4T/NzMzMzMzkPzMzMzMzM9M/KVyPwvUozD/D9Shcj8LFPzMzMzMzM+M/4XoUrkfh6j+amZmZmZnhPylcj8L1KNw/rkfhehSu1z9cj8L1KFzfPwrXo3A9Cuc/uB6F61G4zj+kcD0K16PoP+xRuB6F69E/pHA9Ctej6D9xPQrXo3DlPx+F61G4Hu0/4XoUrkfh4j9xPQrXo3DtP83MzMzMzNw/UrgehetRyD8K16NwPQrvP4XrUbgehds/FK5H4XoU5j+4HoXrUbjmP1K4HoXrUcg/4XoUrkfh6j8AAAAAAADQPwAAAAAAAOA/zczMzMzM7D8AAAAAAAAAALgehetRuM4/7FG4HoXr4T9cj8L1KFzvP1yPwvUoXOc/zczMzMzM7D+amZmZmZnJPylcj8L1KMw/4XoUrkfh2j97FK5H4XrEP3sUrkfhesQ/ZmZmZmZm1j/Xo3A9CtfTP8P1KFyPwtU/CtejcD0K5z8K16NwPQrvPx+F61G4HtU/7FG4HoXr6T+PwvUoXI/SP6RwPQrXo8A/XI/C9Shc3z/Xo3A9CtfjPz0K16NwPeI/SOF6FK5H0T/D9Shcj8LVPxSuR+F6FOY/PQrXo3A96j+kcD0K16PoP8P1KFyPwuU/7FG4HoXr6T8AAAAAAADQPz0K16NwPeI/rkfhehSu7z9mZmZmZmbmP7gehetRuL4/uB6F61G43j8K16NwPQrHPwrXo3A9Ctc/ZmZmZmZm5j9xPQrXo3DtPwrXo3A9Csc/j8L1KFyP0j9I4XoUrkfRP9ejcD0K1+s/uB6F61G4vj8pXI/C9SjkP+F6FK5H4co/mpmZmZmZyT/D9Shcj8LFP6RwPQrXo+A/H4XrUbge1T+amZmZmZnZPwAAAAAAAOg/MzMzMzMz0z/NzMzMzMzkP5qZmZmZmdk/ZmZmZmZm5j8AAAAAAAD4Pw==",
           "dtype": "f8"
          },
          "colorbar": {
           "len": 0.3,
           "title": {
            "text": "Conv. Rate"
           },
           "y": 0.15,
           "yanchor": "middle"
          },
          "colorscale": [
           [
            0,
            "#440154"
           ],
           [
            0.1111111111111111,
            "#482878"
           ],
           [
            0.2222222222222222,
            "#3e4989"
           ],
           [
            0.3333333333333333,
            "#31688e"
           ],
           [
            0.4444444444444444,
            "#26828e"
           ],
           [
            0.5555555555555556,
            "#1f9e89"
           ],
           [
            0.6666666666666666,
            "#35b779"
           ],
           [
            0.7777777777777778,
            "#6ece58"
           ],
           [
            0.8888888888888888,
            "#b5de2b"
           ],
           [
            1,
            "#fde725"
           ]
          ],
          "showscale": true,
          "size": 8
         },
         "mode": "markers",
         "name": "Campañas",
         "type": "scatter",
         "x": {
          "bdata": "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",
          "dtype": "i2"
         },
         "xaxis": "x6",
         "y": {
          "bdata": "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",
          "dtype": "f8"
         },
         "yaxis": "y9"
        },
        {
         "line": {
          "color": "red",
          "width": 2
         },
         "mode": "lines",
         "name": "Tendencia",
         "type": "scatter",
         "x": {
          "bdata": "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",
          "dtype": "f8"
         },
         "xaxis": "x6",
         "y": {
          "bdata": "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",
          "dtype": "f8"
         },
         "yaxis": "y9"
        }
       ],
       "layout": {
        "annotations": [
         {
          "font": {
           "size": 16
          },
          "showarrow": false,
          "text": "Rendimiento por Temporada",
          "x": 0.21,
          "xanchor": "center",
          "xref": "paper",
          "y": 1,
          "yanchor": "bottom",
          "yref": "paper"
         },
         {
          "font": {
           "size": 16
          },
          "showarrow": false,
          "text": "Tendencia de ROI a lo Largo del Tiempo",
          "x": 0.73,
          "xanchor": "center",
          "xref": "paper",
          "y": 1,
          "yanchor": "bottom",
          "yref": "paper"
         },
         {
          "font": {
           "size": 16
          },
          "showarrow": false,
          "text": "Rendimiento Mensual (Heatmap)",
          "x": 0.21,
          "xanchor": "center",
          "xref": "paper",
          "y": 0.6266666666666667,
          "yanchor": "bottom",
          "yref": "paper"
         },
         {
          "font": {
           "size": 16
          },
          "showarrow": false,
          "text": "Tasa de Conversión por Mes y Canal",
          "x": 0.73,
          "xanchor": "center",
          "xref": "paper",
          "y": 0.6266666666666667,
          "yanchor": "bottom",
          "yref": "paper"
         },
         {
          "font": {
           "size": 16
          },
          "showarrow": false,
          "text": "Ingresos Medios por Trimestre",
          "x": 0.21,
          "xanchor": "center",
          "xref": "paper",
          "y": 0.25333333333333335,
          "yanchor": "bottom",
          "yref": "paper"
         },
         {
          "font": {
           "size": 16
          },
          "showarrow": false,
          "text": "Duración de Campaña vs. Rendimiento",
          "x": 0.73,
          "xanchor": "center",
          "xref": "paper",
          "y": 0.25333333333333335,
          "yanchor": "bottom",
          "yref": "paper"
         }
        ],
        "font": {
         "size": 10
        },
        "height": 1200,
        "hovermode": "closest",
        "legend": {
         "itemsizing": "constant",
         "orientation": "h",
         "x": 0.5,
         "xanchor": "center",
         "y": 1.02,
         "yanchor": "bottom"
        },
        "margin": {
         "b": 50,
         "l": 60,
         "r": 60,
         "t": 120
        },
        "template": {
         "data": {
          "bar": [
           {
            "error_x": {
             "color": "rgb(36,36,36)"
            },
            "error_y": {
             "color": "rgb(36,36,36)"
            },
            "marker": {
             "line": {
              "color": "white",
              "width": 0.5
             },
             "pattern": {
              "fillmode": "overlay",
              "size": 10,
              "solidity": 0.2
             }
            },
            "type": "bar"
           }
          ],
          "barpolar": [
           {
            "marker": {
             "line": {
              "color": "white",
              "width": 0.5
             },
             "pattern": {
              "fillmode": "overlay",
              "size": 10,
              "solidity": 0.2
             }
            },
            "type": "barpolar"
           }
          ],
          "carpet": [
           {
            "aaxis": {
             "endlinecolor": "rgb(36,36,36)",
             "gridcolor": "white",
             "linecolor": "white",
             "minorgridcolor": "white",
             "startlinecolor": "rgb(36,36,36)"
            },
            "baxis": {
             "endlinecolor": "rgb(36,36,36)",
             "gridcolor": "white",
             "linecolor": "white",
             "minorgridcolor": "white",
             "startlinecolor": "rgb(36,36,36)"
            },
            "type": "carpet"
           }
          ],
          "choropleth": [
           {
            "colorbar": {
             "outlinewidth": 1,
             "tickcolor": "rgb(36,36,36)",
             "ticks": "outside"
            },
            "type": "choropleth"
           }
          ],
          "contour": [
           {
            "colorbar": {
             "outlinewidth": 1,
             "tickcolor": "rgb(36,36,36)",
             "ticks": "outside"
            },
            "colorscale": [
             [
              0,
              "#440154"
             ],
             [
              0.1111111111111111,
              "#482878"
             ],
             [
              0.2222222222222222,
              "#3e4989"
             ],
             [
              0.3333333333333333,
              "#31688e"
             ],
             [
              0.4444444444444444,
              "#26828e"
             ],
             [
              0.5555555555555556,
              "#1f9e89"
             ],
             [
              0.6666666666666666,
              "#35b779"
             ],
             [
              0.7777777777777778,
              "#6ece58"
             ],
             [
              0.8888888888888888,
              "#b5de2b"
             ],
             [
              1,
              "#fde725"
             ]
            ],
            "type": "contour"
           }
          ],
          "contourcarpet": [
           {
            "colorbar": {
             "outlinewidth": 1,
             "tickcolor": "rgb(36,36,36)",
             "ticks": "outside"
            },
            "type": "contourcarpet"
           }
          ],
          "heatmap": [
           {
            "colorbar": {
             "outlinewidth": 1,
             "tickcolor": "rgb(36,36,36)",
             "ticks": "outside"
            },
            "colorscale": [
             [
              0,
              "#440154"
             ],
             [
              0.1111111111111111,
              "#482878"
             ],
             [
              0.2222222222222222,
              "#3e4989"
             ],
             [
              0.3333333333333333,
              "#31688e"
             ],
             [
              0.4444444444444444,
              "#26828e"
             ],
             [
              0.5555555555555556,
              "#1f9e89"
             ],
             [
              0.6666666666666666,
              "#35b779"
             ],
             [
              0.7777777777777778,
              "#6ece58"
             ],
             [
              0.8888888888888888,
              "#b5de2b"
             ],
             [
              1,
              "#fde725"
             ]
            ],
            "type": "heatmap"
           }
          ],
          "histogram": [
           {
            "marker": {
             "line": {
              "color": "white",
              "width": 0.6
             }
            },
            "type": "histogram"
           }
          ],
          "histogram2d": [
           {
            "colorbar": {
             "outlinewidth": 1,
             "tickcolor": "rgb(36,36,36)",
             "ticks": "outside"
            },
            "colorscale": [
             [
              0,
              "#440154"
             ],
             [
              0.1111111111111111,
              "#482878"
             ],
             [
              0.2222222222222222,
              "#3e4989"
             ],
             [
              0.3333333333333333,
              "#31688e"
             ],
             [
              0.4444444444444444,
              "#26828e"
             ],
             [
              0.5555555555555556,
              "#1f9e89"
             ],
             [
              0.6666666666666666,
              "#35b779"
             ],
             [
              0.7777777777777778,
              "#6ece58"
             ],
             [
              0.8888888888888888,
              "#b5de2b"
             ],
             [
              1,
              "#fde725"
             ]
            ],
            "type": "histogram2d"
           }
          ],
          "histogram2dcontour": [
           {
            "colorbar": {
             "outlinewidth": 1,
             "tickcolor": "rgb(36,36,36)",
             "ticks": "outside"
            },
            "colorscale": [
             [
              0,
              "#440154"
             ],
             [
              0.1111111111111111,
              "#482878"
             ],
             [
              0.2222222222222222,
              "#3e4989"
             ],
             [
              0.3333333333333333,
              "#31688e"
             ],
             [
              0.4444444444444444,
              "#26828e"
             ],
             [
              0.5555555555555556,
              "#1f9e89"
             ],
             [
              0.6666666666666666,
              "#35b779"
             ],
             [
              0.7777777777777778,
              "#6ece58"
             ],
             [
              0.8888888888888888,
              "#b5de2b"
             ],
             [
              1,
              "#fde725"
             ]
            ],
            "type": "histogram2dcontour"
           }
          ],
          "mesh3d": [
           {
            "colorbar": {
             "outlinewidth": 1,
             "tickcolor": "rgb(36,36,36)",
             "ticks": "outside"
            },
            "type": "mesh3d"
           }
          ],
          "parcoords": [
           {
            "line": {
             "colorbar": {
              "outlinewidth": 1,
              "tickcolor": "rgb(36,36,36)",
              "ticks": "outside"
             }
            },
            "type": "parcoords"
           }
          ],
          "pie": [
           {
            "automargin": true,
            "type": "pie"
           }
          ],
          "scatter": [
           {
            "fillpattern": {
             "fillmode": "overlay",
             "size": 10,
             "solidity": 0.2
            },
            "type": "scatter"
           }
          ],
          "scatter3d": [
           {
            "line": {
             "colorbar": {
              "outlinewidth": 1,
              "tickcolor": "rgb(36,36,36)",
              "ticks": "outside"
             }
            },
            "marker": {
             "colorbar": {
              "outlinewidth": 1,
              "tickcolor": "rgb(36,36,36)",
              "ticks": "outside"
             }
            },
            "type": "scatter3d"
           }
          ],
          "scattercarpet": [
           {
            "marker": {
             "colorbar": {
              "outlinewidth": 1,
              "tickcolor": "rgb(36,36,36)",
              "ticks": "outside"
             }
            },
            "type": "scattercarpet"
           }
          ],
          "scattergeo": [
           {
            "marker": {
             "colorbar": {
              "outlinewidth": 1,
              "tickcolor": "rgb(36,36,36)",
              "ticks": "outside"
             }
            },
            "type": "scattergeo"
           }
          ],
          "scattergl": [
           {
            "marker": {
             "colorbar": {
              "outlinewidth": 1,
              "tickcolor": "rgb(36,36,36)",
              "ticks": "outside"
             }
            },
            "type": "scattergl"
           }
          ],
          "scattermap": [
           {
            "marker": {
             "colorbar": {
              "outlinewidth": 1,
              "tickcolor": "rgb(36,36,36)",
              "ticks": "outside"
             }
            },
            "type": "scattermap"
           }
          ],
          "scattermapbox": [
           {
            "marker": {
             "colorbar": {
              "outlinewidth": 1,
              "tickcolor": "rgb(36,36,36)",
              "ticks": "outside"
             }
            },
            "type": "scattermapbox"
           }
          ],
          "scatterpolar": [
           {
            "marker": {
             "colorbar": {
              "outlinewidth": 1,
              "tickcolor": "rgb(36,36,36)",
              "ticks": "outside"
             }
            },
            "type": "scatterpolar"
           }
          ],
          "scatterpolargl": [
           {
            "marker": {
             "colorbar": {
              "outlinewidth": 1,
              "tickcolor": "rgb(36,36,36)",
              "ticks": "outside"
             }
            },
            "type": "scatterpolargl"
           }
          ],
          "scatterternary": [
           {
            "marker": {
             "colorbar": {
              "outlinewidth": 1,
              "tickcolor": "rgb(36,36,36)",
              "ticks": "outside"
             }
            },
            "type": "scatterternary"
           }
          ],
          "surface": [
           {
            "colorbar": {
             "outlinewidth": 1,
             "tickcolor": "rgb(36,36,36)",
             "ticks": "outside"
            },
            "colorscale": [
             [
              0,
              "#440154"
             ],
             [
              0.1111111111111111,
              "#482878"
             ],
             [
              0.2222222222222222,
              "#3e4989"
             ],
             [
              0.3333333333333333,
              "#31688e"
             ],
             [
              0.4444444444444444,
              "#26828e"
             ],
             [
              0.5555555555555556,
              "#1f9e89"
             ],
             [
              0.6666666666666666,
              "#35b779"
             ],
             [
              0.7777777777777778,
              "#6ece58"
             ],
             [
              0.8888888888888888,
              "#b5de2b"
             ],
             [
              1,
              "#fde725"
             ]
            ],
            "type": "surface"
           }
          ],
          "table": [
           {
            "cells": {
             "fill": {
              "color": "rgb(237,237,237)"
             },
             "line": {
              "color": "white"
             }
            },
            "header": {
             "fill": {
              "color": "rgb(217,217,217)"
             },
             "line": {
              "color": "white"
             }
            },
            "type": "table"
           }
          ]
         },
         "layout": {
          "annotationdefaults": {
           "arrowhead": 0,
           "arrowwidth": 1
          },
          "autotypenumbers": "strict",
          "coloraxis": {
           "colorbar": {
            "outlinewidth": 1,
            "tickcolor": "rgb(36,36,36)",
            "ticks": "outside"
           }
          },
          "colorscale": {
           "diverging": [
            [
             0,
             "rgb(103,0,31)"
            ],
            [
             0.1,
             "rgb(178,24,43)"
            ],
            [
             0.2,
             "rgb(214,96,77)"
            ],
            [
             0.3,
             "rgb(244,165,130)"
            ],
            [
             0.4,
             "rgb(253,219,199)"
            ],
            [
             0.5,
             "rgb(247,247,247)"
            ],
            [
             0.6,
             "rgb(209,229,240)"
            ],
            [
             0.7,
             "rgb(146,197,222)"
            ],
            [
             0.8,
             "rgb(67,147,195)"
            ],
            [
             0.9,
             "rgb(33,102,172)"
            ],
            [
             1,
             "rgb(5,48,97)"
            ]
           ],
           "sequential": [
            [
             0,
             "#440154"
            ],
            [
             0.1111111111111111,
             "#482878"
            ],
            [
             0.2222222222222222,
             "#3e4989"
            ],
            [
             0.3333333333333333,
             "#31688e"
            ],
            [
             0.4444444444444444,
             "#26828e"
            ],
            [
             0.5555555555555556,
             "#1f9e89"
            ],
            [
             0.6666666666666666,
             "#35b779"
            ],
            [
             0.7777777777777778,
             "#6ece58"
            ],
            [
             0.8888888888888888,
             "#b5de2b"
            ],
            [
             1,
             "#fde725"
            ]
           ],
           "sequentialminus": [
            [
             0,
             "#440154"
            ],
            [
             0.1111111111111111,
             "#482878"
            ],
            [
             0.2222222222222222,
             "#3e4989"
            ],
            [
             0.3333333333333333,
             "#31688e"
            ],
            [
             0.4444444444444444,
             "#26828e"
            ],
            [
             0.5555555555555556,
             "#1f9e89"
            ],
            [
             0.6666666666666666,
             "#35b779"
            ],
            [
             0.7777777777777778,
             "#6ece58"
            ],
            [
             0.8888888888888888,
             "#b5de2b"
            ],
            [
             1,
             "#fde725"
            ]
           ]
          },
          "colorway": [
           "#1F77B4",
           "#FF7F0E",
           "#2CA02C",
           "#D62728",
           "#9467BD",
           "#8C564B",
           "#E377C2",
           "#7F7F7F",
           "#BCBD22",
           "#17BECF"
          ],
          "font": {
           "color": "rgb(36,36,36)"
          },
          "geo": {
           "bgcolor": "white",
           "lakecolor": "white",
           "landcolor": "white",
           "showlakes": true,
           "showland": true,
           "subunitcolor": "white"
          },
          "hoverlabel": {
           "align": "left"
          },
          "hovermode": "closest",
          "mapbox": {
           "style": "light"
          },
          "paper_bgcolor": "white",
          "plot_bgcolor": "white",
          "polar": {
           "angularaxis": {
            "gridcolor": "rgb(232,232,232)",
            "linecolor": "rgb(36,36,36)",
            "showgrid": false,
            "showline": true,
            "ticks": "outside"
           },
           "bgcolor": "white",
           "radialaxis": {
            "gridcolor": "rgb(232,232,232)",
            "linecolor": "rgb(36,36,36)",
            "showgrid": false,
            "showline": true,
            "ticks": "outside"
           }
          },
          "scene": {
           "xaxis": {
            "backgroundcolor": "white",
            "gridcolor": "rgb(232,232,232)",
            "gridwidth": 2,
            "linecolor": "rgb(36,36,36)",
            "showbackground": true,
            "showgrid": false,
            "showline": true,
            "ticks": "outside",
            "zeroline": false,
            "zerolinecolor": "rgb(36,36,36)"
           },
           "yaxis": {
            "backgroundcolor": "white",
            "gridcolor": "rgb(232,232,232)",
            "gridwidth": 2,
            "linecolor": "rgb(36,36,36)",
            "showbackground": true,
            "showgrid": false,
            "showline": true,
            "ticks": "outside",
            "zeroline": false,
            "zerolinecolor": "rgb(36,36,36)"
           },
           "zaxis": {
            "backgroundcolor": "white",
            "gridcolor": "rgb(232,232,232)",
            "gridwidth": 2,
            "linecolor": "rgb(36,36,36)",
            "showbackground": true,
            "showgrid": false,
            "showline": true,
            "ticks": "outside",
            "zeroline": false,
            "zerolinecolor": "rgb(36,36,36)"
           }
          },
          "shapedefaults": {
           "fillcolor": "black",
           "line": {
            "width": 0
           },
           "opacity": 0.3
          },
          "ternary": {
           "aaxis": {
            "gridcolor": "rgb(232,232,232)",
            "linecolor": "rgb(36,36,36)",
            "showgrid": false,
            "showline": true,
            "ticks": "outside"
           },
           "baxis": {
            "gridcolor": "rgb(232,232,232)",
            "linecolor": "rgb(36,36,36)",
            "showgrid": false,
            "showline": true,
            "ticks": "outside"
           },
           "bgcolor": "white",
           "caxis": {
            "gridcolor": "rgb(232,232,232)",
            "linecolor": "rgb(36,36,36)",
            "showgrid": false,
            "showline": true,
            "ticks": "outside"
           }
          },
          "title": {
           "x": 0.05
          },
          "xaxis": {
           "automargin": true,
           "gridcolor": "rgb(232,232,232)",
           "linecolor": "rgb(36,36,36)",
           "showgrid": false,
           "showline": true,
           "ticks": "outside",
           "title": {
            "standoff": 15
           },
           "zeroline": false,
           "zerolinecolor": "rgb(36,36,36)"
          },
          "yaxis": {
           "automargin": true,
           "gridcolor": "rgb(232,232,232)",
           "linecolor": "rgb(36,36,36)",
           "showgrid": false,
           "showline": true,
           "ticks": "outside",
           "title": {
            "standoff": 15
           },
           "zeroline": false,
           "zerolinecolor": "rgb(36,36,36)"
          }
         }
        },
        "title": {
         "text": "Análisis Temporal de Campañas de Marketing",
         "x": 0.5,
         "xanchor": "center",
         "y": 0.98,
         "yanchor": "top"
        },
        "width": 1200,
        "xaxis": {
         "anchor": "y",
         "domain": [
          0,
          0.42
         ],
         "title": {
          "text": "Temporada"
         }
        },
        "xaxis2": {
         "anchor": "y3",
         "domain": [
          0.52,
          0.94
         ],
         "title": {
          "text": "Fecha"
         }
        },
        "xaxis3": {
         "anchor": "y5",
         "domain": [
          0,
          0.42
         ],
         "title": {
          "text": "Tipo de Campaña"
         }
        },
        "xaxis4": {
         "anchor": "y6",
         "domain": [
          0.52,
          0.94
         ],
         "title": {
          "text": "Mes"
         }
        },
        "xaxis5": {
         "anchor": "y7",
         "domain": [
          0,
          0.42
         ],
         "tickangle": 45,
         "title": {
          "text": "Trimestre"
         }
        },
        "xaxis6": {
         "anchor": "y9",
         "domain": [
          0.52,
          0.94
         ],
         "title": {
          "text": "Duración de la Campaña (días)"
         }
        },
        "yaxis": {
         "anchor": "x",
         "domain": [
          0.7466666666666667,
          1
         ],
         "title": {
          "text": "ROI Promedio"
         }
        },
        "yaxis2": {
         "anchor": "x",
         "overlaying": "y",
         "side": "right",
         "title": {
          "text": "Tasa de Conversión"
         }
        },
        "yaxis3": {
         "anchor": "x2",
         "domain": [
          0.7466666666666667,
          1
         ],
         "title": {
          "text": "ROI Promedio"
         }
        },
        "yaxis4": {
         "anchor": "x2",
         "overlaying": "y3",
         "side": "right",
         "title": {
          "text": "Ingresos/Nº de Campañas"
         }
        },
        "yaxis5": {
         "anchor": "x3",
         "domain": [
          0.37333333333333335,
          0.6266666666666667
         ],
         "title": {
          "text": "Mes"
         }
        },
        "yaxis6": {
         "anchor": "x4",
         "domain": [
          0.37333333333333335,
          0.6266666666666667
         ],
         "title": {
          "text": "Tasa de Conversión"
         }
        },
        "yaxis7": {
         "anchor": "x5",
         "domain": [
          0,
          0.25333333333333335
         ],
         "title": {
          "text": "Ingresos Promedio"
         }
        },
        "yaxis8": {
         "anchor": "x5",
         "overlaying": "y7",
         "side": "right",
         "title": {
          "text": "ROI"
         }
        },
        "yaxis9": {
         "anchor": "x6",
         "domain": [
          0,
          0.25333333333333335
         ],
         "title": {
          "text": "ROI"
         }
        }
       }
      }
     },
     "metadata": {},
     "output_type": "display_data"
    }
   ],
   "source": [
    "import pandas as pd\n",
    "from datetime import datetime\n",
    "from plotly.subplots import make_subplots\n",
    "import numpy as np\n",
    "import calendar\n",
    "from scipy import stats\n",
    "from scipy.stats import f_oneway\n",
    "import statsmodels.api as sm\n",
    "\n",
    "# Convert date strings to datetime objects and extract time components\n",
    "import plotly.graph_objects as go\n",
    "import plotly.express as px\n",
    "\n",
    "# Define pastel colors for charts\n",
    "pastel_colors = ['rgba(255, 182, 193, 0.7)', 'rgba(173, 216, 230, 0.7)', \n",
    "                'rgba(144, 238, 144, 0.7)', 'rgba(255, 218, 185, 0.7)']\n",
    "\n",
    "# 1. Process dates and extract time components\n",
    "df['start_date'] = pd.to_datetime(df['start_date'])\n",
    "df['end_date'] = pd.to_datetime(df['end_date'])\n",
    "\n",
    "# Extract temporal components\n",
    "df['start_year'] = df['start_date'].dt.year\n",
    "df['start_month'] = df['start_date'].dt.month\n",
    "df['start_quarter'] = df['start_date'].dt.quarter\n",
    "df['month_name'] = df['start_date'].dt.strftime('%b')\n",
    "df['campaign_length'] = (df['end_date'] - df['start_date']).dt.days\n",
    "\n",
    "# Define seasons (Northern Hemisphere)\n",
    "def get_season(month):\n",
    "    if month in [12, 1, 2]:\n",
    "        return 'Invierno'\n",
    "    elif month in [3, 4, 5]:\n",
    "        return 'Primavera'\n",
    "    elif month in [6, 7, 8]:\n",
    "        return 'Verano'\n",
    "    else:  # month in [9, 10, 11]\n",
    "        return 'Otoño'\n",
    "\n",
    "df['season'] = df['start_month'].apply(get_season)\n",
    "\n",
    "# Create subplots with different temporal analyses\n",
    "fig = make_subplots(\n",
    "    rows=3, cols=2,\n",
    "    subplot_titles=(\n",
    "        'Rendimiento por Temporada',\n",
    "        'Tendencia de ROI a lo Largo del Tiempo',\n",
    "        'Rendimiento Mensual (Heatmap)',\n",
    "        'Tasa de Conversión por Mes y Canal',\n",
    "        'Ingresos Medios por Trimestre',\n",
    "        'Duración de Campaña vs. Rendimiento'\n",
    "    ),\n",
    "    specs=[\n",
    "        [{\"type\": \"xy\", \"secondary_y\": True}, {\"type\": \"xy\", \"secondary_y\": True}],\n",
    "        [{\"type\": \"heatmap\"}, {\"type\": \"bar\"}],\n",
    "        [{\"type\": \"xy\", \"secondary_y\": True}, {\"type\": \"scatter\"}]\n",
    "    ],\n",
    "    vertical_spacing=0.12,\n",
    "    horizontal_spacing=0.1\n",
    ")\n",
    "\n",
    "# 1. Performance by Season (Bar chart)\n",
    "seasonal_perf = df.groupby('season').agg({\n",
    "    'roi_numeric': 'mean',\n",
    "    'conversion_rate': 'mean',\n",
    "    'revenue': 'mean',\n",
    "    'net_profit': 'mean'\n",
    "}).reset_index()\n",
    "\n",
    "# Custom season order\n",
    "season_order = ['Primavera', 'Verano', 'Otoño', 'Invierno']\n",
    "seasonal_perf['season'] = pd.Categorical(seasonal_perf['season'], categories=season_order, ordered=True)\n",
    "seasonal_perf = seasonal_perf.sort_values('season')\n",
    "\n",
    "# Multiple metrics in one chart using secondary y-axis\n",
    "fig.add_trace(\n",
    "    go.Bar(\n",
    "        x=seasonal_perf['season'],\n",
    "        y=seasonal_perf['roi_numeric'],\n",
    "        name='ROI',\n",
    "        marker_color='rgba(173, 216, 230, 0.7)',\n",
    "        text=[f\"{x:.1f}\" for x in seasonal_perf['roi_numeric']],\n",
    "        textposition='auto'\n",
    "    ),\n",
    "    row=1, col=1, secondary_y=False\n",
    ")\n",
    "\n",
    "fig.add_trace(\n",
    "    go.Scatter(\n",
    "        x=seasonal_perf['season'],\n",
    "        y=seasonal_perf['conversion_rate'],\n",
    "        name='Tasa de Conversión',\n",
    "        mode='lines+markers',\n",
    "        line=dict(color='rgba(255, 0, 0, 0.7)', width=2),\n",
    "        marker=dict(size=10)\n",
    "    ),\n",
    "    row=1, col=1, secondary_y=True\n",
    ")\n",
    "\n",
    "# 2. ROI Trend Over Time (Line plot)\n",
    "# Group by year and month for time series\n",
    "time_trend = df.groupby(['start_year', 'start_month']).agg({\n",
    "    'roi_numeric': 'mean',\n",
    "    'conversion_rate': 'mean',\n",
    "    'revenue': 'mean',\n",
    "    'campaign_name': 'count'\n",
    "}).reset_index()\n",
    "\n",
    "# Create a proper date column for continuous time series\n",
    "time_trend['date'] = pd.to_datetime({\n",
    "    'year': time_trend['start_year'],\n",
    "    'month': time_trend['start_month'],\n",
    "    'day': 1\n",
    "})\n",
    "time_trend = time_trend.sort_values('date')\n",
    "\n",
    "fig.add_trace(\n",
    "    go.Scatter(\n",
    "        x=time_trend['date'],\n",
    "        y=time_trend['roi_numeric'],\n",
    "        mode='lines+markers',\n",
    "        name='ROI Promedio',\n",
    "        line=dict(color='rgba(0, 128, 0, 0.7)', width=2),\n",
    "        marker=dict(size=8)\n",
    "    ),\n",
    "    row=1, col=2, secondary_y=False\n",
    ")\n",
    "\n",
    "fig.add_trace(\n",
    "    go.Scatter(\n",
    "        x=time_trend['date'],\n",
    "        y=time_trend['revenue'],\n",
    "        mode='lines',\n",
    "        name='Ingresos',\n",
    "        line=dict(color='rgba(255, 165, 0, 0.5)', width=2, dash='dash')\n",
    "    ),\n",
    "    row=1, col=2, secondary_y=True\n",
    ")\n",
    "\n",
    "fig.add_trace(\n",
    "    go.Scatter(\n",
    "        x=time_trend['date'],\n",
    "        y=time_trend['campaign_name'],\n",
    "        mode='lines',\n",
    "        name='Número de Campañas',\n",
    "        line=dict(color='rgba(128, 0, 128, 0.5)', width=2, dash='dot')\n",
    "    ),\n",
    "    row=1, col=2, secondary_y=True\n",
    ")\n",
    "\n",
    "# 3. Monthly Performance Heatmap\n",
    "# Create a cross-tabulation of month vs. type with ROI values\n",
    "monthly_type_roi = df.pivot_table(\n",
    "    values='roi_numeric', \n",
    "    index='month_name', \n",
    "    columns='type',\n",
    "    aggfunc='mean'\n",
    ")\n",
    "\n",
    "# Reorder the months correctly\n",
    "month_order = [calendar.month_abbr[i] for i in range(1, 13)]\n",
    "monthly_type_roi = monthly_type_roi.reindex(month_order)\n",
    "\n",
    "fig.add_trace(\n",
    "    go.Heatmap(\n",
    "        z=monthly_type_roi.values,\n",
    "        x=monthly_type_roi.columns,\n",
    "        y=monthly_type_roi.index,\n",
    "        colorscale='Viridis',\n",
    "        colorbar=dict(\n",
    "            title='ROI Promedio',\n",
    "            len=0.3,\n",
    "            y=0.45,\n",
    "            yanchor='middle'\n",
    "        ),\n",
    "        hovertemplate='Tipo: %{x}<br>Mes: %{y}<br>ROI: %{z:.2f}<extra></extra>'\n",
    "    ),\n",
    "    row=2, col=1\n",
    ")\n",
    "\n",
    "# 4. Conversion Rate by Month and Channel\n",
    "monthly_channel_conv = df.groupby(['month_name', 'channel']).agg({\n",
    "    'conversion_rate': 'mean'\n",
    "}).reset_index()\n",
    "\n",
    "# Sort by custom month order\n",
    "month_dict = {m: i for i, m in enumerate(month_order)}\n",
    "monthly_channel_conv['month_num'] = monthly_channel_conv['month_name'].map(month_dict)\n",
    "monthly_channel_conv = monthly_channel_conv.sort_values('month_num')\n",
    "\n",
    "for i, channel in enumerate(df['channel'].unique()):\n",
    "    channel_data = monthly_channel_conv[monthly_channel_conv['channel'] == channel]\n",
    "    \n",
    "    fig.add_trace(\n",
    "        go.Bar(\n",
    "            x=channel_data['month_name'],\n",
    "            y=channel_data['conversion_rate'],\n",
    "            name=channel,\n",
    "            marker_color=pastel_colors[i % len(pastel_colors)],\n",
    "            text=[f\"{x:.1%}\" for x in channel_data['conversion_rate']],\n",
    "            textposition='auto'\n",
    "        ),\n",
    "        row=2, col=2\n",
    "    )\n",
    "\n",
    "# 5. Average Revenue by Quarter\n",
    "quarterly_perf = df.groupby(['start_year', 'start_quarter']).agg({\n",
    "    'revenue': 'mean', \n",
    "    'roi_numeric': 'mean',\n",
    "    'campaign_name': 'count'\n",
    "}).reset_index()\n",
    "quarterly_perf['quarter_label'] = 'Q' + quarterly_perf['start_quarter'].astype(str) + ' ' + quarterly_perf['start_year'].astype(str)\n",
    "quarterly_perf = quarterly_perf.sort_values(['start_year', 'start_quarter'])\n",
    "\n",
    "fig.add_trace(\n",
    "    go.Bar(\n",
    "        x=quarterly_perf['quarter_label'],\n",
    "        y=quarterly_perf['revenue'],\n",
    "        marker_color='rgba(144, 238, 144, 0.7)',\n",
    "        name='Ingresos Medios',\n",
    "        text=[f\"${x/1000:.0f}k\" for x in quarterly_perf['revenue']],\n",
    "        textposition='auto'\n",
    "    ),\n",
    "    row=3, col=1, secondary_y=False\n",
    ")\n",
    "\n",
    "fig.add_trace(\n",
    "    go.Scatter(\n",
    "        x=quarterly_perf['quarter_label'],\n",
    "        y=quarterly_perf['roi_numeric'],\n",
    "        mode='lines+markers',\n",
    "        name='ROI',\n",
    "        line=dict(color='rgba(255, 0, 0, 0.7)', width=2),\n",
    "        marker=dict(size=8)\n",
    "    ),\n",
    "    row=3, col=1, secondary_y=True\n",
    ")\n",
    "\n",
    "# 6. Campaign Length vs Performance (Scatter plot with regression)\n",
    "fig.add_trace(\n",
    "    go.Scatter(\n",
    "        x=df['campaign_length'],\n",
    "        y=df['roi_numeric'],\n",
    "        mode='markers',\n",
    "        name='Campañas',\n",
    "        marker=dict(\n",
    "            size=8,\n",
    "            color=df['conversion_rate'],\n",
    "            colorscale='Viridis',\n",
    "            colorbar=dict(\n",
    "                title='Conv. Rate', \n",
    "                len=0.3, \n",
    "                y=0.15, \n",
    "                yanchor='middle'\n",
    "            ),\n",
    "            showscale=True\n",
    "        )\n",
    "    ),\n",
    "    row=3, col=2\n",
    ")\n",
    "\n",
    "# Add trend line using lowess\n",
    "lowess_result = sm.nonparametric.lowess(df['roi_numeric'], df['campaign_length'], frac=0.3)\n",
    "\n",
    "fig.add_trace(\n",
    "    go.Scatter(\n",
    "        x=lowess_result[:, 0],\n",
    "        y=lowess_result[:, 1],\n",
    "        mode='lines',\n",
    "        name='Tendencia',\n",
    "        line=dict(color='red', width=2)\n",
    "    ),\n",
    "    row=3, col=2\n",
    ")\n",
    "\n",
    "# Update layout with better axis labels and secondary y-axes\n",
    "fig.update_layout(\n",
    "    height=1200, \n",
    "    width=1200,\n",
    "    title={\n",
    "        'text': 'Análisis Temporal de Campañas de Marketing',\n",
    "        'y': 0.98,\n",
    "        'x': 0.5,\n",
    "        'xanchor': 'center',\n",
    "        'yanchor': 'top'\n",
    "    },\n",
    "    template='simple_white',\n",
    "    legend=dict(\n",
    "        orientation=\"h\",\n",
    "        yanchor=\"bottom\",\n",
    "        y=1.02,\n",
    "        xanchor=\"center\",\n",
    "        x=0.5,\n",
    "        itemsizing='constant'\n",
    "    ),\n",
    "    hovermode='closest',\n",
    "    margin=dict(t=120, b=50, l=60, r=60),\n",
    "    font=dict(size=10)\n",
    ")\n",
    "\n",
    "# Update axes with correct labels and formatting\n",
    "fig.update_xaxes(title_text=\"Temporada\", row=1, col=1)\n",
    "fig.update_yaxes(title_text=\"ROI Promedio\", row=1, col=1, secondary_y=False)\n",
    "fig.update_yaxes(title_text=\"Tasa de Conversión\", row=1, col=1, secondary_y=True)\n",
    "\n",
    "fig.update_xaxes(title_text=\"Fecha\", row=1, col=2)\n",
    "fig.update_yaxes(title_text=\"ROI Promedio\", row=1, col=2, secondary_y=False)\n",
    "fig.update_yaxes(title_text=\"Ingresos/Nº de Campañas\", row=1, col=2, secondary_y=True)\n",
    "\n",
    "fig.update_xaxes(title_text=\"Tipo de Campaña\", row=2, col=1)\n",
    "fig.update_yaxes(title_text=\"Mes\", row=2, col=1)\n",
    "\n",
    "fig.update_xaxes(title_text=\"Mes\", row=2, col=2)\n",
    "fig.update_yaxes(title_text=\"Tasa de Conversión\", row=2, col=2)\n",
    "\n",
    "fig.update_xaxes(title_text=\"Trimestre\", row=3, col=1, tickangle=45)\n",
    "fig.update_yaxes(title_text=\"Ingresos Promedio\", row=3, col=1, secondary_y=False)\n",
    "fig.update_yaxes(title_text=\"ROI\", row=3, col=1, secondary_y=True)\n",
    "\n",
    "fig.update_xaxes(title_text=\"Duración de la Campaña (días)\", row=3, col=2)\n",
    "fig.update_yaxes(title_text=\"ROI\", row=3, col=2)\n",
    "\n",
    "# Show the figure\n",
    "fig.show()\n",
    "\n",
    "# Statistical Analysis section remains unchanged\n"
   ]
  }
 ],
 "metadata": {
  "kernelspec": {
   "display_name": "Python 3",
   "language": "python",
   "name": "python3"
  },
  "language_info": {
   "codemirror_mode": {
    "name": "ipython",
    "version": 3
   },
   "file_extension": ".py",
   "mimetype": "text/x-python",
   "name": "python",
   "nbconvert_exporter": "python",
   "pygments_lexer": "ipython3",
   "version": "3.12.10"
  }
 },
 "nbformat": 4,
 "nbformat_minor": 5
}
