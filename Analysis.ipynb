{
 "cells": [
  {
   "cell_type": "code",
   "execution_count": 1,
   "id": "1d424cd0",
   "metadata": {},
   "outputs": [],
   "source": [
    "import pandas as pd\n",
    "import numpy as np\n",
    "import matplotlib.pyplot as plt\n",
    "import seaborn as sns\n",
    "import statsmodels.api as sm\n",
    "from statsmodels.formula.api import ols \n",
    "import statsmodels.stats.api as stats\n",
    "from statsmodels.stats.multicomp import pairwise_tukeyhsd"
   ]
  },
  {
   "cell_type": "code",
   "execution_count": 2,
   "id": "0437ef89",
   "metadata": {},
   "outputs": [],
   "source": [
    "df = pd.read_csv(r'C:/Users/Andrei.Baidurov/Marketing_Proyecto/data/marketingcampaigns_clean.csv')"
   ]
  },
  {
   "cell_type": "code",
   "execution_count": 5,
   "id": "e5121828",
   "metadata": {},
   "outputs": [
    {
     "data": {
      "text/html": [
       "<div>\n",
       "<style scoped>\n",
       "    .dataframe tbody tr th:only-of-type {\n",
       "        vertical-align: middle;\n",
       "    }\n",
       "\n",
       "    .dataframe tbody tr th {\n",
       "        vertical-align: top;\n",
       "    }\n",
       "\n",
       "    .dataframe thead th {\n",
       "        text-align: right;\n",
       "    }\n",
       "</style>\n",
       "<table border=\"1\" class=\"dataframe\">\n",
       "  <thead>\n",
       "    <tr style=\"text-align: right;\">\n",
       "      <th></th>\n",
       "      <th>campaign_name</th>\n",
       "      <th>start_date</th>\n",
       "      <th>end_date</th>\n",
       "      <th>budget</th>\n",
       "      <th>roi</th>\n",
       "      <th>type</th>\n",
       "      <th>target_audience</th>\n",
       "      <th>channel</th>\n",
       "      <th>conversion_rate</th>\n",
       "      <th>revenue</th>\n",
       "      <th>campaign_duration</th>\n",
       "    </tr>\n",
       "  </thead>\n",
       "  <tbody>\n",
       "    <tr>\n",
       "      <th>0</th>\n",
       "      <td>Public-key multi-tasking throughput</td>\n",
       "      <td>2023-04-01 00:00:00</td>\n",
       "      <td>2024-02-23</td>\n",
       "      <td>8082.30</td>\n",
       "      <td>8680%</td>\n",
       "      <td>email</td>\n",
       "      <td>B2B</td>\n",
       "      <td>organic</td>\n",
       "      <td>0.40</td>\n",
       "      <td>709593.48</td>\n",
       "      <td>328</td>\n",
       "    </tr>\n",
       "    <tr>\n",
       "      <th>1</th>\n",
       "      <td>De-engineered analyzing task-force</td>\n",
       "      <td>2023-02-15 00:00:00</td>\n",
       "      <td>2024-04-22</td>\n",
       "      <td>17712.98</td>\n",
       "      <td>2817%</td>\n",
       "      <td>email</td>\n",
       "      <td>B2C</td>\n",
       "      <td>promotion</td>\n",
       "      <td>0.66</td>\n",
       "      <td>516609.10</td>\n",
       "      <td>432</td>\n",
       "    </tr>\n",
       "    <tr>\n",
       "      <th>2</th>\n",
       "      <td>Balanced solution-oriented Local Area Network</td>\n",
       "      <td>2022-12-20 00:00:00</td>\n",
       "      <td>2023-10-11</td>\n",
       "      <td>84643.10</td>\n",
       "      <td>441%</td>\n",
       "      <td>podcast</td>\n",
       "      <td>B2B</td>\n",
       "      <td>paid</td>\n",
       "      <td>0.28</td>\n",
       "      <td>458227.42</td>\n",
       "      <td>295</td>\n",
       "    </tr>\n",
       "    <tr>\n",
       "      <th>3</th>\n",
       "      <td>Distributed real-time methodology</td>\n",
       "      <td>2022-09-26 00:00:00</td>\n",
       "      <td>2023-09-27</td>\n",
       "      <td>14589.75</td>\n",
       "      <td>517%</td>\n",
       "      <td>webinar</td>\n",
       "      <td>B2B</td>\n",
       "      <td>organic</td>\n",
       "      <td>0.19</td>\n",
       "      <td>89958.73</td>\n",
       "      <td>366</td>\n",
       "    </tr>\n",
       "    <tr>\n",
       "      <th>4</th>\n",
       "      <td>Front-line executive infrastructure</td>\n",
       "      <td>2023-07-07 00:00:00</td>\n",
       "      <td>2024-05-15</td>\n",
       "      <td>39291.90</td>\n",
       "      <td>21%</td>\n",
       "      <td>social media</td>\n",
       "      <td>B2B</td>\n",
       "      <td>promotion</td>\n",
       "      <td>0.81</td>\n",
       "      <td>47511.35</td>\n",
       "      <td>313</td>\n",
       "    </tr>\n",
       "  </tbody>\n",
       "</table>\n",
       "</div>"
      ],
      "text/plain": [
       "                                   campaign_name           start_date  \\\n",
       "0            Public-key multi-tasking throughput  2023-04-01 00:00:00   \n",
       "1             De-engineered analyzing task-force  2023-02-15 00:00:00   \n",
       "2  Balanced solution-oriented Local Area Network  2022-12-20 00:00:00   \n",
       "3              Distributed real-time methodology  2022-09-26 00:00:00   \n",
       "4            Front-line executive infrastructure  2023-07-07 00:00:00   \n",
       "\n",
       "     end_date    budget    roi          type target_audience    channel  \\\n",
       "0  2024-02-23   8082.30  8680%         email             B2B    organic   \n",
       "1  2024-04-22  17712.98  2817%         email             B2C  promotion   \n",
       "2  2023-10-11  84643.10   441%       podcast             B2B       paid   \n",
       "3  2023-09-27  14589.75   517%       webinar             B2B    organic   \n",
       "4  2024-05-15  39291.90    21%  social media             B2B  promotion   \n",
       "\n",
       "   conversion_rate    revenue  campaign_duration  \n",
       "0             0.40  709593.48                328  \n",
       "1             0.66  516609.10                432  \n",
       "2             0.28  458227.42                295  \n",
       "3             0.19   89958.73                366  \n",
       "4             0.81   47511.35                313  "
      ]
     },
     "execution_count": 5,
     "metadata": {},
     "output_type": "execute_result"
    }
   ],
   "source": [
    "df.head(5)"
   ]
  },
  {
   "cell_type": "code",
   "execution_count": 6,
   "id": "7d64513a",
   "metadata": {},
   "outputs": [
    {
     "data": {
      "text/html": [
       "<div>\n",
       "<style scoped>\n",
       "    .dataframe tbody tr th:only-of-type {\n",
       "        vertical-align: middle;\n",
       "    }\n",
       "\n",
       "    .dataframe tbody tr th {\n",
       "        vertical-align: top;\n",
       "    }\n",
       "\n",
       "    .dataframe thead th {\n",
       "        text-align: right;\n",
       "    }\n",
       "</style>\n",
       "<table border=\"1\" class=\"dataframe\">\n",
       "  <thead>\n",
       "    <tr style=\"text-align: right;\">\n",
       "      <th></th>\n",
       "      <th>campaign_name</th>\n",
       "      <th>revenue</th>\n",
       "      <th>budget</th>\n",
       "      <th>net_profit</th>\n",
       "    </tr>\n",
       "  </thead>\n",
       "  <tbody>\n",
       "    <tr>\n",
       "      <th>0</th>\n",
       "      <td>Public-key multi-tasking throughput</td>\n",
       "      <td>709593.48</td>\n",
       "      <td>8082.30</td>\n",
       "      <td>701511.18</td>\n",
       "    </tr>\n",
       "    <tr>\n",
       "      <th>1</th>\n",
       "      <td>De-engineered analyzing task-force</td>\n",
       "      <td>516609.10</td>\n",
       "      <td>17712.98</td>\n",
       "      <td>498896.12</td>\n",
       "    </tr>\n",
       "    <tr>\n",
       "      <th>2</th>\n",
       "      <td>Balanced solution-oriented Local Area Network</td>\n",
       "      <td>458227.42</td>\n",
       "      <td>84643.10</td>\n",
       "      <td>373584.32</td>\n",
       "    </tr>\n",
       "    <tr>\n",
       "      <th>3</th>\n",
       "      <td>Distributed real-time methodology</td>\n",
       "      <td>89958.73</td>\n",
       "      <td>14589.75</td>\n",
       "      <td>75368.98</td>\n",
       "    </tr>\n",
       "    <tr>\n",
       "      <th>4</th>\n",
       "      <td>Front-line executive infrastructure</td>\n",
       "      <td>47511.35</td>\n",
       "      <td>39291.90</td>\n",
       "      <td>8219.45</td>\n",
       "    </tr>\n",
       "  </tbody>\n",
       "</table>\n",
       "</div>"
      ],
      "text/plain": [
       "                                   campaign_name    revenue    budget  \\\n",
       "0            Public-key multi-tasking throughput  709593.48   8082.30   \n",
       "1             De-engineered analyzing task-force  516609.10  17712.98   \n",
       "2  Balanced solution-oriented Local Area Network  458227.42  84643.10   \n",
       "3              Distributed real-time methodology   89958.73  14589.75   \n",
       "4            Front-line executive infrastructure   47511.35  39291.90   \n",
       "\n",
       "   net_profit  \n",
       "0   701511.18  \n",
       "1   498896.12  \n",
       "2   373584.32  \n",
       "3    75368.98  \n",
       "4     8219.45  "
      ]
     },
     "execution_count": 6,
     "metadata": {},
     "output_type": "execute_result"
    }
   ],
   "source": [
    "df['net_profit'] = df['revenue'] - df['budget']\n",
    "\n",
    "# Display the first few rows to verify the new column\n",
    "df[['campaign_name', 'revenue', 'budget', 'net_profit']].head()"
   ]
  },
  {
   "cell_type": "markdown",
   "id": "2a463169",
   "metadata": {},
   "source": [
    "¿Qué canal de marketing se utiliza con mayor frecuencia y cuál genera mejor ROI?"
   ]
  },
  {
   "cell_type": "code",
   "execution_count": 8,
   "id": "2046c79f",
   "metadata": {},
   "outputs": [
    {
     "data": {
      "application/vnd.plotly.v1+json": {
       "config": {
        "plotlyServerURL": "https://plot.ly"
       },
       "data": [
        {
         "hovertemplate": "Canal: %{x}<br>Frecuencia: %{y}<extra></extra>",
         "marker": {
          "color": [
           "rgba(255, 182, 193, 0.7)",
           "rgba(173, 216, 230, 0.7)",
           "rgba(144, 238, 144, 0.7)",
           "rgba(255, 218, 185, 0.7)"
          ]
         },
         "text": {
          "bdata": "AAAAAAAQcUAAAAAAAKBvQAAAAAAAQG5AAAAAAABAbkA=",
          "dtype": "f8"
         },
         "textposition": "auto",
         "type": "bar",
         "x": [
          "promotion",
          "referral",
          "organic",
          "paid"
         ],
         "xaxis": "x",
         "y": {
          "bdata": "EQH9APIA8gA=",
          "dtype": "i2"
         },
         "yaxis": "y"
        },
        {
         "hovertemplate": "Canal: %{x}<br>ROI: %{text}<extra></extra>",
         "marker": {
          "color": [
           "rgba(255, 182, 193, 0.7)",
           "rgba(173, 216, 230, 0.7)",
           "rgba(144, 238, 144, 0.7)",
           "rgba(255, 218, 185, 0.7)"
          ]
         },
         "text": [
          "2902.79%",
          "2591.91%",
          "2437.31%",
          "1992.83%"
         ],
         "textposition": "auto",
         "type": "bar",
         "x": [
          "organic",
          "promotion",
          "paid",
          "referral"
         ],
         "xaxis": "x2",
         "y": {
          "bdata": "SoWJ9yMHPUDoFfgaSes5QCWXJriAXzhACX4+GKXtM0A=",
          "dtype": "f8"
         },
         "yaxis": "y2"
        }
       ],
       "layout": {
        "annotations": [
         {
          "font": {
           "size": 16
          },
          "showarrow": false,
          "text": "Frecuencia de uso de canales de marketing",
          "x": 0.225,
          "xanchor": "center",
          "xref": "paper",
          "y": 1,
          "yanchor": "bottom",
          "yref": "paper"
         },
         {
          "font": {
           "size": 16
          },
          "showarrow": false,
          "text": "ROI promedio por canal de marketing",
          "x": 0.775,
          "xanchor": "center",
          "xref": "paper",
          "y": 1,
          "yanchor": "bottom",
          "yref": "paper"
         }
        ],
        "height": 600,
        "showlegend": false,
        "template": {
         "data": {
          "bar": [
           {
            "error_x": {
             "color": "rgb(36,36,36)"
            },
            "error_y": {
             "color": "rgb(36,36,36)"
            },
            "marker": {
             "line": {
              "color": "white",
              "width": 0.5
             },
             "pattern": {
              "fillmode": "overlay",
              "size": 10,
              "solidity": 0.2
             }
            },
            "type": "bar"
           }
          ],
          "barpolar": [
           {
            "marker": {
             "line": {
              "color": "white",
              "width": 0.5
             },
             "pattern": {
              "fillmode": "overlay",
              "size": 10,
              "solidity": 0.2
             }
            },
            "type": "barpolar"
           }
          ],
          "carpet": [
           {
            "aaxis": {
             "endlinecolor": "rgb(36,36,36)",
             "gridcolor": "white",
             "linecolor": "white",
             "minorgridcolor": "white",
             "startlinecolor": "rgb(36,36,36)"
            },
            "baxis": {
             "endlinecolor": "rgb(36,36,36)",
             "gridcolor": "white",
             "linecolor": "white",
             "minorgridcolor": "white",
             "startlinecolor": "rgb(36,36,36)"
            },
            "type": "carpet"
           }
          ],
          "choropleth": [
           {
            "colorbar": {
             "outlinewidth": 1,
             "tickcolor": "rgb(36,36,36)",
             "ticks": "outside"
            },
            "type": "choropleth"
           }
          ],
          "contour": [
           {
            "colorbar": {
             "outlinewidth": 1,
             "tickcolor": "rgb(36,36,36)",
             "ticks": "outside"
            },
            "colorscale": [
             [
              0,
              "#440154"
             ],
             [
              0.1111111111111111,
              "#482878"
             ],
             [
              0.2222222222222222,
              "#3e4989"
             ],
             [
              0.3333333333333333,
              "#31688e"
             ],
             [
              0.4444444444444444,
              "#26828e"
             ],
             [
              0.5555555555555556,
              "#1f9e89"
             ],
             [
              0.6666666666666666,
              "#35b779"
             ],
             [
              0.7777777777777778,
              "#6ece58"
             ],
             [
              0.8888888888888888,
              "#b5de2b"
             ],
             [
              1,
              "#fde725"
             ]
            ],
            "type": "contour"
           }
          ],
          "contourcarpet": [
           {
            "colorbar": {
             "outlinewidth": 1,
             "tickcolor": "rgb(36,36,36)",
             "ticks": "outside"
            },
            "type": "contourcarpet"
           }
          ],
          "heatmap": [
           {
            "colorbar": {
             "outlinewidth": 1,
             "tickcolor": "rgb(36,36,36)",
             "ticks": "outside"
            },
            "colorscale": [
             [
              0,
              "#440154"
             ],
             [
              0.1111111111111111,
              "#482878"
             ],
             [
              0.2222222222222222,
              "#3e4989"
             ],
             [
              0.3333333333333333,
              "#31688e"
             ],
             [
              0.4444444444444444,
              "#26828e"
             ],
             [
              0.5555555555555556,
              "#1f9e89"
             ],
             [
              0.6666666666666666,
              "#35b779"
             ],
             [
              0.7777777777777778,
              "#6ece58"
             ],
             [
              0.8888888888888888,
              "#b5de2b"
             ],
             [
              1,
              "#fde725"
             ]
            ],
            "type": "heatmap"
           }
          ],
          "histogram": [
           {
            "marker": {
             "line": {
              "color": "white",
              "width": 0.6
             }
            },
            "type": "histogram"
           }
          ],
          "histogram2d": [
           {
            "colorbar": {
             "outlinewidth": 1,
             "tickcolor": "rgb(36,36,36)",
             "ticks": "outside"
            },
            "colorscale": [
             [
              0,
              "#440154"
             ],
             [
              0.1111111111111111,
              "#482878"
             ],
             [
              0.2222222222222222,
              "#3e4989"
             ],
             [
              0.3333333333333333,
              "#31688e"
             ],
             [
              0.4444444444444444,
              "#26828e"
             ],
             [
              0.5555555555555556,
              "#1f9e89"
             ],
             [
              0.6666666666666666,
              "#35b779"
             ],
             [
              0.7777777777777778,
              "#6ece58"
             ],
             [
              0.8888888888888888,
              "#b5de2b"
             ],
             [
              1,
              "#fde725"
             ]
            ],
            "type": "histogram2d"
           }
          ],
          "histogram2dcontour": [
           {
            "colorbar": {
             "outlinewidth": 1,
             "tickcolor": "rgb(36,36,36)",
             "ticks": "outside"
            },
            "colorscale": [
             [
              0,
              "#440154"
             ],
             [
              0.1111111111111111,
              "#482878"
             ],
             [
              0.2222222222222222,
              "#3e4989"
             ],
             [
              0.3333333333333333,
              "#31688e"
             ],
             [
              0.4444444444444444,
              "#26828e"
             ],
             [
              0.5555555555555556,
              "#1f9e89"
             ],
             [
              0.6666666666666666,
              "#35b779"
             ],
             [
              0.7777777777777778,
              "#6ece58"
             ],
             [
              0.8888888888888888,
              "#b5de2b"
             ],
             [
              1,
              "#fde725"
             ]
            ],
            "type": "histogram2dcontour"
           }
          ],
          "mesh3d": [
           {
            "colorbar": {
             "outlinewidth": 1,
             "tickcolor": "rgb(36,36,36)",
             "ticks": "outside"
            },
            "type": "mesh3d"
           }
          ],
          "parcoords": [
           {
            "line": {
             "colorbar": {
              "outlinewidth": 1,
              "tickcolor": "rgb(36,36,36)",
              "ticks": "outside"
             }
            },
            "type": "parcoords"
           }
          ],
          "pie": [
           {
            "automargin": true,
            "type": "pie"
           }
          ],
          "scatter": [
           {
            "fillpattern": {
             "fillmode": "overlay",
             "size": 10,
             "solidity": 0.2
            },
            "type": "scatter"
           }
          ],
          "scatter3d": [
           {
            "line": {
             "colorbar": {
              "outlinewidth": 1,
              "tickcolor": "rgb(36,36,36)",
              "ticks": "outside"
             }
            },
            "marker": {
             "colorbar": {
              "outlinewidth": 1,
              "tickcolor": "rgb(36,36,36)",
              "ticks": "outside"
             }
            },
            "type": "scatter3d"
           }
          ],
          "scattercarpet": [
           {
            "marker": {
             "colorbar": {
              "outlinewidth": 1,
              "tickcolor": "rgb(36,36,36)",
              "ticks": "outside"
             }
            },
            "type": "scattercarpet"
           }
          ],
          "scattergeo": [
           {
            "marker": {
             "colorbar": {
              "outlinewidth": 1,
              "tickcolor": "rgb(36,36,36)",
              "ticks": "outside"
             }
            },
            "type": "scattergeo"
           }
          ],
          "scattergl": [
           {
            "marker": {
             "colorbar": {
              "outlinewidth": 1,
              "tickcolor": "rgb(36,36,36)",
              "ticks": "outside"
             }
            },
            "type": "scattergl"
           }
          ],
          "scattermap": [
           {
            "marker": {
             "colorbar": {
              "outlinewidth": 1,
              "tickcolor": "rgb(36,36,36)",
              "ticks": "outside"
             }
            },
            "type": "scattermap"
           }
          ],
          "scattermapbox": [
           {
            "marker": {
             "colorbar": {
              "outlinewidth": 1,
              "tickcolor": "rgb(36,36,36)",
              "ticks": "outside"
             }
            },
            "type": "scattermapbox"
           }
          ],
          "scatterpolar": [
           {
            "marker": {
             "colorbar": {
              "outlinewidth": 1,
              "tickcolor": "rgb(36,36,36)",
              "ticks": "outside"
             }
            },
            "type": "scatterpolar"
           }
          ],
          "scatterpolargl": [
           {
            "marker": {
             "colorbar": {
              "outlinewidth": 1,
              "tickcolor": "rgb(36,36,36)",
              "ticks": "outside"
             }
            },
            "type": "scatterpolargl"
           }
          ],
          "scatterternary": [
           {
            "marker": {
             "colorbar": {
              "outlinewidth": 1,
              "tickcolor": "rgb(36,36,36)",
              "ticks": "outside"
             }
            },
            "type": "scatterternary"
           }
          ],
          "surface": [
           {
            "colorbar": {
             "outlinewidth": 1,
             "tickcolor": "rgb(36,36,36)",
             "ticks": "outside"
            },
            "colorscale": [
             [
              0,
              "#440154"
             ],
             [
              0.1111111111111111,
              "#482878"
             ],
             [
              0.2222222222222222,
              "#3e4989"
             ],
             [
              0.3333333333333333,
              "#31688e"
             ],
             [
              0.4444444444444444,
              "#26828e"
             ],
             [
              0.5555555555555556,
              "#1f9e89"
             ],
             [
              0.6666666666666666,
              "#35b779"
             ],
             [
              0.7777777777777778,
              "#6ece58"
             ],
             [
              0.8888888888888888,
              "#b5de2b"
             ],
             [
              1,
              "#fde725"
             ]
            ],
            "type": "surface"
           }
          ],
          "table": [
           {
            "cells": {
             "fill": {
              "color": "rgb(237,237,237)"
             },
             "line": {
              "color": "white"
             }
            },
            "header": {
             "fill": {
              "color": "rgb(217,217,217)"
             },
             "line": {
              "color": "white"
             }
            },
            "type": "table"
           }
          ]
         },
         "layout": {
          "annotationdefaults": {
           "arrowhead": 0,
           "arrowwidth": 1
          },
          "autotypenumbers": "strict",
          "coloraxis": {
           "colorbar": {
            "outlinewidth": 1,
            "tickcolor": "rgb(36,36,36)",
            "ticks": "outside"
           }
          },
          "colorscale": {
           "diverging": [
            [
             0,
             "rgb(103,0,31)"
            ],
            [
             0.1,
             "rgb(178,24,43)"
            ],
            [
             0.2,
             "rgb(214,96,77)"
            ],
            [
             0.3,
             "rgb(244,165,130)"
            ],
            [
             0.4,
             "rgb(253,219,199)"
            ],
            [
             0.5,
             "rgb(247,247,247)"
            ],
            [
             0.6,
             "rgb(209,229,240)"
            ],
            [
             0.7,
             "rgb(146,197,222)"
            ],
            [
             0.8,
             "rgb(67,147,195)"
            ],
            [
             0.9,
             "rgb(33,102,172)"
            ],
            [
             1,
             "rgb(5,48,97)"
            ]
           ],
           "sequential": [
            [
             0,
             "#440154"
            ],
            [
             0.1111111111111111,
             "#482878"
            ],
            [
             0.2222222222222222,
             "#3e4989"
            ],
            [
             0.3333333333333333,
             "#31688e"
            ],
            [
             0.4444444444444444,
             "#26828e"
            ],
            [
             0.5555555555555556,
             "#1f9e89"
            ],
            [
             0.6666666666666666,
             "#35b779"
            ],
            [
             0.7777777777777778,
             "#6ece58"
            ],
            [
             0.8888888888888888,
             "#b5de2b"
            ],
            [
             1,
             "#fde725"
            ]
           ],
           "sequentialminus": [
            [
             0,
             "#440154"
            ],
            [
             0.1111111111111111,
             "#482878"
            ],
            [
             0.2222222222222222,
             "#3e4989"
            ],
            [
             0.3333333333333333,
             "#31688e"
            ],
            [
             0.4444444444444444,
             "#26828e"
            ],
            [
             0.5555555555555556,
             "#1f9e89"
            ],
            [
             0.6666666666666666,
             "#35b779"
            ],
            [
             0.7777777777777778,
             "#6ece58"
            ],
            [
             0.8888888888888888,
             "#b5de2b"
            ],
            [
             1,
             "#fde725"
            ]
           ]
          },
          "colorway": [
           "#1F77B4",
           "#FF7F0E",
           "#2CA02C",
           "#D62728",
           "#9467BD",
           "#8C564B",
           "#E377C2",
           "#7F7F7F",
           "#BCBD22",
           "#17BECF"
          ],
          "font": {
           "color": "rgb(36,36,36)"
          },
          "geo": {
           "bgcolor": "white",
           "lakecolor": "white",
           "landcolor": "white",
           "showlakes": true,
           "showland": true,
           "subunitcolor": "white"
          },
          "hoverlabel": {
           "align": "left"
          },
          "hovermode": "closest",
          "mapbox": {
           "style": "light"
          },
          "paper_bgcolor": "white",
          "plot_bgcolor": "white",
          "polar": {
           "angularaxis": {
            "gridcolor": "rgb(232,232,232)",
            "linecolor": "rgb(36,36,36)",
            "showgrid": false,
            "showline": true,
            "ticks": "outside"
           },
           "bgcolor": "white",
           "radialaxis": {
            "gridcolor": "rgb(232,232,232)",
            "linecolor": "rgb(36,36,36)",
            "showgrid": false,
            "showline": true,
            "ticks": "outside"
           }
          },
          "scene": {
           "xaxis": {
            "backgroundcolor": "white",
            "gridcolor": "rgb(232,232,232)",
            "gridwidth": 2,
            "linecolor": "rgb(36,36,36)",
            "showbackground": true,
            "showgrid": false,
            "showline": true,
            "ticks": "outside",
            "zeroline": false,
            "zerolinecolor": "rgb(36,36,36)"
           },
           "yaxis": {
            "backgroundcolor": "white",
            "gridcolor": "rgb(232,232,232)",
            "gridwidth": 2,
            "linecolor": "rgb(36,36,36)",
            "showbackground": true,
            "showgrid": false,
            "showline": true,
            "ticks": "outside",
            "zeroline": false,
            "zerolinecolor": "rgb(36,36,36)"
           },
           "zaxis": {
            "backgroundcolor": "white",
            "gridcolor": "rgb(232,232,232)",
            "gridwidth": 2,
            "linecolor": "rgb(36,36,36)",
            "showbackground": true,
            "showgrid": false,
            "showline": true,
            "ticks": "outside",
            "zeroline": false,
            "zerolinecolor": "rgb(36,36,36)"
           }
          },
          "shapedefaults": {
           "fillcolor": "black",
           "line": {
            "width": 0
           },
           "opacity": 0.3
          },
          "ternary": {
           "aaxis": {
            "gridcolor": "rgb(232,232,232)",
            "linecolor": "rgb(36,36,36)",
            "showgrid": false,
            "showline": true,
            "ticks": "outside"
           },
           "baxis": {
            "gridcolor": "rgb(232,232,232)",
            "linecolor": "rgb(36,36,36)",
            "showgrid": false,
            "showline": true,
            "ticks": "outside"
           },
           "bgcolor": "white",
           "caxis": {
            "gridcolor": "rgb(232,232,232)",
            "linecolor": "rgb(36,36,36)",
            "showgrid": false,
            "showline": true,
            "ticks": "outside"
           }
          },
          "title": {
           "x": 0.05
          },
          "xaxis": {
           "automargin": true,
           "gridcolor": "rgb(232,232,232)",
           "linecolor": "rgb(36,36,36)",
           "showgrid": false,
           "showline": true,
           "ticks": "outside",
           "title": {
            "standoff": 15
           },
           "zeroline": false,
           "zerolinecolor": "rgb(36,36,36)"
          },
          "yaxis": {
           "automargin": true,
           "gridcolor": "rgb(232,232,232)",
           "linecolor": "rgb(36,36,36)",
           "showgrid": false,
           "showline": true,
           "ticks": "outside",
           "title": {
            "standoff": 15
           },
           "zeroline": false,
           "zerolinecolor": "rgb(36,36,36)"
          }
         }
        },
        "title": {
         "text": "Análisis de Canales de Marketing"
        },
        "width": 1000,
        "xaxis": {
         "anchor": "y",
         "domain": [
          0,
          0.45
         ],
         "title": {
          "text": "Canal"
         }
        },
        "xaxis2": {
         "anchor": "y2",
         "domain": [
          0.55,
          1
         ],
         "title": {
          "text": "Canal"
         }
        },
        "yaxis": {
         "anchor": "x",
         "domain": [
          0,
          1
         ],
         "title": {
          "text": "Frecuencia"
         }
        },
        "yaxis2": {
         "anchor": "x2",
         "domain": [
          0,
          1
         ],
         "title": {
          "text": "ROI promedio"
         }
        }
       }
      }
     },
     "metadata": {},
     "output_type": "display_data"
    }
   ],
   "source": [
    "from plotly.subplots import make_subplots\n",
    "\n",
    "# Import plotly if not already imported\n",
    "import plotly.express as px\n",
    "import plotly.graph_objects as go\n",
    "\n",
    "# Use a pastel color palette\n",
    "pastel_colors = ['rgba(255, 182, 193, 0.7)', 'rgba(173, 216, 230, 0.7)', \n",
    "                'rgba(144, 238, 144, 0.7)', 'rgba(255, 218, 185, 0.7)']\n",
    "\n",
    "# Create interactive subplots\n",
    "fig = make_subplots(rows=1, cols=2, \n",
    "                   subplot_titles=['Frecuencia de uso de canales de marketing', \n",
    "                                  'ROI promedio por canal de marketing'])\n",
    "\n",
    "# Plot channel frequency\n",
    "fig.add_trace(\n",
    "    go.Bar(\n",
    "        x=channel_counts.index, \n",
    "        y=channel_counts.values,\n",
    "        text=channel_counts.values,\n",
    "        textposition='auto',\n",
    "        marker_color=pastel_colors,\n",
    "        hovertemplate='Canal: %{x}<br>Frecuencia: %{y}<extra></extra>'\n",
    "    ),\n",
    "    row=1, col=1\n",
    ")\n",
    "\n",
    "# Plot average ROI by channel\n",
    "fig.add_trace(\n",
    "    go.Bar(\n",
    "        x=roi_by_channel.index, \n",
    "        y=roi_by_channel.values,\n",
    "        text=[f'{val:.2%}' for val in roi_by_channel.values],\n",
    "        textposition='auto',\n",
    "        marker_color=pastel_colors,\n",
    "        hovertemplate='Canal: %{x}<br>ROI: %{text}<extra></extra>'\n",
    "    ),\n",
    "    row=1, col=2\n",
    ")\n",
    "\n",
    "# Update layout\n",
    "fig.update_layout(\n",
    "    height=600, \n",
    "    width=1000,\n",
    "    showlegend=False,\n",
    "    title_text='Análisis de Canales de Marketing',\n",
    "    template='simple_white'\n",
    ")\n",
    "\n",
    "# Add axis labels\n",
    "fig.update_yaxes(title_text=\"Frecuencia\", row=1, col=1)\n",
    "fig.update_yaxes(title_text=\"ROI promedio\", row=1, col=2)\n",
    "fig.update_xaxes(title_text=\"Canal\", row=1, col=1)\n",
    "fig.update_xaxes(title_text=\"Canal\", row=1, col=2)\n",
    "\n",
    "# Show the figure\n",
    "fig.show()"
   ]
  },
  {
   "cell_type": "markdown",
   "id": "39b0bd5d",
   "metadata": {},
   "source": [
    "¿Qué tipo de campaña genera más ingresos en promedio y cuál tiene mejor conversión?"
   ]
  },
  {
   "cell_type": "code",
   "execution_count": 9,
   "id": "aa6ab2ec",
   "metadata": {},
   "outputs": [
    {
     "data": {
      "application/vnd.plotly.v1+json": {
       "config": {
        "plotlyServerURL": "https://plot.ly"
       },
       "data": [
        {
         "hovertemplate": "Tipo: %{x}<br>Ingreso promedio: %{text}<extra></extra>",
         "marker": {
          "color": [
           "rgba(255, 182, 193, 0.7)",
           "rgba(173, 216, 230, 0.7)",
           "rgba(144, 238, 144, 0.7)",
           "rgba(255, 218, 185, 0.7)"
          ]
         },
         "text": [
          "$527,848.47",
          "$523,356.70",
          "$515,567.69",
          "$493,796.30",
          "$206,241.46",
          "$120,000.00"
         ],
         "textposition": "auto",
         "type": "bar",
         "x": [
          "social media",
          "email",
          "podcast",
          "webinar",
          "-NO",
          "event"
         ],
         "xaxis": "x",
         "y": {
          "bdata": "g6yT8dAbIEFXwlvKcvEfQc1pqsG+dx9BVmTBN5EjHkHhehSuCy0JQQAAAAAATP1A",
          "dtype": "f8"
         },
         "yaxis": "y"
        },
        {
         "hovertemplate": "Tipo: %{x}<br>Tasa de conversión: %{text}<extra></extra>",
         "marker": {
          "color": [
           "rgba(255, 182, 193, 0.7)",
           "rgba(173, 216, 230, 0.7)",
           "rgba(144, 238, 144, 0.7)",
           "rgba(255, 218, 185, 0.7)"
          ]
         },
         "text": [
          "55.64%",
          "54.64%",
          "54.31%",
          "52.82%",
          "52.00%",
          "30.00%"
         ],
         "textposition": "auto",
         "type": "bar",
         "x": [
          "webinar",
          "social media",
          "email",
          "podcast",
          "-NO",
          "event"
         ],
         "xaxis": "x2",
         "y": {
          "bdata": "54KCmD3O4T+Qw6hlUXzhP4Ft82jAYOE/ZRxJQbzm4D+kcD0K16PgPzMzMzMzM9M/",
          "dtype": "f8"
         },
         "yaxis": "y2"
        }
       ],
       "layout": {
        "annotations": [
         {
          "font": {
           "size": 16
          },
          "showarrow": false,
          "text": "Ingreso promedio por tipo de campaña",
          "x": 0.225,
          "xanchor": "center",
          "xref": "paper",
          "y": 1,
          "yanchor": "bottom",
          "yref": "paper"
         },
         {
          "font": {
           "size": 16
          },
          "showarrow": false,
          "text": "Tasa de conversión promedio por tipo de campaña",
          "x": 0.775,
          "xanchor": "center",
          "xref": "paper",
          "y": 1,
          "yanchor": "bottom",
          "yref": "paper"
         }
        ],
        "height": 600,
        "showlegend": false,
        "template": {
         "data": {
          "bar": [
           {
            "error_x": {
             "color": "rgb(36,36,36)"
            },
            "error_y": {
             "color": "rgb(36,36,36)"
            },
            "marker": {
             "line": {
              "color": "white",
              "width": 0.5
             },
             "pattern": {
              "fillmode": "overlay",
              "size": 10,
              "solidity": 0.2
             }
            },
            "type": "bar"
           }
          ],
          "barpolar": [
           {
            "marker": {
             "line": {
              "color": "white",
              "width": 0.5
             },
             "pattern": {
              "fillmode": "overlay",
              "size": 10,
              "solidity": 0.2
             }
            },
            "type": "barpolar"
           }
          ],
          "carpet": [
           {
            "aaxis": {
             "endlinecolor": "rgb(36,36,36)",
             "gridcolor": "white",
             "linecolor": "white",
             "minorgridcolor": "white",
             "startlinecolor": "rgb(36,36,36)"
            },
            "baxis": {
             "endlinecolor": "rgb(36,36,36)",
             "gridcolor": "white",
             "linecolor": "white",
             "minorgridcolor": "white",
             "startlinecolor": "rgb(36,36,36)"
            },
            "type": "carpet"
           }
          ],
          "choropleth": [
           {
            "colorbar": {
             "outlinewidth": 1,
             "tickcolor": "rgb(36,36,36)",
             "ticks": "outside"
            },
            "type": "choropleth"
           }
          ],
          "contour": [
           {
            "colorbar": {
             "outlinewidth": 1,
             "tickcolor": "rgb(36,36,36)",
             "ticks": "outside"
            },
            "colorscale": [
             [
              0,
              "#440154"
             ],
             [
              0.1111111111111111,
              "#482878"
             ],
             [
              0.2222222222222222,
              "#3e4989"
             ],
             [
              0.3333333333333333,
              "#31688e"
             ],
             [
              0.4444444444444444,
              "#26828e"
             ],
             [
              0.5555555555555556,
              "#1f9e89"
             ],
             [
              0.6666666666666666,
              "#35b779"
             ],
             [
              0.7777777777777778,
              "#6ece58"
             ],
             [
              0.8888888888888888,
              "#b5de2b"
             ],
             [
              1,
              "#fde725"
             ]
            ],
            "type": "contour"
           }
          ],
          "contourcarpet": [
           {
            "colorbar": {
             "outlinewidth": 1,
             "tickcolor": "rgb(36,36,36)",
             "ticks": "outside"
            },
            "type": "contourcarpet"
           }
          ],
          "heatmap": [
           {
            "colorbar": {
             "outlinewidth": 1,
             "tickcolor": "rgb(36,36,36)",
             "ticks": "outside"
            },
            "colorscale": [
             [
              0,
              "#440154"
             ],
             [
              0.1111111111111111,
              "#482878"
             ],
             [
              0.2222222222222222,
              "#3e4989"
             ],
             [
              0.3333333333333333,
              "#31688e"
             ],
             [
              0.4444444444444444,
              "#26828e"
             ],
             [
              0.5555555555555556,
              "#1f9e89"
             ],
             [
              0.6666666666666666,
              "#35b779"
             ],
             [
              0.7777777777777778,
              "#6ece58"
             ],
             [
              0.8888888888888888,
              "#b5de2b"
             ],
             [
              1,
              "#fde725"
             ]
            ],
            "type": "heatmap"
           }
          ],
          "histogram": [
           {
            "marker": {
             "line": {
              "color": "white",
              "width": 0.6
             }
            },
            "type": "histogram"
           }
          ],
          "histogram2d": [
           {
            "colorbar": {
             "outlinewidth": 1,
             "tickcolor": "rgb(36,36,36)",
             "ticks": "outside"
            },
            "colorscale": [
             [
              0,
              "#440154"
             ],
             [
              0.1111111111111111,
              "#482878"
             ],
             [
              0.2222222222222222,
              "#3e4989"
             ],
             [
              0.3333333333333333,
              "#31688e"
             ],
             [
              0.4444444444444444,
              "#26828e"
             ],
             [
              0.5555555555555556,
              "#1f9e89"
             ],
             [
              0.6666666666666666,
              "#35b779"
             ],
             [
              0.7777777777777778,
              "#6ece58"
             ],
             [
              0.8888888888888888,
              "#b5de2b"
             ],
             [
              1,
              "#fde725"
             ]
            ],
            "type": "histogram2d"
           }
          ],
          "histogram2dcontour": [
           {
            "colorbar": {
             "outlinewidth": 1,
             "tickcolor": "rgb(36,36,36)",
             "ticks": "outside"
            },
            "colorscale": [
             [
              0,
              "#440154"
             ],
             [
              0.1111111111111111,
              "#482878"
             ],
             [
              0.2222222222222222,
              "#3e4989"
             ],
             [
              0.3333333333333333,
              "#31688e"
             ],
             [
              0.4444444444444444,
              "#26828e"
             ],
             [
              0.5555555555555556,
              "#1f9e89"
             ],
             [
              0.6666666666666666,
              "#35b779"
             ],
             [
              0.7777777777777778,
              "#6ece58"
             ],
             [
              0.8888888888888888,
              "#b5de2b"
             ],
             [
              1,
              "#fde725"
             ]
            ],
            "type": "histogram2dcontour"
           }
          ],
          "mesh3d": [
           {
            "colorbar": {
             "outlinewidth": 1,
             "tickcolor": "rgb(36,36,36)",
             "ticks": "outside"
            },
            "type": "mesh3d"
           }
          ],
          "parcoords": [
           {
            "line": {
             "colorbar": {
              "outlinewidth": 1,
              "tickcolor": "rgb(36,36,36)",
              "ticks": "outside"
             }
            },
            "type": "parcoords"
           }
          ],
          "pie": [
           {
            "automargin": true,
            "type": "pie"
           }
          ],
          "scatter": [
           {
            "fillpattern": {
             "fillmode": "overlay",
             "size": 10,
             "solidity": 0.2
            },
            "type": "scatter"
           }
          ],
          "scatter3d": [
           {
            "line": {
             "colorbar": {
              "outlinewidth": 1,
              "tickcolor": "rgb(36,36,36)",
              "ticks": "outside"
             }
            },
            "marker": {
             "colorbar": {
              "outlinewidth": 1,
              "tickcolor": "rgb(36,36,36)",
              "ticks": "outside"
             }
            },
            "type": "scatter3d"
           }
          ],
          "scattercarpet": [
           {
            "marker": {
             "colorbar": {
              "outlinewidth": 1,
              "tickcolor": "rgb(36,36,36)",
              "ticks": "outside"
             }
            },
            "type": "scattercarpet"
           }
          ],
          "scattergeo": [
           {
            "marker": {
             "colorbar": {
              "outlinewidth": 1,
              "tickcolor": "rgb(36,36,36)",
              "ticks": "outside"
             }
            },
            "type": "scattergeo"
           }
          ],
          "scattergl": [
           {
            "marker": {
             "colorbar": {
              "outlinewidth": 1,
              "tickcolor": "rgb(36,36,36)",
              "ticks": "outside"
             }
            },
            "type": "scattergl"
           }
          ],
          "scattermap": [
           {
            "marker": {
             "colorbar": {
              "outlinewidth": 1,
              "tickcolor": "rgb(36,36,36)",
              "ticks": "outside"
             }
            },
            "type": "scattermap"
           }
          ],
          "scattermapbox": [
           {
            "marker": {
             "colorbar": {
              "outlinewidth": 1,
              "tickcolor": "rgb(36,36,36)",
              "ticks": "outside"
             }
            },
            "type": "scattermapbox"
           }
          ],
          "scatterpolar": [
           {
            "marker": {
             "colorbar": {
              "outlinewidth": 1,
              "tickcolor": "rgb(36,36,36)",
              "ticks": "outside"
             }
            },
            "type": "scatterpolar"
           }
          ],
          "scatterpolargl": [
           {
            "marker": {
             "colorbar": {
              "outlinewidth": 1,
              "tickcolor": "rgb(36,36,36)",
              "ticks": "outside"
             }
            },
            "type": "scatterpolargl"
           }
          ],
          "scatterternary": [
           {
            "marker": {
             "colorbar": {
              "outlinewidth": 1,
              "tickcolor": "rgb(36,36,36)",
              "ticks": "outside"
             }
            },
            "type": "scatterternary"
           }
          ],
          "surface": [
           {
            "colorbar": {
             "outlinewidth": 1,
             "tickcolor": "rgb(36,36,36)",
             "ticks": "outside"
            },
            "colorscale": [
             [
              0,
              "#440154"
             ],
             [
              0.1111111111111111,
              "#482878"
             ],
             [
              0.2222222222222222,
              "#3e4989"
             ],
             [
              0.3333333333333333,
              "#31688e"
             ],
             [
              0.4444444444444444,
              "#26828e"
             ],
             [
              0.5555555555555556,
              "#1f9e89"
             ],
             [
              0.6666666666666666,
              "#35b779"
             ],
             [
              0.7777777777777778,
              "#6ece58"
             ],
             [
              0.8888888888888888,
              "#b5de2b"
             ],
             [
              1,
              "#fde725"
             ]
            ],
            "type": "surface"
           }
          ],
          "table": [
           {
            "cells": {
             "fill": {
              "color": "rgb(237,237,237)"
             },
             "line": {
              "color": "white"
             }
            },
            "header": {
             "fill": {
              "color": "rgb(217,217,217)"
             },
             "line": {
              "color": "white"
             }
            },
            "type": "table"
           }
          ]
         },
         "layout": {
          "annotationdefaults": {
           "arrowhead": 0,
           "arrowwidth": 1
          },
          "autotypenumbers": "strict",
          "coloraxis": {
           "colorbar": {
            "outlinewidth": 1,
            "tickcolor": "rgb(36,36,36)",
            "ticks": "outside"
           }
          },
          "colorscale": {
           "diverging": [
            [
             0,
             "rgb(103,0,31)"
            ],
            [
             0.1,
             "rgb(178,24,43)"
            ],
            [
             0.2,
             "rgb(214,96,77)"
            ],
            [
             0.3,
             "rgb(244,165,130)"
            ],
            [
             0.4,
             "rgb(253,219,199)"
            ],
            [
             0.5,
             "rgb(247,247,247)"
            ],
            [
             0.6,
             "rgb(209,229,240)"
            ],
            [
             0.7,
             "rgb(146,197,222)"
            ],
            [
             0.8,
             "rgb(67,147,195)"
            ],
            [
             0.9,
             "rgb(33,102,172)"
            ],
            [
             1,
             "rgb(5,48,97)"
            ]
           ],
           "sequential": [
            [
             0,
             "#440154"
            ],
            [
             0.1111111111111111,
             "#482878"
            ],
            [
             0.2222222222222222,
             "#3e4989"
            ],
            [
             0.3333333333333333,
             "#31688e"
            ],
            [
             0.4444444444444444,
             "#26828e"
            ],
            [
             0.5555555555555556,
             "#1f9e89"
            ],
            [
             0.6666666666666666,
             "#35b779"
            ],
            [
             0.7777777777777778,
             "#6ece58"
            ],
            [
             0.8888888888888888,
             "#b5de2b"
            ],
            [
             1,
             "#fde725"
            ]
           ],
           "sequentialminus": [
            [
             0,
             "#440154"
            ],
            [
             0.1111111111111111,
             "#482878"
            ],
            [
             0.2222222222222222,
             "#3e4989"
            ],
            [
             0.3333333333333333,
             "#31688e"
            ],
            [
             0.4444444444444444,
             "#26828e"
            ],
            [
             0.5555555555555556,
             "#1f9e89"
            ],
            [
             0.6666666666666666,
             "#35b779"
            ],
            [
             0.7777777777777778,
             "#6ece58"
            ],
            [
             0.8888888888888888,
             "#b5de2b"
            ],
            [
             1,
             "#fde725"
            ]
           ]
          },
          "colorway": [
           "#1F77B4",
           "#FF7F0E",
           "#2CA02C",
           "#D62728",
           "#9467BD",
           "#8C564B",
           "#E377C2",
           "#7F7F7F",
           "#BCBD22",
           "#17BECF"
          ],
          "font": {
           "color": "rgb(36,36,36)"
          },
          "geo": {
           "bgcolor": "white",
           "lakecolor": "white",
           "landcolor": "white",
           "showlakes": true,
           "showland": true,
           "subunitcolor": "white"
          },
          "hoverlabel": {
           "align": "left"
          },
          "hovermode": "closest",
          "mapbox": {
           "style": "light"
          },
          "paper_bgcolor": "white",
          "plot_bgcolor": "white",
          "polar": {
           "angularaxis": {
            "gridcolor": "rgb(232,232,232)",
            "linecolor": "rgb(36,36,36)",
            "showgrid": false,
            "showline": true,
            "ticks": "outside"
           },
           "bgcolor": "white",
           "radialaxis": {
            "gridcolor": "rgb(232,232,232)",
            "linecolor": "rgb(36,36,36)",
            "showgrid": false,
            "showline": true,
            "ticks": "outside"
           }
          },
          "scene": {
           "xaxis": {
            "backgroundcolor": "white",
            "gridcolor": "rgb(232,232,232)",
            "gridwidth": 2,
            "linecolor": "rgb(36,36,36)",
            "showbackground": true,
            "showgrid": false,
            "showline": true,
            "ticks": "outside",
            "zeroline": false,
            "zerolinecolor": "rgb(36,36,36)"
           },
           "yaxis": {
            "backgroundcolor": "white",
            "gridcolor": "rgb(232,232,232)",
            "gridwidth": 2,
            "linecolor": "rgb(36,36,36)",
            "showbackground": true,
            "showgrid": false,
            "showline": true,
            "ticks": "outside",
            "zeroline": false,
            "zerolinecolor": "rgb(36,36,36)"
           },
           "zaxis": {
            "backgroundcolor": "white",
            "gridcolor": "rgb(232,232,232)",
            "gridwidth": 2,
            "linecolor": "rgb(36,36,36)",
            "showbackground": true,
            "showgrid": false,
            "showline": true,
            "ticks": "outside",
            "zeroline": false,
            "zerolinecolor": "rgb(36,36,36)"
           }
          },
          "shapedefaults": {
           "fillcolor": "black",
           "line": {
            "width": 0
           },
           "opacity": 0.3
          },
          "ternary": {
           "aaxis": {
            "gridcolor": "rgb(232,232,232)",
            "linecolor": "rgb(36,36,36)",
            "showgrid": false,
            "showline": true,
            "ticks": "outside"
           },
           "baxis": {
            "gridcolor": "rgb(232,232,232)",
            "linecolor": "rgb(36,36,36)",
            "showgrid": false,
            "showline": true,
            "ticks": "outside"
           },
           "bgcolor": "white",
           "caxis": {
            "gridcolor": "rgb(232,232,232)",
            "linecolor": "rgb(36,36,36)",
            "showgrid": false,
            "showline": true,
            "ticks": "outside"
           }
          },
          "title": {
           "x": 0.05
          },
          "xaxis": {
           "automargin": true,
           "gridcolor": "rgb(232,232,232)",
           "linecolor": "rgb(36,36,36)",
           "showgrid": false,
           "showline": true,
           "ticks": "outside",
           "title": {
            "standoff": 15
           },
           "zeroline": false,
           "zerolinecolor": "rgb(36,36,36)"
          },
          "yaxis": {
           "automargin": true,
           "gridcolor": "rgb(232,232,232)",
           "linecolor": "rgb(36,36,36)",
           "showgrid": false,
           "showline": true,
           "ticks": "outside",
           "title": {
            "standoff": 15
           },
           "zeroline": false,
           "zerolinecolor": "rgb(36,36,36)"
          }
         }
        },
        "title": {
         "text": "Análisis de Tipos de Campaña"
        },
        "width": 1000,
        "xaxis": {
         "anchor": "y",
         "domain": [
          0,
          0.45
         ],
         "title": {
          "text": "Tipo de campaña"
         }
        },
        "xaxis2": {
         "anchor": "y2",
         "domain": [
          0.55,
          1
         ],
         "title": {
          "text": "Tipo de campaña"
         }
        },
        "yaxis": {
         "anchor": "x",
         "domain": [
          0,
          1
         ],
         "title": {
          "text": "Ingreso promedio ($)"
         }
        },
        "yaxis2": {
         "anchor": "x2",
         "domain": [
          0,
          1
         ],
         "title": {
          "text": "Tasa de conversión"
         }
        }
       }
      }
     },
     "metadata": {},
     "output_type": "display_data"
    }
   ],
   "source": [
    "# Group by type and calculate metrics\n",
    "avg_revenue_by_type = df.groupby('type')['revenue'].mean().sort_values(ascending=False)\n",
    "avg_conversion_by_type = df.groupby('type')['conversion_rate'].mean().sort_values(ascending=False)\n",
    "\n",
    "# Create interactive subplots\n",
    "fig = make_subplots(rows=1, cols=2, \n",
    "                   subplot_titles=['Ingreso promedio por tipo de campaña', \n",
    "                                  'Tasa de conversión promedio por tipo de campaña'])\n",
    "\n",
    "# Plot average revenue by campaign type\n",
    "fig.add_trace(\n",
    "    go.Bar(\n",
    "        x=avg_revenue_by_type.index, \n",
    "        y=avg_revenue_by_type.values,\n",
    "        text=[f'${val:,.2f}' for val in avg_revenue_by_type.values],\n",
    "        textposition='auto',\n",
    "        marker_color=pastel_colors[:len(avg_revenue_by_type)],\n",
    "        hovertemplate='Tipo: %{x}<br>Ingreso promedio: %{text}<extra></extra>'\n",
    "    ),\n",
    "    row=1, col=1\n",
    ")\n",
    "\n",
    "# Plot average conversion rate by campaign type\n",
    "fig.add_trace(\n",
    "    go.Bar(\n",
    "        x=avg_conversion_by_type.index, \n",
    "        y=avg_conversion_by_type.values,\n",
    "        text=[f'{val:.2%}' for val in avg_conversion_by_type.values],\n",
    "        textposition='auto',\n",
    "        marker_color=pastel_colors[:len(avg_conversion_by_type)],\n",
    "        hovertemplate='Tipo: %{x}<br>Tasa de conversión: %{text}<extra></extra>'\n",
    "    ),\n",
    "    row=1, col=2\n",
    ")\n",
    "\n",
    "# Update layout\n",
    "fig.update_layout(\n",
    "    height=600, \n",
    "    width=1000,\n",
    "    showlegend=False,\n",
    "    title_text='Análisis de Tipos de Campaña',\n",
    "    template='simple_white'\n",
    ")\n",
    "\n",
    "# Add axis labels\n",
    "fig.update_yaxes(title_text=\"Ingreso promedio ($)\", row=1, col=1)\n",
    "fig.update_yaxes(title_text=\"Tasa de conversión\", row=1, col=2)\n",
    "fig.update_xaxes(title_text=\"Tipo de campaña\", row=1, col=1)\n",
    "fig.update_xaxes(title_text=\"Tipo de campaña\", row=1, col=2)\n",
    "\n",
    "# Show the figure\n",
    "fig.show()"
   ]
  },
  {
   "cell_type": "code",
   "execution_count": 11,
   "id": "f96d76b7",
   "metadata": {},
   "outputs": [
    {
     "data": {
      "application/vnd.plotly.v1+json": {
       "config": {
        "plotlyServerURL": "https://plot.ly"
       },
       "data": [
        {
         "hovertemplate": "ROI: %{x:.2f}<br>Frecuencia: %{y}<extra></extra>",
         "marker": {
          "color": "rgba(255, 182, 193, 0.7)"
         },
         "nbinsx": 50,
         "type": "histogram",
         "x": {
          "bdata": "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",
          "dtype": "f8"
         },
         "xaxis": "x",
         "yaxis": "y"
        },
        {
         "hovertemplate": "Canal: %{y:.2f}<extra></extra>",
         "marker": {
          "color": "rgba(255, 182, 193, 0.7)"
         },
         "name": "organic",
         "type": "box",
         "xaxis": "x2",
         "y": {
          "bdata": "MzMzMzOzVUCuR+F6FK4UQKRwPQrXIzFAj8L1KFyPKUAUrkfhepRHQFK4HoXrUS5AzczMzMzMDEBSuB6F69EmQIXrUbgeheu/CtejcD0KGEAfhetRuPZpQHE9Ctej8DhAAAAAAADgQEBmZmZmZmYAQB+F61G4Xj9AuB6F61E4M0DsUbgehWshQJqZmZmZmf0/j8L1KFyPDECPwvUoXA8gQOxRuB6F6w1ACtejcD0KHkAfhetRuB4XQArXo3A9iiNAZmZmZmbmQUAAAAAAALBQQEjhehSuRyJAMzMzMzMzD0C4HoXrUTgjQOF6FK5H4QZAuB6F61F4MEAUrkfhemRZQBSuR+F6FBJA4XoUrkfhEUB7FK5H4XozQJqZmZmZmfU/7FG4HoXrF0CkcD0K16MdQB+F61G4vkJApHA9CtejG0A9CtejcD0gQJqZmZmZmdk/exSuR+F6/D+amZmZmZkLQBSuR+F61DdAXI/C9ShcBUBmZmZmZuY/QLgehetRuM4/j8L1KFyPWEB7FK5H4TpHQM3MzMzMzD5AmpmZmZmZHECuR+F6FK77PxSuR+F6FO4/j8L1KFyPIUApXI/C9agnQFK4HoXrwWJAuB6F61G4FUDNzMzMzMwEQKRwPQrXox5AMzMzMzOzIUCkcD0K16NTQHE9CtejcCBA4XoUrkdhIUBSuB6F61ExQClcj8L1KAZACtejcD0K1z9xPQrXo3AZQIXrUbgehds/PQrXo3B9R0C4HoXrUbgCQD0K16NwPR9A9ihcj8I1MEAK16NwPYoxQGZmZmZmjmFAw/UoXI+CMUDXo3A9CtcSQPYoXI/C9RBAXI/C9ShcE0D2KFyPwvUKQLgehetRuDVA7FG4HoXrwT9mZmZmZmYXQLgehetRuAhAcT0K16OwNEApXI/C9SSDQD0K16NwPRJArkfhehSuDUDNzMzMzEwiQOF6FK5HIURAAAAAAADAMUBcj8L1KJRoQKRwPQrXoxhAexSuR+F61D9I4XoUrkcRQM3MzMzMzOy/ZmZmZmZmLECamZmZmZnpP4/C9ShcTzFAKVyPwvUoNEAK16NwPQobQLgehetR+D5ArkfhehTOQkDsUbgehWs/QOF6FK5HYSpAuB6F61G4zj+PwvUoXI8iQDMzMzMzMyFAAAAAAAAgTEBmZmZmZuYmQB+F61G47lJAMzMzMzPDX0ApXI/C9egxQFyPwvUoeoBAUrgehetRIkBI4XoUrkcYQHE9CtejMDBAmpmZmZmZ8T/2KFyPwnUtQI/C9ShcjwBAZmZmZmZmHUB7FK5H4XoAQIXrUbgehRZA7FG4HoXLTUCF61G4HoUYQBSuR+F6VDFAj8L1KFwPJkBmZmZmZmYZQFyPwvUo7FZA9ihcj8I1OUBcj8L1KNw+QOF6FK5H4SpA4XoUrkfh6j8UrkfhehQ8QNejcD0K1yJApHA9CtdjMkBSuB6F6wFYQMP1KFyPwiBAXI/C9SicPUAfhetRuB4XQKRwPQrXoxpAFK5H4XoU+j/hehSuR2EjQHE9Ctej8CJA4XoUrkdhPkCkcD0K1yMjQK5H4XoULipAAAAAAAAAL0DsUbgehWs1QGZmZmZmnmdA4XoUrkfhE0CamZmZmRksQFK4HoXrUSZA7FG4HoXrC0DsUbgehescQDMzMzMzcztAuB6F61E4JkDXo3A9CtcRQDMzMzMzsyVAhetRuB6FJUDD9Shcj8Llvz0K16NwPRZAXI/C9ShcAUDsUbgehesgQClcj8L1KARArkfhehTuMEDsUbgehev1P/YoXI/C9SBAUrgehetRK0D2KFyPwvUzQMP1KFyPwgNAexSuR+F6GUBI4XoUrmdkQHsUrkfhei9AuB6F61G4FUAUrkfhehQ7QHE9CtejcCFAZmZmZmamPkAzMzMzM5NUQFK4HoXr0S9AzczMzMzMHUCF61G4HkU0QK5H4XoULi5ArkfhehSuEEDNzMzMzLxkQBSuR+F61FRACtejcD0KNECF61G4HoeDQGZmZmZmZhlASOF6FK7HIkAzMzMzM7M5QPYoXI/CdSVA4XoUrkdhMEAUrkfhepQyQK5H4XoUrglAhetRuB6FH0ApXI/C9SgWQNejcD0KVyZACtejcD3aUEApXI/C9SgdQLgehetRuBVAFK5H4XoUEkAzMzMzMzMQQAAAAAAAMFJAMzMzMzMzLUCkcD0K14NCQBSuR+F6FCVAw/UoXI/CB0DD9ShcjyJPQD0K16NwvSZAexSuR+F6GEApXI/C9ShGQB+F61G4HhhAAAAAAADATECamZmZmZkiQClcj8L16DtA9ihcj8L1JUCuR+F6FK4tQHE9CtejcBpAH4XrUbgeHkCkcD0K16PwPz0K16NwvTFAXI/C9ShcFUAAAAAAAAASQFK4HoXrUSlAuB6F61F4MEBmZmZmZuZUQK5H4XoUri9AKVyPwvUoLUBSuB6F6xEyQIXrUbgehQlAuB6F61G47r9xPQrXo3AVQDMzMzMzMzlAw/UoXI/C7T/Xo3A9CtciQClcj8L1KOw/uB6F61G4FUD2KFyPwuVRQKRwPQrXoxtAMzMzMzOzVUAAAAAAAAAAQA==",
          "dtype": "f8"
         },
         "yaxis": "y2"
        },
        {
         "hovertemplate": "Canal: %{y:.2f}<extra></extra>",
         "marker": {
          "color": "rgba(173, 216, 230, 0.7)"
         },
         "name": "promotion",
         "type": "box",
         "xaxis": "x2",
         "y": {
          "bdata": "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",
          "dtype": "f8"
         },
         "yaxis": "y2"
        },
        {
         "hovertemplate": "Canal: %{y:.2f}<extra></extra>",
         "marker": {
          "color": "rgba(144, 238, 144, 0.7)"
         },
         "name": "paid",
         "type": "box",
         "xaxis": "x2",
         "y": {
          "bdata": "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",
          "dtype": "f8"
         },
         "yaxis": "y2"
        },
        {
         "hovertemplate": "Canal: %{y:.2f}<extra></extra>",
         "marker": {
          "color": "rgba(255, 218, 185, 0.7)"
         },
         "name": "referral",
         "type": "box",
         "xaxis": "x2",
         "y": {
          "bdata": "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",
          "dtype": "f8"
         },
         "yaxis": "y2"
        },
        {
         "hovertemplate": "Tasa de conversión: %{x:.2f}<br>ROI: %{y:.2f}<extra></extra>",
         "marker": {
          "color": "rgba(173, 216, 230, 0.7)",
          "line": {
           "color": "rgba(173, 216, 230, 1.0)",
           "width": 1
          },
          "size": 8
         },
         "mode": "markers",
         "type": "scatter",
         "x": {
          "bdata": "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",
          "dtype": "f8"
         },
         "xaxis": "x3",
         "y": {
          "bdata": "MzMzMzOzVUDsUbgehSs8QKRwPQrXoxFArkfhehSuFEDhehSuR+HKP4/C9ShcjxlA4XoUrkfhE0BmZmZmZmYSQKRwPQrXIzFACtejcD1Sc0CPwvUoXI8KQIXrUbgehfs/j8L1KFyPKUA9CtejcD0/QHsUrkfheuy/exSuR+F6tD8K16NwPQoHQBSuR+F6lEdA9ihcj8I1OUCPwvUoXA8lQClcj8L1qClAUrgehetRLkDhehSuR+ERQOxRuB6FazBAMzMzMzMzw7/NzMzMzMwMQFK4HoXr0SZAuB6F61G4PkCF61G4HoXrv1yPwvUonD9AmpmZmZmZJECF61G4HsUwQK5H4XoULihArkfhehTuOUBxPQrXo/AvQFyPwvUoXPc/zczMzMzMDEAK16NwPQoYQB+F61G49mlAcT0K16PwOEAK16NwPQr/P65H4XoUrhdAmpmZmZmZE0AAAAAAAOBAQClcj8L1KMw/ZmZmZmZmAEAzMzMzMzMZQB+F61G4Xj9A16NwPQpnUUCPwvUoXM83QFK4HoXr8U9A4XoUrkdhR0C4HoXrUTgzQHsUrkfhegpAj8L1KFxPN0DsUbgehbtQQOxRuB6FayFAMzMzMzMTREBmZmZmZmYnQD0K16NwPQpAKVyPwvUo5L8AAAAAAAAjQPYoXI/C9RZA16NwPQrX/z8fhetRuB4cQFK4HoXr0S5AZmZmZmZmHkAfhetRuJ4jQEjhehSuRztAmpmZmZmZ/T9mZmZmZmYCQI/C9ShcDypAj8L1KFyPDEAzMzMzMzMxQFyPwvUoXBVA4XoUrkchMkBI4XoUrkcJQI/C9ShcDyBA4XoUrkdhQUBcj8L1KFwXQK5H4XoUrhNA7FG4HoXrDUAK16NwPQoeQBSuR+F6FN6/7FG4HoXrC0AAAAAAAAD4P4XrUbgepU5AcT0K16PwIkDsUbgehas+QArXo3A9iiBAH4XrUbgeF0BmZmZmZmYQQDMzMzMzMy9ACtejcD2KI0BmZmZmZuZBQFK4HoXrETJA7FG4HoXrGEDhehSuR+EcQJqZmZmZ2VVAAAAAAACwUEBI4XoUrkciQD0K16NwPRhAMzMzMzMzD0CuR+F6FK5DQK5H4XoULjFAuB6F61E4I0CkcD0K10NHQEjhehSuRx9ACtejcD3KMECamZmZmZkHQB+F61G43jNAhetRuB6F2z8K16NwPQoPQOF6FK5H4QZAXI/C9ShcKEApXI/C9SjwPwrXo3A9Ci9AuB6F61F4MEBxPQrXo3ANQEjhehSuRxFASOF6FK7XUkA9CtejcD0xQEjhehSuRwFAFK5H4XpkWUAUrkfhehQSQFK4HoXr0SVAMzMzMzOzK0B7FK5H4XowQGZmZmZmZvI/4XoUrkfhEUDhehSuR+ETQHsUrkfhejNAKVyPwvUoBEDXo3A9ClcmQIXrUbgeRTFAw/UoXI/C1T89CtejcL0vQJqZmZmZmfU/AAAAAAAAI0AK16NwPQodQB+F61G47mdA7FG4HoXrF0CkcD0K16MdQB+F61G4vkJApHA9CtejG0A9CtejcD0gQM3MzMzMlGBAzczMzMzM3D8fhetRuF41QAAAAAAAABpAZmZmZmZmLUCF61G4HoUlQB+F61G4nmBAmpmZmZmZ2T+amZmZmZnZP4/C9Shcj/4/exSuR+F6/D+F61G4HoUnQLgehetR+DBAmpmZmZmZqT+PwvUoXI8KQBSuR+F6FBZA9ihcj8L1HkBI4XoUrkcvQHE9CtejcBJACtejcD2KKECamZmZmZkLQBSuR+F61DdApHA9CtdzVkC4HoXrUfg7QLgehetR+DtAhetRuB6FSkDD9Shcj8IsQPYoXI/CdTVAhetRuB6F2z8zMzMzM7MkQPYoXI/C9RJAMzMzMzMzD0A9CtejcD0SQFyPwvUoXAVACtejcD2KJkCkcD0K1yMlQLgehetRuPY/ZmZmZmbmP0A9CtejcD0QQLgehetROCNA9ihcj8K1NEAUrkfhevREQClcj8L1KBRACtejcD0KAUAzMzMzM/M7QLgehetRuM4/j8L1KFyPWEB7FK5H4TpHQKRwPQrXIzBAzczMzMzMPkAAAAAAAAAoQEjhehSuRxFAmpmZmZlZPkDhehSuR2E5QK5H4XoUru8/FK5H4XqUIkCPwvUoXI/iv9ejcD0K51NA16NwPQpXP0BmZmZmZmbmP0jhehSuRyFAFK5H4XoUEkApXI/C9aggQPYoXI/C9RFAXI/C9SjcKUBSuB6F61EYQDMzMzMzMwdAKVyPwvWoPECamZmZmZkcQBSuR+F6NEdA9ihcj8J1KUBxPQrXo3AUQJqZmZmZmRhACtejcD2qQ0CuR+F6FK77P3sUrkfheh1AH4XrUbjeMEAUrkfhehTmP+xRuB6FazBAFK5H4XoU7j8fhetRuJ4gQAAAAAAAAAxAzczMzMw8V0A9CtejcD32P4/C9ShcjyFAmpmZmZmZHkApXI/C9agnQOxRuB6F6yhAuB6F61E4JkA9CtejcH0zQFK4HoXrURhAw/UoXI/COUAK16NwPQrHP6RwPQrXIyNA16NwPQrX679SuB6F68FiQM3MzMzMnGhAuB6F61G4FUCkcD0K16McQLgehetRuBRAhetRuB4FJkD2KFyPwvUZQHsUrkfhetQ/zczMzMzMBECPwvUoXI8YQGZmZmZmJjBArkfhehSmi0CkcD0K16MeQDMzMzMzsyFAH4XrUbgeC0DhehSuR+Hiv65H4XoUjltApHA9CtejU0BxPQrXo3AgQHsUrkfhSlhA9ihcj8J1LEBSuB6F69EsQLgehetRuN4/4XoUrkdhIUBmZmZmZmYVQAAAAAAAgChAUrgehetR2L+amZmZmZk2QFyPwvUoXN+/FK5H4XoULkAAAAAAAAApQOF6FK5H4SFApHA9CtcDQ0D2KFyPwvUIQOxRuB6FayBACtejcD0Ktz/2KFyPwvUaQM3MzMzMzPA/UrgehetRMUB7FK5H4Xrkv8P1KFyPwiFAPQrXo3B9N0DNzMzMzMwYQBSuR+F6FARACtejcD0KNEBSuB6F61FAQMP1KFyPwjlAKVyPwvUoBkCuR+F6FK4RQEjhehSuxydAuB6F61G4BECuR+F6FC4jQArXo3A9Ctc/pHA9CtejREAzMzMzMzPDv3E9Ctej8CBACtejcD3KTEBxPQrXo3AZQEjhehSuRyVAhetRuB6F2z9SuB6F69EsQD0K16NwfUdAuB6F61G4AkA9CtejcD0OQJqZmZmZmQVA9ihcj8L1KkAK16NwPQonQD0K16NwPR9ApHA9CtcjI0A9CtejcD0CQPYoXI/CNTBACtejcD0KDUAK16NwPQoPQMP1KFyPwihAhetRuB4FbEBmZmZmZsZAQArXo3A9ijFAKVyPwvVoNEBxPQrXozA/QHE9CtejcCpAZmZmZmaOYUDNzMzMzMw0QMP1KFyPQlJAKVyPwvUo3D+uR+F6FK4XQOxRuB6Fi0BAw/UoXI+CMUB7FK5H4XoXQD0K16NwvT1AcT0K16Nw7b8K16NwPQouQM3MzMzMzOQ/pHA9CtcDRUAfhetRuB4LQJqZmZmZmRtAj8L1KFyPLUD2KFyPwnUgQNejcD0K1xJA9ihcj8L1EECPwvUoXA8kQFyPwvUoXBNA9ihcj8LVTkDXo3A9ClcoQK5H4XoU5mVA7FG4HoXrIkAK16NwPQonQLgehetROCxA4XoUrkfhGED2KFyPwvUKQLgehetRuDVA7FG4HoVrI0DsUbgehevBP8P1KFyPwhxAZmZmZmZmF0C4HoXrUbgIQFK4HoXrURpAcT0K16OQQEAUrkfhehQvQHE9CtejsDRAAAAAAAAAAkApXI/C9SSDQIXrUbgeZU5APQrXo3A9EkAK16NwPQokQClcj8L1KBNArkfhehSuDUDNzMzMzEwiQDMzMzMzMwVACtejcD0KHkApXI/C9SgZQM3MzMzMTDNA4XoUrkdhKkC4HoXrUXhGQIXrUbgeBSNAKVyPwvUoHECPwvUoXI8xQIXrUbgetWJA9ihcj8L1FEDhehSuRyFEQDMzMzMzMxNAUrgehetRJUAAAAAAAMAxQOF6FK5H4fY/PQrXo3A92r89CtejcH07QOxRuB6F6wFAFK5H4XoUGkBcj8L1KJRoQD0K16NwnW5A16NwPQpXL0AK16NwPQoiQBSuR+F6FBlAj8L1KFyPG0BxPQrXo3AfQAAAAAAAACNAj8L1KFyPKUCkcD0K16MYQHsUrkfh2kxAMzMzMzM7ZkD2KFyPwnU4QNejcD0K1yJAAAAAAACAPEDhehSuR+HaPx+F61G4/ktAhetRuB6lQkAAAAAAAEA3QHsUrkfhetQ/H4XrUbgeEkAzMzMzMxNBQHE9CtejcDpAKVyPwvUoJkBI4XoUrkcnQEjhehSuRxFAKVyPwvWYV0DNzMzMzMzsv2ZmZmZmZixA9ihcj8L1GECamZmZmZnpP5qZmZmZmRNAPQrXo3A9JUAK16NwPapEQJqZmZmZmQ9AexSuR+G6MkAUrkfhelQ6QFK4HoXrUSJAKVyPwvWoIUBxPQrXo3Dlv8P1KFyPwkdAhetRuB6FLUC4HoXrUbgiQI/C9ShcTzFAhetRuB6FEkCkcD0K14tiQClcj8L1KDRAmpmZmZmZC0AK16NwPQobQLgehetR+D5ArkfhehTOQkCF61G4HoUWQDMzMzMzMxdAj8L1KFyPMEDD9Shcj8IuQKRwPQrXIzdAzczMzMzMKkDNzMzMzMwEQD0K16NwvShA7FG4HoVrP0C4HoXrUbgVQClcj8L1KClAPQrXo3B9NUApXI/C9agsQK5H4XoULjBAFK5H4XrUOEDhehSuR2EqQDMzMzMzMwFApHA9CtejKUBxPQrXo3AiQJqZmZmZmcm/uB6F61G4zj/Xo3A9CgdYQI/C9ShcjyJASOF6FK5HI0BxPQrXo3A4QKRwPQrXo/Q/9ihcj8L1HEB7FK5H4ZpJQDMzMzMzMyFAFK5H4XoUF0AAAAAAACBMQBSuR+F6FP4/w/UoXI+CP0AUrkfheiRcQD0K16NwY4BASOF6FK5HFkBmZmZmZuYmQNejcD0KlzRAUrgeheuRPUBSuB6F61EiQD0K16NwvSpAH4XrUbjuUkBmZmZmZgZQQClcj8L1qC5AAAAAAAAAEUAzMzMzMzMzQD0K16NwzVFAMzMzMzPDX0B7FK5H4XoRQOxRuB6FqzBAKVyPwvXoMUDNzMzMzEw1QPYoXI/CdSNAXI/C9Sh6gEBcj8L1KNwrQFK4HoXr0XBAzczMzMzM3D+amZmZmRk1QKRwPQrXoyBAMzMzMzMz9z9cj8L1KFwjQD0K16NwPRpAH4XrUbjePEC4HoXrUbgdQFK4HoXrUSJASOF6FK5HGEBcj8L1KFwFQD0K16NwPRdAcT0K16MwMECamZmZmRknQJqZmZmZmfE/cT0K16NwHkD2KFyPwnUtQI/C9ShcjwBAZmZmZmZmHUB7FK5H4XoAQHE9CtejcAFAj8L1KFyPHkBmZmZmZgZjQOxRuB6F6+E/rkfhehQuMUCF61G4HoUWQDMzMzMzMxpA4XoUrkfhHkCamZmZmZkLQI/C9ShcjwZA7FG4HoXLTUDhehSuR+HKv8P1KFyPwh1ACtejcD2KI0ApXI/C9agwQIXrUbgehRhAuB6F61G4CkApXI/C9UhCQBSuR+F6VDFAj8L1KFwPJkDhehSuR+EsQGZmZmZmZhlAXI/C9SjsVkAzMzMzMzMFQOxRuB6FKztA9ihcj8I1OUDhehSuR+EeQDMzMzMzMxBArkfhehT+UUBcj8L1KNwqQFK4HoXrUQxAXI/C9SjcPkBSuB6F61EGQGZmZmZmZiZA4XoUrkfhKkC4HoXrUbgjQGZmZmZm5iNA4XoUrkfh6j+kcD0K16MIQArXo3A9CjBAuB6F61G4K0AUrkfhehQ8QArXo3A9Cue/MzMzMzOzTEB7FK5H4XoUQLgehetROChA16NwPQrX8z/Xo3A9CtciQArXo3A9ChJArkfhehSuE0CkcD0K12MyQI/C9ShcZ2ZAUrgehesBWEAAAAAAAAAXQIXrUbgehfM/cT0K16PwJEAAAAAAAAAOQMP1KFyPwhtAcT0K16NwH0D2KFyPwjU2QK5H4XoUrvc/AAAAAABANEBcj8L1KJxCQJqZmZmZWU1AKVyPwvUo8D/sUbgehesuQM3MzMzMTD1Aw/UoXI/CIEAzMzMzMzMRQArXo3A9ChRAKVyPwvUo5L+uR+F6FK4bQFyPwvUonD1AH4XrUbgeF0BmZmZmZmYSQKRwPQrXoxpA16NwPQonVECF61G4HkVAQPYoXI/C9RdAexSuR+F6JkDD9Shcj0IoQI/C9ShcjwpAcT0K16Nw9T+PwvUoXA8gQPYoXI/CdT5AXI/C9ShcBUAUrkfhehT6Pylcj8L1KOy/KVyPwvUoAEAK16NwPYoiQI/C9ShcjxVA4XoUrkdhI0BmZmZmZmY0QJqZmZmZGS5AcT0K16PwIkC4HoXrUTg+QFyPwvUo3CJApHA9CtejGEBcj8L1KNwgQHsUrkfhehpAKVyPwvUo3L+F61G4HsUwQArXo3A9CgdA16NwPQpXLECkcD0K1yM+QOF6FK5HYT5AuB6F61H4NUCkcD0K1yMjQJqZmZmZmS5ArkfhehQuKkAUrkfhehQSQB+F61G43jBAmpmZmZmZFkBSuB6F61EQQMP1KFyPgkdAcT0K16OwMEAAAAAAAAAvQHsUrkfhejlA4XoUrkdhIUDsUbgehWs1QM3MzMzMDDZAZmZmZmZm1r9SuB6F61EsQB+F61G4HiFA4XoUrkchPkBxPQrXo3AZQK5H4XoUrg9AZmZmZmZmF0AK16NwPYouQGZmZmZmZiFAZmZmZmaeZ0BI4XoUrscvQMP1KFyPgjlAexSuR+G6QkCF61G4HoUXQHE9CtejcAFAKVyPwvUoH0DhehSuR+ETQGZmZmZm5iVAcT0K16NwIECamZmZmRksQJqZmZmZGSdAw/UoXI/CGEAK16NwPYpTQHE9CtejSHNACtejcD0K9z9SuB6F61EmQB+F61G4HtW/16NwPQrXEUD2KFyPwvUUQOF6FK5HYStA7FG4HoXrC0AK16NwPYogQFK4HoXrURJA7FG4HoXr4b/sUbgehescQDMzMzMzcztAuB6F61E4JkDD9Shcj8IRQGZmZmZmZhRACtejcD2KIkDNzMzMzMwGQHsUrkfheh1A16NwPQrXCUAAAAAAAAAbQGZmZmZmZgJAH4XrUbge7T8pXI/C9ehEQDMzMzMzMzBA4XoUrkfRYUAAAAAAAAACQPYoXI/CNTRA9ihcj8L12D9SuB6F61EVQJqZmZmZmbk/cT0K16OwMkApXI/C9SgVQHsUrkfheqS/SOF6FK5XUEBcj8L1KFz/P4XrUbgehRNAzczMzMzMEkB7FK5H4XoEQIXrUbgehQ1ApHA9CtcLY0DXo3A9CtcRQFK4HoXrwVJAj8L1KFw7dEC4HoXrUbgGQEjhehSuR0ZAMzMzMzOzJUD2KFyPwnUkQB+F61G4niRAUrgehesRN0ApXI/C9SgtQHE9CtejcO2/uB6F61G4GUCF61G4HoUlQMP1KFyPwuW/pHA9CtcjKUBmZmZmZmbuP0jhehSuRxpArkfhehSuFECuR+F6FK41QHE9Ctej8CdA4XoUrkdhJ0CkcD0K1yMhQOxRuB6FazFAPQrXo3A9FkBcj8L1KFwBQOxRuB6F6yBAH4XrUbjWbUAfhetRuF5JQNejcD0K1yNAcT0K16NwI0ApXI/C9SgEQK5H4XoU7jBAFK5H4XoUE0AzMzMzMzMDQI/C9ShcTzVA4XoUrkfhHEDNzMzMzMwGQLgehetRuBRAhetRuB6F8z97FK5H4fomQNejcD0KVyNA7FG4HoXr9T/sUbgehR90QJqZmZmZmTdAj8L1KFyPFUD2KFyPwvUgQHE9Ctej8CFAUrgehevxSUC4HoXrUehjQPYoXI/C9SFAUrgehevRKUAfhetRuB4hQNejcD0K1yNAj8L1KFwPIED2KFyPwrVCQFK4HoXrUStAmpmZmZmZEED2KFyPwvUzQEjhehSuxyxAKVyPwvUovL/D9Shcj8IDQLgehetRqFNA16NwPQrXHUB7FK5H4XoZQFK4HoXrUeA/SOF6FK5nZEDXo3A9CqdcQBSuR+F6lCdA9ihcj8J1JEBxPQrXo3D5P3sUrkfhei9AuB6F61G4FUAAAAAAAADoP0jhehSuRzNAPQrXo3D9REBmZmZmZmb2P83MzMzMzBtA7FG4HoWLREDD9Shcj8Llv0jhehSuh0BAFK5H4XoUO0D2KFyPwvUoQArXo3A9Cue/pHA9CtejMUBcj8L1KFwmQGZmZmZmZhZAKVyPwvUoCkA9CtejcD03QHE9CtejcCFAcT0K16NwM0BmZmZmZqY+QDMzMzMzk1RASOF6FK5HMECkcD0K16MvQFK4HoXr0S9AuB6F61EYUkBxPQrXozAxQIXrUbgehR1ApHA9CtejBEApXI/C9Sg6QM3MzMzMzB1AcT0K16PwL0AfhetRuM5YQIXrUbgeRTRArkfhehSuLUDsUbgehevxPzMzMzMzMwlA9ihcj8J1LkDNzMzMzCxLQK5H4XoULi5AZmZmZmbmJEDXo3A9Cpc3QPYoXI/C9dg/rkfhehSuEEDNzMzMzLxkQI/C9Shcn1BAXI/C9SjcLkAUrkfhetRUQGZmZmZmZhlAUrgehetRNUBI4XoUrkcJQOF6FK5H4eq/mpmZmZnZMUAAAAAAAMAxQI/C9ShcTzdAzczMzMwsWEDNzMzMzMwgQI/C9Shcj/o/MzMzMzMz+z8K16NwPQo0QBSuR+F6FN4/MzMzMzMzREAzMzMzMzMDQOF6FK5H4S9AmpmZmZmZ+T+F61G4HoeDQGZmZmZmZhlASOF6FK7HIkAzMzMzM7M5QPYoXI/CdSVAKVyPwvUo7L8UrkfhepQoQClcj8L1KAxA4XoUrkdhMEDhehSuR+ECQPYoXI/C9di/FK5H4XqUMkDhehSuR+EaQKRwPQrXoxVAXI/C9ShcHUD2KFyPwvXoP83MzMzMzDFASOF6FK5HA0DhehSuR4FPQI/C9ShcDytApHA9CtejDkCuR+F6FK4JQEjhehSuRwFAmpmZmZmZIkCF61G4HoUfQHE9CtejcBNACtejcD0Kt79xPQrXo3DxPzMzMzMzMxhAKVyPwvUoFkBI4XoUrkcFQI/C9ShcjwpArkfhehSuFkCF61G4HoUPQAAAAAAAQD9AMzMzMzOzJUAzMzMzMw9wQK5H4XoUbjNA16NwPQpXJkAK16NwPdpQQMP1KFyPwgdAKVyPwvUoHUAK16NwPYomQIXrUbgehfM/CtejcD36WEC4HoXrUfhXQOxRuB6F60JAAAAAAAAAFEAzMzMzMzMbQNejcD0K1wFAexSuR+E6OUBSuB6F61E1QK5H4XoUmINAMzMzMzMzHEAAAAAAAADwv+xRuB6FayxAuB6F61G4FUDD9Shcj8ITQFK4HoXr0SRAFK5H4XoUEkAzMzMzMzMQQEjhehSuR+G/AAAAAAAwUkCPwvUoXO9MQDMzMzMzMy1ArkfhehTuMEDhehSuR+ETQKRwPQrXg0JAH4XrUbheMkAAAAAAAAAGQBSuR+F6FCVAw/UoXI/CB0DD9ShcjyJPQD0K16NwvSZAexSuR+F6GEApXI/C9ShGQClcj8L1KBdAZmZmZmZm5r+4HoXrUehRQB+F61G4HhhAXI/C9ShcH0DsUbgehevxP/YoXI/C9UlAH4XrUbgOWkAAAAAAAMBMQKRwPQrXoxdAPQrXo3C9J0DsUbgehSs+QKRwPQrXox1AUrgeheuRMkD2KFyPwnU1QK5H4XoUrh1ApHA9CtejGkDsUbgehev1P5qZmZmZmSJAKVyPwvXoO0AzMzMzMzMwQPYoXI/C9SVA4XoUrkfhBkCuR+F6FK4tQHE9CtejcBpAcT0K16PwLUAfhetRuB4eQEjhehSuRxVAw/UoXI/CJECkcD0K16PwPx+F61G4HiVAFK5H4XoUNUCkcD0K1yMkQB+F61G4nipAXI/C9ShcF0BmZmZmZmYUQK5H4XoUrte/PQrXo3C9MUDhehSuR6ExQOF6FK5HCWFAXI/C9ShcFUAAAAAAAAASQDMzMzMzMw1AUrgehetRKUC4HoXrUXgwQGZmZmZm5lRAuB6F61G4FUBSuB6F69EgQArXo3A9SkBArkfhehSuL0CamZmZmZkSQB+F61G4HihA4XoUrkfhO0CPwvUoXI/6PwrXo3A9ikxAhetRuB5FNEApXI/C9SgtQOxRuB6F69E/UrgehesRMkCF61G4HoX3P6RwPQrXoyxAAAAAAAAAFEBSuB6F61EIQIXrUbgehQlAuB6F61G47r/D9Shcj4I0QHE9CtejcBVA4XoUrkchNUAzMzMzMzM5QJqZmZmZmS5AhetRuB6F4z9SuB6F61Hov6RwPQrXoxtAMzMzMzMzEkAAAAAAAEA1QAAAAAAAIGFAw/UoXI/C7T+amZmZmVk8QFK4HoXr0SJA16NwPQrXIkBI4XoUrkcmQClcj8L1KOw/CtejcD0KHkCF61G4HoUWQLgehetRuBVA9ihcj8LlUUCkcD0K1yMiQKRwPQrXoxtAmpmZmZnZN0DhehSuR+ETQGZmZmZmZhJAmpmZmZmZ+b8zMzMzM7NVQNejcD0K1xhAZmZmZmZm9j+4HoXrUbj6PwAAAAAAAOA/AAAAAAAA4D8AAAAAAAAAQA==",
          "dtype": "f8"
         },
         "yaxis": "y3"
        },
        {
         "hovertemplate": "Tipo: %{y:.2f}<extra></extra>",
         "marker": {
          "color": "rgba(255, 182, 193, 0.7)"
         },
         "name": "email",
         "type": "box",
         "xaxis": "x4",
         "y": {
          "bdata": "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",
          "dtype": "f8"
         },
         "yaxis": "y4"
        },
        {
         "hovertemplate": "Tipo: %{y:.2f}<extra></extra>",
         "marker": {
          "color": "rgba(173, 216, 230, 0.7)"
         },
         "name": "podcast",
         "type": "box",
         "xaxis": "x4",
         "y": {
          "bdata": "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",
          "dtype": "f8"
         },
         "yaxis": "y4"
        },
        {
         "hovertemplate": "Tipo: %{y:.2f}<extra></extra>",
         "marker": {
          "color": "rgba(144, 238, 144, 0.7)"
         },
         "name": "webinar",
         "type": "box",
         "xaxis": "x4",
         "y": {
          "bdata": "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",
          "dtype": "f8"
         },
         "yaxis": "y4"
        },
        {
         "hovertemplate": "Tipo: %{y:.2f}<extra></extra>",
         "marker": {
          "color": "rgba(255, 218, 185, 0.7)"
         },
         "name": "social media",
         "type": "box",
         "xaxis": "x4",
         "y": {
          "bdata": "4XoUrkfhyj+PwvUoXI8ZQArXo3A9UnNAhetRuB6F+z+PwvUoXI8pQDMzMzMzM8O/XI/C9SicP0CF61G4HsUwQK5H4XoU7jlAcT0K16PwL0AK16NwPQoYQHE9Ctej8DhA16NwPQpnUUDhehSuR2FHQClcj8L1KOS/AAAAAAAAI0D2KFyPwvUWQFK4HoXr0S5ASOF6FK5HO0BmZmZmZmYCQI/C9ShcDypAj8L1KFwPIECF61G4HqVOQArXo3A9iiBAZmZmZmZmEEAK16NwPYojQB+F61G43jNAuB6F61F4MEBI4XoUrkcRQD0K16NwPTFASOF6FK5HAUAzMzMzM7MrQGZmZmZmZvI/hetRuB5FMUAfhetRuO5nQOxRuB6F6xdApHA9CtejHUAfhetRuL5CQD0K16NwPSBAzczMzMzM3D+F61G4HoUlQI/C9Shcj/4/hetRuB6FJ0D2KFyPwvUeQArXo3A9iihAFK5H4XrUN0C4HoXrUfg7QMP1KFyPwixAhetRuB6F2z+PwvUoXI9YQHsUrkfhOkdApHA9CtcjMEBmZmZmZmbmP3sUrkfheh1AH4XrUbieIECkcD0K1yMjQNejcD0K1+u/zczMzMycaEC4HoXrUbgVQM3MzMzMzARA4XoUrkfh4r9mZmZmZmYVQAAAAAAAgChACtejcD0Ktz/NzMzMzMzwPxSuR+F6FARACtejcD0KNEApXI/C9SgGQLgehetRuARASOF6FK5HJUA9CtejcH1HQD0K16NwPQ5A9ihcj8I1MEAK16NwPQoPQMP1KFyPwihAhetRuB4FbEBmZmZmZo5hQK5H4XoUrhdAH4XrUbgeC0Bcj8L1KFwTQOxRuB6F6yJA7FG4HoVrI0BxPQrXo7A0QD0K16NwPRJACtejcD0KHkDhehSuR2EqQLgehetReEZAj8L1KFyPMUAzMzMzMzMTQFyPwvUolGhACtejcD0KIkAUrkfhehQZQHE9CtejcB9A9ihcj8J1OECF61G4HqVCQAAAAAAAQDdAMzMzMzMTQUApXI/C9SgmQD0K16NwPSVAmpmZmZmZD0AUrkfhelQ6QIXrUbgehRJACtejcD0KG0CuR+F6FM5CQOxRuB6Faz9ArkfhehQuMEDXo3A9CgdYQI/C9ShcjyJASOF6FK5HI0B7FK5H4ZpJQMP1KFyPgj9APQrXo3BjgEBI4XoUrkcWQGZmZmZmBlBAAAAAAAAAEUDNzMzMzEw1QFK4HoXr0XBAmpmZmZkZNUAzMzMzMzP3P0jhehSuRxhAmpmZmZkZJ0BxPQrXo3AeQPYoXI/CdS1Aw/UoXI/CHUAUrkfhelQxQOF6FK5H4SxAXI/C9SjsVkAzMzMzMzMQQFK4HoXrUQZACtejcD0KMEAK16NwPQoSQIXrUbgehfM/9ihcj8I1NkCuR+F6FK73P1yPwvUonEJACtejcD0KFED2KFyPwvUXQHsUrkfheiZAFK5H4XoU+j8pXI/C9SgAQFyPwvUo3CJAKVyPwvUo3L/Xo3A9ClcsQFK4HoXrURBAw/UoXI+CR0AfhetRuB4hQOF6FK5HIT5ASOF6FK7HL0DNzMzMzMwGQDMzMzMzMzBAcT0K16OwMkApXI/C9SgVQKRwPQrXC2NA16NwPQrXEUCPwvUoXDt0QEjhehSuR0ZA9ihcj8J1JEBSuB6F6xE3QIXrUbgehSVASOF6FK5HGkDhehSuR2EnQKRwPQrXIyFAPQrXo3A9FkDsUbgehesgQM3MzMzMzAZAuB6F61G4FED2KFyPwvUgQFK4HoXr8UlAuB6F61HoY0BSuB6F69EpQB+F61G4HiFA9ihcj8L1M0DD9Shcj8IDQPYoXI/CdSRAZmZmZmZm9j/NzMzMzMwbQGZmZmZmpj5AMzMzMzOTVEBI4XoUrkcwQFK4HoXr0S9AKVyPwvUoOkDNzMzMzMwdQPYoXI/C9dg/zczMzMy8ZEAUrkfhetRUQM3MzMzMzCBAMzMzMzMz+z8K16NwPQo0QBSuR+F6FN4/mpmZmZmZ+T9mZmZmZmYZQOF6FK5HYTBA9ihcj8L12L8UrkfhepQyQKRwPQrXoxVASOF6FK5HA0CkcD0K16MOQArXo3A9Cre/KVyPwvUoFkBI4XoUrkcFQIXrUbgehQ9ArkfhehRuM0DXo3A9ClcmQArXo3A92lBAhetRuB6F8z/sUbgehetCQAAAAAAAABRArkfhehSYg0AAAAAAAADwvzMzMzMzMxBAMzMzMzMzLUDsUbgehevxPwAAAAAAwExA9ihcj8J1NUDhehSuR+EGQHE9CtejcBpAH4XrUbgeJUAfhetRuJ4qQOF6FK5HCWFAAAAAAAAAEkBmZmZmZuZUQArXo3A9SkBAj8L1KFyP+j8K16NwPYpMQOxRuB6F69E/w/UoXI+CNECamZmZmZkuQKRwPQrXoxtAKVyPwvUo7D8K16NwPQoeQIXrUbgehRZAuB6F61G4FUCamZmZmdk3QNejcD0K1xhAAAAAAAAAAEA=",
          "dtype": "f8"
         },
         "yaxis": "y4"
        },
        {
         "hovertemplate": "Tipo: %{y:.2f}<extra></extra>",
         "marker": {
          "color": "rgba(255, 182, 193, 0.7)"
         },
         "name": "-NO",
         "type": "box",
         "xaxis": "x4",
         "y": {
          "bdata": "ZmZmZmZmEkA=",
          "dtype": "f8"
         },
         "yaxis": "y4"
        },
        {
         "hovertemplate": "Tipo: %{y:.2f}<extra></extra>",
         "marker": {
          "color": "rgba(173, 216, 230, 0.7)"
         },
         "name": "event",
         "type": "box",
         "xaxis": "x4",
         "y": {
          "bdata": "ZmZmZmZm9j8=",
          "dtype": "f8"
         },
         "yaxis": "y4"
        }
       ],
       "layout": {
        "annotations": [
         {
          "font": {
           "size": 16
          },
          "showarrow": false,
          "text": "Correlación entre ROI y tasa de conversión: 0.01",
          "x": 0.5,
          "xanchor": "center",
          "xref": "x2 domain",
          "y": -0.1,
          "yanchor": "bottom",
          "yref": "y2 domain"
         },
         {
          "font": {
           "size": 16
          },
          "showarrow": false,
          "text": "Correlación entre ROI y tasa de conversión: 0.01",
          "x": 0.5,
          "xanchor": "center",
          "xref": "x2 domain",
          "y": -0.1,
          "yanchor": "bottom",
          "yref": "y2 domain"
         },
         {
          "font": {
           "size": 16
          },
          "showarrow": false,
          "text": "Correlación entre ROI y tasa de conversión: 0.01",
          "x": 0.5,
          "xanchor": "center",
          "xref": "x2 domain",
          "y": -0.1,
          "yanchor": "bottom",
          "yref": "y2 domain"
         },
         {
          "font": {
           "size": 16
          },
          "showarrow": false,
          "text": "Correlación entre ROI y tasa de conversión: 0.01",
          "x": 0.5,
          "xanchor": "center",
          "xref": "x2 domain",
          "y": -0.1,
          "yanchor": "bottom",
          "yref": "y2 domain"
         }
        ],
        "height": 800,
        "showlegend": false,
        "template": {
         "data": {
          "bar": [
           {
            "error_x": {
             "color": "rgb(36,36,36)"
            },
            "error_y": {
             "color": "rgb(36,36,36)"
            },
            "marker": {
             "line": {
              "color": "white",
              "width": 0.5
             },
             "pattern": {
              "fillmode": "overlay",
              "size": 10,
              "solidity": 0.2
             }
            },
            "type": "bar"
           }
          ],
          "barpolar": [
           {
            "marker": {
             "line": {
              "color": "white",
              "width": 0.5
             },
             "pattern": {
              "fillmode": "overlay",
              "size": 10,
              "solidity": 0.2
             }
            },
            "type": "barpolar"
           }
          ],
          "carpet": [
           {
            "aaxis": {
             "endlinecolor": "rgb(36,36,36)",
             "gridcolor": "white",
             "linecolor": "white",
             "minorgridcolor": "white",
             "startlinecolor": "rgb(36,36,36)"
            },
            "baxis": {
             "endlinecolor": "rgb(36,36,36)",
             "gridcolor": "white",
             "linecolor": "white",
             "minorgridcolor": "white",
             "startlinecolor": "rgb(36,36,36)"
            },
            "type": "carpet"
           }
          ],
          "choropleth": [
           {
            "colorbar": {
             "outlinewidth": 1,
             "tickcolor": "rgb(36,36,36)",
             "ticks": "outside"
            },
            "type": "choropleth"
           }
          ],
          "contour": [
           {
            "colorbar": {
             "outlinewidth": 1,
             "tickcolor": "rgb(36,36,36)",
             "ticks": "outside"
            },
            "colorscale": [
             [
              0,
              "#440154"
             ],
             [
              0.1111111111111111,
              "#482878"
             ],
             [
              0.2222222222222222,
              "#3e4989"
             ],
             [
              0.3333333333333333,
              "#31688e"
             ],
             [
              0.4444444444444444,
              "#26828e"
             ],
             [
              0.5555555555555556,
              "#1f9e89"
             ],
             [
              0.6666666666666666,
              "#35b779"
             ],
             [
              0.7777777777777778,
              "#6ece58"
             ],
             [
              0.8888888888888888,
              "#b5de2b"
             ],
             [
              1,
              "#fde725"
             ]
            ],
            "type": "contour"
           }
          ],
          "contourcarpet": [
           {
            "colorbar": {
             "outlinewidth": 1,
             "tickcolor": "rgb(36,36,36)",
             "ticks": "outside"
            },
            "type": "contourcarpet"
           }
          ],
          "heatmap": [
           {
            "colorbar": {
             "outlinewidth": 1,
             "tickcolor": "rgb(36,36,36)",
             "ticks": "outside"
            },
            "colorscale": [
             [
              0,
              "#440154"
             ],
             [
              0.1111111111111111,
              "#482878"
             ],
             [
              0.2222222222222222,
              "#3e4989"
             ],
             [
              0.3333333333333333,
              "#31688e"
             ],
             [
              0.4444444444444444,
              "#26828e"
             ],
             [
              0.5555555555555556,
              "#1f9e89"
             ],
             [
              0.6666666666666666,
              "#35b779"
             ],
             [
              0.7777777777777778,
              "#6ece58"
             ],
             [
              0.8888888888888888,
              "#b5de2b"
             ],
             [
              1,
              "#fde725"
             ]
            ],
            "type": "heatmap"
           }
          ],
          "histogram": [
           {
            "marker": {
             "line": {
              "color": "white",
              "width": 0.6
             }
            },
            "type": "histogram"
           }
          ],
          "histogram2d": [
           {
            "colorbar": {
             "outlinewidth": 1,
             "tickcolor": "rgb(36,36,36)",
             "ticks": "outside"
            },
            "colorscale": [
             [
              0,
              "#440154"
             ],
             [
              0.1111111111111111,
              "#482878"
             ],
             [
              0.2222222222222222,
              "#3e4989"
             ],
             [
              0.3333333333333333,
              "#31688e"
             ],
             [
              0.4444444444444444,
              "#26828e"
             ],
             [
              0.5555555555555556,
              "#1f9e89"
             ],
             [
              0.6666666666666666,
              "#35b779"
             ],
             [
              0.7777777777777778,
              "#6ece58"
             ],
             [
              0.8888888888888888,
              "#b5de2b"
             ],
             [
              1,
              "#fde725"
             ]
            ],
            "type": "histogram2d"
           }
          ],
          "histogram2dcontour": [
           {
            "colorbar": {
             "outlinewidth": 1,
             "tickcolor": "rgb(36,36,36)",
             "ticks": "outside"
            },
            "colorscale": [
             [
              0,
              "#440154"
             ],
             [
              0.1111111111111111,
              "#482878"
             ],
             [
              0.2222222222222222,
              "#3e4989"
             ],
             [
              0.3333333333333333,
              "#31688e"
             ],
             [
              0.4444444444444444,
              "#26828e"
             ],
             [
              0.5555555555555556,
              "#1f9e89"
             ],
             [
              0.6666666666666666,
              "#35b779"
             ],
             [
              0.7777777777777778,
              "#6ece58"
             ],
             [
              0.8888888888888888,
              "#b5de2b"
             ],
             [
              1,
              "#fde725"
             ]
            ],
            "type": "histogram2dcontour"
           }
          ],
          "mesh3d": [
           {
            "colorbar": {
             "outlinewidth": 1,
             "tickcolor": "rgb(36,36,36)",
             "ticks": "outside"
            },
            "type": "mesh3d"
           }
          ],
          "parcoords": [
           {
            "line": {
             "colorbar": {
              "outlinewidth": 1,
              "tickcolor": "rgb(36,36,36)",
              "ticks": "outside"
             }
            },
            "type": "parcoords"
           }
          ],
          "pie": [
           {
            "automargin": true,
            "type": "pie"
           }
          ],
          "scatter": [
           {
            "fillpattern": {
             "fillmode": "overlay",
             "size": 10,
             "solidity": 0.2
            },
            "type": "scatter"
           }
          ],
          "scatter3d": [
           {
            "line": {
             "colorbar": {
              "outlinewidth": 1,
              "tickcolor": "rgb(36,36,36)",
              "ticks": "outside"
             }
            },
            "marker": {
             "colorbar": {
              "outlinewidth": 1,
              "tickcolor": "rgb(36,36,36)",
              "ticks": "outside"
             }
            },
            "type": "scatter3d"
           }
          ],
          "scattercarpet": [
           {
            "marker": {
             "colorbar": {
              "outlinewidth": 1,
              "tickcolor": "rgb(36,36,36)",
              "ticks": "outside"
             }
            },
            "type": "scattercarpet"
           }
          ],
          "scattergeo": [
           {
            "marker": {
             "colorbar": {
              "outlinewidth": 1,
              "tickcolor": "rgb(36,36,36)",
              "ticks": "outside"
             }
            },
            "type": "scattergeo"
           }
          ],
          "scattergl": [
           {
            "marker": {
             "colorbar": {
              "outlinewidth": 1,
              "tickcolor": "rgb(36,36,36)",
              "ticks": "outside"
             }
            },
            "type": "scattergl"
           }
          ],
          "scattermap": [
           {
            "marker": {
             "colorbar": {
              "outlinewidth": 1,
              "tickcolor": "rgb(36,36,36)",
              "ticks": "outside"
             }
            },
            "type": "scattermap"
           }
          ],
          "scattermapbox": [
           {
            "marker": {
             "colorbar": {
              "outlinewidth": 1,
              "tickcolor": "rgb(36,36,36)",
              "ticks": "outside"
             }
            },
            "type": "scattermapbox"
           }
          ],
          "scatterpolar": [
           {
            "marker": {
             "colorbar": {
              "outlinewidth": 1,
              "tickcolor": "rgb(36,36,36)",
              "ticks": "outside"
             }
            },
            "type": "scatterpolar"
           }
          ],
          "scatterpolargl": [
           {
            "marker": {
             "colorbar": {
              "outlinewidth": 1,
              "tickcolor": "rgb(36,36,36)",
              "ticks": "outside"
             }
            },
            "type": "scatterpolargl"
           }
          ],
          "scatterternary": [
           {
            "marker": {
             "colorbar": {
              "outlinewidth": 1,
              "tickcolor": "rgb(36,36,36)",
              "ticks": "outside"
             }
            },
            "type": "scatterternary"
           }
          ],
          "surface": [
           {
            "colorbar": {
             "outlinewidth": 1,
             "tickcolor": "rgb(36,36,36)",
             "ticks": "outside"
            },
            "colorscale": [
             [
              0,
              "#440154"
             ],
             [
              0.1111111111111111,
              "#482878"
             ],
             [
              0.2222222222222222,
              "#3e4989"
             ],
             [
              0.3333333333333333,
              "#31688e"
             ],
             [
              0.4444444444444444,
              "#26828e"
             ],
             [
              0.5555555555555556,
              "#1f9e89"
             ],
             [
              0.6666666666666666,
              "#35b779"
             ],
             [
              0.7777777777777778,
              "#6ece58"
             ],
             [
              0.8888888888888888,
              "#b5de2b"
             ],
             [
              1,
              "#fde725"
             ]
            ],
            "type": "surface"
           }
          ],
          "table": [
           {
            "cells": {
             "fill": {
              "color": "rgb(237,237,237)"
             },
             "line": {
              "color": "white"
             }
            },
            "header": {
             "fill": {
              "color": "rgb(217,217,217)"
             },
             "line": {
              "color": "white"
             }
            },
            "type": "table"
           }
          ]
         },
         "layout": {
          "annotationdefaults": {
           "arrowhead": 0,
           "arrowwidth": 1
          },
          "autotypenumbers": "strict",
          "coloraxis": {
           "colorbar": {
            "outlinewidth": 1,
            "tickcolor": "rgb(36,36,36)",
            "ticks": "outside"
           }
          },
          "colorscale": {
           "diverging": [
            [
             0,
             "rgb(103,0,31)"
            ],
            [
             0.1,
             "rgb(178,24,43)"
            ],
            [
             0.2,
             "rgb(214,96,77)"
            ],
            [
             0.3,
             "rgb(244,165,130)"
            ],
            [
             0.4,
             "rgb(253,219,199)"
            ],
            [
             0.5,
             "rgb(247,247,247)"
            ],
            [
             0.6,
             "rgb(209,229,240)"
            ],
            [
             0.7,
             "rgb(146,197,222)"
            ],
            [
             0.8,
             "rgb(67,147,195)"
            ],
            [
             0.9,
             "rgb(33,102,172)"
            ],
            [
             1,
             "rgb(5,48,97)"
            ]
           ],
           "sequential": [
            [
             0,
             "#440154"
            ],
            [
             0.1111111111111111,
             "#482878"
            ],
            [
             0.2222222222222222,
             "#3e4989"
            ],
            [
             0.3333333333333333,
             "#31688e"
            ],
            [
             0.4444444444444444,
             "#26828e"
            ],
            [
             0.5555555555555556,
             "#1f9e89"
            ],
            [
             0.6666666666666666,
             "#35b779"
            ],
            [
             0.7777777777777778,
             "#6ece58"
            ],
            [
             0.8888888888888888,
             "#b5de2b"
            ],
            [
             1,
             "#fde725"
            ]
           ],
           "sequentialminus": [
            [
             0,
             "#440154"
            ],
            [
             0.1111111111111111,
             "#482878"
            ],
            [
             0.2222222222222222,
             "#3e4989"
            ],
            [
             0.3333333333333333,
             "#31688e"
            ],
            [
             0.4444444444444444,
             "#26828e"
            ],
            [
             0.5555555555555556,
             "#1f9e89"
            ],
            [
             0.6666666666666666,
             "#35b779"
            ],
            [
             0.7777777777777778,
             "#6ece58"
            ],
            [
             0.8888888888888888,
             "#b5de2b"
            ],
            [
             1,
             "#fde725"
            ]
           ]
          },
          "colorway": [
           "#1F77B4",
           "#FF7F0E",
           "#2CA02C",
           "#D62728",
           "#9467BD",
           "#8C564B",
           "#E377C2",
           "#7F7F7F",
           "#BCBD22",
           "#17BECF"
          ],
          "font": {
           "color": "rgb(36,36,36)"
          },
          "geo": {
           "bgcolor": "white",
           "lakecolor": "white",
           "landcolor": "white",
           "showlakes": true,
           "showland": true,
           "subunitcolor": "white"
          },
          "hoverlabel": {
           "align": "left"
          },
          "hovermode": "closest",
          "mapbox": {
           "style": "light"
          },
          "paper_bgcolor": "white",
          "plot_bgcolor": "white",
          "polar": {
           "angularaxis": {
            "gridcolor": "rgb(232,232,232)",
            "linecolor": "rgb(36,36,36)",
            "showgrid": false,
            "showline": true,
            "ticks": "outside"
           },
           "bgcolor": "white",
           "radialaxis": {
            "gridcolor": "rgb(232,232,232)",
            "linecolor": "rgb(36,36,36)",
            "showgrid": false,
            "showline": true,
            "ticks": "outside"
           }
          },
          "scene": {
           "xaxis": {
            "backgroundcolor": "white",
            "gridcolor": "rgb(232,232,232)",
            "gridwidth": 2,
            "linecolor": "rgb(36,36,36)",
            "showbackground": true,
            "showgrid": false,
            "showline": true,
            "ticks": "outside",
            "zeroline": false,
            "zerolinecolor": "rgb(36,36,36)"
           },
           "yaxis": {
            "backgroundcolor": "white",
            "gridcolor": "rgb(232,232,232)",
            "gridwidth": 2,
            "linecolor": "rgb(36,36,36)",
            "showbackground": true,
            "showgrid": false,
            "showline": true,
            "ticks": "outside",
            "zeroline": false,
            "zerolinecolor": "rgb(36,36,36)"
           },
           "zaxis": {
            "backgroundcolor": "white",
            "gridcolor": "rgb(232,232,232)",
            "gridwidth": 2,
            "linecolor": "rgb(36,36,36)",
            "showbackground": true,
            "showgrid": false,
            "showline": true,
            "ticks": "outside",
            "zeroline": false,
            "zerolinecolor": "rgb(36,36,36)"
           }
          },
          "shapedefaults": {
           "fillcolor": "black",
           "line": {
            "width": 0
           },
           "opacity": 0.3
          },
          "ternary": {
           "aaxis": {
            "gridcolor": "rgb(232,232,232)",
            "linecolor": "rgb(36,36,36)",
            "showgrid": false,
            "showline": true,
            "ticks": "outside"
           },
           "baxis": {
            "gridcolor": "rgb(232,232,232)",
            "linecolor": "rgb(36,36,36)",
            "showgrid": false,
            "showline": true,
            "ticks": "outside"
           },
           "bgcolor": "white",
           "caxis": {
            "gridcolor": "rgb(232,232,232)",
            "linecolor": "rgb(36,36,36)",
            "showgrid": false,
            "showline": true,
            "ticks": "outside"
           }
          },
          "title": {
           "x": 0.05
          },
          "xaxis": {
           "automargin": true,
           "gridcolor": "rgb(232,232,232)",
           "linecolor": "rgb(36,36,36)",
           "showgrid": false,
           "showline": true,
           "ticks": "outside",
           "title": {
            "standoff": 15
           },
           "zeroline": false,
           "zerolinecolor": "rgb(36,36,36)"
          },
          "yaxis": {
           "automargin": true,
           "gridcolor": "rgb(232,232,232)",
           "linecolor": "rgb(36,36,36)",
           "showgrid": false,
           "showline": true,
           "ticks": "outside",
           "title": {
            "standoff": 15
           },
           "zeroline": false,
           "zerolinecolor": "rgb(36,36,36)"
          }
         }
        },
        "title": {
         "text": "Análisis de ROI y Factores Asociados"
        },
        "width": 1000,
        "xaxis": {
         "anchor": "y",
         "domain": [
          0,
          0.45
         ],
         "title": {
          "text": "ROI"
         }
        },
        "xaxis2": {
         "anchor": "y2",
         "domain": [
          0.55,
          1
         ],
         "title": {
          "text": "Canal"
         }
        },
        "xaxis3": {
         "anchor": "y3",
         "domain": [
          0,
          0.45
         ],
         "title": {
          "text": "Tasa de conversión"
         }
        },
        "xaxis4": {
         "anchor": "y4",
         "domain": [
          0.55,
          1
         ],
         "title": {
          "text": "Tipo de campaña"
         }
        },
        "yaxis": {
         "anchor": "x",
         "domain": [
          0.625,
          1
         ],
         "title": {
          "text": "Frecuencia"
         }
        },
        "yaxis2": {
         "anchor": "x2",
         "domain": [
          0.625,
          1
         ],
         "title": {
          "text": "ROI"
         }
        },
        "yaxis3": {
         "anchor": "x3",
         "domain": [
          0,
          0.375
         ],
         "title": {
          "text": "ROI"
         }
        },
        "yaxis4": {
         "anchor": "x4",
         "domain": [
          0,
          0.375
         ],
         "title": {
          "text": "ROI"
         }
        }
       }
      }
     },
     "metadata": {},
     "output_type": "display_data"
    }
   ],
   "source": [
    "from plotly.subplots import make_subplots\n",
    "import numpy as np\n",
    "from scipy import stats\n",
    "\n",
    "# Create a figure with multiple subplots to analyze ROI distribution and factors\n",
    "import plotly.express as px\n",
    "import plotly.graph_objects as go\n",
    "\n",
    "# Create a 2x2 subplot figure\n",
    "fig = make_subplots(\n",
    "    rows=2, cols=2,\n",
    "    subplot_titles=(\n",
    "        'Distribución del ROI',\n",
    "        'ROI por canal de marketing', \n",
    "        'ROI vs. Tasa de conversión',\n",
    "        'ROI por tipo de campaña'\n",
    "    ),\n",
    "    specs=[[{\"type\": \"histogram\"}, {\"type\": \"box\"}],\n",
    "           [{\"type\": \"scatter\"}, {\"type\": \"box\"}]]\n",
    ")\n",
    "\n",
    "# 1. ROI Distribution (histogram)\n",
    "fig.add_trace(\n",
    "    go.Histogram(\n",
    "        x=df['roi_numeric'], \n",
    "        nbinsx=50,\n",
    "        marker_color='rgba(255, 182, 193, 0.7)',\n",
    "        hovertemplate='ROI: %{x:.2f}<br>Frecuencia: %{y}<extra></extra>'\n",
    "    ),\n",
    "    row=1, col=1\n",
    ")\n",
    "\n",
    "# 2. ROI by Channel (boxplot)\n",
    "for i, channel in enumerate(df['channel'].unique()):\n",
    "    fig.add_trace(\n",
    "        go.Box(\n",
    "            y=df[df['channel'] == channel]['roi_numeric'],\n",
    "            name=channel,\n",
    "            marker_color=pastel_colors[i % len(pastel_colors)],\n",
    "            hovertemplate='Canal: %{y:.2f}<extra></extra>'\n",
    "        ),\n",
    "        row=1, col=2\n",
    "    )\n",
    "\n",
    "# 3. ROI vs Conversion Rate (scatter)\n",
    "fig.add_trace(\n",
    "    go.Scatter(\n",
    "        x=df['conversion_rate'],\n",
    "        y=df['roi_numeric'],\n",
    "        mode='markers',\n",
    "        marker=dict(\n",
    "            size=8,\n",
    "            color='rgba(173, 216, 230, 0.7)',\n",
    "            line=dict(width=1, color='rgba(173, 216, 230, 1.0)')\n",
    "        ),\n",
    "        hovertemplate='Tasa de conversión: %{x:.2f}<br>ROI: %{y:.2f}<extra></extra>'\n",
    "    ),\n",
    "    row=2, col=1\n",
    ")\n",
    "\n",
    "# 4. ROI by Campaign Type (boxplot)\n",
    "for i, campaign_type in enumerate(df['type'].unique()):\n",
    "    fig.add_trace(\n",
    "        go.Box(\n",
    "            y=df[df['type'] == campaign_type]['roi_numeric'],\n",
    "            name=campaign_type,\n",
    "            marker_color=pastel_colors[i % len(pastel_colors)],\n",
    "            hovertemplate='Tipo: %{y:.2f}<extra></extra>'\n",
    "        ),\n",
    "        row=2, col=2\n",
    "    )\n",
    "\n",
    "# Calculate correlation between ROI and conversion rate\n",
    "roi_conv_corr = np.corrcoef(df['roi_numeric'], df['conversion_rate'])[0, 1]\n",
    "\n",
    "# Update layout\n",
    "fig.update_layout(\n",
    "    height=800, \n",
    "    width=1000,\n",
    "    title_text='Análisis de ROI y Factores Asociados',\n",
    "    template='simple_white',\n",
    "    showlegend=False,\n",
    "    annotations=[\n",
    "        dict(\n",
    "            x=0.5,\n",
    "            y=-0.1,\n",
    "            xref=\"x2 domain\",\n",
    "            yref=\"y2 domain\",\n",
    "            text=f\"Correlación entre ROI y tasa de conversión: {roi_conv_corr:.2f}\",\n",
    "            showarrow=False\n",
    "        )\n",
    "    ]\n",
    ")\n",
    "\n",
    "# Update axes\n",
    "fig.update_xaxes(title_text=\"ROI\", row=1, col=1)\n",
    "fig.update_yaxes(title_text=\"Frecuencia\", row=1, col=1)\n",
    "fig.update_xaxes(title_text=\"Canal\", row=1, col=2)\n",
    "fig.update_yaxes(title_text=\"ROI\", row=1, col=2)\n",
    "fig.update_xaxes(title_text=\"Tasa de conversión\", row=2, col=1)\n",
    "fig.update_yaxes(title_text=\"ROI\", row=2, col=1)\n",
    "fig.update_xaxes(title_text=\"Tipo de campaña\", row=2, col=2)\n",
    "fig.update_yaxes(title_text=\"ROI\", row=2, col=2)\n",
    "\n",
    "fig.show()"
   ]
  }
 ],
 "metadata": {
  "kernelspec": {
   "display_name": "Python 3",
   "language": "python",
   "name": "python3"
  },
  "language_info": {
   "codemirror_mode": {
    "name": "ipython",
    "version": 3
   },
   "file_extension": ".py",
   "mimetype": "text/x-python",
   "name": "python",
   "nbconvert_exporter": "python",
   "pygments_lexer": "ipython3",
   "version": "3.12.10"
  }
 },
 "nbformat": 4,
 "nbformat_minor": 5
}
