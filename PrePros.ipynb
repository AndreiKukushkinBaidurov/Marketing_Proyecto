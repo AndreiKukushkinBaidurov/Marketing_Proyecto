{
 "cells": [
  {
   "cell_type": "code",
   "execution_count": 18,
   "id": "183993ab",
   "metadata": {},
   "outputs": [],
   "source": [
    "import pandas as pd\n",
    "import numpy as np  \n"
   ]
  },
  {
   "cell_type": "code",
   "execution_count": 19,
   "id": "327db5d3",
   "metadata": {},
   "outputs": [],
   "source": [
    "# configure pandas to display all columns and all rows\n",
    "pd.set_option('display.max_columns', None)  \n",
    "pd.set_option('display.max_rows', None) \n",
    "pd.set_option('display.width', 1000)\n",
    "\n"
   ]
  },
  {
   "cell_type": "code",
   "execution_count": 20,
   "id": "8f028958",
   "metadata": {},
   "outputs": [],
   "source": [
    "df = pd.read_csv(r'C:/Users/Andrei.Baidurov/Marketing_Proyecto/data/marketingcampaigns.csv')"
   ]
  },
  {
   "cell_type": "code",
   "execution_count": 21,
   "id": "7d6dd8d7",
   "metadata": {},
   "outputs": [
    {
     "data": {
      "text/html": [
       "<div>\n",
       "<style scoped>\n",
       "    .dataframe tbody tr th:only-of-type {\n",
       "        vertical-align: middle;\n",
       "    }\n",
       "\n",
       "    .dataframe tbody tr th {\n",
       "        vertical-align: top;\n",
       "    }\n",
       "\n",
       "    .dataframe thead th {\n",
       "        text-align: right;\n",
       "    }\n",
       "</style>\n",
       "<table border=\"1\" class=\"dataframe\">\n",
       "  <thead>\n",
       "    <tr style=\"text-align: right;\">\n",
       "      <th></th>\n",
       "      <th>campaign_name</th>\n",
       "      <th>start_date</th>\n",
       "      <th>end_date</th>\n",
       "      <th>budget</th>\n",
       "      <th>roi</th>\n",
       "      <th>type</th>\n",
       "      <th>target_audience</th>\n",
       "      <th>channel</th>\n",
       "      <th>conversion_rate</th>\n",
       "      <th>revenue</th>\n",
       "    </tr>\n",
       "  </thead>\n",
       "  <tbody>\n",
       "    <tr>\n",
       "      <th>0</th>\n",
       "      <td>Public-key multi-tasking throughput</td>\n",
       "      <td>2023-04-01</td>\n",
       "      <td>2024-02-23</td>\n",
       "      <td>8082.3</td>\n",
       "      <td>0.35</td>\n",
       "      <td>email</td>\n",
       "      <td>B2B</td>\n",
       "      <td>organic</td>\n",
       "      <td>0.40</td>\n",
       "      <td>709593.48</td>\n",
       "    </tr>\n",
       "    <tr>\n",
       "      <th>1</th>\n",
       "      <td>De-engineered analyzing task-force</td>\n",
       "      <td>2023-02-15</td>\n",
       "      <td>2024-04-22</td>\n",
       "      <td>17712.98</td>\n",
       "      <td>0.74</td>\n",
       "      <td>email</td>\n",
       "      <td>B2C</td>\n",
       "      <td>promotion</td>\n",
       "      <td>0.66</td>\n",
       "      <td>516609.10</td>\n",
       "    </tr>\n",
       "    <tr>\n",
       "      <th>2</th>\n",
       "      <td>Balanced solution-oriented Local Area Network</td>\n",
       "      <td>2022-12-20</td>\n",
       "      <td>2023-10-11</td>\n",
       "      <td>84643.1</td>\n",
       "      <td>0.37</td>\n",
       "      <td>podcast</td>\n",
       "      <td>B2B</td>\n",
       "      <td>paid</td>\n",
       "      <td>0.28</td>\n",
       "      <td>458227.42</td>\n",
       "    </tr>\n",
       "    <tr>\n",
       "      <th>3</th>\n",
       "      <td>Distributed real-time methodology</td>\n",
       "      <td>2022-09-26</td>\n",
       "      <td>2023-09-27</td>\n",
       "      <td>14589.75</td>\n",
       "      <td>0.47</td>\n",
       "      <td>webinar</td>\n",
       "      <td>B2B</td>\n",
       "      <td>organic</td>\n",
       "      <td>0.19</td>\n",
       "      <td>89958.73</td>\n",
       "    </tr>\n",
       "    <tr>\n",
       "      <th>4</th>\n",
       "      <td>Front-line executive infrastructure</td>\n",
       "      <td>2023-07-07</td>\n",
       "      <td>2024-05-15</td>\n",
       "      <td>39291.9</td>\n",
       "      <td>0.30</td>\n",
       "      <td>social media</td>\n",
       "      <td>B2B</td>\n",
       "      <td>promotion</td>\n",
       "      <td>0.81</td>\n",
       "      <td>47511.35</td>\n",
       "    </tr>\n",
       "    <tr>\n",
       "      <th>5</th>\n",
       "      <td>Upgradable transitional data-warehouse</td>\n",
       "      <td>2023-06-29</td>\n",
       "      <td>2023-12-13</td>\n",
       "      <td>75569.28</td>\n",
       "      <td>0.59</td>\n",
       "      <td>social media</td>\n",
       "      <td>B2C</td>\n",
       "      <td>referral</td>\n",
       "      <td>0.67</td>\n",
       "      <td>558302.11</td>\n",
       "    </tr>\n",
       "    <tr>\n",
       "      <th>6</th>\n",
       "      <td>Innovative context-sensitive framework</td>\n",
       "      <td>2023-03-01</td>\n",
       "      <td>2024-02-23</td>\n",
       "      <td>28964.45</td>\n",
       "      <td>0.59</td>\n",
       "      <td>email</td>\n",
       "      <td>B2C</td>\n",
       "      <td>referral</td>\n",
       "      <td>0.17</td>\n",
       "      <td>172882.59</td>\n",
       "    </tr>\n",
       "    <tr>\n",
       "      <th>7</th>\n",
       "      <td>User-friendly client-driven service-desk</td>\n",
       "      <td>2023-01-06</td>\n",
       "      <td>2023-12-11</td>\n",
       "      <td>36800.58</td>\n",
       "      <td>0.40</td>\n",
       "      <td>webinar</td>\n",
       "      <td>B2C</td>\n",
       "      <td>promotion</td>\n",
       "      <td>0.52</td>\n",
       "      <td>206241.46</td>\n",
       "    </tr>\n",
       "    <tr>\n",
       "      <th>8</th>\n",
       "      <td>Proactive neutral methodology</td>\n",
       "      <td>2022-09-06</td>\n",
       "      <td>2024-01-11</td>\n",
       "      <td>40493.88</td>\n",
       "      <td>0.16</td>\n",
       "      <td>webinar</td>\n",
       "      <td>B2C</td>\n",
       "      <td>organic</td>\n",
       "      <td>0.47</td>\n",
       "      <td>734755.76</td>\n",
       "    </tr>\n",
       "    <tr>\n",
       "      <th>9</th>\n",
       "      <td>Intuitive responsive support</td>\n",
       "      <td>2022-11-25</td>\n",
       "      <td>2024-04-04</td>\n",
       "      <td>1816.22</td>\n",
       "      <td>0.81</td>\n",
       "      <td>social media</td>\n",
       "      <td>B2C</td>\n",
       "      <td>referral</td>\n",
       "      <td>0.85</td>\n",
       "      <td>563280.30</td>\n",
       "    </tr>\n",
       "  </tbody>\n",
       "</table>\n",
       "</div>"
      ],
      "text/plain": [
       "                                   campaign_name  start_date    end_date    budget   roi          type target_audience    channel  conversion_rate    revenue\n",
       "0            Public-key multi-tasking throughput  2023-04-01  2024-02-23    8082.3  0.35         email             B2B    organic             0.40  709593.48\n",
       "1             De-engineered analyzing task-force  2023-02-15  2024-04-22  17712.98  0.74         email             B2C  promotion             0.66  516609.10\n",
       "2  Balanced solution-oriented Local Area Network  2022-12-20  2023-10-11   84643.1  0.37       podcast             B2B       paid             0.28  458227.42\n",
       "3              Distributed real-time methodology  2022-09-26  2023-09-27  14589.75  0.47       webinar             B2B    organic             0.19   89958.73\n",
       "4            Front-line executive infrastructure  2023-07-07  2024-05-15   39291.9  0.30  social media             B2B  promotion             0.81   47511.35\n",
       "5         Upgradable transitional data-warehouse  2023-06-29  2023-12-13  75569.28  0.59  social media             B2C   referral             0.67  558302.11\n",
       "6         Innovative context-sensitive framework  2023-03-01  2024-02-23  28964.45  0.59         email             B2C   referral             0.17  172882.59\n",
       "7       User-friendly client-driven service-desk  2023-01-06  2023-12-11  36800.58  0.40       webinar             B2C  promotion             0.52  206241.46\n",
       "8                  Proactive neutral methodology  2022-09-06  2024-01-11  40493.88  0.16       webinar             B2C    organic             0.47  734755.76\n",
       "9                   Intuitive responsive support  2022-11-25  2024-04-04   1816.22  0.81  social media             B2C   referral             0.85  563280.30"
      ]
     },
     "execution_count": 21,
     "metadata": {},
     "output_type": "execute_result"
    }
   ],
   "source": [
    "df.head(10)\n",
    "# Display the first 10 rows of the DataFrame"
   ]
  },
  {
   "cell_type": "code",
   "execution_count": 22,
   "id": "be84581c",
   "metadata": {},
   "outputs": [
    {
     "name": "stdout",
     "output_type": "stream",
     "text": [
      "<class 'pandas.core.frame.DataFrame'>\n",
      "RangeIndex: 1037 entries, 0 to 1036\n",
      "Data columns (total 10 columns):\n",
      " #   Column           Non-Null Count  Dtype  \n",
      "---  ------           --------------  -----  \n",
      " 0   campaign_name    1037 non-null   object \n",
      " 1   start_date       1036 non-null   object \n",
      " 2   end_date         1035 non-null   object \n",
      " 3   budget           1034 non-null   object \n",
      " 4   roi              1033 non-null   float64\n",
      " 5   type             1036 non-null   object \n",
      " 6   target_audience  1035 non-null   object \n",
      " 7   channel          1036 non-null   object \n",
      " 8   conversion_rate  1033 non-null   float64\n",
      " 9   revenue          1034 non-null   float64\n",
      "dtypes: float64(3), object(7)\n",
      "memory usage: 81.1+ KB\n"
     ]
    }
   ],
   "source": [
    "df.info()\n",
    "# Display information about the DataFrame, including data types and non-null counts"
   ]
  },
  {
   "cell_type": "code",
   "execution_count": 23,
   "id": "4f2ca9da",
   "metadata": {},
   "outputs": [
    {
     "data": {
      "text/plain": [
       "(1037, 10)"
      ]
     },
     "execution_count": 23,
     "metadata": {},
     "output_type": "execute_result"
    }
   ],
   "source": [
    "df.shape\n",
    "# Display the shape of the DataFrame (number of rows and columns)"
   ]
  },
  {
   "cell_type": "code",
   "execution_count": 24,
   "id": "b912fa26",
   "metadata": {},
   "outputs": [
    {
     "data": {
      "text/plain": [
       "Index(['campaign_name', 'start_date', 'end_date', 'budget', 'roi', 'type', 'target_audience', 'channel', 'conversion_rate', 'revenue'], dtype='object')"
      ]
     },
     "execution_count": 24,
     "metadata": {},
     "output_type": "execute_result"
    }
   ],
   "source": [
    "df.columns\n",
    "# Display the column names of the DataFrame"
   ]
  },
  {
   "cell_type": "code",
   "execution_count": 25,
   "id": "2a701750",
   "metadata": {},
   "outputs": [
    {
     "data": {
      "text/html": [
       "<div>\n",
       "<style scoped>\n",
       "    .dataframe tbody tr th:only-of-type {\n",
       "        vertical-align: middle;\n",
       "    }\n",
       "\n",
       "    .dataframe tbody tr th {\n",
       "        vertical-align: top;\n",
       "    }\n",
       "\n",
       "    .dataframe thead th {\n",
       "        text-align: right;\n",
       "    }\n",
       "</style>\n",
       "<table border=\"1\" class=\"dataframe\">\n",
       "  <thead>\n",
       "    <tr style=\"text-align: right;\">\n",
       "      <th></th>\n",
       "      <th>roi</th>\n",
       "      <th>conversion_rate</th>\n",
       "      <th>revenue</th>\n",
       "    </tr>\n",
       "  </thead>\n",
       "  <tbody>\n",
       "    <tr>\n",
       "      <th>count</th>\n",
       "      <td>1033.000000</td>\n",
       "      <td>1033.000000</td>\n",
       "      <td>1034.000000</td>\n",
       "    </tr>\n",
       "    <tr>\n",
       "      <th>mean</th>\n",
       "      <td>0.533553</td>\n",
       "      <td>0.541946</td>\n",
       "      <td>509901.685667</td>\n",
       "    </tr>\n",
       "    <tr>\n",
       "      <th>std</th>\n",
       "      <td>0.261510</td>\n",
       "      <td>0.267271</td>\n",
       "      <td>287916.037107</td>\n",
       "    </tr>\n",
       "    <tr>\n",
       "      <th>min</th>\n",
       "      <td>-0.200000</td>\n",
       "      <td>0.000000</td>\n",
       "      <td>-15000.000000</td>\n",
       "    </tr>\n",
       "    <tr>\n",
       "      <th>25%</th>\n",
       "      <td>0.310000</td>\n",
       "      <td>0.300000</td>\n",
       "      <td>266545.580000</td>\n",
       "    </tr>\n",
       "    <tr>\n",
       "      <th>50%</th>\n",
       "      <td>0.530000</td>\n",
       "      <td>0.550000</td>\n",
       "      <td>516907.835000</td>\n",
       "    </tr>\n",
       "    <tr>\n",
       "      <th>75%</th>\n",
       "      <td>0.760000</td>\n",
       "      <td>0.770000</td>\n",
       "      <td>764547.970000</td>\n",
       "    </tr>\n",
       "    <tr>\n",
       "      <th>max</th>\n",
       "      <td>0.990000</td>\n",
       "      <td>1.500000</td>\n",
       "      <td>999712.490000</td>\n",
       "    </tr>\n",
       "  </tbody>\n",
       "</table>\n",
       "</div>"
      ],
      "text/plain": [
       "               roi  conversion_rate        revenue\n",
       "count  1033.000000      1033.000000    1034.000000\n",
       "mean      0.533553         0.541946  509901.685667\n",
       "std       0.261510         0.267271  287916.037107\n",
       "min      -0.200000         0.000000  -15000.000000\n",
       "25%       0.310000         0.300000  266545.580000\n",
       "50%       0.530000         0.550000  516907.835000\n",
       "75%       0.760000         0.770000  764547.970000\n",
       "max       0.990000         1.500000  999712.490000"
      ]
     },
     "execution_count": 25,
     "metadata": {},
     "output_type": "execute_result"
    }
   ],
   "source": [
    "df.describe()\n",
    "# Display summary statistics for numerical columns in the DataFrame"
   ]
  },
  {
   "cell_type": "code",
   "execution_count": 26,
   "id": "5ac57acc",
   "metadata": {},
   "outputs": [
    {
     "data": {
      "text/plain": [
       "campaign_name      0\n",
       "start_date         1\n",
       "end_date           2\n",
       "budget             3\n",
       "roi                4\n",
       "type               1\n",
       "target_audience    2\n",
       "channel            1\n",
       "conversion_rate    4\n",
       "revenue            3\n",
       "dtype: int64"
      ]
     },
     "execution_count": 26,
     "metadata": {},
     "output_type": "execute_result"
    }
   ],
   "source": [
    "df.isnull().sum()\n",
    "# Display the number of missing values in each column of the DataFrame"
   ]
  },
  {
   "cell_type": "code",
   "execution_count": 27,
   "metadata": {},
   "outputs": [
    {
     "data": {
      "text/plain": [
       "campaign_name      0.000000\n",
       "start_date         0.096432\n",
       "end_date           0.192864\n",
       "budget             0.289296\n",
       "roi                0.385728\n",
       "type               0.096432\n",
       "target_audience    0.192864\n",
       "channel            0.096432\n",
       "conversion_rate    0.385728\n",
       "revenue            0.289296\n",
       "dtype: float64"
      ]
     },
     "execution_count": 27,
     "metadata": {},
     "output_type": "execute_result"
    }
   ],
   "source": [
    "df.isnull().sum() / df.shape[0] * 100\n",
    "# Display the percentage of missing values in each column of the DataFrame"
   ]
  },
  {
   "cell_type": "code",
   "execution_count": 28,
   "id": "250be5ba",
   "metadata": {},
   "outputs": [],
   "source": [
    "import seaborn as sns\n",
    "import matplotlib.pyplot as plt"
   ]
  }
 ],
 "metadata": {
  "kernelspec": {
   "display_name": "Python 3",
   "language": "python",
   "name": "python3"
  },
  "language_info": {
   "codemirror_mode": {
    "name": "ipython",
    "version": 3
   },
   "file_extension": ".py",
   "mimetype": "text/x-python",
   "name": "python",
   "nbconvert_exporter": "python",
   "pygments_lexer": "ipython3",
   "version": "3.12.10"
  }
 },
 "nbformat": 4,
 "nbformat_minor": 5
}
